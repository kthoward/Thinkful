{
 "cells": [
  {
   "cell_type": "code",
   "execution_count": 114,
   "metadata": {
    "collapsed": false
   },
   "outputs": [
    {
     "data": {
      "text/plain": [
       "'/Users/kylehoward/Desktop/Thinkful/Thinkful-2'"
      ]
     },
     "execution_count": 114,
     "metadata": {},
     "output_type": "execute_result"
    }
   ],
   "source": [
    "import pandas as pd\n",
    "import numpy as np\n",
    "import os\n",
    "import seaborn as sns\n",
    "import matplotlib.pyplot as plt\n",
    "%matplotlib inline\n",
    "os.getcwd()\n",
    "os.chdir('/Users/kylehoward/desktop/thinkful/thinkful-2') \n",
    "os.getcwd()"
   ]
  },
  {
   "cell_type": "code",
   "execution_count": 115,
   "metadata": {
    "collapsed": false
   },
   "outputs": [
    {
     "data": {
      "text/html": [
       "<div>\n",
       "<style>\n",
       "    .dataframe thead tr:only-child th {\n",
       "        text-align: right;\n",
       "    }\n",
       "\n",
       "    .dataframe thead th {\n",
       "        text-align: left;\n",
       "    }\n",
       "\n",
       "    .dataframe tbody tr th {\n",
       "        vertical-align: top;\n",
       "    }\n",
       "</style>\n",
       "<table border=\"1\" class=\"dataframe\">\n",
       "  <thead>\n",
       "    <tr style=\"text-align: right;\">\n",
       "      <th></th>\n",
       "      <th>position_status</th>\n",
       "      <th>name</th>\n",
       "      <th>points</th>\n",
       "      <th>salary</th>\n",
       "      <th>ratio</th>\n",
       "    </tr>\n",
       "    <tr>\n",
       "      <th>position_status</th>\n",
       "      <th></th>\n",
       "      <th></th>\n",
       "      <th></th>\n",
       "      <th></th>\n",
       "      <th></th>\n",
       "    </tr>\n",
       "  </thead>\n",
       "  <tbody>\n",
       "    <tr>\n",
       "      <th>rbb</th>\n",
       "      <td>rbb</td>\n",
       "      <td>Burkhead, Rex</td>\n",
       "      <td>31.40</td>\n",
       "      <td>3500</td>\n",
       "      <td>0.008971</td>\n",
       "    </tr>\n",
       "    <tr>\n",
       "      <th>tet</th>\n",
       "      <td>tet</td>\n",
       "      <td>Ertz, Zach</td>\n",
       "      <td>41.90</td>\n",
       "      <td>4800</td>\n",
       "      <td>0.008729</td>\n",
       "    </tr>\n",
       "    <tr>\n",
       "      <th>rbb</th>\n",
       "      <td>rbb</td>\n",
       "      <td>Draughn, Shaun</td>\n",
       "      <td>26.90</td>\n",
       "      <td>3200</td>\n",
       "      <td>0.008406</td>\n",
       "    </tr>\n",
       "    <tr>\n",
       "      <th>rbb</th>\n",
       "      <td>rbb</td>\n",
       "      <td>Grant, Corey</td>\n",
       "      <td>24.70</td>\n",
       "      <td>3000</td>\n",
       "      <td>0.008233</td>\n",
       "    </tr>\n",
       "    <tr>\n",
       "      <th>wrm</th>\n",
       "      <td>wrm</td>\n",
       "      <td>Matthews, Rishard</td>\n",
       "      <td>29.40</td>\n",
       "      <td>4100</td>\n",
       "      <td>0.007171</td>\n",
       "    </tr>\n",
       "    <tr>\n",
       "      <th>rbb</th>\n",
       "      <td>rbb</td>\n",
       "      <td>Booker, Devontae</td>\n",
       "      <td>24.90</td>\n",
       "      <td>3500</td>\n",
       "      <td>0.007114</td>\n",
       "    </tr>\n",
       "    <tr>\n",
       "      <th>rbm</th>\n",
       "      <td>rbm</td>\n",
       "      <td>West, Charcandrick</td>\n",
       "      <td>28.60</td>\n",
       "      <td>4100</td>\n",
       "      <td>0.006976</td>\n",
       "    </tr>\n",
       "    <tr>\n",
       "      <th>tet</th>\n",
       "      <td>tet</td>\n",
       "      <td>Rudolph, Kyle</td>\n",
       "      <td>31.70</td>\n",
       "      <td>4600</td>\n",
       "      <td>0.006891</td>\n",
       "    </tr>\n",
       "    <tr>\n",
       "      <th>wrb</th>\n",
       "      <td>wrb</td>\n",
       "      <td>Allison, Geronimo</td>\n",
       "      <td>19.10</td>\n",
       "      <td>3000</td>\n",
       "      <td>0.006367</td>\n",
       "    </tr>\n",
       "    <tr>\n",
       "      <th>tem</th>\n",
       "      <td>tem</td>\n",
       "      <td>Pitta, Dennis</td>\n",
       "      <td>20.10</td>\n",
       "      <td>3400</td>\n",
       "      <td>0.005912</td>\n",
       "    </tr>\n",
       "    <tr>\n",
       "      <th>wrb</th>\n",
       "      <td>wrb</td>\n",
       "      <td>Walters, Bryan</td>\n",
       "      <td>16.80</td>\n",
       "      <td>3000</td>\n",
       "      <td>0.005600</td>\n",
       "    </tr>\n",
       "    <tr>\n",
       "      <th>wrs</th>\n",
       "      <td>wrs</td>\n",
       "      <td>Edelman, Julian</td>\n",
       "      <td>34.70</td>\n",
       "      <td>6400</td>\n",
       "      <td>0.005422</td>\n",
       "    </tr>\n",
       "    <tr>\n",
       "      <th>teb</th>\n",
       "      <td>teb</td>\n",
       "      <td>Henry, Hunter</td>\n",
       "      <td>14.30</td>\n",
       "      <td>2700</td>\n",
       "      <td>0.005296</td>\n",
       "    </tr>\n",
       "    <tr>\n",
       "      <th>wrb</th>\n",
       "      <td>wrb</td>\n",
       "      <td>Humphries, Adam</td>\n",
       "      <td>19.40</td>\n",
       "      <td>3700</td>\n",
       "      <td>0.005243</td>\n",
       "    </tr>\n",
       "    <tr>\n",
       "      <th>rbb</th>\n",
       "      <td>rbb</td>\n",
       "      <td>Ripkowski, Aaron</td>\n",
       "      <td>15.60</td>\n",
       "      <td>3000</td>\n",
       "      <td>0.005200</td>\n",
       "    </tr>\n",
       "    <tr>\n",
       "      <th>wrt</th>\n",
       "      <td>wrt</td>\n",
       "      <td>Thomas, Michael</td>\n",
       "      <td>34.60</td>\n",
       "      <td>6700</td>\n",
       "      <td>0.005164</td>\n",
       "    </tr>\n",
       "    <tr>\n",
       "      <th>qbb</th>\n",
       "      <td>qbb</td>\n",
       "      <td>Smith, Alex</td>\n",
       "      <td>25.66</td>\n",
       "      <td>5000</td>\n",
       "      <td>0.005132</td>\n",
       "    </tr>\n",
       "    <tr>\n",
       "      <th>rbs</th>\n",
       "      <td>rbs</td>\n",
       "      <td>Ingram, Mark</td>\n",
       "      <td>28.20</td>\n",
       "      <td>5600</td>\n",
       "      <td>0.005036</td>\n",
       "    </tr>\n",
       "    <tr>\n",
       "      <th>rbm</th>\n",
       "      <td>rbm</td>\n",
       "      <td>Crowell, Isaiah</td>\n",
       "      <td>21.80</td>\n",
       "      <td>4400</td>\n",
       "      <td>0.004955</td>\n",
       "    </tr>\n",
       "    <tr>\n",
       "      <th>qbt</th>\n",
       "      <td>qbt</td>\n",
       "      <td>Rodgers, Aaron</td>\n",
       "      <td>37.20</td>\n",
       "      <td>7700</td>\n",
       "      <td>0.004831</td>\n",
       "    </tr>\n",
       "    <tr>\n",
       "      <th>wrb</th>\n",
       "      <td>wrb</td>\n",
       "      <td>Hamilton, Cobi</td>\n",
       "      <td>14.40</td>\n",
       "      <td>3000</td>\n",
       "      <td>0.004800</td>\n",
       "    </tr>\n",
       "    <tr>\n",
       "      <th>teb</th>\n",
       "      <td>teb</td>\n",
       "      <td>Allen, Dwayne</td>\n",
       "      <td>12.40</td>\n",
       "      <td>2600</td>\n",
       "      <td>0.004769</td>\n",
       "    </tr>\n",
       "    <tr>\n",
       "      <th>wrb</th>\n",
       "      <td>wrb</td>\n",
       "      <td>Hardy, Justin</td>\n",
       "      <td>14.30</td>\n",
       "      <td>3000</td>\n",
       "      <td>0.004767</td>\n",
       "    </tr>\n",
       "    <tr>\n",
       "      <th>wrb</th>\n",
       "      <td>wrb</td>\n",
       "      <td>Ayers, Demarcus</td>\n",
       "      <td>14.20</td>\n",
       "      <td>3000</td>\n",
       "      <td>0.004733</td>\n",
       "    </tr>\n",
       "    <tr>\n",
       "      <th>teb</th>\n",
       "      <td>teb</td>\n",
       "      <td>Willson, Luke</td>\n",
       "      <td>11.60</td>\n",
       "      <td>2500</td>\n",
       "      <td>0.004640</td>\n",
       "    </tr>\n",
       "    <tr>\n",
       "      <th>teb</th>\n",
       "      <td>teb</td>\n",
       "      <td>Koyack, Ben</td>\n",
       "      <td>11.50</td>\n",
       "      <td>2500</td>\n",
       "      <td>0.004600</td>\n",
       "    </tr>\n",
       "    <tr>\n",
       "      <th>wrb</th>\n",
       "      <td>wrb</td>\n",
       "      <td>Ross, Jeremy</td>\n",
       "      <td>13.70</td>\n",
       "      <td>3000</td>\n",
       "      <td>0.004567</td>\n",
       "    </tr>\n",
       "    <tr>\n",
       "      <th>wrm</th>\n",
       "      <td>wrm</td>\n",
       "      <td>Landry, Jarvis</td>\n",
       "      <td>22.60</td>\n",
       "      <td>5000</td>\n",
       "      <td>0.004520</td>\n",
       "    </tr>\n",
       "    <tr>\n",
       "      <th>qbb</th>\n",
       "      <td>qbb</td>\n",
       "      <td>Bradford, Sam</td>\n",
       "      <td>23.40</td>\n",
       "      <td>5200</td>\n",
       "      <td>0.004500</td>\n",
       "    </tr>\n",
       "    <tr>\n",
       "      <th>wrb</th>\n",
       "      <td>wrb</td>\n",
       "      <td>Wright, Jarius</td>\n",
       "      <td>13.40</td>\n",
       "      <td>3000</td>\n",
       "      <td>0.004467</td>\n",
       "    </tr>\n",
       "  </tbody>\n",
       "</table>\n",
       "</div>"
      ],
      "text/plain": [
       "                position_status                name  points  salary     ratio\n",
       "position_status                                                              \n",
       "rbb                         rbb       Burkhead, Rex   31.40    3500  0.008971\n",
       "tet                         tet          Ertz, Zach   41.90    4800  0.008729\n",
       "rbb                         rbb      Draughn, Shaun   26.90    3200  0.008406\n",
       "rbb                         rbb        Grant, Corey   24.70    3000  0.008233\n",
       "wrm                         wrm   Matthews, Rishard   29.40    4100  0.007171\n",
       "rbb                         rbb    Booker, Devontae   24.90    3500  0.007114\n",
       "rbm                         rbm  West, Charcandrick   28.60    4100  0.006976\n",
       "tet                         tet       Rudolph, Kyle   31.70    4600  0.006891\n",
       "wrb                         wrb   Allison, Geronimo   19.10    3000  0.006367\n",
       "tem                         tem       Pitta, Dennis   20.10    3400  0.005912\n",
       "wrb                         wrb      Walters, Bryan   16.80    3000  0.005600\n",
       "wrs                         wrs     Edelman, Julian   34.70    6400  0.005422\n",
       "teb                         teb       Henry, Hunter   14.30    2700  0.005296\n",
       "wrb                         wrb     Humphries, Adam   19.40    3700  0.005243\n",
       "rbb                         rbb    Ripkowski, Aaron   15.60    3000  0.005200\n",
       "wrt                         wrt     Thomas, Michael   34.60    6700  0.005164\n",
       "qbb                         qbb         Smith, Alex   25.66    5000  0.005132\n",
       "rbs                         rbs        Ingram, Mark   28.20    5600  0.005036\n",
       "rbm                         rbm     Crowell, Isaiah   21.80    4400  0.004955\n",
       "qbt                         qbt      Rodgers, Aaron   37.20    7700  0.004831\n",
       "wrb                         wrb      Hamilton, Cobi   14.40    3000  0.004800\n",
       "teb                         teb       Allen, Dwayne   12.40    2600  0.004769\n",
       "wrb                         wrb       Hardy, Justin   14.30    3000  0.004767\n",
       "wrb                         wrb     Ayers, Demarcus   14.20    3000  0.004733\n",
       "teb                         teb       Willson, Luke   11.60    2500  0.004640\n",
       "teb                         teb         Koyack, Ben   11.50    2500  0.004600\n",
       "wrb                         wrb        Ross, Jeremy   13.70    3000  0.004567\n",
       "wrm                         wrm      Landry, Jarvis   22.60    5000  0.004520\n",
       "qbb                         qbb       Bradford, Sam   23.40    5200  0.004500\n",
       "wrb                         wrb      Wright, Jarius   13.40    3000  0.004467"
      ]
     },
     "execution_count": 115,
     "metadata": {},
     "output_type": "execute_result"
    }
   ],
   "source": [
    "df = pd.read_csv('test_nfl.csv')\n",
    "df.head(30)\n",
    "index = df['position_status']\n",
    "df.index = index\n",
    "df.head(30)"
   ]
  },
  {
   "cell_type": "code",
   "execution_count": 116,
   "metadata": {
    "collapsed": false
   },
   "outputs": [
    {
     "data": {
      "text/plain": [
       "<matplotlib.text.Text at 0x118cf3a10>"
      ]
     },
     "execution_count": 116,
     "metadata": {},
     "output_type": "execute_result"
    },
    {
     "data": {
      "image/png": "[encoded data removed]",
      "text/plain": [
       "<matplotlib.figure.Figure at 0x118ca73d0>"
      ]
     },
     "metadata": {},
     "output_type": "display_data"
    }
   ],
   "source": [
    "sns.violinplot(df['position_status'], df['ratio'])\n",
    "sns.plt.title('All Positions by Salary')"
   ]
  },
  {
   "cell_type": "code",
   "execution_count": 117,
   "metadata": {
    "collapsed": false
   },
   "outputs": [
    {
     "data": {
      "text/plain": [
       "<matplotlib.text.Text at 0x119044ed0>"
      ]
     },
     "execution_count": 117,
     "metadata": {},
     "output_type": "execute_result"
    },
    {
     "data": {
      "image/png": "[encoded data removed]",
      "text/plain": [
       "<matplotlib.figure.Figure at 0x118824cd0>"
      ]
     },
     "metadata": {},
     "output_type": "display_data"
    }
   ],
   "source": [
    "sns.boxplot(df['position_status'], df['ratio'])\n",
    "sns.plt.title('All Positions by Salary')\n"
   ]
  },
  {
   "cell_type": "code",
   "execution_count": 118,
   "metadata": {
    "collapsed": false
   },
   "outputs": [
    {
     "data": {
      "text/plain": [
       "<matplotlib.axes._subplots.AxesSubplot at 0x1192e6510>"
      ]
     },
     "execution_count": 118,
     "metadata": {},
     "output_type": "execute_result"
    },
    {
     "data": {
      "image/png": "[encoded data removed]",
      "text/plain": [
       "<matplotlib.figure.Figure at 0x11900ff90>"
      ]
     },
     "metadata": {},
     "output_type": "display_data"
    }
   ],
   "source": [
    "sns.countplot(df['position_status'])"
   ]
  },
  {
   "cell_type": "code",
   "execution_count": 120,
   "metadata": {
    "collapsed": false
   },
   "outputs": [
    {
     "name": "stdout",
     "output_type": "stream",
     "text": [
      "                    points       salary     ratio\n",
      "position_status                                  \n",
      "db               10.833333  2433.333333  0.000000\n",
      "dm               11.400000  2990.000000  0.000000\n",
      "dt               12.500000  3633.333333  0.000000\n",
      "qbb              14.207059  5082.352941  0.002703\n",
      "qbm              15.115000  5912.500000  0.002564\n",
      "qbt              24.431429  7128.571429  0.002933\n",
      "rbb              13.320000  3220.000000  0.003585\n",
      "rbm              10.623810  4176.190476  0.001838\n",
      "rbs              13.980000  5300.000000  0.002624\n",
      "rbt              16.100000  6966.666667  0.002393\n",
      "teb               8.675000  2700.000000  0.002844\n",
      "tem              11.728571  3628.571429  0.003031\n",
      "tet              18.616667  4750.000000  0.003500\n",
      "wrb               8.619608  3241.176471  0.002610\n",
      "wrm              12.151429  4600.000000  0.002683\n",
      "wrs              14.485714  5692.857143  0.002365\n",
      "wrt              16.620000  7500.000000  0.002280\n",
      "                    points       salary     ratio\n",
      "position_status                                  \n",
      "db                4.875107   216.024690  0.000000\n",
      "dm                7.530678   152.388393  0.000000\n",
      "dt                5.394442   216.024690  0.000000\n",
      "qbb               6.814444   107.443556  0.001486\n",
      "qbm               6.000369   290.012315  0.001036\n",
      "qbt               8.600976   468.025233  0.001652\n",
      "rbb               8.133142   268.720164  0.002671\n",
      "rbm               6.839145   266.279481  0.001733\n",
      "rbs               7.338301   309.120617  0.001308\n",
      "rbt               9.268225  1467.878287  0.001384\n",
      "teb               3.617629   238.415824  0.001632\n",
      "tem               5.296135   242.997159  0.001856\n",
      "tet              14.727310   516.720427  0.003491\n",
      "wrb               4.308922   347.088733  0.001430\n",
      "wrm               5.950172   317.804972  0.001417\n",
      "wrs               7.717299   336.187415  0.001419\n",
      "wrt               8.930074   855.050356  0.001374\n",
      "                    points       salary     ratio\n",
      "position_status                                  \n",
      "qbm               9.114631  5622.487685  0.001527\n",
      "rbs               6.641699  4990.879383  0.001316\n",
      "qbt              15.830453  6660.546195  0.001281\n",
      "wrm               6.201257  4282.195028  0.001266\n",
      "qbb               7.392615  4974.909386  0.001217\n",
      "teb               5.057371  2461.584176  0.001212\n",
      "wrb               4.310686  2894.087738  0.001180\n",
      "tem               6.432436  3385.574270  0.001175\n",
      "rbt               6.831775  5498.788379  0.001009\n",
      "wrs               6.768415  5356.669728  0.000946\n",
      "rbb               5.186858  2951.279836  0.000914\n",
      "wrt               7.689926  6644.949644  0.000906\n",
      "rbm               3.784664  3909.910995  0.000106\n",
      "tet               3.889356  4233.279573  0.000010\n",
      "dm                3.869322  2837.611607  0.000000\n",
      "dt                7.105558  3417.308643  0.000000\n",
      "db                5.958226  2217.308643  0.000000\n"
     ]
    },
    {
     "name": "stderr",
     "output_type": "stream",
     "text": [
      "/Users/kylehoward/anaconda/lib/python2.7/site-packages/ipykernel/__main__.py:1: FutureWarning: 'position_status' is both a column name and an index level.\n",
      "Defaulting to column but this will raise an ambiguity error in a future version\n",
      "  if __name__ == '__main__':\n",
      "/Users/kylehoward/anaconda/lib/python2.7/site-packages/ipykernel/__main__.py:3: FutureWarning: 'position_status' is both a column name and an index level.\n",
      "Defaulting to column but this will raise an ambiguity error in a future version\n",
      "  app.launch_new_instance()\n"
     ]
    }
   ],
   "source": [
    "x = df.groupby('position_status').mean()\n",
    "print(x)\n",
    "y = df.groupby('position_status').std()\n",
    "print(y)\n",
    "z = x - y\n",
    "print(z.sort_values('ratio', ascending=[False]))"
   ]
  },
  {
   "cell_type": "code",
   "execution_count": 80,
   "metadata": {
    "collapsed": false
   },
   "outputs": [
    {
     "name": "stdout",
     "output_type": "stream",
     "text": [
      "                    points       salary     ratio  var\n",
      "position_status                                       \n",
      "tet              14.727310   516.720427  0.003491  0.0\n",
      "rbb               8.133142   268.720164  0.002671  0.0\n",
      "tem               5.296135   242.997159  0.001856  0.0\n",
      "rbm               6.839145   266.279481  0.001733  0.0\n",
      "qbt               8.600976   468.025233  0.001652  0.0\n",
      "teb               3.617629   238.415824  0.001632  0.0\n",
      "qbb               6.814444   107.443556  0.001486  0.0\n",
      "wrb               4.308922   347.088733  0.001430  0.0\n",
      "wrs               7.717299   336.187415  0.001419  0.0\n",
      "wrm               5.950172   317.804972  0.001417  0.0\n",
      "rbt               9.268225  1467.878287  0.001384  0.0\n",
      "wrt               8.930074   855.050356  0.001374  0.0\n",
      "rbs               7.338301   309.120617  0.001308  0.0\n",
      "qbm               6.000369   290.012315  0.001036  0.0\n",
      "dm                7.530678   152.388393  0.000000  0.0\n",
      "dt                5.394442   216.024690  0.000000  0.0\n",
      "db                4.875107   216.024690  0.000000  0.0\n"
     ]
    }
   ],
   "source": [
    "test = y.sort_values('ratio', ascending=[False])\n",
    "print(test)"
   ]
  },
  {
   "cell_type": "code",
   "execution_count": null,
   "metadata": {
    "collapsed": false
   },
   "outputs": [],
   "source": []
  },
  {
   "cell_type": "code",
   "execution_count": null,
   "metadata": {
    "collapsed": false
   },
   "outputs": [],
   "source": []
  },
  {
   "cell_type": "code",
   "execution_count": 82,
   "metadata": {
    "collapsed": false
   },
   "outputs": [
    {
     "name": "stdout",
     "output_type": "stream",
     "text": [
      "position_status\n",
      "rbb    0.008971\n",
      "rbb    0.008406\n",
      "rbb    0.008233\n",
      "rbb    0.007114\n",
      "rbb    0.005200\n",
      "rbb    0.003882\n",
      "rbb    0.003600\n",
      "rbb    0.003270\n",
      "rbb    0.003139\n",
      "rbb    0.003133\n",
      "rbb    0.002967\n",
      "rbb    0.002757\n",
      "rbb    0.002419\n",
      "rbb    0.002300\n",
      "rbb    0.001867\n",
      "rbb    0.001633\n",
      "rbb    0.001500\n",
      "rbb    0.001314\n",
      "rbb    0.000000\n",
      "rbb    0.000000\n",
      "Name: ratio, dtype: float64\n"
     ]
    }
   ],
   "source": [
    "rbb = df.loc['rbb', 'ratio']\n",
    "print(rbb)"
   ]
  },
  {
   "cell_type": "code",
   "execution_count": 48,
   "metadata": {
    "collapsed": false
   },
   "outputs": [
    {
     "data": {
      "text/plain": [
       "<matplotlib.axes._subplots.AxesSubplot at 0x115da72d0>"
      ]
     },
     "execution_count": 48,
     "metadata": {},
     "output_type": "execute_result"
    },
    {
     "data": {
      "image/png": "[encoded data removed]",
      "text/plain": [
       "<matplotlib.figure.Figure at 0x115cf2c50>"
      ]
     },
     "metadata": {},
     "output_type": "display_data"
    }
   ],
   "source": [
    "sns.distplot(rbb)"
   ]
  },
  {
   "cell_type": "code",
   "execution_count": 52,
   "metadata": {
    "collapsed": false
   },
   "outputs": [
    {
     "name": "stdout",
     "output_type": "stream",
     "text": [
      "[[position_status\n",
      "tet    0.008729\n",
      "tet    0.006891\n",
      "tet    0.002311\n",
      "tet    0.002125\n",
      "tet    0.000945\n",
      "tet    0.000000\n",
      "Name: ratio, dtype: float64], [position_status\n",
      "qbt    0.004831\n",
      "qbt    0.004384\n",
      "qbt    0.003561\n",
      "qbt    0.003513\n",
      "qbt    0.002165\n",
      "qbt    0.002074\n",
      "qbt    0.000000\n",
      "Name: ratio, dtype: float64], [position_status\n",
      "rbt    0.004100\n",
      "rbt    0.003954\n",
      "rbt    0.002426\n",
      "rbt    0.001847\n",
      "rbt    0.001276\n",
      "rbt    0.000755\n",
      "Name: ratio, dtype: float64], [position_status\n",
      "wrt    0.005164\n",
      "wrt    0.003431\n",
      "wrt    0.003091\n",
      "wrt    0.002690\n",
      "wrt    0.002188\n",
      "wrt    0.002039\n",
      "wrt    0.001556\n",
      "wrt    0.001044\n",
      "wrt    0.000889\n",
      "wrt    0.000710\n",
      "Name: ratio, dtype: float64]]\n"
     ]
    }
   ],
   "source": [
    "tet = df.loc['tet', 'ratio']\n",
    "qbt = df.loc['qbt', 'ratio']\n",
    "rbt = df.loc['rbt', 'ratio']\n",
    "wrt = df.loc['wrt', 'ratio']\n",
    "x = [[tet], [qbt], [rbt], [wrt]]\n",
    "print(x)"
   ]
  },
  {
   "cell_type": "code",
   "execution_count": 112,
   "metadata": {
    "collapsed": false
   },
   "outputs": [
    {
     "data": {
      "text/plain": [
       "<matplotlib.text.Text at 0x118c2f9d0>"
      ]
     },
     "execution_count": 112,
     "metadata": {},
     "output_type": "execute_result"
    },
    {
     "data": {
      "image/png": "[encoded data removed]",
      "text/plain": [
       "<matplotlib.figure.Figure at 0x118b5cb90>"
      ]
     },
     "metadata": {},
     "output_type": "display_data"
    }
   ],
   "source": [
    "sns.set_style(\"white\")\n",
    "sns.boxplot(tet, color='purple')\n",
    "sns.plt.title('Top Tier Tight Ends')"
   ]
  },
  {
   "cell_type": "code",
   "execution_count": 108,
   "metadata": {
    "collapsed": false
   },
   "outputs": [
    {
     "data": {
      "text/plain": [
       "<matplotlib.text.Text at 0x1186d4750>"
      ]
     },
     "execution_count": 108,
     "metadata": {},
     "output_type": "execute_result"
    },
    {
     "data": {
      "image/png": "[encoded data removed]",
      "text/plain": [
       "<matplotlib.figure.Figure at 0x11817ac50>"
      ]
     },
     "metadata": {},
     "output_type": "display_data"
    }
   ],
   "source": [
    "sns.boxplot(rbt, color='red')\n",
    "sns.plt.title('Top Tier Running Backs')"
   ]
  },
  {
   "cell_type": "code",
   "execution_count": 109,
   "metadata": {
    "collapsed": false
   },
   "outputs": [
    {
     "data": {
      "text/plain": [
       "<matplotlib.text.Text at 0x11882e810>"
      ]
     },
     "execution_count": 109,
     "metadata": {},
     "output_type": "execute_result"
    },
    {
     "data": {
      "image/png": "[encoded data removed]",
      "text/plain": [
       "<matplotlib.figure.Figure at 0x11875b750>"
      ]
     },
     "metadata": {},
     "output_type": "display_data"
    }
   ],
   "source": [
    "sns.boxplot(qbt, color='green')\n",
    "sns.plt.title('Top Tier Quarterbacks')"
   ]
  },
  {
   "cell_type": "code",
   "execution_count": 110,
   "metadata": {
    "collapsed": false
   },
   "outputs": [
    {
     "data": {
      "text/plain": [
       "<matplotlib.text.Text at 0x11898c350>"
      ]
     },
     "execution_count": 110,
     "metadata": {},
     "output_type": "execute_result"
    },
    {
     "data": {
      "image/png": "[encoded data removed]",
      "text/plain": [
       "<matplotlib.figure.Figure at 0x118800b90>"
      ]
     },
     "metadata": {},
     "output_type": "display_data"
    }
   ],
   "source": [
    "sns.boxplot(wrt, color='teal')\n",
    "sns.plt.title('Top Tier Wide Receivers')"
   ]
  },
  {
   "cell_type": "code",
   "execution_count": 111,
   "metadata": {
    "collapsed": false
   },
   "outputs": [
    {
     "data": {
      "text/plain": [
       "<matplotlib.axes._subplots.AxesSubplot at 0x11896c390>"
      ]
     },
     "execution_count": 111,
     "metadata": {},
     "output_type": "execute_result"
    },
    {
     "data": {
      "image/png": "[encoded data removed]",
      "text/plain": [
       "<matplotlib.figure.Figure at 0x118824790>"
      ]
     },
     "metadata": {},
     "output_type": "display_data"
    }
   ],
   "source": [
    "sns.violinplot(tet)"
   ]
  },
  {
   "cell_type": "code",
   "execution_count": null,
   "metadata": {
    "collapsed": true
   },
   "outputs": [],
   "source": []
  }
 ],
 "metadata": {
  "kernelspec": {
   "display_name": "Python 2",
   "language": "python",
   "name": "python2"
  },
  "language_info": {
   "codemirror_mode": {
    "name": "ipython",
    "version": 2
   },
   "file_extension": ".py",
   "mimetype": "text/x-python",
   "name": "python",
   "nbconvert_exporter": "python",
   "pygments_lexer": "ipython2",
   "version": "2.7.13"
  }
 },
 "nbformat": 4,
 "nbformat_minor": 2
}
