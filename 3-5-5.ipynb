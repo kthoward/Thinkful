{
 "cells": [
  {
   "cell_type": "markdown",
   "metadata": {},
   "source": [
    "1. Predict the running times of prospective Olympic sprinters using data from the last 20 Olympics.\n",
    "Lasso Regression\n",
    "\n",
    "2. You have more features (columns) than rows in your dataset.\n",
    "SVC\n",
    "\n",
    "3. Identify the most important characteristic predicting likelihood of being jailed before age 20.\n",
    "Lasso Regression\n",
    "\n",
    "4. Implement a filter to “highlight” emails that might be important to the recipient\n",
    "Naive Bayes\n",
    "\n",
    "5. You have 1000+ features.\n",
    "lasso Regression\n",
    "\n",
    "6. Predict whether someone who adds items to their cart on a website will purchase the items.\n",
    "Ridge Regression\n",
    "\n",
    "7. Your dataset dimensions are 982400 x 500\n",
    "Boosting\n",
    "\n",
    "8. Identify faces in an image.\n",
    "KNN\n",
    "\n",
    "9. Predict which of three flavors of ice cream will be most popular with boys vs girls.\n",
    "RFC\n"
   ]
  }
 ],
 "metadata": {
  "kernelspec": {
   "display_name": "Python 3",
   "language": "python",
   "name": "python3"
  },
  "language_info": {
   "codemirror_mode": {
    "name": "ipython",
    "version": 3
   },
   "file_extension": ".py",
   "mimetype": "text/x-python",
   "name": "python",
   "nbconvert_exporter": "python",
   "pygments_lexer": "ipython3",
   "version": "3.6.1"
  }
 },
 "nbformat": 4,
 "nbformat_minor": 2
}
