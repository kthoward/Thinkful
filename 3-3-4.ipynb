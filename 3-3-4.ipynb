{
 "cells": [
  {
   "cell_type": "code",
   "execution_count": 21,
   "metadata": {},
   "outputs": [
    {
     "data": {
      "text/plain": [
       "'/Users/kylehoward/Desktop/Thinkful/Thinkful-2/Capstone_1'"
      ]
     },
     "execution_count": 21,
     "metadata": {},
     "output_type": "execute_result"
    }
   ],
   "source": [
    "from sklearn.model_selection import cross_val_score\n",
    "from sklearn import neighbors\n",
    "from sklearn.svm import SVC\n",
    "import pandas as pd\n",
    "import numpy as np\n",
    "import scipy\n",
    "import matplotlib.pyplot as plt\n",
    "%matplotlib inline\n",
    "from scipy import stats\n",
    "import os\n",
    "from sklearn.metrics import confusion_matrix\n",
    "from sklearn.model_selection import StratifiedKFold\n",
    "from statsmodels.sandbox.regression.predstd import wls_prediction_std\n",
    "from sklearn import linear_model\n",
    "import seaborn as sns\n",
    "import statsmodels.formula.api as smf\n",
    "from IPython.display import display\n",
    "import sklearn\n",
    "import math\n",
    "import statsmodels.api as sm\n",
    "from sklearn import ensemble\n",
    "from sklearn.linear_model import LogisticRegression\n",
    "from sklearn import preprocessing\n",
    "from sklearn import tree\n",
    "from IPython.display import Image\n",
    "import pydotplus\n",
    "import graphviz\n",
    "os.getcwd()\n",
    "os.chdir('/Users/kylehoward/desktop/thinkful/thinkful-2/capstone_1') \n",
    "os.getcwd()"
   ]
  },
  {
   "cell_type": "code",
   "execution_count": 22,
   "metadata": {},
   "outputs": [
    {
     "data": {
      "text/plain": [
       "<bound method NDFrame.describe of         FINAL_MARGIN  SHOT_NUMBER  PERIOD GAME_CLOCK  SHOT_CLOCK  DRIBBLES  \\\n",
       "0                 24            1       1       1:09        10.8         2   \n",
       "1                 24            2       1       0:14         3.4         0   \n",
       "2                 24            3       1       0:00         NaN         3   \n",
       "3                 24            4       2      11:47        10.3         2   \n",
       "4                 24            5       2      10:34        10.9         2   \n",
       "5                 24            6       2       8:15         9.1         2   \n",
       "6                 24            7       4      10:15        14.5        11   \n",
       "7                 24            8       4       8:00         3.4         3   \n",
       "8                 24            9       4       5:14        12.4         0   \n",
       "9                  1            1       2      11:32        17.4         0   \n",
       "10                 1            2       2       6:30        16.0         8   \n",
       "11                 1            3       4      11:32        12.1        14   \n",
       "12                 1            4       4       8:55         4.3         2   \n",
       "13                15            1       4       9:10         4.4         0   \n",
       "14                -8            1       1       0:48         6.8         0   \n",
       "15                -8            2       2      10:38         6.4         3   \n",
       "16                -8            3       2       8:27        17.6         6   \n",
       "17                -8            4       4      10:55         8.7         1   \n",
       "18                -8            5       4      10:29        20.8         0   \n",
       "19                12            1       1       3:35        17.5         2   \n",
       "20                12            2       1       0:33        19.5         5   \n",
       "21                12            3       2       8:50         6.0         6   \n",
       "22                12            4       2       8:24        15.7         0   \n",
       "23                12            5       2       5:32        11.2        16   \n",
       "24                12            6       2       0:04         NaN         0   \n",
       "25                12            7       4      10:13        17.1         7   \n",
       "26                12            8       4       5:34        15.4         1   \n",
       "27               -11            1       1       2:25        12.3         0   \n",
       "28               -11            2       2       9:08        18.2         7   \n",
       "29               -11            3       2       8:53        11.9         1   \n",
       "...              ...          ...     ...        ...         ...       ...   \n",
       "128039            11            2       2       9:05         7.9         6   \n",
       "128040            11            3       4      11:13         8.8         0   \n",
       "128041            11            4       4       4:23        10.3         3   \n",
       "128042            11            5       4       0:06         4.0        20   \n",
       "128043            -7            1       2      11:48        12.1        16   \n",
       "128044            -7            2       2      10:05         8.4         3   \n",
       "128045            -7            3       2       9:34         9.0         0   \n",
       "128046            -7            4       3       4:01        19.3         2   \n",
       "128047            -7            5       3       3:05         7.3         6   \n",
       "128048            -7            6       4      11:01         9.0         0   \n",
       "128049            -7            7       4       7:27        11.0         2   \n",
       "128050            -7            8       4       6:41        22.7         1   \n",
       "128051            31            2       1       0:16         NaN         3   \n",
       "128052            31            3       2      10:29        19.3         2   \n",
       "128053            31            4       3       6:15         3.2         5   \n",
       "128054            31            5       3       3:17         4.1         2   \n",
       "128055            31            6       4      11:22        13.8         0   \n",
       "128056            12            1       1       1:50         7.1         2   \n",
       "128057            12            2       2      10:02         7.3         0   \n",
       "128058            12            3       4      10:57        14.3         2   \n",
       "128059            12            4       4       8:34        19.8         0   \n",
       "128060           -16            1       1       1:59        11.4        16   \n",
       "128061           -16            2       2      10:10        19.0         0   \n",
       "128062           -16            3       2       7:46         7.0         1   \n",
       "128063           -16            4       2       5:05        15.3         2   \n",
       "128064           -16            5       3       1:52        18.3         5   \n",
       "128065           -16            6       4      11:28        19.8         4   \n",
       "128066           -16            7       4      11:10        23.0         2   \n",
       "128067           -16            8       4       2:37         9.1         4   \n",
       "128068           -16            9       4       0:12         NaN         5   \n",
       "\n",
       "        TOUCH_TIME  SHOT_DIST  PTS_TYPE SHOT_RESULT  CLOSE_DEF_DIST  FGM  PTS  \\\n",
       "0              1.9        7.7         2        made             1.3    1    2   \n",
       "1              0.8       28.2         3      missed             6.1    0    0   \n",
       "2              2.7       10.1         2      missed             0.9    0    0   \n",
       "3              1.9       17.2         2      missed             3.4    0    0   \n",
       "4              2.7        3.7         2      missed             1.1    0    0   \n",
       "5              4.4       18.4         2      missed             2.6    0    0   \n",
       "6              9.0       20.7         2      missed             6.1    0    0   \n",
       "7              2.5        3.5         2        made             2.1    1    2   \n",
       "8              0.8       24.6         3      missed             7.3    0    0   \n",
       "9              1.1       22.4         3      missed            19.8    0    0   \n",
       "10             7.5       24.5         3      missed             4.7    0    0   \n",
       "11            11.9       14.6         2        made             1.8    1    2   \n",
       "12             2.9        5.9         2        made             5.4    1    2   \n",
       "13             0.8       26.4         3      missed             4.4    0    0   \n",
       "14             0.5       22.8         3      missed             5.3    0    0   \n",
       "15             2.7       24.7         3        made             5.6    1    3   \n",
       "16             5.1       25.0         3      missed             5.4    0    0   \n",
       "17             0.9       25.6         3      missed             5.1    0    0   \n",
       "18             1.2       24.2         3        made            11.1    1    3   \n",
       "19             2.2       25.4         3      missed             3.5    0    0   \n",
       "20             4.4       19.1         2        made             4.0    1    2   \n",
       "21             7.4       14.8         2        made             5.4    1    2   \n",
       "22             0.7       25.2         3      missed             3.7    0    0   \n",
       "23            13.4       22.8         3        made             5.1    1    3   \n",
       "24             0.7       25.2         3      missed             3.6    0    0   \n",
       "25             7.2       24.6         3        made             6.0    1    3   \n",
       "26             1.6       10.6         2        made             0.7    1    2   \n",
       "27             0.8       20.2         2      missed             3.5    0    0   \n",
       "28             5.2       24.9         3      missed             4.5    0    0   \n",
       "29             2.1        8.3         2      missed             3.5    0    0   \n",
       "...            ...        ...       ...         ...             ...  ...  ...   \n",
       "128039         6.3       10.7         2      missed             1.2    0    0   \n",
       "128040         0.5        2.5         2      missed             5.1    0    0   \n",
       "128041         2.1        7.5         2        made             0.9    1    2   \n",
       "128042        20.4        6.8         2        made             0.9    1    2   \n",
       "128043        12.0       16.2         2        made             2.5    1    2   \n",
       "128044         3.2       17.7         2      missed             1.8    0    0   \n",
       "128045         0.0        3.6         2      missed             1.5    0    0   \n",
       "128046         1.9       17.0         2      missed             3.6    0    0   \n",
       "128047         6.9       15.5         2        made             2.4    1    2   \n",
       "128048         1.0       20.2         2        made            11.1    1    2   \n",
       "128049         2.2        9.4         2        made             6.0    1    2   \n",
       "128050         2.0        2.3         2        made             7.7    1    2   \n",
       "128051         3.7        2.6         2        made             5.4    1    2   \n",
       "128052         3.2       18.9         2      missed             3.8    0    0   \n",
       "128053         5.1       13.7         2      missed             2.8    0    0   \n",
       "128054         2.1       11.1         2      missed             4.2    0    0   \n",
       "128055         0.6        5.1         2      missed             2.1    0    0   \n",
       "128056         2.3       15.5         2      missed             3.1    0    0   \n",
       "128057         1.0       22.1         3      missed             2.9    0    0   \n",
       "128058         2.0       18.2         2        made             1.1    1    2   \n",
       "128059         0.8       22.7         3      missed             4.0    0    0   \n",
       "128060        12.4       12.6         2      missed             4.8    0    0   \n",
       "128061        -0.2        7.4         2      missed             2.7    0    0   \n",
       "128062         1.7       14.5         2        made             3.1    1    2   \n",
       "128063         1.6        8.9         2        made             5.7    1    2   \n",
       "128064         6.2        8.7         2      missed             0.8    0    0   \n",
       "128065         5.2        0.6         2        made             0.6    1    2   \n",
       "128066         4.2       16.9         2        made             4.2    1    2   \n",
       "128067         4.5       18.3         2      missed             3.0    0    0   \n",
       "128068         4.7        5.1         2        made             2.3    1    2   \n",
       "\n",
       "        player_id  \n",
       "0          203148  \n",
       "1          203148  \n",
       "2          203148  \n",
       "3          203148  \n",
       "4          203148  \n",
       "5          203148  \n",
       "6          203148  \n",
       "7          203148  \n",
       "8          203148  \n",
       "9          203148  \n",
       "10         203148  \n",
       "11         203148  \n",
       "12         203148  \n",
       "13         203148  \n",
       "14         203148  \n",
       "15         203148  \n",
       "16         203148  \n",
       "17         203148  \n",
       "18         203148  \n",
       "19         203148  \n",
       "20         203148  \n",
       "21         203148  \n",
       "22         203148  \n",
       "23         203148  \n",
       "24         203148  \n",
       "25         203148  \n",
       "26         203148  \n",
       "27         203148  \n",
       "28         203148  \n",
       "29         203148  \n",
       "...           ...  \n",
       "128039     101127  \n",
       "128040     101127  \n",
       "128041     101127  \n",
       "128042     101127  \n",
       "128043     101127  \n",
       "128044     101127  \n",
       "128045     101127  \n",
       "128046     101127  \n",
       "128047     101127  \n",
       "128048     101127  \n",
       "128049     101127  \n",
       "128050     101127  \n",
       "128051     101127  \n",
       "128052     101127  \n",
       "128053     101127  \n",
       "128054     101127  \n",
       "128055     101127  \n",
       "128056     101127  \n",
       "128057     101127  \n",
       "128058     101127  \n",
       "128059     101127  \n",
       "128060     101127  \n",
       "128061     101127  \n",
       "128062     101127  \n",
       "128063     101127  \n",
       "128064     101127  \n",
       "128065     101127  \n",
       "128066     101127  \n",
       "128067     101127  \n",
       "128068     101127  \n",
       "\n",
       "[128069 rows x 14 columns]>"
      ]
     },
     "execution_count": 22,
     "metadata": {},
     "output_type": "execute_result"
    }
   ],
   "source": [
    "data = (\"shot_logs.csv\")\n",
    "df = pd.read_csv(data, usecols=[4,5,6,7,8,9,10,11,12,13,16,17,18,20])\n",
    "df.describe"
   ]
  },
  {
   "cell_type": "code",
   "execution_count": 23,
   "metadata": {
    "collapsed": true
   },
   "outputs": [],
   "source": [
    "df = df.dropna()"
   ]
  },
  {
   "cell_type": "code",
   "execution_count": 24,
   "metadata": {},
   "outputs": [],
   "source": [
    "df = df.drop('SHOT_RESULT', axis=1)\n",
    "df = df.drop('GAME_CLOCK', axis=1)\n",
    "df = df.drop('SHOT_CLOCK', axis=1)\n",
    "df['PTS_TYPE'].astype(int)\n",
    "df['SHOT_DIST'].astype(int)\n",
    "df['CLOSE_DEF_DIST'].astype(int)\n",
    "df = df[df.CLOSE_DEF_DIST <= 10]\n",
    "df = df[df.SHOT_DIST <= 25]\n",
    "df['S_IS_CLOSE'] = np.where(df['SHOT_DIST']<=6, 1, 0)\n",
    "df['S_IS_SHORT'] = np.where((df['SHOT_DIST']<=12) & (df['SHOT_DIST']>6), 1, 0)\n",
    "df['S_IS_MID'] = np.where((df['SHOT_DIST']<=18) & (df['SHOT_DIST']>12), 1, 0)\n",
    "df['S_IS_LONG'] = np.where(df['SHOT_DIST']>18, 1, 0)\n",
    "df['IS_THREE'] = np.where(df['PTS_TYPE']==3, 1, 0)\n",
    "df['TOUCH_TIME_SQUARED'] = df['TOUCH_TIME'] ** 2\n",
    "df['TOUCH_TIME_THIRD'] = df['TOUCH_TIME'] ** 3\n",
    "df['DISTANCE_RECIP'] = df['CLOSE_DEF_DIST'] - 10\n",
    "df['DISTANCE_RECIP'] = df['DISTANCE_RECIP'].abs()\n",
    "df['DIST_DIST'] = df['DISTANCE_RECIP'] * df['SHOT_DIST']\n",
    "df['DIST_SQR_DIST'] = df['DISTANCE_RECIP'] ** df['SHOT_DIST']\n",
    "df.fillna(0, inplace=True)\n",
    "for elem in df['player_id'].unique():\n",
    "    df[str(elem)] = df['player_id'] == elem\n",
    "df['D_!'] = np.where(df['CLOSE_DEF_DIST']<=2, 1, 0)\n",
    "df['D_2'] = np.where((df['CLOSE_DEF_DIST']<=4) & (df['CLOSE_DEF_DIST']>2), 1, 0)\n",
    "df['D_3'] = np.where((df['CLOSE_DEF_DIST']<=6) & (df['CLOSE_DEF_DIST']>4), 1, 0)\n",
    "df['D_4'] = np.where((df['CLOSE_DEF_DIST']<=8) & (df['CLOSE_DEF_DIST']>6), 1, 0)\n",
    "df['D_5'] = np.where((df['CLOSE_DEF_DIST']<=10) & (df['CLOSE_DEF_DIST']>8), 1, 0)\n",
    "  "
   ]
  },
  {
   "cell_type": "code",
   "execution_count": 25,
   "metadata": {},
   "outputs": [
    {
     "name": "stderr",
     "output_type": "stream",
     "text": [
      "/Users/kylehoward/Desktop/Thinkful/anaconda/lib/python3.6/site-packages/scipy/linalg/basic.py:223: RuntimeWarning: scipy.linalg.solve\n",
      "Ill-conditioned matrix detected. Result is not guaranteed to be accurate.\n",
      "Reciprocal condition number: 8.549121279280343e-24\n",
      "  ' condition number: {}'.format(rcond), RuntimeWarning)\n"
     ]
    },
    {
     "data": {
      "text/plain": [
       "0.97065834620558111"
      ]
     },
     "execution_count": 25,
     "metadata": {},
     "output_type": "execute_result"
    }
   ],
   "source": [
    "ridge = linear_model.Ridge(alpha=5, fit_intercept=False)\n",
    "X = df.drop('FGM', axis=1)\n",
    "\n",
    "y = df['FGM'].values.reshape(-1, 1)\n",
    "X_training = X[:77086]\n",
    "y_training = y[:77086]\n",
    "X_test = X[77086:]\n",
    "y_test = y[77086:]\n",
    "ridge.fit(X_training, y_training)\n",
    "y_pred_test = ridge.predict(X_test)\n",
    "ridge.score(X_test, y_test) "
   ]
  },
  {
   "cell_type": "code",
   "execution_count": 27,
   "metadata": {},
   "outputs": [
    {
     "name": "stderr",
     "output_type": "stream",
     "text": [
      "/Users/kylehoward/Desktop/Thinkful/anaconda/lib/python3.6/site-packages/sklearn/linear_model/coordinate_descent.py:491: ConvergenceWarning: Objective did not converge. You might want to increase the number of iterations. Fitting data with very small alpha may cause precision problems.\n",
      "  ConvergenceWarning)\n"
     ]
    },
    {
     "data": {
      "text/plain": [
       "0.00016022967277562472"
      ]
     },
     "execution_count": 27,
     "metadata": {},
     "output_type": "execute_result"
    }
   ],
   "source": [
    "lasso = linear_model.Lasso(alpha=5)\n",
    "X = df.drop('FGM', axis=1)\n",
    "y = df['FGM'].values.reshape(-1, 1)\n",
    "X_training = X[:77086]\n",
    "y_training = y[:77086]\n",
    "X_test = X[77086:]\n",
    "y_test = y[77086:]\n",
    "lasso.fit(X_training, y_training)\n",
    "y_pred_test = lasso.predict(X_test)\n",
    "lasso.score(X_test, y_test) "
   ]
  },
  {
   "cell_type": "code",
   "execution_count": 28,
   "metadata": {},
   "outputs": [
    {
     "data": {
      "text/plain": [
       "-4.0576026237859608e-05"
      ]
     },
     "execution_count": 28,
     "metadata": {},
     "output_type": "execute_result"
    }
   ],
   "source": [
    "regr = linear_model.LinearRegression()\n",
    "X = df.drop('FGM', axis=1)\n",
    "y = df['FGM'].values.reshape(-1, 1)\n",
    "X_training = X[:77086]\n",
    "y_training = y[:77086]\n",
    "X_test = X[77086:]\n",
    "y_test = y[77086:]\n",
    "regr.fit(X_training, y_training)\n",
    "y_pred_test = regr.predict(X_test)\n",
    "regr.score(X_test, y_test) "
   ]
  },
  {
   "cell_type": "code",
   "execution_count": null,
   "metadata": {
    "collapsed": true
   },
   "outputs": [],
   "source": []
  }
 ],
 "metadata": {
  "kernelspec": {
   "display_name": "Python 3",
   "language": "python",
   "name": "python3"
  },
  "language_info": {
   "codemirror_mode": {
    "name": "ipython",
    "version": 3
   },
   "file_extension": ".py",
   "mimetype": "text/x-python",
   "name": "python",
   "nbconvert_exporter": "python",
   "pygments_lexer": "ipython3",
   "version": "3.6.1"
  }
 },
 "nbformat": 4,
 "nbformat_minor": 2
}
