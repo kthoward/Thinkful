{
 "cells": [
  {
   "cell_type": "code",
   "execution_count": 23,
   "metadata": {},
   "outputs": [],
   "source": [
    "%matplotlib inline\n",
    "from sklearn import neighbors\n",
    "from nltk.stem.wordnet import WordNetLemmatizer\n",
    "import string\n",
    "import matplotlib.pyplot as plt\n",
    "from sklearn import metrics\n",
    "import numpy as np\n",
    "import pandas as pd\n",
    "from sklearn import decomposition\n",
    "import scipy\n",
    "import sklearn\n",
    "import spacy\n",
    "from sklearn.model_selection import train_test_split\n",
    "import re\n",
    "import os\n",
    "import gensim\n",
    "from gensim.models import word2vec\n",
    "from gensim.models import Word2Vec\n",
    "from sklearn.feature_extraction.text import TfidfVectorizer\n",
    "from sklearn.cluster import KMeans\n",
    "from sklearn.decomposition import TruncatedSVD\n",
    "from sklearn.pipeline import make_pipeline\n",
    "from sklearn.preprocessing import Normalizer\n",
    "from sklearn.preprocessing import normalize\n",
    "from sklearn.decomposition import PCA\n",
    "from sklearn.cluster import MiniBatchKMeans\n",
    "from sklearn.cluster import MeanShift, estimate_bandwidth\n",
    "from nltk.corpus import gutenberg, stopwords\n",
    "from collections import Counter"
   ]
  },
  {
   "cell_type": "markdown",
   "metadata": {},
   "source": []
  },
  {
   "cell_type": "code",
   "execution_count": 25,
   "metadata": {},
   "outputs": [
    {
     "name": "stdout",
     "output_type": "stream",
     "text": [
      "[]\n"
     ]
    }
   ],
   "source": [
    "article_list = []\n",
    "ground_truth = []\n",
    "categories = ['business', 'entertainment', 'politics', 'sport',  'tech']\n",
    "for i, category in enumerate(categories):\n",
    "    # is i coming first convention?\n",
    "    for root, dirs, files in os.walk(os.path.join(\"./bbc\",category)):\n",
    "        # Are \"root, dirs, files specifically related to os.walk or are they our names?\n",
    "        # What is the ordering method for situations like this where we have 3 after the for\n",
    "        # statement?\n",
    "        for file in sorted(files):\n",
    "            # Why did we sort the files?\n",
    "            ground_truth.append(i)\n",
    "            try:\n",
    "                # I need a brief reminder about 'with' statement. Does it read as, \"With 'do\n",
    "                # something here' being 'f', then append 'f'\n",
    "                with open(os.path.join(root,file),\"r\",encoding='utf-8') as f:\n",
    "                    article_list.append(f.read())\n",
    "            except:\n",
    "                with open(os.path.join(root,file),\"r\",encoding='iso-8859-1') as f:\n",
    "                    article_list.append(f.read())\n",
    "print(article_list)\n",
    "# When I tried to copy and paste yours it gave me this same empty list.              "
   ]
  },
  {
   "cell_type": "code",
   "execution_count": null,
   "metadata": {
    "collapsed": true
   },
   "outputs": [],
   "source": []
  }
 ],
 "metadata": {
  "kernelspec": {
   "display_name": "Python 3",
   "language": "python",
   "name": "python3"
  },
  "language_info": {
   "codemirror_mode": {
    "name": "ipython",
    "version": 3
   },
   "file_extension": ".py",
   "mimetype": "text/x-python",
   "name": "python",
   "nbconvert_exporter": "python",
   "pygments_lexer": "ipython3",
   "version": "3.6.1"
  }
 },
 "nbformat": 4,
 "nbformat_minor": 2
}
