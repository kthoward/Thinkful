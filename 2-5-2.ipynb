{
 "cells": [
  {
   "cell_type": "code",
   "execution_count": 42,
   "metadata": {},
   "outputs": [
    {
     "data": {
      "text/plain": [
       "'/Users/kylehoward/Desktop/Thinkful/Thinkful-2'"
      ]
     },
     "execution_count": 42,
     "metadata": {},
     "output_type": "execute_result"
    }
   ],
   "source": [
    "%matplotlib inline\n",
    "import math\n",
    "import numpy as np\n",
    "import pandas as pd\n",
    "from IPython.display import display\n",
    "import scipy\n",
    "import sklearn\n",
    "import matplotlib.pyplot as plt\n",
    "import seaborn as sns\n",
    "import os\n",
    "from statsmodels.sandbox.regression.predstd import wls_prediction_std\n",
    "from sklearn import linear_model\n",
    "import statsmodels.formula.api as smf\n",
    "from sklearn.metrics import confusion_matrix\n",
    "\n",
    "os.getcwd()\n",
    "os.chdir('/Users/kylehoward/desktop/thinkful/thinkful-2') \n",
    "os.getcwd()"
   ]
  },
  {
   "cell_type": "code",
   "execution_count": 43,
   "metadata": {
    "collapsed": true
   },
   "outputs": [],
   "source": [
    "data = (\"FBI_data_4.csv\")\n",
    "fbi = pd.read_csv(data, usecols=[1,2,3,6,8,11,12])\n",
    "fbi.columns = ['population', 'violent_crime', 'murder', 'robbery', 'prop_crime', 'gta', 'arsen']\n",
    "fbi = fbi.replace([np.inf, -np.inf], np.nan).dropna()\n",
    "fbi = fbi[1:]\n",
    "fbi = fbi.dropna()\n",
    "\n",
    "\n"
   ]
  },
  {
   "cell_type": "code",
   "execution_count": 44,
   "metadata": {},
   "outputs": [
    {
     "data": {
      "text/plain": [
       "1         6640929\n",
       "2         8099716\n",
       "6         3171961\n",
       "7     13993943616\n",
       "8        90611361\n",
       "9       330585124\n",
       "10        4214809\n",
       "11       20457529\n",
       "12         432964\n",
       "13        6360484\n",
       "Name: population_squared, dtype: int64"
      ]
     },
     "execution_count": 44,
     "metadata": {},
     "output_type": "execute_result"
    }
   ],
   "source": [
    "fbi['population'] = fbi['population'].astype(int)\n",
    "fbi['population_squared'] = fbi['population'] * fbi['population']\n",
    "fbi['population_squared'].head(10)"
   ]
  },
  {
   "cell_type": "code",
   "execution_count": 45,
   "metadata": {},
   "outputs": [
    {
     "data": {
      "text/plain": [
       "1       50\n",
       "2       53\n",
       "6       42\n",
       "7      343\n",
       "8       97\n",
       "9      134\n",
       "10      45\n",
       "11      67\n",
       "12      25\n",
       "13      50\n",
       "16      86\n",
       "17      73\n",
       "19      75\n",
       "23      37\n",
       "25      31\n",
       "26      48\n",
       "27      45\n",
       "28      45\n",
       "29      48\n",
       "30      89\n",
       "33      79\n",
       "34      34\n",
       "38      47\n",
       "39     155\n",
       "42      47\n",
       "44      27\n",
       "45     185\n",
       "46      59\n",
       "48      31\n",
       "51      42\n",
       "      ... \n",
       "125     52\n",
       "128     39\n",
       "134    213\n",
       "135     97\n",
       "136     25\n",
       "138     89\n",
       "139    192\n",
       "140    234\n",
       "141     87\n",
       "142     62\n",
       "143     57\n",
       "146     81\n",
       "149     37\n",
       "150    146\n",
       "153     80\n",
       "157     36\n",
       "158    123\n",
       "159    115\n",
       "160     71\n",
       "161    153\n",
       "163    134\n",
       "164     49\n",
       "167    190\n",
       "173     48\n",
       "174     60\n",
       "175    103\n",
       "182     76\n",
       "183     92\n",
       "184    110\n",
       "185    138\n",
       "Name: population_sqrt, Length: 100, dtype: int64"
      ]
     },
     "execution_count": 45,
     "metadata": {},
     "output_type": "execute_result"
    }
   ],
   "source": [
    "\n",
    "fbi['population_sqrt'] = fbi['population'] ** .5\n",
    "fbi['population_sqrt'] = fbi['population_sqrt'].astype(int)\n",
    "fbi['population_sqrt'].head(100)"
   ]
  },
  {
   "cell_type": "code",
   "execution_count": 46,
   "metadata": {},
   "outputs": [
    {
     "data": {
      "text/plain": [
       "1     0\n",
       "2     0\n",
       "6     0\n",
       "7     1\n",
       "8     0\n",
       "9     0\n",
       "10    0\n",
       "11    0\n",
       "12    0\n",
       "13    0\n",
       "Name: has_murder, dtype: int64"
      ]
     },
     "execution_count": 46,
     "metadata": {},
     "output_type": "execute_result"
    }
   ],
   "source": [
    "fbi['murder'] = fbi['murder'].astype(int)\n",
    "fbi['has_murder'] = np.where(fbi['murder']>=1, 1, 0)\n",
    "fbi['has_murder'].head(10)"
   ]
  },
  {
   "cell_type": "code",
   "execution_count": 47,
   "metadata": {},
   "outputs": [
    {
     "data": {
      "text/plain": [
       "1     0\n",
       "2     0\n",
       "6     0\n",
       "7     1\n",
       "8     1\n",
       "9     1\n",
       "10    0\n",
       "11    1\n",
       "12    0\n",
       "13    0\n",
       "Name: has_robbery, dtype: int64"
      ]
     },
     "execution_count": 47,
     "metadata": {},
     "output_type": "execute_result"
    }
   ],
   "source": [
    "fbi['robbery'] = fbi['robbery'].astype(int)\n",
    "fbi['has_robbery'] = np.where(fbi['robbery']>=1, 1, 0)\n",
    "fbi['arsen'] = fbi['arsen'].astype(int)\n",
    "fbi['has_robbery'].head(10)"
   ]
  },
  {
   "cell_type": "code",
   "execution_count": 48,
   "metadata": {},
   "outputs": [
    {
     "name": "stdout",
     "output_type": "stream",
     "text": [
      "<class 'pandas.core.frame.DataFrame'>\n",
      "Int64Index: 186 entries, 1 to 346\n",
      "Data columns (total 11 columns):\n",
      "population            186 non-null int64\n",
      "violent_crime         186 non-null int64\n",
      "murder                186 non-null int64\n",
      "robbery               186 non-null int64\n",
      "prop_crime            186 non-null int64\n",
      "gta                   186 non-null int64\n",
      "arsen                 186 non-null int64\n",
      "population_squared    186 non-null int64\n",
      "population_sqrt       186 non-null int64\n",
      "has_murder            186 non-null int64\n",
      "has_robbery           186 non-null int64\n",
      "dtypes: int64(11)\n",
      "memory usage: 17.4 KB\n"
     ]
    }
   ],
   "source": [
    "# Why is my analysis still being blocked by the integer error\n",
    "regr = linear_model.LinearRegression()\n",
    "fbi['prop_crime'].astype(int)\n",
    "fbi['population_sqrt'].astype(int)\n",
    "fbi['violent_crime'].astype(int)\n",
    "fbi['arsen'].astype(int)\n",
    "fbi['gta'].astype(int)\n",
    "\n",
    "#fbi['prop_crime'] = pd.to_numeric(fbi['prop_crime'], errors='coerce')\n",
    "#fbi['gta'] = pd.to_numeric(fbi['gta'], errors='coerce')\n",
    "#fbi['violent_crime'] = pd.to_numeric(fbi['violent_crime'], errors='coerce')\n",
    "#fbi['arsen'] = pd.to_numeric(fbi['arsen'], errors='coerce')\n",
    "Y = fbi['prop_crime'].values.reshape(-1, 1)\n",
    "X = fbi[['gta', 'population_sqrt', 'violent_crime', 'arsen']]\n",
    "X_training = X[:100]\n",
    "Y_training = Y[:100]\n",
    "X_test = X[100:]\n",
    "Y_test = Y[100:]\n",
    "regr.fit(X_training, Y_training)\n",
    "y_pred_test = regr.predict(X_test)\n",
    "fbi.info()\n"
   ]
  },
  {
   "cell_type": "code",
   "execution_count": null,
   "metadata": {
    "collapsed": true
   },
   "outputs": [],
   "source": []
  },
  {
   "cell_type": "code",
   "execution_count": 49,
   "metadata": {},
   "outputs": [
    {
     "name": "stdout",
     "output_type": "stream",
     "text": [
      "\n",
      "Coefficients: \n",
      " [[ 17.30987145   4.02844667  -3.45162097  21.30677974]]\n",
      "\n",
      "Intercept: \n",
      " [-208.19966493]\n",
      "\n",
      "R-squared:\n",
      "0.781025167054\n"
     ]
    }
   ],
   "source": [
    "print('\\nCoefficients: \\n', regr.coef_)\n",
    "print('\\nIntercept: \\n', regr.intercept_)\n",
    "print('\\nR-squared:')\n",
    "print(regr.score(X_training, Y_training))"
   ]
  },
  {
   "cell_type": "code",
   "execution_count": 50,
   "metadata": {},
   "outputs": [
    {
     "name": "stdout",
     "output_type": "stream",
     "text": [
      "\n",
      "Coefficients: \n",
      " [[ 17.30987145   4.02844667  -3.45162097  21.30677974]]\n",
      "\n",
      "Intercept: \n",
      " [-208.19966493]\n",
      "\n",
      "R-squared:\n",
      "0.916290908524\n"
     ]
    }
   ],
   "source": [
    "print('\\nCoefficients: \\n', regr.coef_)\n",
    "print('\\nIntercept: \\n', regr.intercept_)\n",
    "print('\\nR-squared:')\n",
    "print(regr.score(X_test, Y_test))"
   ]
  },
  {
   "cell_type": "code",
   "execution_count": 51,
   "metadata": {},
   "outputs": [
    {
     "name": "stdout",
     "output_type": "stream",
     "text": [
      "Coefficients: \n",
      " [[ 17.30987145   4.02844667  -3.45162097  21.30677974]]\n",
      "148324.714285\n",
      "0.916290908524\n"
     ]
    }
   ],
   "source": [
    "print('Coefficients: \\n', regr.coef_)\n",
    "print(sklearn.metrics.mean_squared_error(Y_test, y_pred_test))\n",
    "print(sklearn.metrics.r2_score(Y_test, y_pred_test))"
   ]
  },
  {
   "cell_type": "code",
   "execution_count": 52,
   "metadata": {},
   "outputs": [
    {
     "name": "stdout",
     "output_type": "stream",
     "text": [
      "1         3\n",
      "2         3\n",
      "6         3\n",
      "7       107\n",
      "8         9\n",
      "9        30\n",
      "10        0\n",
      "11        5\n",
      "12        0\n",
      "13        2\n",
      "16        5\n",
      "17        8\n",
      "19       15\n",
      "23        0\n",
      "25        1\n",
      "26        2\n",
      "27        1\n",
      "28        4\n",
      "29        0\n",
      "30        1\n",
      "33        0\n",
      "34        0\n",
      "38        5\n",
      "39       14\n",
      "42        3\n",
      "44        0\n",
      "45       10\n",
      "46        0\n",
      "48        0\n",
      "51        3\n",
      "       ... \n",
      "283      15\n",
      "287       0\n",
      "292       3\n",
      "293       1\n",
      "295       0\n",
      "297       0\n",
      "298       8\n",
      "300      19\n",
      "301      44\n",
      "306       1\n",
      "309       9\n",
      "310    1192\n",
      "311       6\n",
      "313      34\n",
      "314     118\n",
      "315     371\n",
      "317       0\n",
      "319       0\n",
      "324      40\n",
      "326       6\n",
      "327       2\n",
      "328       4\n",
      "335       0\n",
      "336      11\n",
      "337       2\n",
      "338      35\n",
      "341       4\n",
      "342       0\n",
      "344       7\n",
      "346    1036\n",
      "Name: violent_crime, Length: 186, dtype: int64\n"
     ]
    }
   ],
   "source": [
    "print(fbi.violent_crime)"
   ]
  },
  {
   "cell_type": "code",
   "execution_count": 79,
   "metadata": {},
   "outputs": [],
   "source": [
    "linear_formula = 'prop_crime ~ gta+population_sqrt+violent_crime+arsen'\n",
    "lm = smf.ols(formula=linear_formula, data=fbi).fit()"
   ]
  },
  {
   "cell_type": "code",
   "execution_count": 80,
   "metadata": {},
   "outputs": [
    {
     "data": {
      "text/plain": [
       "Intercept         -178.889203\n",
       "gta                 11.623850\n",
       "population_sqrt      3.652602\n",
       "violent_crime       -1.546253\n",
       "arsen               38.042049\n",
       "dtype: float64"
      ]
     },
     "execution_count": 80,
     "metadata": {},
     "output_type": "execute_result"
    }
   ],
   "source": [
    "lm.params"
   ]
  },
  {
   "cell_type": "code",
   "execution_count": 81,
   "metadata": {},
   "outputs": [
    {
     "data": {
      "text/plain": [
       "Intercept          1.137841e-08\n",
       "gta                1.108854e-10\n",
       "population_sqrt    5.795206e-24\n",
       "violent_crime      1.491665e-04\n",
       "arsen              3.553459e-16\n",
       "dtype: float64"
      ]
     },
     "execution_count": 81,
     "metadata": {},
     "output_type": "execute_result"
    }
   ],
   "source": [
    "lm.pvalues"
   ]
  },
  {
   "cell_type": "code",
   "execution_count": 82,
   "metadata": {},
   "outputs": [
    {
     "data": {
      "text/plain": [
       "0.95833936944267883"
      ]
     },
     "execution_count": 82,
     "metadata": {},
     "output_type": "execute_result"
    }
   ],
   "source": [
    "lm.rsquared"
   ]
  },
  {
   "cell_type": "code",
   "execution_count": 83,
   "metadata": {},
   "outputs": [
    {
     "data": {
      "text/html": [
       "<div>\n",
       "<style>\n",
       "    .dataframe thead tr:only-child th {\n",
       "        text-align: right;\n",
       "    }\n",
       "\n",
       "    .dataframe thead th {\n",
       "        text-align: left;\n",
       "    }\n",
       "\n",
       "    .dataframe tbody tr th {\n",
       "        vertical-align: top;\n",
       "    }\n",
       "</style>\n",
       "<table border=\"1\" class=\"dataframe\">\n",
       "  <thead>\n",
       "    <tr style=\"text-align: right;\">\n",
       "      <th></th>\n",
       "      <th>0</th>\n",
       "      <th>1</th>\n",
       "    </tr>\n",
       "  </thead>\n",
       "  <tbody>\n",
       "    <tr>\n",
       "      <th>Intercept</th>\n",
       "      <td>-237.870404</td>\n",
       "      <td>-119.908001</td>\n",
       "    </tr>\n",
       "    <tr>\n",
       "      <th>gta</th>\n",
       "      <td>8.276037</td>\n",
       "      <td>14.971663</td>\n",
       "    </tr>\n",
       "    <tr>\n",
       "      <th>population_sqrt</th>\n",
       "      <td>3.037564</td>\n",
       "      <td>4.267639</td>\n",
       "    </tr>\n",
       "    <tr>\n",
       "      <th>violent_crime</th>\n",
       "      <td>-2.333693</td>\n",
       "      <td>-0.758813</td>\n",
       "    </tr>\n",
       "    <tr>\n",
       "      <th>arsen</th>\n",
       "      <td>29.679695</td>\n",
       "      <td>46.404403</td>\n",
       "    </tr>\n",
       "  </tbody>\n",
       "</table>\n",
       "</div>"
      ],
      "text/plain": [
       "                          0           1\n",
       "Intercept       -237.870404 -119.908001\n",
       "gta                8.276037   14.971663\n",
       "population_sqrt    3.037564    4.267639\n",
       "violent_crime     -2.333693   -0.758813\n",
       "arsen             29.679695   46.404403"
      ]
     },
     "execution_count": 83,
     "metadata": {},
     "output_type": "execute_result"
    }
   ],
   "source": [
    "lm.conf_int()"
   ]
  },
  {
   "cell_type": "code",
   "execution_count": null,
   "metadata": {
    "collapsed": true
   },
   "outputs": [],
   "source": []
  }
 ],
 "metadata": {
  "kernelspec": {
   "display_name": "Python 3",
   "language": "python",
   "name": "python3"
  },
  "language_info": {
   "codemirror_mode": {
    "name": "ipython",
    "version": 3
   },
   "file_extension": ".py",
   "mimetype": "text/x-python",
   "name": "python",
   "nbconvert_exporter": "python",
   "pygments_lexer": "ipython3",
   "version": "3.6.1"
  }
 },
 "nbformat": 4,
 "nbformat_minor": 2
}
