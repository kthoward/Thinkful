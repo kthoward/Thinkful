{
 "cells": [
  {
   "cell_type": "code",
   "execution_count": 1,
   "metadata": {
    "collapsed": true
   },
   "outputs": [],
   "source": [
    "# Question 1\n",
    "# I assume that 10.44% of people will be diagnosed positive since 5 people in a thousand have the disease and 98% \n",
    "# of them will be diagnosed so 4.9 people will be properly diagnosed in 1,000. and 995 people will not have it but \n",
    "# 99.5 will be diagnosed with a false positive. Then divide 104.4 by 1,000 to get 10.44%"
   ]
  },
  {
   "cell_type": "code",
   "execution_count": 2,
   "metadata": {
    "collapsed": true
   },
   "outputs": [],
   "source": [
    "# Question 2\n",
    "# .49 percent of the population will be correctly diagnosed of the disease based on the math in #1"
   ]
  },
  {
   "cell_type": "code",
   "execution_count": 3,
   "metadata": {
    "collapsed": true
   },
   "outputs": [],
   "source": [
    "# Question 3 \n",
    "# 89.55% of people will be diagnosed accurately as negative since 90% of 995 people will be diagnosed accurately"
   ]
  },
  {
   "cell_type": "code",
   "execution_count": 4,
   "metadata": {
    "collapsed": true
   },
   "outputs": [],
   "source": [
    "# Question 4\n",
    "# 9.96% will be misclassified since 1 in 10,000 will be misclassified negative and 995 in 10,000 will be misclassified \n",
    "# positive"
   ]
  },
  {
   "cell_type": "code",
   "execution_count": 5,
   "metadata": {
    "collapsed": true
   },
   "outputs": [],
   "source": [
    "# Question 1 Bayes\n",
    "# P(Positive test | In population) = P(In population | Positive test) * P(Positive test) / P(In population)\n",
    "# 1 * .10425 / 1 = .10425"
   ]
  },
  {
   "cell_type": "code",
   "execution_count": 7,
   "metadata": {
    "collapsed": false
   },
   "outputs": [],
   "source": [
    "# Question 2 Bayes\n",
    "# P(Diagnosed | Have disease) = P(Have disease | Diagnosed) * Diagnosed / Have disease\n",
    "# .0004975 * .0995 / .005 = .00990025"
   ]
  },
  {
   "cell_type": "code",
   "execution_count": 8,
   "metadata": {
    "collapsed": true
   },
   "outputs": [],
   "source": [
    "# Question 3 Bayes\n",
    "# P(Diagnosed negative | Not have) = P(Not have | Diagnosed negative) * Diagnosed negative / Not have\n",
    "# .89112 * .883 / .995 = .7908148"
   ]
  },
  {
   "cell_type": "code",
   "execution_count": null,
   "metadata": {
    "collapsed": true
   },
   "outputs": [],
   "source": [
    "# Question 4 Bayes \n",
    "# P(Wrong dignosis | Result) = P(Result | Wrong diagnosis) * P(Wrong diagnosis) / P(Result)\n",
    "# 1 * .0996 / 1 = .0996"
   ]
  }
 ],
 "metadata": {
  "kernelspec": {
   "display_name": "Python 2",
   "language": "python",
   "name": "python2"
  },
  "language_info": {
   "codemirror_mode": {
    "name": "ipython",
    "version": 2
   },
   "file_extension": ".py",
   "mimetype": "text/x-python",
   "name": "python",
   "nbconvert_exporter": "python",
   "pygments_lexer": "ipython2",
   "version": "2.7.13"
  }
 },
 "nbformat": 4,
 "nbformat_minor": 2
}
