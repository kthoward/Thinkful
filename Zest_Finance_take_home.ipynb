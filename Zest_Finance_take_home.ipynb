{
 "cells": [
  {
   "cell_type": "code",
   "execution_count": 37,
   "metadata": {},
   "outputs": [
    {
     "data": {
      "text/plain": [
       "'/Users/kylehoward/Desktop'"
      ]
     },
     "execution_count": 37,
     "metadata": {},
     "output_type": "execute_result"
    }
   ],
   "source": [
    "from sklearn.model_selection import cross_val_score\n",
    "from sklearn.ensemble import RandomForestRegressor\n",
    "from sklearn import neighbors\n",
    "from sklearn.model_selection import train_test_split\n",
    "from sklearn.svm import SVC\n",
    "import pandas as pd\n",
    "import numpy as np\n",
    "import scipy\n",
    "import matplotlib.pyplot as plt\n",
    "%matplotlib inline\n",
    "from scipy import stats\n",
    "import os\n",
    "from sklearn.metrics import confusion_matrix\n",
    "from sklearn.model_selection import StratifiedKFold\n",
    "from sklearn.metrics import roc_curve, auc\n",
    "from sklearn.metrics import roc_auc_score\n",
    "from statsmodels.sandbox.regression.predstd import wls_prediction_std\n",
    "from sklearn import linear_model\n",
    "import seaborn as sns\n",
    "import statsmodels.formula.api as smf\n",
    "from IPython.display import display\n",
    "import sklearn\n",
    "import re\n",
    "from sklearn.preprocessing import normalize\n",
    "import math\n",
    "import statsmodels.api as sm\n",
    "from sklearn import ensemble\n",
    "from sklearn.linear_model import LogisticRegression\n",
    "from sklearn import preprocessing\n",
    "from sklearn import tree\n",
    "from IPython.display import Image\n",
    "import pydotplus\n",
    "import graphviz\n",
    "os.getcwd()\n",
    "os.chdir('/Users/kylehoward/desktop') \n",
    "os.getcwd()"
   ]
  },
  {
   "cell_type": "markdown",
   "metadata": {},
   "source": [
    "# Question 1\n",
    "\n",
    "## (a)\n",
    "\n",
    "The profits for each year should be as follows \n",
    "- 2010: 2,597,000\n",
    "- 2011: 2,857,700 \n",
    "- 2012: 3,144,470\n",
    "- 2013: 3,459,917\n",
    "- 2014: 3,806,908.7\n",
    "with a 1,209,908.7 growth from 2010-2014.\n",
    "Since the return far exceedes the 170,731.78 ROI necessary for a sound investment the investment is worthwhile.\n",
    "\n",
    "\n",
    "## (b)\n",
    "\n",
    "In order to make up the difference in revenue we would need to increase conversion by .0118\n",
    "\n",
    "## (c)\n",
    "\n",
    "Since the charge per card is .26 (assuming that each purchase is a singular card) and we can assume that this promotion is inherently to gain visibility and hopefully gain repeat consumers I would suggest 2.37 if the goal is to break even.\n"
   ]
  },
  {
   "cell_type": "markdown",
   "metadata": {},
   "source": [
    "# Question 2\n",
    "\n",
    "The sales for Sunday, November 1, 2009 should be 42,122.40 based on a random forrest regressor that took into account whether it was the weekend, what the temperature was, whether it was 'warm' (above 60 degrees), and which day of the week it was. This model has an R^2 score of .49 which changed drastically from using only temperature and day as parameters. The original model had a score of .03\n"
   ]
  },
  {
   "cell_type": "code",
   "execution_count": 123,
   "metadata": {},
   "outputs": [
    {
     "name": "stdout",
     "output_type": "stream",
     "text": [
      "[11000000.0, 12100000.0, 13310000.0, 14641000.0, 16105100.0]\n"
     ]
    }
   ],
   "source": [
    "def project_users(users):\n",
    "    start = users\n",
    "    years = []\n",
    "    for e in range(5):\n",
    "        gains = start * .1\n",
    "        total = start + gains\n",
    "        years.append(total)\n",
    "        start = total\n",
    "    return years\n",
    "users = 10000000\n",
    "user_list = project_EOY(EOY)\n",
    "print(user_list)"
   ]
  },
  {
   "cell_type": "code",
   "execution_count": 143,
   "metadata": {},
   "outputs": [
    {
     "name": "stdout",
     "output_type": "stream",
     "text": [
      "[2597000.0, 2857700.0, 3144470.0, 3459917.0, 3806908.7]\n"
     ]
    }
   ],
   "source": [
    "def calc(user_list):\n",
    "    profits = []\n",
    "    for yr in user_list:\n",
    "        orders = yr * .05\n",
    "        total = orders * 4.74\n",
    "        final_tot = total - 10000\n",
    "        profits.append(final_tot)\n",
    "    return profits\n",
    "profit = calc(user_list)\n",
    "print(profit)"
   ]
  },
  {
   "cell_type": "code",
   "execution_count": 131,
   "metadata": {},
   "outputs": [
    {
     "name": "stdout",
     "output_type": "stream",
     "text": [
      "1209908.7000000002\n"
     ]
    }
   ],
   "source": [
    "five_year = x[4] - x[0]\n",
    "print(five_year)"
   ]
  },
  {
   "cell_type": "code",
   "execution_count": 144,
   "metadata": {},
   "outputs": [
    {
     "data": {
      "text/plain": [
       "2.37"
      ]
     },
     "execution_count": 144,
     "metadata": {},
     "output_type": "execute_result"
    }
   ],
   "source": [
    "def calc_ad_buy():\n",
    "    card = 4.74\n",
    "    purchase = .5\n",
    "    total = card * purchase\n",
    "    return total\n",
    "calc_ad_buy()"
   ]
  },
  {
   "cell_type": "code",
   "execution_count": 110,
   "metadata": {},
   "outputs": [
    {
     "name": "stdout",
     "output_type": "stream",
     "text": [
      "[71300.0, 81995.0, 94294.25, 108438.3875, 124704.14562499999]\n"
     ]
    }
   ],
   "source": [
    "def project_ROI(base):\n",
    "    start = base\n",
    "    years = []\n",
    "    for e in range(5):\n",
    "        gains = start * .15\n",
    "        total = start + gains\n",
    "        years.append(total)\n",
    "        start = total\n",
    "    return years\n",
    "roi_list = project_ROI(62000)\n",
    "print(roi_list)"
   ]
  },
  {
   "cell_type": "code",
   "execution_count": 133,
   "metadata": {},
   "outputs": [
    {
     "data": {
      "text/plain": [
       "170731.783125"
      ]
     },
     "execution_count": 133,
     "metadata": {},
     "output_type": "execute_result"
    }
   ],
   "source": [
    "def roi_tot(roi_list):\n",
    "    roi_list_2 = []\n",
    "    total = 0\n",
    "    for roi in roi_list:\n",
    "        needed = roi - 62000\n",
    "        roi_list_2.append(needed)\n",
    "    for r in roi_list_2:\n",
    "        total += r\n",
    "    return total\n",
    "roi_tot(roi_list)\n",
    "        \n",
    "        \n",
    "    "
   ]
  },
  {
   "cell_type": "code",
   "execution_count": 136,
   "metadata": {},
   "outputs": [
    {
     "name": "stdout",
     "output_type": "stream",
     "text": [
      "[2459500.0, 2706450.0, 2978095.0, 3276904.5, 3605594.95]\n"
     ]
    }
   ],
   "source": [
    "def calcfb(user_list):\n",
    "    profits = []\n",
    "    for yr in user_list:\n",
    "        orders = yr * .05\n",
    "        total = orders * 4.49\n",
    "        final_tot = total - 10000\n",
    "        profits.append(final_tot)\n",
    "    return profits\n",
    "fb = calcfb(user_list)\n",
    "print(fb)"
   ]
  },
  {
   "cell_type": "code",
   "execution_count": 137,
   "metadata": {},
   "outputs": [
    {
     "name": "stdout",
     "output_type": "stream",
     "text": [
      "137500.0\n"
     ]
    }
   ],
   "source": [
    "fb_1 = fb[0]\n",
    "norm_1 = profit[0]\n",
    "diff = norm_1 - fb_1\n",
    "print(diff)\n",
    "        "
   ]
  },
  {
   "cell_type": "code",
   "execution_count": 146,
   "metadata": {},
   "outputs": [
    {
     "data": {
      "text/plain": [
       "0.011791913746630727"
      ]
     },
     "execution_count": 146,
     "metadata": {},
     "output_type": "execute_result"
    }
   ],
   "source": [
    "# Figuring out growth need\n",
    "137500 / 4.49\n",
    "30623.60 / 2597000.0"
   ]
  },
  {
   "cell_type": "code",
   "execution_count": 142,
   "metadata": {},
   "outputs": [
    {
     "name": "stdout",
     "output_type": "stream",
     "text": [
      "[4929000.0, 5422900.0, 5966190.0, 6563809.0, 7221189.9]\n"
     ]
    }
   ],
   "source": [
    "def calcfb_2(user_list):\n",
    "    profits = []\n",
    "    for yr in user_list:\n",
    "        orders = yr * .1\n",
    "        total = orders * 4.49\n",
    "        final_tot = total - 10000\n",
    "        profits.append(final_tot)\n",
    "    return profits\n",
    "fb2 = calcfb_2(user_list)\n",
    "print(fb2)"
   ]
  },
  {
   "cell_type": "code",
   "execution_count": null,
   "metadata": {
    "collapsed": true
   },
   "outputs": [],
   "source": [
    "def calc_gap(gap, yr):\n",
    "    orders_needed = gap / 4.49\n",
    "    rate_needed = \n",
    "    return profits\n",
    "fb2 = calcfb_2(user_list)\n",
    "print(fb2)"
   ]
  },
  {
   "cell_type": "markdown",
   "metadata": {},
   "source": [
    "# Question 2"
   ]
  },
  {
   "cell_type": "code",
   "execution_count": 151,
   "metadata": {},
   "outputs": [],
   "source": [
    "data = ('BA_SAC_Data.csv')\n",
    "df = pd.read_csv(data)"
   ]
  },
  {
   "cell_type": "code",
   "execution_count": 152,
   "metadata": {},
   "outputs": [
    {
     "data": {
      "text/html": [
       "<div>\n",
       "<style>\n",
       "    .dataframe thead tr:only-child th {\n",
       "        text-align: right;\n",
       "    }\n",
       "\n",
       "    .dataframe thead th {\n",
       "        text-align: left;\n",
       "    }\n",
       "\n",
       "    .dataframe tbody tr th {\n",
       "        vertical-align: top;\n",
       "    }\n",
       "</style>\n",
       "<table border=\"1\" class=\"dataframe\">\n",
       "  <thead>\n",
       "    <tr style=\"text-align: right;\">\n",
       "      <th></th>\n",
       "      <th>Date</th>\n",
       "      <th>Temperature</th>\n",
       "      <th>Ice Cream Sales</th>\n",
       "    </tr>\n",
       "  </thead>\n",
       "  <tbody>\n",
       "    <tr>\n",
       "      <th>0</th>\n",
       "      <td>Thursday, October 01, 2009</td>\n",
       "      <td>67F</td>\n",
       "      <td>$33,532</td>\n",
       "    </tr>\n",
       "    <tr>\n",
       "      <th>1</th>\n",
       "      <td>Friday, October 02, 2009</td>\n",
       "      <td>57F</td>\n",
       "      <td>$28,514</td>\n",
       "    </tr>\n",
       "    <tr>\n",
       "      <th>2</th>\n",
       "      <td>Saturday, October 03, 2009</td>\n",
       "      <td>82F</td>\n",
       "      <td>$49,267</td>\n",
       "    </tr>\n",
       "    <tr>\n",
       "      <th>3</th>\n",
       "      <td>Sunday, October 04, 2009</td>\n",
       "      <td>63F</td>\n",
       "      <td>$47,335</td>\n",
       "    </tr>\n",
       "    <tr>\n",
       "      <th>4</th>\n",
       "      <td>Monday, October 05, 2009</td>\n",
       "      <td>75F</td>\n",
       "      <td>$37,508</td>\n",
       "    </tr>\n",
       "    <tr>\n",
       "      <th>5</th>\n",
       "      <td>Tuesday, October 06, 2009</td>\n",
       "      <td>88F</td>\n",
       "      <td>$44,066</td>\n",
       "    </tr>\n",
       "    <tr>\n",
       "      <th>6</th>\n",
       "      <td>Wednesday, October 07, 2009</td>\n",
       "      <td>70F</td>\n",
       "      <td>$35,001</td>\n",
       "    </tr>\n",
       "    <tr>\n",
       "      <th>7</th>\n",
       "      <td>Thursday, October 08, 2009</td>\n",
       "      <td>74F</td>\n",
       "      <td>$37,029</td>\n",
       "    </tr>\n",
       "    <tr>\n",
       "      <th>8</th>\n",
       "      <td>Friday, October 09, 2009</td>\n",
       "      <td>86F</td>\n",
       "      <td>$43,036</td>\n",
       "    </tr>\n",
       "    <tr>\n",
       "      <th>9</th>\n",
       "      <td>Saturday, October 10, 2009</td>\n",
       "      <td>50F</td>\n",
       "      <td>$30,071</td>\n",
       "    </tr>\n",
       "    <tr>\n",
       "      <th>10</th>\n",
       "      <td>Sunday, October 11, 2009</td>\n",
       "      <td>57F</td>\n",
       "      <td>$42,760</td>\n",
       "    </tr>\n",
       "    <tr>\n",
       "      <th>11</th>\n",
       "      <td>Monday, October 12, 2009</td>\n",
       "      <td>96F</td>\n",
       "      <td>$48,086</td>\n",
       "    </tr>\n",
       "    <tr>\n",
       "      <th>12</th>\n",
       "      <td>Tuesday, October 13, 2009</td>\n",
       "      <td>63F</td>\n",
       "      <td>$31,578</td>\n",
       "    </tr>\n",
       "    <tr>\n",
       "      <th>13</th>\n",
       "      <td>Wednesday, October 14, 2009</td>\n",
       "      <td>80F</td>\n",
       "      <td>$40,005</td>\n",
       "    </tr>\n",
       "    <tr>\n",
       "      <th>14</th>\n",
       "      <td>Thursday, October 15, 2009</td>\n",
       "      <td>74F</td>\n",
       "      <td>$37,034</td>\n",
       "    </tr>\n",
       "    <tr>\n",
       "      <th>15</th>\n",
       "      <td>Friday, October 16, 2009</td>\n",
       "      <td>94F</td>\n",
       "      <td>$47,036</td>\n",
       "    </tr>\n",
       "    <tr>\n",
       "      <th>16</th>\n",
       "      <td>Saturday, October 17, 2009</td>\n",
       "      <td>73F</td>\n",
       "      <td>$43,861</td>\n",
       "    </tr>\n",
       "    <tr>\n",
       "      <th>17</th>\n",
       "      <td>Sunday, October 18, 2009</td>\n",
       "      <td>89F</td>\n",
       "      <td>$66,768</td>\n",
       "    </tr>\n",
       "    <tr>\n",
       "      <th>18</th>\n",
       "      <td>Monday, October 19, 2009</td>\n",
       "      <td>62F</td>\n",
       "      <td>$31,090</td>\n",
       "    </tr>\n",
       "    <tr>\n",
       "      <th>19</th>\n",
       "      <td>Tuesday, October 20, 2009</td>\n",
       "      <td>93F</td>\n",
       "      <td>$46,559</td>\n",
       "    </tr>\n",
       "    <tr>\n",
       "      <th>20</th>\n",
       "      <td>Wednesday, October 21, 2009</td>\n",
       "      <td>92F</td>\n",
       "      <td>$46,079</td>\n",
       "    </tr>\n",
       "    <tr>\n",
       "      <th>21</th>\n",
       "      <td>Thursday, October 22, 2009</td>\n",
       "      <td>77F</td>\n",
       "      <td>$38,533</td>\n",
       "    </tr>\n",
       "    <tr>\n",
       "      <th>22</th>\n",
       "      <td>Friday, October 23, 2009</td>\n",
       "      <td>52F</td>\n",
       "      <td>$26,075</td>\n",
       "    </tr>\n",
       "    <tr>\n",
       "      <th>23</th>\n",
       "      <td>Saturday, October 24, 2009</td>\n",
       "      <td>66F</td>\n",
       "      <td>$39,691</td>\n",
       "    </tr>\n",
       "    <tr>\n",
       "      <th>24</th>\n",
       "      <td>Sunday, October 25, 2009</td>\n",
       "      <td>57F</td>\n",
       "      <td>$42,784</td>\n",
       "    </tr>\n",
       "    <tr>\n",
       "      <th>25</th>\n",
       "      <td>Monday, October 26, 2009</td>\n",
       "      <td>96F</td>\n",
       "      <td>$48,059</td>\n",
       "    </tr>\n",
       "    <tr>\n",
       "      <th>26</th>\n",
       "      <td>Tuesday, October 27, 2009</td>\n",
       "      <td>59F</td>\n",
       "      <td>$29,542</td>\n",
       "    </tr>\n",
       "    <tr>\n",
       "      <th>27</th>\n",
       "      <td>Wednesday, October 28, 2009</td>\n",
       "      <td>85F</td>\n",
       "      <td>$42,554</td>\n",
       "    </tr>\n",
       "  </tbody>\n",
       "</table>\n",
       "</div>"
      ],
      "text/plain": [
       "                           Date Temperature  Ice Cream Sales\n",
       "0    Thursday, October 01, 2009         67F         $33,532 \n",
       "1      Friday, October 02, 2009         57F         $28,514 \n",
       "2    Saturday, October 03, 2009         82F         $49,267 \n",
       "3      Sunday, October 04, 2009         63F         $47,335 \n",
       "4      Monday, October 05, 2009         75F         $37,508 \n",
       "5     Tuesday, October 06, 2009         88F         $44,066 \n",
       "6   Wednesday, October 07, 2009         70F         $35,001 \n",
       "7    Thursday, October 08, 2009         74F         $37,029 \n",
       "8      Friday, October 09, 2009         86F         $43,036 \n",
       "9    Saturday, October 10, 2009         50F         $30,071 \n",
       "10     Sunday, October 11, 2009         57F         $42,760 \n",
       "11     Monday, October 12, 2009         96F         $48,086 \n",
       "12    Tuesday, October 13, 2009         63F         $31,578 \n",
       "13  Wednesday, October 14, 2009         80F         $40,005 \n",
       "14   Thursday, October 15, 2009         74F         $37,034 \n",
       "15     Friday, October 16, 2009         94F         $47,036 \n",
       "16   Saturday, October 17, 2009         73F         $43,861 \n",
       "17     Sunday, October 18, 2009         89F         $66,768 \n",
       "18     Monday, October 19, 2009         62F         $31,090 \n",
       "19    Tuesday, October 20, 2009         93F         $46,559 \n",
       "20  Wednesday, October 21, 2009         92F         $46,079 \n",
       "21   Thursday, October 22, 2009         77F         $38,533 \n",
       "22     Friday, October 23, 2009         52F         $26,075 \n",
       "23   Saturday, October 24, 2009         66F         $39,691 \n",
       "24     Sunday, October 25, 2009         57F         $42,784 \n",
       "25     Monday, October 26, 2009         96F         $48,059 \n",
       "26    Tuesday, October 27, 2009         59F         $29,542 \n",
       "27  Wednesday, October 28, 2009         85F         $42,554 "
      ]
     },
     "execution_count": 152,
     "metadata": {},
     "output_type": "execute_result"
    }
   ],
   "source": [
    "df.head(50)"
   ]
  },
  {
   "cell_type": "code",
   "execution_count": 153,
   "metadata": {},
   "outputs": [
    {
     "name": "stdout",
     "output_type": "stream",
     "text": [
      "<class 'pandas.core.frame.DataFrame'>\n",
      "RangeIndex: 28 entries, 0 to 27\n",
      "Data columns (total 3 columns):\n",
      "Date                28 non-null object\n",
      "Temperature         28 non-null object\n",
      " Ice Cream Sales    28 non-null object\n",
      "dtypes: object(3)\n",
      "memory usage: 752.0+ bytes\n"
     ]
    }
   ],
   "source": [
    "df.info()"
   ]
  },
  {
   "cell_type": "code",
   "execution_count": 154,
   "metadata": {},
   "outputs": [],
   "source": [
    "df['Temperature'] = df['Temperature'].map(lambda x: x[:2]) "
   ]
  },
  {
   "cell_type": "code",
   "execution_count": 155,
   "metadata": {},
   "outputs": [],
   "source": [
    "df[df.columns[2]]= df[df.columns[2]].map(lambda x: x.replace('$',''))"
   ]
  },
  {
   "cell_type": "code",
   "execution_count": 156,
   "metadata": {
    "collapsed": true
   },
   "outputs": [],
   "source": [
    "df[df.columns[2]]= df[df.columns[2]].map(lambda x: x.replace(',',''))"
   ]
  },
  {
   "cell_type": "code",
   "execution_count": 201,
   "metadata": {},
   "outputs": [],
   "source": [
    "df[df.columns[2]] = df[df.columns[2]].astype(int)"
   ]
  },
  {
   "cell_type": "code",
   "execution_count": 158,
   "metadata": {},
   "outputs": [
    {
     "data": {
      "text/plain": [
       "0      Thursday, October 01, 2009\n",
       "1        Friday, October 02, 2009\n",
       "2      Saturday, October 03, 2009\n",
       "3        Sunday, October 04, 2009\n",
       "4        Monday, October 05, 2009\n",
       "5       Tuesday, October 06, 2009\n",
       "6     Wednesday, October 07, 2009\n",
       "7      Thursday, October 08, 2009\n",
       "8        Friday, October 09, 2009\n",
       "9      Saturday, October 10, 2009\n",
       "10       Sunday, October 11, 2009\n",
       "11       Monday, October 12, 2009\n",
       "12      Tuesday, October 13, 2009\n",
       "13    Wednesday, October 14, 2009\n",
       "14     Thursday, October 15, 2009\n",
       "15       Friday, October 16, 2009\n",
       "16     Saturday, October 17, 2009\n",
       "17       Sunday, October 18, 2009\n",
       "18       Monday, October 19, 2009\n",
       "19      Tuesday, October 20, 2009\n",
       "20    Wednesday, October 21, 2009\n",
       "21     Thursday, October 22, 2009\n",
       "22       Friday, October 23, 2009\n",
       "23     Saturday, October 24, 2009\n",
       "24       Sunday, October 25, 2009\n",
       "25       Monday, October 26, 2009\n",
       "26      Tuesday, October 27, 2009\n",
       "27    Wednesday, October 28, 2009\n",
       "Name: Date, dtype: object"
      ]
     },
     "execution_count": 158,
     "metadata": {},
     "output_type": "execute_result"
    }
   ],
   "source": [
    "df['Date'].astype(str)"
   ]
  },
  {
   "cell_type": "code",
   "execution_count": 202,
   "metadata": {},
   "outputs": [
    {
     "name": "stdout",
     "output_type": "stream",
     "text": [
      "<class 'pandas.core.frame.DataFrame'>\n",
      "RangeIndex: 28 entries, 0 to 27\n",
      "Data columns (total 5 columns):\n",
      "Date                28 non-null datetime64[ns]\n",
      "Temperature         28 non-null int64\n",
      " Ice Cream Sales    28 non-null int64\n",
      "day                 28 non-null int64\n",
      "day_week            28 non-null int64\n",
      "dtypes: datetime64[ns](1), int64(4)\n",
      "memory usage: 1.2 KB\n"
     ]
    }
   ],
   "source": [
    "df['Temperature'] = df['Temperature'].astype(int)\n",
    "df.info()"
   ]
  },
  {
   "cell_type": "code",
   "execution_count": 193,
   "metadata": {},
   "outputs": [
    {
     "data": {
      "text/html": [
       "<div>\n",
       "<style>\n",
       "    .dataframe thead tr:only-child th {\n",
       "        text-align: right;\n",
       "    }\n",
       "\n",
       "    .dataframe thead th {\n",
       "        text-align: left;\n",
       "    }\n",
       "\n",
       "    .dataframe tbody tr th {\n",
       "        vertical-align: top;\n",
       "    }\n",
       "</style>\n",
       "<table border=\"1\" class=\"dataframe\">\n",
       "  <thead>\n",
       "    <tr style=\"text-align: right;\">\n",
       "      <th></th>\n",
       "      <th>day</th>\n",
       "      <th>day_week</th>\n",
       "    </tr>\n",
       "  </thead>\n",
       "  <tbody>\n",
       "    <tr>\n",
       "      <th>count</th>\n",
       "      <td>28.000000</td>\n",
       "      <td>28.0000</td>\n",
       "    </tr>\n",
       "    <tr>\n",
       "      <th>mean</th>\n",
       "      <td>14.500000</td>\n",
       "      <td>4.0000</td>\n",
       "    </tr>\n",
       "    <tr>\n",
       "      <th>std</th>\n",
       "      <td>8.225975</td>\n",
       "      <td>2.0367</td>\n",
       "    </tr>\n",
       "    <tr>\n",
       "      <th>min</th>\n",
       "      <td>1.000000</td>\n",
       "      <td>1.0000</td>\n",
       "    </tr>\n",
       "    <tr>\n",
       "      <th>25%</th>\n",
       "      <td>7.750000</td>\n",
       "      <td>2.0000</td>\n",
       "    </tr>\n",
       "    <tr>\n",
       "      <th>50%</th>\n",
       "      <td>14.500000</td>\n",
       "      <td>4.0000</td>\n",
       "    </tr>\n",
       "    <tr>\n",
       "      <th>75%</th>\n",
       "      <td>21.250000</td>\n",
       "      <td>6.0000</td>\n",
       "    </tr>\n",
       "    <tr>\n",
       "      <th>max</th>\n",
       "      <td>28.000000</td>\n",
       "      <td>7.0000</td>\n",
       "    </tr>\n",
       "  </tbody>\n",
       "</table>\n",
       "</div>"
      ],
      "text/plain": [
       "             day  day_week\n",
       "count  28.000000   28.0000\n",
       "mean   14.500000    4.0000\n",
       "std     8.225975    2.0367\n",
       "min     1.000000    1.0000\n",
       "25%     7.750000    2.0000\n",
       "50%    14.500000    4.0000\n",
       "75%    21.250000    6.0000\n",
       "max    28.000000    7.0000"
      ]
     },
     "execution_count": 193,
     "metadata": {},
     "output_type": "execute_result"
    }
   ],
   "source": [
    "df['Date'] = pd.to_datetime(df['Date'])\n"
   ]
  },
  {
   "cell_type": "code",
   "execution_count": 223,
   "metadata": {
    "collapsed": true
   },
   "outputs": [],
   "source": [
    "df['day'] = df['Date'].dt.day\n",
    "df['sqrt_sales'] = df[df.columns[2]].map(lambda x: x ** .5)\n",
    "df['sqr_sales'] = df[df.columns[2]].map(lambda x: x ** 2)"
   ]
  },
  {
   "cell_type": "code",
   "execution_count": 224,
   "metadata": {},
   "outputs": [
    {
     "data": {
      "text/plain": [
       "(28, 9)"
      ]
     },
     "execution_count": 224,
     "metadata": {},
     "output_type": "execute_result"
    }
   ],
   "source": [
    "df.shape"
   ]
  },
  {
   "cell_type": "code",
   "execution_count": 225,
   "metadata": {},
   "outputs": [
    {
     "name": "stdout",
     "output_type": "stream",
     "text": [
      "[4, 5, 6, 7, 1, 2, 3, 4, 5, 6, 7, 1, 2, 3, 4, 5, 6, 7, 1, 2, 3, 4, 5, 6, 7, 1, 2, 3]\n"
     ]
    }
   ],
   "source": [
    "thursday = [1, 8, 15, 22]\n",
    "friday = [2, 9, 16, 23]\n",
    "saturday = [3, 10, 17, 24]\n",
    "sunday = [4, 11, 18, 25]\n",
    "monday = [5, 12, 19, 26]\n",
    "tuesday = [6, 13, 20, 27]\n",
    "wednesday = [7, 14, 21, 28]\n",
    "day_list = []\n",
    "#df['day_week'] = []\n",
    "for day in df['day']:\n",
    "    if day in monday:\n",
    "        day_list.append(1)\n",
    "    if day in tuesday:\n",
    "        day_list.append(2)\n",
    "    if day in wednesday:\n",
    "        day_list.append(3)\n",
    "    if day in thursday:\n",
    "        day_list.append(4)\n",
    "    if day in friday:\n",
    "        day_list.append(5)\n",
    "    if day in saturday:\n",
    "        day_list.append(6)\n",
    "    if day in sunday:\n",
    "        day_list.append(7)\n",
    "print(day_list)\n",
    "    \n",
    "    \n",
    "    \n",
    "        \n",
    "\n",
    "\n"
   ]
  },
  {
   "cell_type": "code",
   "execution_count": 233,
   "metadata": {},
   "outputs": [
    {
     "name": "stdout",
     "output_type": "stream",
     "text": [
      "<class 'pandas.core.frame.DataFrame'>\n",
      "RangeIndex: 28 entries, 0 to 27\n",
      "Data columns (total 11 columns):\n",
      "Date                28 non-null datetime64[ns]\n",
      "Temperature         28 non-null int64\n",
      " Ice Cream Sales    28 non-null int64\n",
      "day                 28 non-null int64\n",
      "day_week            28 non-null int64\n",
      "warm                28 non-null int64\n",
      "weekend             28 non-null int64\n",
      "sqrt_sales          28 non-null float64\n",
      "sqr_sales           28 non-null int64\n",
      "later_in_year       28 non-null int64\n",
      "temp_sqr            28 non-null int64\n",
      "dtypes: datetime64[ns](1), float64(1), int64(9)\n",
      "memory usage: 2.5 KB\n"
     ]
    }
   ],
   "source": [
    "df['day_week'] = day_list\n",
    "df.head()\n",
    "df['warm'] = np.where(df['Temperature'] >=60, 1, 0)\n",
    "df['weekend'] = np.where(df['Temperature'] >=6, 1, 0)\n",
    "df['later_in_year'] =np.where(df['day'] >=21, 1, 0)\n",
    "df['temp_sqr'] =df[df.columns[2]].map(lambda x: x ** 2)\n",
    "df.info()"
   ]
  },
  {
   "cell_type": "code",
   "execution_count": 232,
   "metadata": {},
   "outputs": [
    {
     "name": "stdout",
     "output_type": "stream",
     "text": [
      "Percentage accuracy\n",
      "0.0379424773623\n"
     ]
    }
   ],
   "source": [
    "rfc = RandomForestRegressor(n_estimators=100,max_depth=5)\n",
    "y = df[df.columns[2]]\n",
    "X = df[[df.columns[1], df.columns[4]]]\n",
    "X = normalize(X)\n",
    "X_train, X_test, y_train, y_test = train_test_split(X, y, test_size=0.3)\n",
    "rfc.fit(X_train, y_train)\n",
    "y_pred_rfc = rfc.predict(X_test)\n",
    "print('Percentage accuracy')\n",
    "print(rfc.score(X_test, y_test)) "
   ]
  },
  {
   "cell_type": "code",
   "execution_count": 229,
   "metadata": {},
   "outputs": [
    {
     "name": "stdout",
     "output_type": "stream",
     "text": [
      "Percentage accuracy\n",
      "0.36440247083\n"
     ]
    }
   ],
   "source": [
    "rfc = RandomForestRegressor(n_estimators=10000,max_depth=5)\n",
    "y = df[df.columns[2]]\n",
    "X = df[[df.columns[1], df.columns[4], df.columns[5], df.columns[6]]]\n",
    "X = normalize(X)\n",
    "X_train, X_test, y_train, y_test = train_test_split(X, y, test_size=0.3)\n",
    "rfc.fit(X_train, y_train)\n",
    "y_pred_rfc = rfc.predict(X_test)\n",
    "print('Percentage accuracy')\n",
    "print(rfc.score(X_test, y_test)) "
   ]
  },
  {
   "cell_type": "code",
   "execution_count": 241,
   "metadata": {},
   "outputs": [
    {
     "name": "stdout",
     "output_type": "stream",
     "text": [
      "Percentage accuracy\n",
      "0.490196313421\n"
     ]
    }
   ],
   "source": [
    "rfc = RandomForestRegressor(n_estimators=20000,max_depth=10)\n",
    "y = df[df.columns[2]]\n",
    "X = df[[df.columns[1], df.columns[4], df.columns[5], df.columns[6]]]\n",
    "X = normalize(X)\n",
    "X_train, X_test, y_train, y_test = train_test_split(X, y, test_size=0.3)\n",
    "rfc.fit(X_train, y_train)\n",
    "y_pred_rfc = rfc.predict(X_test)\n",
    "print('Percentage accuracy')\n",
    "print(rfc.score(X_test, y_test)) "
   ]
  },
  {
   "cell_type": "code",
   "execution_count": 250,
   "metadata": {},
   "outputs": [
    {
     "name": "stdout",
     "output_type": "stream",
     "text": [
      "[ 42122.40368143]\n"
     ]
    }
   ],
   "source": [
    "df_2 = pd.DataFrame()\n",
    "df_2['1'] = [65]\n",
    "df_2['2'] = [7]\n",
    "df_2['3'] = [1]\n",
    "df_2['4'] = [1]\n",
    "X = df_2\n",
    "X = normalize(X)\n",
    "y = rfc.predict(X)\n",
    "print(y)"
   ]
  }
 ],
 "metadata": {
  "kernelspec": {
   "display_name": "Python 3",
   "language": "python",
   "name": "python3"
  },
  "language_info": {
   "codemirror_mode": {
    "name": "ipython",
    "version": 3
   },
   "file_extension": ".py",
   "mimetype": "text/x-python",
   "name": "python",
   "nbconvert_exporter": "python",
   "pygments_lexer": "ipython3",
   "version": "3.6.1"
  }
 },
 "nbformat": 4,
 "nbformat_minor": 2
}
