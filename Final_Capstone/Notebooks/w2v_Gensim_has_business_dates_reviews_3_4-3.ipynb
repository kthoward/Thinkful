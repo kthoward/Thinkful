{
 "cells": [
  {
   "cell_type": "code",
   "execution_count": 1,
   "metadata": {
    "collapsed": true
   },
   "outputs": [],
   "source": [
    "import pandas as pd\n",
    "from gensim.parsing import preprocessing\n",
    "from gensim.summarization import textcleaner\n",
    "from gensim.models import word2vec\n",
    "from sklearn.preprocessing import normalize\n",
    "import numpy as np"
   ]
  },
  {
   "cell_type": "code",
   "execution_count": 2,
   "metadata": {
    "collapsed": true
   },
   "outputs": [],
   "source": [
    "yelp = pd.read_csv('yelp_reviews_business_pre_vec_3_4_2016.csv')"
   ]
  },
  {
   "cell_type": "code",
   "execution_count": 4,
   "metadata": {
    "collapsed": true
   },
   "outputs": [],
   "source": [
    "yelp = yelp.iloc[:, 1:]"
   ]
  },
  {
   "cell_type": "code",
   "execution_count": 118,
   "metadata": {
    "collapsed": true
   },
   "outputs": [],
   "source": [
    "yelp_for_business_dates = yelp_for_business_dates.iloc[:, 1:]"
   ]
  },
  {
   "cell_type": "code",
   "execution_count": 113,
   "metadata": {
    "collapsed": true
   },
   "outputs": [],
   "source": [
    "yelp_for_business_dates.to_csv('review_dates_:2017-01-31')"
   ]
  },
  {
   "cell_type": "code",
   "execution_count": 6,
   "metadata": {
    "collapsed": true
   },
   "outputs": [],
   "source": [
    "yelp_join = pd.DataFrame()"
   ]
  },
  {
   "cell_type": "code",
   "execution_count": 7,
   "metadata": {
    "collapsed": true
   },
   "outputs": [],
   "source": [
    "yelp_txt_str = []\n",
    "for text in yelp['text']:\n",
    "    text = str(text)\n",
    "    yelp_txt_str.append(text)"
   ]
  },
  {
   "cell_type": "code",
   "execution_count": 8,
   "metadata": {
    "collapsed": true
   },
   "outputs": [],
   "source": [
    "yelp_join = yelp[['business_id', 'text']]"
   ]
  },
  {
   "cell_type": "code",
   "execution_count": 10,
   "metadata": {
    "collapsed": true
   },
   "outputs": [],
   "source": [
    "yelp['text'] = yelp_txt_str"
   ]
  },
  {
   "cell_type": "code",
   "execution_count": 13,
   "metadata": {
    "collapsed": true
   },
   "outputs": [],
   "source": [
    "yelp_join = yelp_join.set_index('business_id')"
   ]
  },
  {
   "cell_type": "code",
   "execution_count": 15,
   "metadata": {
    "collapsed": true
   },
   "outputs": [],
   "source": [
    "yelp_join = yelp_join.groupby('business_id').apply(np.sum)"
   ]
  },
  {
   "cell_type": "code",
   "execution_count": 18,
   "metadata": {
    "collapsed": true
   },
   "outputs": [],
   "source": [
    "def make_reviews_list(df):\n",
    "    reviews_list = []\n",
    "    for review in df['text']:\n",
    "        reviews_list.append(review)\n",
    "    return reviews_list"
   ]
  },
  {
   "cell_type": "code",
   "execution_count": 19,
   "metadata": {
    "collapsed": true
   },
   "outputs": [],
   "source": [
    "reviews_list = make_reviews_list(yelp_join)"
   ]
  },
  {
   "cell_type": "code",
   "execution_count": 20,
   "metadata": {},
   "outputs": [
    {
     "data": {
      "text/plain": [
       "'This review is for Lauren!! Not only is she an awesome bartender at primal but we felt right at home upon meeting her! I personally think she\\'s exactly what any local brewery needs! I can\\'t fairly review the beer here as my husband is the beer drinker and my go to is wine! The wine selection is awesome for any of you who don\\'t do beer either! Ryan (my husband) doesn\\'t seem to LOVE the beers but did enjoy the centennial IPA!!also, amazing cozy atmosphere!! Perfect spot for a chill Saturday or weeknight drink!Great selection of beer and extremely friendly service!  There is ample seating and a cool selection of games.I recently made the road trip to this area to visit the breweries. I\\'ve been to D9 and Ass Clown just down the road, but never made it to Primal. Boy, that was a mistake. Primal had great beer, they had freshly popped Popcorn, and they serve wine. The inside Tap room is laid out well with plenty of seating, some open room, and several nooks for more private areas. The outside area is large, but is right next to the road, which can be a little noisy. But as usual, my brewery experience revolves around the beer. They had a wide selection with multiple IPA\\'s. I only tried 1, which was really good. Another great brewery to add to the list, and if you in this area, I would rank it first, though Ass Clown and D9 are also very good.If you\\'re a Harry Potter fan then you will enjoy their variety of butter beers. Each beer tastes like they put a significant amount of butter in their beer. Definitely not worth going.Great place to visit when North of Charlotte.  Beautiful outside seating with, of course, cornhole. Inside, decent bar seating, nooks with couches and a fire place for those cold days.  \\n\\nBrews are artfully displayed above the taps.  Jay was great and engaged all customers, young and old.  He made sure all were taken care of and answered questions about beer.  \\n\\nFor larger groups, they are allowed to serve two flights of six....see pic.  Which is epic to behold.  This way all beers can be sampled and a pint of your favorite ordered next.  None of the beers really stuck out to me or the hubby; however, they are decent beers with a large variety, which is nice.Great place to hang out and have a really good micro brew.  Nice selection of 12 beers with clear definition of flavor, aroma and purpose.  The staff is great, very friendly.  Both the indoor and outdoor areas are comfortable. Live Music on Saturdays is always good.  No TVs, so you will have to make friends with the people in the place, which is very easy to do.  I highly recommend Primal for a local micro brewery.Honestly, I don\\'t really go out to breweries that often. i\\'m not crazy into the craft beers and all the cool things the kids are into. BUT. I love Primal! We\\'ve been wanting to stop by and see what it\\'s like and I\\'m so glad we did. The inside looks so much like a home, and you just want to stay there all night and drink.\\n\\nThere\\'s cute couches inside with board games around the room. The bar area is cute but also spacious. Of course, there\\'s corn hole outside, along with plenty of picnic bench seating. It\\'s dog friendly. The beers are fantastic. The service is good. There\\'s a popcorn machine inside and they have small snacks if you get the munchies.\\n\\nThere\\'s really not too much else to say about Primal Brewery. I\\'m into it. We have a new thing going, and I like it.Great beer, great place, excellent service from the women.....but especially the bearded guy!I\\'m a tad reluctant to write a review as I run the risk of spoiling one of the things I love about the place, it has just the right amount of \\'busy\\'.  Staff are awesome, and care that you have a great experience.  Outside patio is a wonderful.  It\\'s the dogs bollocks.Beyond excellent beer. Jay,  working the bar, was one of the few bartenders (who after only serving me 1 drink)  was able to know what my next beer was (as I was already deciding mentally), before I even ordered.  I  had a sample of the exact beer I was contemplating ordering,  before I had finished my first. I\\'ve never had a more perceptive bartender. The bar was pretty packed for what I\\'d expect from a Sunday evening (only two seats empty at the bar,  and quite a few occupied tables). I plan on returning on any future trips to this area.I like the atmosphere at this brewery a lot.  The staff is always very nice and helpful with beer choices.  It is very cozy in the fall and winter, as they have a delightful fireplace and sitting area.  It\\'s always clean and tidy.  The beers on tap constantly rotate and many of them are pretty good.  In the summer, it can get really crowded and hot inside! They offer a patio in case you would like to step out for some air.  There are often a few food trucks present, which is a nice added touch.  There is also a large private parking lot which is easy to come in and out of, huge plus!On a recent tour of Lake Norman area breweries, Primal was our first (and favorite) stop along I-77. I liked the tap room -- it felt like hanging out in someone\\'s swanky mountain house living room. As for beers, I enjoyed my Lucille Red Ale and Not so Harry Porter. The names made me chuckle. They were in a line up with the likes of Devils Gas, Grim Creeper and Cravens Elixir. Someone has a sense of humor! \\n\\nWhile I really liked my beers, for the sake of full disclosure, Ted wasn\\'t crazy about the IPAs he tried. I think he\\'d probably give them 3 or 4 stars. But, since I\\'m the one assigning stars, I\\'m giving 5. ;) \\n\\nI hate we\\'re not in Cornelius more often. If Primal was a little closer to home, I think we\\'d be regulars. I\\'ll just settle for hunting them down at beer fests and stopping before/after lake days!I dropped into this cool little brewery after a late-day meeting in Huntersville, and was instantly impressed by the ambiance, the service, and the modest selection of munchies (pretzels, popcorn and OMG, COLD CUTS!). Oh, and the beer\\'s pretty good, too. At least, the Centennial IPA I tried was.\\n\\nWith ample indoor and outdoor seating, a firepit and indoor fireplace, this feels like combination Man Cave and Brewpub. A few more TVs would help, but the lack of ESPN screaming at you in the background means you can sit quietly by the fire and contemplate your beer. And when the beer\\'s this good, that\\'s a pretty smart call.Great beer!   Nice selection. Relaxing atmosphere with a fire place!  We will be coming back!Visited Primal for the first time on a rainy Saturday evening. Walking in there was a great cozy and intimate ambience. The inside area is somewhat small with 4-5 tables, bar seating and some areas with couches. This is a great brewery to settle in with an old friend and catch up over a few beers. There are no Tvs, games etc. so be prepared to entertain yourselves and your friends with good conversation. I loved the fresh popped popcorn that was available to curb my beer infused munchies. The popcorn and the soft pretzels offered are the extent of the food served here however food trucks have been known to frequent the parking lot. After sampling 2 beers ( I had 2 of the 3 IPAs served -- my fav ) we came to the conclusion the beer is pretty good ! One strange drawback I found was there is no printed menu; they have drawings of each of the beers above the bar but the lamps made it difficult to read and for those without great eyesight nearly impossible . Suggestion to primal - print a small menu with descriptions of the beers to make available to your guests, it would do wonders !!\\nI\\'ll definitely go back but just not on football Sunday :).Definitely can\\'t wait to return once the weather warms up a bit because there\\'s a great outdoor patio...Great spot off of Old Statesville. I had the pale ale which was pretty good. The inside is very clean and modern, not like some of the more rustic breweries in southend. I liked it though. Some nice sitting couches and tables, and a great bar area. We were in on a Friday night, with a pretty good crowd. There was even a food truck outside. The combo of food trucks and craft beer is such a genius one, and I respect any establishment that coordinates this!Last stop for the day. I love that you have a 4, 5 or 6 flight option here. Of course I went with the 6 flight option! This flight included: MOHK, Obsidian Lager, Grim Creeper, Lemon Haze Pale Ale, Porter and Lucille Red Ale. Boyfriend and I really enjoyed the MOHK, a hazelnut stout, and Porter. My personal favorite out of the beers that we tried was the Grim Creeper but since it was so high in alcohol I went with a pint of the runner-up Lucille Red Ale. \\n\\nThe atmosphere was inviting, people were so friendly minus one overserved gentleman who told me he needed to go wiz then laughed about it and said I did not need to know that.. why yes, you are correct. I also really liked the fireplace and outdoor seating area.The beer is horrible and dave doesn\\'t know the difference between a cat and a dog.Nice small place and the bartender was super friendly. Liked the decor as well. We had a flight and liked trying the different beer types. All in all a nice experienceI\\'ll be honest, I don\\'t get a chance to venture out to Huntersville very often. I had a baby shower up this way on Saturday, so a bunch of us decided to meet the daddy to be and some friends here post pregnancy party.\\n\\nPrimal kinds of feels like being inside a house. I think someone else nailed it by using the word ski lodge. There\\'s a little bar area, a fireplaces, couches... it\\'s pretty cozy. A nice little brewery in the \\'burbs.\\n\\nThe six of us scoped out the chalkboard menu and claimed a little high top table as our home base. I am by no means a beer expert, snob, or connoisseur. I tried a couple different beers and liked them both. One was a ginger something and the other lemon haze. While trying to look up the beer names on Facebook, I saw on their page how they just did a soup kitchen takeover and fed over 200 people in need. Very cool! \\n\\nNon-beer drinkers, they do have wine and little bottles of champagne. Check their pages for updates on live music, food trucks, and other events. If you don\\'t live up in this area, I would recommend making a day of it and hit all these breweries up here (Primal, Ass Clown, D9, Bayne). Just make sure to have safe ride!My husband and I took our friend here and we had the best time. The bartender was very friendly and knowledgeable about the beers they had on tap.\\n\\nThey offer 4,5 or 6 flights which is helpful since they have a lot of beer to try! We loved the primal fest and they also have a very good red ale\\'\\n\\nThere are plenty of seats, indoors and outside with both games for any section you sit in! Life size jenga, shut the box and corn hole.\\n\\nIt was a rainy day when we went and what I loved about this visit was that there was a local farmer that set up a stand inside to sell his produce!\\n\\nWe got a fresh eggplant and 3 tomatoes! I asked him if he is always there on Sunday\\'s ( yes primal is open on Sunday\\'s!!) and he was there that day due to the crazy rain. It was nice to see this local brewery support a local farmer!!Primal Brewery is a nice place for a group that wants to hang out.  The interior has a nice appeal, where you can just kick back and relax.  FYI - no TV\\'s for sporting events.   I have been several times when the staff have had a chili cook-off contest, which I loved!\\n\\nThe summer is pretty awesome as there is a large picnic area seating out front.  On weekends, one of Charlotte\\'s food trucks is usually stationed out  front too.\\n\\nGood times, good beer --- life is good.....Love this place.  Second time there, and loved it even more!  I always ask, \"what beers are new, and what\\'s the most popular.\" The bar tender was excited that her Primal Fest (fall seasonal) beer is back.   She even gave us a sample. Needless to say I loved it and got a glass of it. \\n\\nThe Primal Fest is so good.  Had a nice Amber color, and all the flavors were great.  The initial taste all the way to the after taste was spot on. Not one part of the tasting process did I not enjoy. I definitely want to get a growler full!\\n\\nThe decor of the place is so chill, they have a bar, high top chairs and tables, and leather lounge chairs for a more relaxing setting. \\n\\nAlso I love it when breweries have \"activities\". They have corn hole, life size Jenga, and shut the box!  Which is very addicting and your friends will love it! \\nWe never heard of it before, but heard it\\'s a popular southern game. I see why! Something small like having games or activities will help keep people engaged, and that means more beer sales since they are staying at the brewery.\\n\\nWe spent about 30 minutes at Crafty Beer Guys, had one beer and then went to Primal. Where we spent nearly 2 hours because we played games, which kept us buying more beer. Also unlike Crafty Beer Guys (2 miles up the road), Primal sells flights, which is a great start to try new beers before you pick a random one. \\n\\nI also love when breweries have stickers.  Something small, but the extra added touch is great. And it\\'s great marketing for them.  Especially for us since we put the stickers on our cooler that we take to tailgate. \\n\\nIn conclusion, I will TOTALLY be back.  Love this place. A good tip is to try the Harry Porter beer. A nice spin on Harry Potter, but it tastes good! Can\\'t wait to go back!This is an awesome brewery. The inside is very nicely done and is a great place to relax, and the beer has been fantastic. I highly recommend to anyone.Great neighborhood brewery! Hubby and I had a Cravens IPA and their Imperial IPA ... Can\\'t remember it\\'s name. The imperial was our fav. We lucked up and were there on a night that they had a Food Truck...New Wrap Order. Tons of seating inside.. Tables, couches. Picnic tables, cornhole, and huge jinga game outside. Can\\'t wait to go back!Great beer selection and very friendly crew. Nice atmosphere that seems to attract happy people. I\\'ll be back for sure!!Finally a neighborhood joint I can get excited about,  If and when you pass by Primal do not be afraid, pull in and grab a pint! I really like the Ethel red ale and the Lemon Haze. I recommend trying the sampler so you can then decide which one you like then buy several! The wait to buy is a little long which says a lot of its popularity. \\nThey have outdoor seating but it was way too hot to be outside.Primal Brewing is a bit of a drive but well worth the trip, especially if you combine it with a trip to some of the breweries in Cornelius. When you pull up, the lot looks very small, but the gravel lot directly to the right is for overflow. Out front there are several shaded picnic tables.\\n\\nThe Brewery and Taproom itself are on the small side, but this is a nano brewery. There\\'s fairly limited seating other than the bar, but what there is, is comfortable; lounge chairs and sofas.\\n\\nNow the important part, the beer.\\n\\nI was pretty impressed with the new kid on the block. The Grim Creeper Imperial IPA was well balanced and smooth for a high ABV beer. My next favorites were a tie between Devil\\'s Gas Pumpernickel Rye IPA (robust and malty with lots of depth) and Not So Harry Porter (no trying to be fancy, just an easy drinking well rounded porter). Hazelnut Stout gets an honorable mention.\\n\\nNice job lads and ladies!!!I\\'ve been to Primal twice now. It\\'s one of the newer breweries in the Charlotte area.\\n\\nThe bar is to the left as you walk in.  There are pub tables in the middle and then comfortable sofas and chairs in the two rooms off to the right. In the 2nd room on the right, there is a large fireplace. Out front there are picnic tables and there is cornhole on the left side of the building.\\n\\nThe beer is good here. I especially enjoy the hazelnut stout and their pale ales. \\n\\nWhile i enjoyed the beer and appreciate what they do, the fact that it was hot inside and loud as hell where I couldn\\'t even hear the people I was sitting with killed it for me where I had such an odd feeling here.  The place needs more softer textures to eat the noise. \\n\\nSo for this review I\\'ll leave the following ratings:\\n\\nStaff:  3\\nAtmosphere:  2\\nBeer:  4\\n\\nAverage:  3 starsHave been a bunch of times and can say they have great beer and great staff, especially the owners that make you feel like family. Awesome local hangout with really good beer. Happy to have them so close!!I\\'ve been meaning to write a review for this place for a while but now seems fitting. We have been to Primal about 5 times now. We find the atmosphere great and the staff open to talk about their brewery and beers. There beer is good quality and a nice variety for the handful they\\'ll have on tap. I like the Sweet Lou, be sure to ask a brewer about it.The fella and I stopped by with some friends on a Saturday afternoon to check it out before dinner. I agree with the other reviewer who said it feels like a cozy ski lodge. There are maybe 8-10 seats at the bar, two 4-top tables, and the rest of the seating is comfy-looking leather chairs scattered around in conversation set-ups with some around a fireplace.\\n\\nWhen we got there around 3:45 pm, the clientele was significantly older and loud. By the time we left around 6:15, it was pretty much full of college kids. The acoustics were a little crummy, and coupled with a full house, made it difficult to hear the people standing right next to me.\\n\\nService was decent, but the fella and his friend placed a couple of orders for one beer and got a different one - made it difficult to adequately review them. I\\'m not a beer drinker (but they had wine, too - hooray!), but the fella said their beers were decent. He got a flight of 5, and one was pretty good, three were decent, and one was pretty crummy.\\n\\nOnce they get a rhythm down, I think (hope?) they\\'ll get even better.Strong beers still developing; this is a great space. Brewers are hands on and provide inside access to how they brew. Love the 60/40 split of nitrous to CO2, makes the beer smooth and easy to drink. Looking forward to seeing this space grow.'"
      ]
     },
     "execution_count": 20,
     "metadata": {},
     "output_type": "execute_result"
    }
   ],
   "source": [
    "reviews_list[0]"
   ]
  },
  {
   "cell_type": "code",
   "execution_count": 21,
   "metadata": {},
   "outputs": [
    {
     "name": "stdout",
     "output_type": "stream",
     "text": [
      "0\n",
      "1000\n",
      "2000\n",
      "3000\n",
      "4000\n",
      "5000\n",
      "6000\n",
      "7000\n",
      "8000\n",
      "9000\n",
      "10000\n",
      "11000\n",
      "12000\n",
      "13000\n",
      "14000\n",
      "15000\n",
      "16000\n",
      "17000\n",
      "18000\n",
      "19000\n",
      "20000\n",
      "21000\n",
      "22000\n",
      "23000\n",
      "24000\n",
      "25000\n",
      "26000\n",
      "27000\n",
      "28000\n",
      "29000\n",
      "30000\n",
      "31000\n",
      "32000\n",
      "33000\n",
      "34000\n",
      "35000\n",
      "36000\n",
      "37000\n",
      "38000\n",
      "39000\n",
      "40000\n",
      "41000\n",
      "42000\n",
      "43000\n",
      "44000\n",
      "45000\n",
      "46000\n",
      "47000\n",
      "48000\n",
      "49000\n",
      "50000\n",
      "51000\n",
      "52000\n",
      "53000\n",
      "54000\n",
      "55000\n",
      "56000\n",
      "57000\n",
      "58000\n",
      "59000\n",
      "60000\n",
      "61000\n",
      "62000\n",
      "63000\n",
      "64000\n",
      "65000\n",
      "66000\n",
      "67000\n",
      "68000\n",
      "69000\n",
      "70000\n",
      "71000\n",
      "72000\n",
      "73000\n",
      "74000\n",
      "75000\n",
      "76000\n",
      "77000\n",
      "78000\n",
      "79000\n",
      "80000\n",
      "81000\n",
      "82000\n",
      "83000\n",
      "84000\n",
      "85000\n",
      "86000\n",
      "87000\n",
      "88000\n",
      "89000\n",
      "90000\n",
      "91000\n",
      "92000\n",
      "93000\n",
      "94000\n",
      "95000\n",
      "96000\n",
      "97000\n",
      "98000\n",
      "99000\n",
      "100000\n",
      "101000\n",
      "102000\n",
      "103000\n",
      "104000\n",
      "105000\n",
      "106000\n",
      "107000\n",
      "108000\n",
      "109000\n",
      "110000\n",
      "111000\n",
      "112000\n",
      "113000\n",
      "114000\n",
      "115000\n",
      "116000\n",
      "117000\n",
      "118000\n",
      "119000\n",
      "120000\n",
      "121000\n",
      "122000\n",
      "123000\n",
      "124000\n",
      "125000\n"
     ]
    }
   ],
   "source": [
    "docs = []\n",
    "all_sentences = []\n",
    "for i, text in enumerate(reviews_list):\n",
    "    sentences = textcleaner.split_sentences(text)\n",
    "    if i%1000 == 0:\n",
    "        print(i)\n",
    "    doc_tokens = []\n",
    "    for sent in sentences:\n",
    "        tokens = preprocessing.preprocess_string(sent)\n",
    "        all_sentences.append(tokens)\n",
    "        doc_tokens.extend(tokens)\n",
    "    docs.append(doc_tokens)"
   ]
  },
  {
   "cell_type": "code",
   "execution_count": 22,
   "metadata": {
    "collapsed": true
   },
   "outputs": [],
   "source": [
    "cbow_model = word2vec.Word2Vec(\n",
    "    all_sentences,     \n",
    "    min_count=15,   # Minimum word count threshold.\n",
    "    window=5,      # Number of words around target word to consider.\n",
    "    sg=0,          # cbow\n",
    "    sample=1e-3 ,  \n",
    "    size=500,      \n",
    "    hs=1           \n",
    ")"
   ]
  },
  {
   "cell_type": "code",
   "execution_count": 23,
   "metadata": {
    "collapsed": true
   },
   "outputs": [],
   "source": [
    "def create_vector_list(array_shape, X):\n",
    "    vector_list = []\n",
    "    for review in X:\n",
    "        review_vector = np.zeros_like(array_shape)\n",
    "        for word in review:\n",
    "            word = word.lemma_ \n",
    "            if word in cbow_model.wv:\n",
    "                vector = cbow_model.wv[word]\n",
    "                review_vector += vector\n",
    "        norm = normalize(review_vector.reshape(1, -1))\n",
    "        norm = norm.flatten()\n",
    "        vector_list.append(norm)\n",
    "    return vector_list"
   ]
  },
  {
   "cell_type": "code",
   "execution_count": 24,
   "metadata": {},
   "outputs": [
    {
     "name": "stdout",
     "output_type": "stream",
     "text": [
      "500\n"
     ]
    }
   ],
   "source": [
    "x = cbow_model.wv['burger']\n",
    "print(len(x))\n",
    "vector_list = []\n",
    "X_w2v = vector_list\n",
    "for review in docs:\n",
    "    review_vector = np.zeros_like(x)\n",
    "    for word in review:\n",
    "        #tokens_word = preprocessing.preprocess_string(word)\n",
    "        #word = tokens_word.lemma_ \n",
    "        if word in cbow_model.wv:\n",
    "            vector = cbow_model.wv[word]\n",
    "            review_vector += vector\n",
    "    norm = normalize(review_vector.reshape(1, -1))\n",
    "    norm = norm.flatten()\n",
    "    vector_list.append(norm)"
   ]
  },
  {
   "cell_type": "code",
   "execution_count": 26,
   "metadata": {
    "collapsed": true
   },
   "outputs": [],
   "source": [
    "yelp_join['w2v'] = X_w2v"
   ]
  },
  {
   "cell_type": "code",
   "execution_count": 27,
   "metadata": {
    "collapsed": true
   },
   "outputs": [],
   "source": [
    "yelp_join.to_csv('w2v_after_merge_3_5')"
   ]
  },
  {
   "cell_type": "code",
   "execution_count": 29,
   "metadata": {
    "collapsed": true
   },
   "outputs": [],
   "source": [
    "df = pd.DataFrame(X_w2v)"
   ]
  },
  {
   "cell_type": "code",
   "execution_count": 30,
   "metadata": {},
   "outputs": [
    {
     "data": {
      "text/plain": [
       "125227"
      ]
     },
     "execution_count": 30,
     "metadata": {},
     "output_type": "execute_result"
    }
   ],
   "source": [
    "len(df)"
   ]
  },
  {
   "cell_type": "code",
   "execution_count": 31,
   "metadata": {},
   "outputs": [
    {
     "data": {
      "text/plain": [
       "125227"
      ]
     },
     "execution_count": 31,
     "metadata": {},
     "output_type": "execute_result"
    }
   ],
   "source": [
    "len(yelp_join)"
   ]
  },
  {
   "cell_type": "code",
   "execution_count": 32,
   "metadata": {},
   "outputs": [
    {
     "data": {
      "text/html": [
       "<div>\n",
       "<style>\n",
       "    .dataframe thead tr:only-child th {\n",
       "        text-align: right;\n",
       "    }\n",
       "\n",
       "    .dataframe thead th {\n",
       "        text-align: left;\n",
       "    }\n",
       "\n",
       "    .dataframe tbody tr th {\n",
       "        vertical-align: top;\n",
       "    }\n",
       "</style>\n",
       "<table border=\"1\" class=\"dataframe\">\n",
       "  <thead>\n",
       "    <tr style=\"text-align: right;\">\n",
       "      <th></th>\n",
       "      <th>0</th>\n",
       "      <th>1</th>\n",
       "      <th>2</th>\n",
       "      <th>3</th>\n",
       "      <th>4</th>\n",
       "      <th>5</th>\n",
       "      <th>6</th>\n",
       "      <th>7</th>\n",
       "      <th>8</th>\n",
       "      <th>9</th>\n",
       "      <th>...</th>\n",
       "      <th>490</th>\n",
       "      <th>491</th>\n",
       "      <th>492</th>\n",
       "      <th>493</th>\n",
       "      <th>494</th>\n",
       "      <th>495</th>\n",
       "      <th>496</th>\n",
       "      <th>497</th>\n",
       "      <th>498</th>\n",
       "      <th>499</th>\n",
       "    </tr>\n",
       "  </thead>\n",
       "  <tbody>\n",
       "    <tr>\n",
       "      <th>0</th>\n",
       "      <td>0.188206</td>\n",
       "      <td>-0.038283</td>\n",
       "      <td>-0.001561</td>\n",
       "      <td>-0.057868</td>\n",
       "      <td>-0.000632</td>\n",
       "      <td>-0.076042</td>\n",
       "      <td>0.029634</td>\n",
       "      <td>0.058460</td>\n",
       "      <td>0.026756</td>\n",
       "      <td>-0.088966</td>\n",
       "      <td>...</td>\n",
       "      <td>-0.039240</td>\n",
       "      <td>-0.023684</td>\n",
       "      <td>0.007351</td>\n",
       "      <td>-0.000946</td>\n",
       "      <td>0.026984</td>\n",
       "      <td>0.035198</td>\n",
       "      <td>-0.017357</td>\n",
       "      <td>-0.007677</td>\n",
       "      <td>0.034954</td>\n",
       "      <td>0.036282</td>\n",
       "    </tr>\n",
       "    <tr>\n",
       "      <th>1</th>\n",
       "      <td>0.024509</td>\n",
       "      <td>-0.018602</td>\n",
       "      <td>0.070642</td>\n",
       "      <td>0.052995</td>\n",
       "      <td>-0.085420</td>\n",
       "      <td>0.041633</td>\n",
       "      <td>0.022008</td>\n",
       "      <td>-0.054814</td>\n",
       "      <td>0.023416</td>\n",
       "      <td>0.092991</td>\n",
       "      <td>...</td>\n",
       "      <td>0.024672</td>\n",
       "      <td>-0.036653</td>\n",
       "      <td>0.024554</td>\n",
       "      <td>-0.029597</td>\n",
       "      <td>0.044491</td>\n",
       "      <td>0.049495</td>\n",
       "      <td>-0.022766</td>\n",
       "      <td>-0.057987</td>\n",
       "      <td>-0.020372</td>\n",
       "      <td>-0.012338</td>\n",
       "    </tr>\n",
       "    <tr>\n",
       "      <th>2</th>\n",
       "      <td>0.012208</td>\n",
       "      <td>-0.027274</td>\n",
       "      <td>0.042529</td>\n",
       "      <td>0.027047</td>\n",
       "      <td>-0.043110</td>\n",
       "      <td>-0.053862</td>\n",
       "      <td>0.002248</td>\n",
       "      <td>0.014111</td>\n",
       "      <td>0.046564</td>\n",
       "      <td>0.040773</td>\n",
       "      <td>...</td>\n",
       "      <td>0.062360</td>\n",
       "      <td>0.009201</td>\n",
       "      <td>-0.078431</td>\n",
       "      <td>-0.040148</td>\n",
       "      <td>0.109919</td>\n",
       "      <td>-0.017709</td>\n",
       "      <td>0.010435</td>\n",
       "      <td>-0.097088</td>\n",
       "      <td>-0.041931</td>\n",
       "      <td>0.062730</td>\n",
       "    </tr>\n",
       "    <tr>\n",
       "      <th>3</th>\n",
       "      <td>0.039641</td>\n",
       "      <td>0.022216</td>\n",
       "      <td>-0.004785</td>\n",
       "      <td>-0.075566</td>\n",
       "      <td>0.031147</td>\n",
       "      <td>0.026233</td>\n",
       "      <td>-0.051974</td>\n",
       "      <td>0.022366</td>\n",
       "      <td>0.060769</td>\n",
       "      <td>0.023329</td>\n",
       "      <td>...</td>\n",
       "      <td>0.000921</td>\n",
       "      <td>0.032483</td>\n",
       "      <td>-0.080718</td>\n",
       "      <td>0.090594</td>\n",
       "      <td>0.000639</td>\n",
       "      <td>0.063222</td>\n",
       "      <td>-0.034102</td>\n",
       "      <td>0.020776</td>\n",
       "      <td>-0.057081</td>\n",
       "      <td>-0.006495</td>\n",
       "    </tr>\n",
       "    <tr>\n",
       "      <th>4</th>\n",
       "      <td>0.091070</td>\n",
       "      <td>-0.024328</td>\n",
       "      <td>-0.019922</td>\n",
       "      <td>0.067566</td>\n",
       "      <td>-0.069579</td>\n",
       "      <td>0.022806</td>\n",
       "      <td>0.002091</td>\n",
       "      <td>0.048369</td>\n",
       "      <td>-0.017015</td>\n",
       "      <td>-0.040985</td>\n",
       "      <td>...</td>\n",
       "      <td>-0.013268</td>\n",
       "      <td>-0.010765</td>\n",
       "      <td>-0.068973</td>\n",
       "      <td>-0.025637</td>\n",
       "      <td>0.076951</td>\n",
       "      <td>0.031701</td>\n",
       "      <td>-0.009085</td>\n",
       "      <td>-0.025236</td>\n",
       "      <td>0.012274</td>\n",
       "      <td>-0.014236</td>\n",
       "    </tr>\n",
       "  </tbody>\n",
       "</table>\n",
       "<p>5 rows × 500 columns</p>\n",
       "</div>"
      ],
      "text/plain": [
       "        0         1         2         3         4         5         6    \\\n",
       "0  0.188206 -0.038283 -0.001561 -0.057868 -0.000632 -0.076042  0.029634   \n",
       "1  0.024509 -0.018602  0.070642  0.052995 -0.085420  0.041633  0.022008   \n",
       "2  0.012208 -0.027274  0.042529  0.027047 -0.043110 -0.053862  0.002248   \n",
       "3  0.039641  0.022216 -0.004785 -0.075566  0.031147  0.026233 -0.051974   \n",
       "4  0.091070 -0.024328 -0.019922  0.067566 -0.069579  0.022806  0.002091   \n",
       "\n",
       "        7         8         9      ...          490       491       492  \\\n",
       "0  0.058460  0.026756 -0.088966    ...    -0.039240 -0.023684  0.007351   \n",
       "1 -0.054814  0.023416  0.092991    ...     0.024672 -0.036653  0.024554   \n",
       "2  0.014111  0.046564  0.040773    ...     0.062360  0.009201 -0.078431   \n",
       "3  0.022366  0.060769  0.023329    ...     0.000921  0.032483 -0.080718   \n",
       "4  0.048369 -0.017015 -0.040985    ...    -0.013268 -0.010765 -0.068973   \n",
       "\n",
       "        493       494       495       496       497       498       499  \n",
       "0 -0.000946  0.026984  0.035198 -0.017357 -0.007677  0.034954  0.036282  \n",
       "1 -0.029597  0.044491  0.049495 -0.022766 -0.057987 -0.020372 -0.012338  \n",
       "2 -0.040148  0.109919 -0.017709  0.010435 -0.097088 -0.041931  0.062730  \n",
       "3  0.090594  0.000639  0.063222 -0.034102  0.020776 -0.057081 -0.006495  \n",
       "4 -0.025637  0.076951  0.031701 -0.009085 -0.025236  0.012274 -0.014236  \n",
       "\n",
       "[5 rows x 500 columns]"
      ]
     },
     "execution_count": 32,
     "metadata": {},
     "output_type": "execute_result"
    }
   ],
   "source": [
    "df.head()"
   ]
  },
  {
   "cell_type": "code",
   "execution_count": 33,
   "metadata": {},
   "outputs": [
    {
     "ename": "ValueError",
     "evalue": "labels ['business_id'] not contained in axis",
     "output_type": "error",
     "traceback": [
      "\u001b[0;31m---------------------------------------------------------------------------\u001b[0m",
      "\u001b[0;31mValueError\u001b[0m                                Traceback (most recent call last)",
      "\u001b[0;32m<ipython-input-33-b71f18db7bde>\u001b[0m in \u001b[0;36m<module>\u001b[0;34m()\u001b[0m\n\u001b[0;32m----> 1\u001b[0;31m \u001b[0myelp_join\u001b[0m \u001b[0;34m=\u001b[0m \u001b[0myelp_join\u001b[0m\u001b[0;34m.\u001b[0m\u001b[0mdrop\u001b[0m\u001b[0;34m(\u001b[0m\u001b[0;34m'business_id'\u001b[0m\u001b[0;34m,\u001b[0m \u001b[0;36m1\u001b[0m\u001b[0;34m)\u001b[0m\u001b[0;34m\u001b[0m\u001b[0m\n\u001b[0m",
      "\u001b[0;32m~/Desktop/Thinkful/anaconda/lib/python3.6/site-packages/pandas/core/generic.py\u001b[0m in \u001b[0;36mdrop\u001b[0;34m(self, labels, axis, level, inplace, errors)\u001b[0m\n\u001b[1;32m   2159\u001b[0m                 \u001b[0mnew_axis\u001b[0m \u001b[0;34m=\u001b[0m \u001b[0maxis\u001b[0m\u001b[0;34m.\u001b[0m\u001b[0mdrop\u001b[0m\u001b[0;34m(\u001b[0m\u001b[0mlabels\u001b[0m\u001b[0;34m,\u001b[0m \u001b[0mlevel\u001b[0m\u001b[0;34m=\u001b[0m\u001b[0mlevel\u001b[0m\u001b[0;34m,\u001b[0m \u001b[0merrors\u001b[0m\u001b[0;34m=\u001b[0m\u001b[0merrors\u001b[0m\u001b[0;34m)\u001b[0m\u001b[0;34m\u001b[0m\u001b[0m\n\u001b[1;32m   2160\u001b[0m             \u001b[0;32melse\u001b[0m\u001b[0;34m:\u001b[0m\u001b[0;34m\u001b[0m\u001b[0m\n\u001b[0;32m-> 2161\u001b[0;31m                 \u001b[0mnew_axis\u001b[0m \u001b[0;34m=\u001b[0m \u001b[0maxis\u001b[0m\u001b[0;34m.\u001b[0m\u001b[0mdrop\u001b[0m\u001b[0;34m(\u001b[0m\u001b[0mlabels\u001b[0m\u001b[0;34m,\u001b[0m \u001b[0merrors\u001b[0m\u001b[0;34m=\u001b[0m\u001b[0merrors\u001b[0m\u001b[0;34m)\u001b[0m\u001b[0;34m\u001b[0m\u001b[0m\n\u001b[0m\u001b[1;32m   2162\u001b[0m             \u001b[0mdropped\u001b[0m \u001b[0;34m=\u001b[0m \u001b[0mself\u001b[0m\u001b[0;34m.\u001b[0m\u001b[0mreindex\u001b[0m\u001b[0;34m(\u001b[0m\u001b[0;34m**\u001b[0m\u001b[0;34m{\u001b[0m\u001b[0maxis_name\u001b[0m\u001b[0;34m:\u001b[0m \u001b[0mnew_axis\u001b[0m\u001b[0;34m}\u001b[0m\u001b[0;34m)\u001b[0m\u001b[0;34m\u001b[0m\u001b[0m\n\u001b[1;32m   2163\u001b[0m             \u001b[0;32mtry\u001b[0m\u001b[0;34m:\u001b[0m\u001b[0;34m\u001b[0m\u001b[0m\n",
      "\u001b[0;32m~/Desktop/Thinkful/anaconda/lib/python3.6/site-packages/pandas/core/indexes/base.py\u001b[0m in \u001b[0;36mdrop\u001b[0;34m(self, labels, errors)\u001b[0m\n\u001b[1;32m   3622\u001b[0m             \u001b[0;32mif\u001b[0m \u001b[0merrors\u001b[0m \u001b[0;34m!=\u001b[0m \u001b[0;34m'ignore'\u001b[0m\u001b[0;34m:\u001b[0m\u001b[0;34m\u001b[0m\u001b[0m\n\u001b[1;32m   3623\u001b[0m                 raise ValueError('labels %s not contained in axis' %\n\u001b[0;32m-> 3624\u001b[0;31m                                  labels[mask])\n\u001b[0m\u001b[1;32m   3625\u001b[0m             \u001b[0mindexer\u001b[0m \u001b[0;34m=\u001b[0m \u001b[0mindexer\u001b[0m\u001b[0;34m[\u001b[0m\u001b[0;34m~\u001b[0m\u001b[0mmask\u001b[0m\u001b[0;34m]\u001b[0m\u001b[0;34m\u001b[0m\u001b[0m\n\u001b[1;32m   3626\u001b[0m         \u001b[0;32mreturn\u001b[0m \u001b[0mself\u001b[0m\u001b[0;34m.\u001b[0m\u001b[0mdelete\u001b[0m\u001b[0;34m(\u001b[0m\u001b[0mindexer\u001b[0m\u001b[0;34m)\u001b[0m\u001b[0;34m\u001b[0m\u001b[0m\n",
      "\u001b[0;31mValueError\u001b[0m: labels ['business_id'] not contained in axis"
     ]
    }
   ],
   "source": [
    "yelp_join = yelp_join.drop('business_id', 1)"
   ]
  },
  {
   "cell_type": "code",
   "execution_count": 34,
   "metadata": {
    "collapsed": true
   },
   "outputs": [],
   "source": [
    "yelp_join = yelp_join.drop('w2v', 1)"
   ]
  },
  {
   "cell_type": "code",
   "execution_count": 35,
   "metadata": {
    "collapsed": true
   },
   "outputs": [],
   "source": [
    "yelp_join = yelp_join.reset_index()"
   ]
  },
  {
   "cell_type": "code",
   "execution_count": 36,
   "metadata": {},
   "outputs": [
    {
     "data": {
      "text/html": [
       "<div>\n",
       "<style>\n",
       "    .dataframe thead tr:only-child th {\n",
       "        text-align: right;\n",
       "    }\n",
       "\n",
       "    .dataframe thead th {\n",
       "        text-align: left;\n",
       "    }\n",
       "\n",
       "    .dataframe tbody tr th {\n",
       "        vertical-align: top;\n",
       "    }\n",
       "</style>\n",
       "<table border=\"1\" class=\"dataframe\">\n",
       "  <thead>\n",
       "    <tr style=\"text-align: right;\">\n",
       "      <th></th>\n",
       "      <th>business_id</th>\n",
       "      <th>text</th>\n",
       "    </tr>\n",
       "  </thead>\n",
       "  <tbody>\n",
       "    <tr>\n",
       "      <th>0</th>\n",
       "      <td>--7zmmkVg-IMGaXbuVd0SQ</td>\n",
       "      <td>This review is for Lauren!! Not only is she an...</td>\n",
       "    </tr>\n",
       "    <tr>\n",
       "      <th>1</th>\n",
       "      <td>--8LPVSo5i0Oo61X01sV9A</td>\n",
       "      <td>Dr. Purcell is good and thorough. Their office...</td>\n",
       "    </tr>\n",
       "    <tr>\n",
       "      <th>2</th>\n",
       "      <td>--9QQLMTbFzLJ_oT-ON3Xw</td>\n",
       "      <td>I checked my son in accidently under my name. ...</td>\n",
       "    </tr>\n",
       "    <tr>\n",
       "      <th>3</th>\n",
       "      <td>--9e1ONYQuAa-CB_Rrw7Tw</td>\n",
       "      <td>Came To Celebrate A Milestone Birthday With My...</td>\n",
       "    </tr>\n",
       "    <tr>\n",
       "      <th>4</th>\n",
       "      <td>--DdmeR16TRb3LsjG0ejrQ</td>\n",
       "      <td>I was really disappointed in this event. I bou...</td>\n",
       "    </tr>\n",
       "  </tbody>\n",
       "</table>\n",
       "</div>"
      ],
      "text/plain": [
       "              business_id                                               text\n",
       "0  --7zmmkVg-IMGaXbuVd0SQ  This review is for Lauren!! Not only is she an...\n",
       "1  --8LPVSo5i0Oo61X01sV9A  Dr. Purcell is good and thorough. Their office...\n",
       "2  --9QQLMTbFzLJ_oT-ON3Xw  I checked my son in accidently under my name. ...\n",
       "3  --9e1ONYQuAa-CB_Rrw7Tw  Came To Celebrate A Milestone Birthday With My...\n",
       "4  --DdmeR16TRb3LsjG0ejrQ  I was really disappointed in this event. I bou..."
      ]
     },
     "execution_count": 36,
     "metadata": {},
     "output_type": "execute_result"
    }
   ],
   "source": [
    "yelp_join.head()"
   ]
  },
  {
   "cell_type": "code",
   "execution_count": 37,
   "metadata": {
    "collapsed": true
   },
   "outputs": [],
   "source": [
    "yelp_join = pd.merge(yelp_join, df, right_index=True, left_index=True, how='inner')"
   ]
  },
  {
   "cell_type": "code",
   "execution_count": 39,
   "metadata": {
    "collapsed": true
   },
   "outputs": [],
   "source": [
    "yelp_join = yelp_join.drop('text', 1)"
   ]
  },
  {
   "cell_type": "code",
   "execution_count": 41,
   "metadata": {
    "collapsed": true
   },
   "outputs": [],
   "source": [
    "yelp_join.to_csv('w2v_after_merge_3_5_2')"
   ]
  }
 ],
 "metadata": {
  "kernelspec": {
   "display_name": "Python 3",
   "language": "python",
   "name": "python3"
  },
  "language_info": {
   "codemirror_mode": {
    "name": "ipython",
    "version": 3
   },
   "file_extension": ".py",
   "mimetype": "text/x-python",
   "name": "python",
   "nbconvert_exporter": "python",
   "pygments_lexer": "ipython3",
   "version": "3.6.1"
  }
 },
 "nbformat": 4,
 "nbformat_minor": 2
}
