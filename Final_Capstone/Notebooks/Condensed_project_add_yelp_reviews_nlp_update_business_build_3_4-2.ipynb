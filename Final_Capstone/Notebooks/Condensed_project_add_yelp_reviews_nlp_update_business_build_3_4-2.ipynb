{
 "cells": [
  {
   "cell_type": "code",
   "execution_count": 1,
   "metadata": {},
   "outputs": [
    {
     "name": "stderr",
     "output_type": "stream",
     "text": [
      "Using TensorFlow backend.\n"
     ]
    }
   ],
   "source": [
    "import pandas as pd\n",
    "from datetime import datetime\n",
    "import numpy as np\n",
    "import json\n",
    "import glob\n",
    "import keras\n",
    "from datetime import timedelta\n",
    "from sklearn.model_selection import train_test_split\n",
    "from keras.models import Sequential\n",
    "from keras.layers import Dense, Flatten\n",
    "from keras.layers import Dropout\n",
    "import matplotlib.pyplot as plt\n",
    "from sklearn.preprocessing import normalize\n",
    "import json\n",
    "import seaborn as sns\n",
    "%matplotlib inline"
   ]
  },
  {
   "cell_type": "code",
   "execution_count": 2,
   "metadata": {
    "collapsed": true
   },
   "outputs": [],
   "source": [
    "yelp_business = []\n",
    "with open('./yelp_dataset/business.json') as data_file:    \n",
    "    for line in data_file:\n",
    "        data = json.loads(line)\n",
    "        yelp_business.append(data)"
   ]
  },
  {
   "cell_type": "code",
   "execution_count": 3,
   "metadata": {
    "collapsed": true
   },
   "outputs": [],
   "source": [
    "df_yelp_business = pd.DataFrame(yelp_business)"
   ]
  },
  {
   "cell_type": "code",
   "execution_count": 4,
   "metadata": {
    "collapsed": true
   },
   "outputs": [],
   "source": [
    "df_yelp_business = df_yelp_business.sort_values('postal_code',ascending=False)"
   ]
  },
  {
   "cell_type": "code",
   "execution_count": 5,
   "metadata": {
    "collapsed": true
   },
   "outputs": [],
   "source": [
    "df_yelp_business = df_yelp_business.iloc[42883:-623]"
   ]
  },
  {
   "cell_type": "code",
   "execution_count": 8,
   "metadata": {},
   "outputs": [
    {
     "data": {
      "text/html": [
       "<div>\n",
       "<style>\n",
       "    .dataframe thead tr:only-child th {\n",
       "        text-align: right;\n",
       "    }\n",
       "\n",
       "    .dataframe thead th {\n",
       "        text-align: left;\n",
       "    }\n",
       "\n",
       "    .dataframe tbody tr th {\n",
       "        vertical-align: top;\n",
       "    }\n",
       "</style>\n",
       "<table border=\"1\" class=\"dataframe\">\n",
       "  <thead>\n",
       "    <tr style=\"text-align: right;\">\n",
       "      <th></th>\n",
       "      <th>address</th>\n",
       "      <th>attributes</th>\n",
       "      <th>business_id</th>\n",
       "      <th>categories</th>\n",
       "      <th>city</th>\n",
       "      <th>hours</th>\n",
       "      <th>is_open</th>\n",
       "      <th>latitude</th>\n",
       "      <th>longitude</th>\n",
       "      <th>name</th>\n",
       "      <th>neighborhood</th>\n",
       "      <th>postal_code</th>\n",
       "      <th>review_count</th>\n",
       "      <th>stars</th>\n",
       "      <th>state</th>\n",
       "    </tr>\n",
       "  </thead>\n",
       "  <tbody>\n",
       "    <tr>\n",
       "      <th>158820</th>\n",
       "      <td>7916 Sailboat Ln</td>\n",
       "      <td>{'BusinessAcceptsCreditCards': True, 'Business...</td>\n",
       "      <td>eyYtakIp6Zu5-ZrXQNs4PQ</td>\n",
       "      <td>[Airport Shuttles, Event Planning &amp; Services, ...</td>\n",
       "      <td>Las Vegas</td>\n",
       "      <td>{'Monday': '0:00-0:00', 'Tuesday': '0:00-0:00'...</td>\n",
       "      <td>1</td>\n",
       "      <td>36.161151</td>\n",
       "      <td>-115.266982</td>\n",
       "      <td>Top Fleet Limo</td>\n",
       "      <td>Westside</td>\n",
       "      <td>98145</td>\n",
       "      <td>3</td>\n",
       "      <td>5.0</td>\n",
       "      <td>NV</td>\n",
       "    </tr>\n",
       "    <tr>\n",
       "      <th>157145</th>\n",
       "      <td></td>\n",
       "      <td>{'BusinessAcceptsCreditCards': True, 'Business...</td>\n",
       "      <td>bujMV3UPks8INgBnjV9gcw</td>\n",
       "      <td>[Home Services, Plumbing, Water Purification S...</td>\n",
       "      <td>Mesa</td>\n",
       "      <td>{'Monday': '7:00-19:00', 'Tuesday': '7:00-19:0...</td>\n",
       "      <td>1</td>\n",
       "      <td>33.366352</td>\n",
       "      <td>-111.841948</td>\n",
       "      <td>Delta Mechanical</td>\n",
       "      <td></td>\n",
       "      <td>95966</td>\n",
       "      <td>110</td>\n",
       "      <td>2.0</td>\n",
       "      <td>AZ</td>\n",
       "    </tr>\n",
       "    <tr>\n",
       "      <th>110167</th>\n",
       "      <td>Vivaldi Salon Suites, 19420 N 59th Ave, Ste A-...</td>\n",
       "      <td>{'BusinessAcceptsCreditCards': True, 'Business...</td>\n",
       "      <td>yHdYGeVbM8XFdLRS9-LJzw</td>\n",
       "      <td>[Beauty &amp; Spas, Hair Salons]</td>\n",
       "      <td>Glendale</td>\n",
       "      <td>{'Tuesday': '10:00-21:00', 'Thursday': '10:00-...</td>\n",
       "      <td>0</td>\n",
       "      <td>33.538652</td>\n",
       "      <td>-112.185987</td>\n",
       "      <td>Wesley James Salon</td>\n",
       "      <td></td>\n",
       "      <td>95308</td>\n",
       "      <td>3</td>\n",
       "      <td>5.0</td>\n",
       "      <td>AZ</td>\n",
       "    </tr>\n",
       "    <tr>\n",
       "      <th>147913</th>\n",
       "      <td>3225 W Ray Rd, Ste 203, L'mage Studios</td>\n",
       "      <td>{'BusinessAcceptsCreditCards': True, 'Restaura...</td>\n",
       "      <td>jTN3ZnlS6val3UtOtcuKUA</td>\n",
       "      <td>[Hair Salons, Beauty &amp; Spas, Makeup Artists]</td>\n",
       "      <td>Chandler</td>\n",
       "      <td>{}</td>\n",
       "      <td>1</td>\n",
       "      <td>33.303809</td>\n",
       "      <td>-111.840270</td>\n",
       "      <td>Studio Charme</td>\n",
       "      <td></td>\n",
       "      <td>95224</td>\n",
       "      <td>3</td>\n",
       "      <td>3.5</td>\n",
       "      <td>AZ</td>\n",
       "    </tr>\n",
       "    <tr>\n",
       "      <th>44681</th>\n",
       "      <td>3100 Kerner Blvd, Ste H</td>\n",
       "      <td>{}</td>\n",
       "      <td>9kk5C_BW7rdBwtCJiSiBtw</td>\n",
       "      <td>[Hotels &amp; Travel, Transportation, Airports, Ai...</td>\n",
       "      <td>San Rafael</td>\n",
       "      <td>{'Monday': '3:00-1:00', 'Tuesday': '3:00-1:00'...</td>\n",
       "      <td>1</td>\n",
       "      <td>37.957524</td>\n",
       "      <td>-122.499387</td>\n",
       "      <td>Marin Door To Door</td>\n",
       "      <td></td>\n",
       "      <td>94901</td>\n",
       "      <td>214</td>\n",
       "      <td>1.5</td>\n",
       "      <td>SC</td>\n",
       "    </tr>\n",
       "  </tbody>\n",
       "</table>\n",
       "</div>"
      ],
      "text/plain": [
       "                                                  address  \\\n",
       "158820                                   7916 Sailboat Ln   \n",
       "157145                                                      \n",
       "110167  Vivaldi Salon Suites, 19420 N 59th Ave, Ste A-...   \n",
       "147913             3225 W Ray Rd, Ste 203, L'mage Studios   \n",
       "44681                             3100 Kerner Blvd, Ste H   \n",
       "\n",
       "                                               attributes  \\\n",
       "158820  {'BusinessAcceptsCreditCards': True, 'Business...   \n",
       "157145  {'BusinessAcceptsCreditCards': True, 'Business...   \n",
       "110167  {'BusinessAcceptsCreditCards': True, 'Business...   \n",
       "147913  {'BusinessAcceptsCreditCards': True, 'Restaura...   \n",
       "44681                                                  {}   \n",
       "\n",
       "                   business_id  \\\n",
       "158820  eyYtakIp6Zu5-ZrXQNs4PQ   \n",
       "157145  bujMV3UPks8INgBnjV9gcw   \n",
       "110167  yHdYGeVbM8XFdLRS9-LJzw   \n",
       "147913  jTN3ZnlS6val3UtOtcuKUA   \n",
       "44681   9kk5C_BW7rdBwtCJiSiBtw   \n",
       "\n",
       "                                               categories        city  \\\n",
       "158820  [Airport Shuttles, Event Planning & Services, ...   Las Vegas   \n",
       "157145  [Home Services, Plumbing, Water Purification S...        Mesa   \n",
       "110167                       [Beauty & Spas, Hair Salons]    Glendale   \n",
       "147913       [Hair Salons, Beauty & Spas, Makeup Artists]    Chandler   \n",
       "44681   [Hotels & Travel, Transportation, Airports, Ai...  San Rafael   \n",
       "\n",
       "                                                    hours  is_open   latitude  \\\n",
       "158820  {'Monday': '0:00-0:00', 'Tuesday': '0:00-0:00'...        1  36.161151   \n",
       "157145  {'Monday': '7:00-19:00', 'Tuesday': '7:00-19:0...        1  33.366352   \n",
       "110167  {'Tuesday': '10:00-21:00', 'Thursday': '10:00-...        0  33.538652   \n",
       "147913                                                 {}        1  33.303809   \n",
       "44681   {'Monday': '3:00-1:00', 'Tuesday': '3:00-1:00'...        1  37.957524   \n",
       "\n",
       "         longitude                name neighborhood postal_code  review_count  \\\n",
       "158820 -115.266982      Top Fleet Limo     Westside       98145             3   \n",
       "157145 -111.841948    Delta Mechanical                    95966           110   \n",
       "110167 -112.185987  Wesley James Salon                    95308             3   \n",
       "147913 -111.840270       Studio Charme                    95224             3   \n",
       "44681  -122.499387  Marin Door To Door                    94901           214   \n",
       "\n",
       "        stars state  \n",
       "158820    5.0    NV  \n",
       "157145    2.0    AZ  \n",
       "110167    5.0    AZ  \n",
       "147913    3.5    AZ  \n",
       "44681     1.5    SC  "
      ]
     },
     "execution_count": 8,
     "metadata": {},
     "output_type": "execute_result"
    }
   ],
   "source": [
    "df_yelp_business.head()"
   ]
  },
  {
   "cell_type": "code",
   "execution_count": 9,
   "metadata": {},
   "outputs": [
    {
     "data": {
      "text/plain": [
       "959"
      ]
     },
     "execution_count": 9,
     "metadata": {},
     "output_type": "execute_result"
    }
   ],
   "source": [
    "df_yelp_business['postal_code'].nunique()"
   ]
  },
  {
   "cell_type": "code",
   "execution_count": 10,
   "metadata": {
    "collapsed": true
   },
   "outputs": [],
   "source": [
    "yelp_w2v = pd.read_csv('w2v_after_merge_3_5_2')"
   ]
  },
  {
   "cell_type": "code",
   "execution_count": 11,
   "metadata": {
    "collapsed": true
   },
   "outputs": [],
   "source": [
    "df_yelp_business['average_review_count'] = df_yelp_business.groupby('postal_code')['review_count'].transform(np.mean)"
   ]
  },
  {
   "cell_type": "code",
   "execution_count": 12,
   "metadata": {
    "collapsed": true
   },
   "outputs": [],
   "source": [
    "df_yelp_business['business_count'] = df_yelp_business.groupby('postal_code')['business_id'].transform('count')"
   ]
  },
  {
   "cell_type": "code",
   "execution_count": 13,
   "metadata": {
    "collapsed": true
   },
   "outputs": [],
   "source": [
    "df_yelp_business['zip_review_count'] = df_yelp_business.groupby('postal_code')['review_count'].transform(np.sum)"
   ]
  },
  {
   "cell_type": "code",
   "execution_count": 14,
   "metadata": {
    "collapsed": true
   },
   "outputs": [],
   "source": [
    "df_yelp_business['average_review_max'] = df_yelp_business.groupby('postal_code')['review_count'].transform(np.max)"
   ]
  },
  {
   "cell_type": "code",
   "execution_count": 15,
   "metadata": {
    "collapsed": true
   },
   "outputs": [],
   "source": [
    "df_yelp_business['average_review_min'] = df_yelp_business.groupby('postal_code')['review_count'].transform(np.min)"
   ]
  },
  {
   "cell_type": "code",
   "execution_count": 16,
   "metadata": {
    "collapsed": true
   },
   "outputs": [],
   "source": [
    "df_yelp_business_less = pd.DataFrame()"
   ]
  },
  {
   "cell_type": "code",
   "execution_count": 17,
   "metadata": {
    "collapsed": true
   },
   "outputs": [],
   "source": [
    "df_yelp_business_less['postal_code'] = df_yelp_business['postal_code']"
   ]
  },
  {
   "cell_type": "code",
   "execution_count": 18,
   "metadata": {
    "collapsed": true
   },
   "outputs": [],
   "source": [
    "df_yelp_business_less['business_id'] = df_yelp_business['business_id']"
   ]
  },
  {
   "cell_type": "code",
   "execution_count": 19,
   "metadata": {
    "collapsed": true
   },
   "outputs": [],
   "source": [
    "df_yelp_business_w2v = pd.merge(df_yelp_business, yelp_w2v, left_on='business_id', right_on='business_id', how='inner')"
   ]
  },
  {
   "cell_type": "code",
   "execution_count": 21,
   "metadata": {
    "collapsed": true
   },
   "outputs": [],
   "source": [
    "df_yelp_business = df_yelp_business.groupby('postal_code').agg(np.mean)"
   ]
  },
  {
   "cell_type": "code",
   "execution_count": 22,
   "metadata": {
    "collapsed": true
   },
   "outputs": [],
   "source": [
    "df_yelp_business_w2v = df_yelp_business_w2v.groupby('postal_code').agg(np.mean)"
   ]
  },
  {
   "cell_type": "code",
   "execution_count": 25,
   "metadata": {},
   "outputs": [
    {
     "data": {
      "text/plain": [
       "959"
      ]
     },
     "execution_count": 25,
     "metadata": {},
     "output_type": "execute_result"
    }
   ],
   "source": [
    "len(df_yelp_business)"
   ]
  },
  {
   "cell_type": "code",
   "execution_count": 26,
   "metadata": {
    "collapsed": true
   },
   "outputs": [],
   "source": [
    "df_yelp_business_less = df_yelp_business_less.set_index('postal_code')"
   ]
  },
  {
   "cell_type": "code",
   "execution_count": 27,
   "metadata": {},
   "outputs": [
    {
     "data": {
      "text/plain": [
       "131061"
      ]
     },
     "execution_count": 27,
     "metadata": {},
     "output_type": "execute_result"
    }
   ],
   "source": [
    "len(df_yelp_business_less)"
   ]
  },
  {
   "cell_type": "code",
   "execution_count": 28,
   "metadata": {
    "collapsed": true
   },
   "outputs": [],
   "source": [
    "df_yelp_business.to_csv('real_business_features_3_4')"
   ]
  },
  {
   "cell_type": "code",
   "execution_count": 29,
   "metadata": {
    "collapsed": true
   },
   "outputs": [],
   "source": [
    "df_yelp_business_w2v.to_csv('real_business_w2v_features_3_6')"
   ]
  },
  {
   "cell_type": "code",
   "execution_count": 30,
   "metadata": {
    "collapsed": true
   },
   "outputs": [],
   "source": [
    "df_yelp_business_less.to_csv('real_business_to_merge_with_reviews_3_4')"
   ]
  },
  {
   "cell_type": "code",
   "execution_count": 31,
   "metadata": {
    "collapsed": true
   },
   "outputs": [],
   "source": [
    "df_yelp_to_merge = pd.DataFrame()"
   ]
  },
  {
   "cell_type": "code",
   "execution_count": 32,
   "metadata": {
    "collapsed": true
   },
   "outputs": [],
   "source": [
    "df_yelp_to_merge['business_id'] = df_yelp_business_less['business_id']"
   ]
  },
  {
   "cell_type": "code",
   "execution_count": 35,
   "metadata": {
    "collapsed": true
   },
   "outputs": [],
   "source": [
    "df_yelp_to_merge.to_csv('df_yelp_to_merge.csv')"
   ]
  },
  {
   "cell_type": "code",
   "execution_count": 39,
   "metadata": {
    "collapsed": true
   },
   "outputs": [],
   "source": [
    "df_yelp_business.to_csv('real_business_to_merge_with_zillow')"
   ]
  }
 ],
 "metadata": {
  "kernelspec": {
   "display_name": "Python 3",
   "language": "python",
   "name": "python3"
  },
  "language_info": {
   "codemirror_mode": {
    "name": "ipython",
    "version": 3
   },
   "file_extension": ".py",
   "mimetype": "text/x-python",
   "name": "python",
   "nbconvert_exporter": "python",
   "pygments_lexer": "ipython3",
   "version": "3.6.1"
  }
 },
 "nbformat": 4,
 "nbformat_minor": 2
}
