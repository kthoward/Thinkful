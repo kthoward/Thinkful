{
 "cells": [
  {
   "cell_type": "code",
   "execution_count": 324,
   "metadata": {},
   "outputs": [],
   "source": [
    "import pandas as pd\n",
    "from datetime import datetime\n",
    "import numpy as np\n",
    "import json\n",
    "import glob\n",
    "import keras\n",
    "from datetime import timedelta\n",
    "from sklearn.model_selection import train_test_split\n",
    "from keras.models import Sequential\n",
    "from keras.layers import Dense, Flatten\n",
    "from keras.layers import Dropout\n",
    "import matplotlib.pyplot as plt\n",
    "from sklearn.preprocessing import normalize\n",
    "import json\n",
    "import seaborn as sns\n",
    "%matplotlib inline"
   ]
  },
  {
   "cell_type": "markdown",
   "metadata": {},
   "source": [
    "- Clean notebook to be only new \n",
    "- Be able to merge train features and train targets\n",
    "- same with test\n",
    "- be able to then split and run program\n",
    "- test for overfit\n",
    "- create additional features (business/extra features from swing/ extra features from bugs)\n",
    "- run reviews for NLP"
   ]
  },
  {
   "cell_type": "code",
   "execution_count": 325,
   "metadata": {
    "collapsed": true
   },
   "outputs": [],
   "source": [
    "list_of_file_names = glob.glob(\"./zip_2/*.csv\")"
   ]
  },
  {
   "cell_type": "code",
   "execution_count": 326,
   "metadata": {
    "collapsed": true
   },
   "outputs": [],
   "source": [
    "read_data_list_2 = []\n",
    "fail_list = []\n",
    "for i, data in enumerate(list_of_file_names):\n",
    "    try:\n",
    "        data = pd.read_csv(data)\n",
    "        #data = unicode(data, errors='replace')\n",
    "        read_data_list_2.append(data)\n",
    "    except UnicodeDecodeError:\n",
    "        fail_list.append(i)\n",
    "#read_data_list\n",
    "#fail_list\n",
    "list_of_file_names_org = list_of_file_names"
   ]
  },
  {
   "cell_type": "code",
   "execution_count": 327,
   "metadata": {},
   "outputs": [
    {
     "data": {
      "text/plain": [
       "[3]"
      ]
     },
     "execution_count": 327,
     "metadata": {},
     "output_type": "execute_result"
    }
   ],
   "source": [
    "fail_list"
   ]
  },
  {
   "cell_type": "code",
   "execution_count": 328,
   "metadata": {
    "collapsed": true
   },
   "outputs": [],
   "source": [
    "for x in fail_list:\n",
    "    del list_of_file_names[x]"
   ]
  },
  {
   "cell_type": "code",
   "execution_count": 329,
   "metadata": {},
   "outputs": [
    {
     "data": {
      "text/plain": [
       "'./zip_2/Zip_Listings_PriceCut_SeasAdj_AllHomes.csv'"
      ]
     },
     "execution_count": 329,
     "metadata": {},
     "output_type": "execute_result"
    }
   ],
   "source": [
    "list_of_file_names[3]"
   ]
  },
  {
   "cell_type": "code",
   "execution_count": 330,
   "metadata": {
    "collapsed": true
   },
   "outputs": [],
   "source": [
    "# build loop for data we can work with. Only dates and zip\n",
    "def build_useful_df(data_list):\n",
    "    useful_df = []\n",
    "    for dataset in range(len(data_list)):\n",
    "        data = read_data_list_2[dataset]\n",
    "        region_name = data['RegionName']\n",
    "        region_name = region_name.astype(str)\n",
    "        new_df = data.select_dtypes(include=['float64'])\n",
    "        new_df.insert(loc=0, column='RegionName', value=region_name) \n",
    "        new_df = new_df.sort_values('RegionName',ascending=False)\n",
    "        new_df = new_df.set_index('RegionName')\n",
    "        useful_df.append(new_df)\n",
    "    return useful_df"
   ]
  },
  {
   "cell_type": "code",
   "execution_count": 331,
   "metadata": {
    "collapsed": true
   },
   "outputs": [],
   "source": [
    "useful_df = build_useful_df(read_data_list_2)\n"
   ]
  },
  {
   "cell_type": "code",
   "execution_count": 332,
   "metadata": {
    "collapsed": true
   },
   "outputs": [],
   "source": [
    "sixteen_list = []\n",
    "for i, file in enumerate(useful_df):\n",
    "    if len(file) >= 10000:\n",
    "        sixteen_list.append(i)"
   ]
  },
  {
   "cell_type": "code",
   "execution_count": 333,
   "metadata": {},
   "outputs": [
    {
     "data": {
      "text/plain": [
       "30"
      ]
     },
     "execution_count": 333,
     "metadata": {},
     "output_type": "execute_result"
    }
   ],
   "source": [
    "len(sixteen_list)"
   ]
  },
  {
   "cell_type": "code",
   "execution_count": 334,
   "metadata": {
    "collapsed": true
   },
   "outputs": [],
   "source": [
    "good_columns = []\n",
    "for i, file in enumerate(useful_df):\n",
    "    columns = file.columns\n",
    "    if '2017-01' in columns:\n",
    "        good_columns.append(i)"
   ]
  },
  {
   "cell_type": "code",
   "execution_count": 335,
   "metadata": {},
   "outputs": [],
   "source": [
    "sixteen_good = []\n",
    "for num in sixteen_list:\n",
    "    if num in good_columns:\n",
    "        sixteen_good.append(num)"
   ]
  },
  {
   "cell_type": "code",
   "execution_count": 336,
   "metadata": {},
   "outputs": [
    {
     "data": {
      "text/plain": [
       "12"
      ]
     },
     "execution_count": 336,
     "metadata": {},
     "output_type": "execute_result"
    }
   ],
   "source": [
    "len(sixteen_good)"
   ]
  },
  {
   "cell_type": "code",
   "execution_count": 320,
   "metadata": {
    "collapsed": true
   },
   "outputs": [],
   "source": [
    "len(useful_df)\n",
    "for num in range(len(useful_df)):\n",
    "    useful_df[num].dropna(inplace=True)"
   ]
  },
  {
   "cell_type": "code",
   "execution_count": 337,
   "metadata": {
    "collapsed": true
   },
   "outputs": [],
   "source": [
    "target_data = useful_df[23]"
   ]
  },
  {
   "cell_type": "code",
   "execution_count": 338,
   "metadata": {
    "collapsed": true
   },
   "outputs": [],
   "source": [
    "final_data_list = []\n",
    "for i, data in enumerate(useful_df):\n",
    "    if i in sixteen_good:\n",
    "        final_data_list.append(data)"
   ]
  },
  {
   "cell_type": "code",
   "execution_count": 339,
   "metadata": {},
   "outputs": [
    {
     "data": {
      "text/plain": [
       "12960"
      ]
     },
     "execution_count": 339,
     "metadata": {},
     "output_type": "execute_result"
    }
   ],
   "source": [
    "len(final_data_list[4])"
   ]
  },
  {
   "cell_type": "code",
   "execution_count": 340,
   "metadata": {},
   "outputs": [
    {
     "data": {
      "text/html": [
       "<div>\n",
       "<style>\n",
       "    .dataframe thead tr:only-child th {\n",
       "        text-align: right;\n",
       "    }\n",
       "\n",
       "    .dataframe thead th {\n",
       "        text-align: left;\n",
       "    }\n",
       "\n",
       "    .dataframe tbody tr th {\n",
       "        vertical-align: top;\n",
       "    }\n",
       "</style>\n",
       "<table border=\"1\" class=\"dataframe\">\n",
       "  <thead>\n",
       "    <tr style=\"text-align: right;\">\n",
       "      <th></th>\n",
       "      <th>PctPriceCut</th>\n",
       "      <th>DaysOnMarket</th>\n",
       "      <th>BuyerSellerIndex</th>\n",
       "      <th>BuyerSellerIndexMetro</th>\n",
       "    </tr>\n",
       "    <tr>\n",
       "      <th>RegionName</th>\n",
       "      <th></th>\n",
       "      <th></th>\n",
       "      <th></th>\n",
       "      <th></th>\n",
       "    </tr>\n",
       "  </thead>\n",
       "  <tbody>\n",
       "    <tr>\n",
       "      <th>99654</th>\n",
       "      <td>11.142857</td>\n",
       "      <td>82.0</td>\n",
       "      <td>9.230769</td>\n",
       "      <td>7.260083</td>\n",
       "    </tr>\n",
       "    <tr>\n",
       "      <th>99645</th>\n",
       "      <td>7.589286</td>\n",
       "      <td>74.0</td>\n",
       "      <td>0.769231</td>\n",
       "      <td>7.260083</td>\n",
       "    </tr>\n",
       "    <tr>\n",
       "      <th>99577</th>\n",
       "      <td>8.108108</td>\n",
       "      <td>79.5</td>\n",
       "      <td>4.615385</td>\n",
       "      <td>7.260083</td>\n",
       "    </tr>\n",
       "    <tr>\n",
       "      <th>99567</th>\n",
       "      <td>9.836066</td>\n",
       "      <td>76.0</td>\n",
       "      <td>2.307692</td>\n",
       "      <td>7.260083</td>\n",
       "    </tr>\n",
       "    <tr>\n",
       "      <th>99518</th>\n",
       "      <td>14.925373</td>\n",
       "      <td>85.0</td>\n",
       "      <td>10.000000</td>\n",
       "      <td>7.260083</td>\n",
       "    </tr>\n",
       "  </tbody>\n",
       "</table>\n",
       "</div>"
      ],
      "text/plain": [
       "            PctPriceCut  DaysOnMarket  BuyerSellerIndex  BuyerSellerIndexMetro\n",
       "RegionName                                                                    \n",
       "99654         11.142857          82.0          9.230769               7.260083\n",
       "99645          7.589286          74.0          0.769231               7.260083\n",
       "99577          8.108108          79.5          4.615385               7.260083\n",
       "99567          9.836066          76.0          2.307692               7.260083\n",
       "99518         14.925373          85.0         10.000000               7.260083"
      ]
     },
     "execution_count": 340,
     "metadata": {},
     "output_type": "execute_result"
    }
   ],
   "source": [
    "# Docs that don't need feature engineering. They are already aggregates\n",
    "pure_features = [0, 71, 75, 77, 79, 81]\n",
    "useful_df[0].head()"
   ]
  },
  {
   "cell_type": "code",
   "execution_count": 383,
   "metadata": {},
   "outputs": [],
   "source": [
    "def make_features(df, past_time_string, now_string):\n",
    "    #df.dropna(inplace=True)\n",
    "    features = pd.DataFrame()\n",
    "    #features['RegionName'] = df['RegionName']\n",
    "    mean = df.loc[:, past_time_string : now_string].mean(axis=1)\n",
    "    features['mean'] = mean\n",
    "    std = df.loc[:, past_time_string : now_string].std(axis=1)\n",
    "    features['std'] = std\n",
    "    mn = df.loc[:, past_time_string : now_string].min(axis=1)\n",
    "    features['min'] = mn\n",
    "    mx = df.loc[:, past_time_string : now_string].max(axis=1)\n",
    "    features['max'] = mx\n",
    "    features['swing'] = mx - mn\n",
    "    change = df[now_string] - df[past_time_string]\n",
    "    features['change'] = change\n",
    "    mean_swing = features['swing'].mean()\n",
    "    features['swing_pos'] = np.where(features['swing']>mean_swing, 1, 0)\n",
    "    big_swing = features['swing'].std() + mean_swing\n",
    "    features['swing_big'] = np.where(features['swing']>big_swing, 1, 0)\n",
    "    features['swing_neg'] = np.where(features['swing']<mean_swing, 1, 0)\n",
    "    swing_big_loss = mean_swing - features['swing'].std() \n",
    "    features['swing_loss_big'] = np.where(features['swing']<swing_big_loss, 1, 0)\n",
    "    #features.dropna(inplace=True)\n",
    "    \n",
    "    #features = features.set_index(df.index)\n",
    "    #print(features.iloc[1, :])\n",
    "    return features\n",
    "    \n",
    "# List of data frames only on one now_time\n",
    "def make_modeling_data(df_list, df_for_target, now_string):\n",
    "    df_one = pd.DataFrame()\n",
    "    target = pd.DataFrame()\n",
    "    now_time = pd.to_datetime(now_string)\n",
    "    now_value = df_for_target[now_string]\n",
    "    future_time = now_time + timedelta(days=6*31)\n",
    "    future_time_string= future_time.strftime(\"%Y-%m\")\n",
    "    future_value = df_for_target[future_time_string]\n",
    "    target['target'] = future_value/now_value\n",
    "    \n",
    "    \n",
    "    past_time = now_time - timedelta(days=6*31)\n",
    "    past_time_string= past_time.strftime(\"%Y-%m\")\n",
    "    df_to_use_for_features_org= df_list[0].loc[:, :now_string]\n",
    "    features_org = make_features(df_to_use_for_features_org, past_time_string, now_string)\n",
    "    df_one = pd.merge(df_one, features_org, left_index=True, right_index=True, how = 'right')\n",
    "    for i, df in enumerate(df_list[1:]):\n",
    "        ind = str(i)\n",
    "        columns = df.columns\n",
    "        if '2011-01' in columns and '2012-01' in columns and '2013-01' in columns and '2014-01' in columns and '2015-01' in columns and '2016-01' in columns and '2017-01' in columns:\n",
    "            df_to_use_for_features= df.loc[:, :now_string]\n",
    "            features = make_features(df_to_use_for_features, past_time_string, now_string)\n",
    "            df_one = pd.merge(df_one, features, right_index=True, left_index=True, how='inner')\n",
    "    target = target.loc[df_one.index]    \n",
    "    #now_time = pd.to_datetime(now_string)\n",
    "    #now_value = df_for_target[now_string]\n",
    "    #future_time = now_time + timedelta(days=6*31)\n",
    "    #future_time_string= future_time.strftime(\"%Y-%m\")\n",
    "    #future_value = df_for_target[future_time_string]\n",
    "            #target = future_value/now_value\n",
    "\n",
    "    \n",
    "    return df_one, target\n",
    "\n",
    "\n",
    "\n",
    "\n",
    "test_features, test_targets = make_modeling_data(final_data_list, target_data, \"2017-06\")\n",
    "train_features, train_targets = make_modeling_data(final_data_list, target_data, \"2016-12\")\n",
    "extra_train_features_1, extra_train_targets_1 = make_modeling_data(final_data_list, target_data, '2016-06')\n",
    "train_features = train_features.append(extra_train_features_1)\n",
    "train_targets = train_targets.append(extra_train_targets_1)\n",
    "\n",
    "\n",
    "\n",
    "\n",
    "\n",
    "\n",
    "#df = useful_df[num]\n",
    "#columns = df.columns\n",
    "#\"2012\", \"2012\", \"2013\",\n",
    "date_counter = 0\n",
    "for year in [\"2012\", \"2013\", \"2014\", \"2015\"]:\n",
    "    for month in [\"06\",\"12\"]:\n",
    "            new_time = year+\"-\"+month\n",
    "            date_counter += 1\n",
    "            #if '2014-01' in columns and '2015-01' in columns and '2016-01' in columns and '2017-01' in columns:\n",
    "                    #extra_train_features, extra_train_targets = make_modeling_data(df, new_time)\n",
    "                    #train_features = train_features.append(extra_train_features)\n",
    "                    #train_targets = train_targets.append(extra_train_targets)\n",
    "            extra_train_features, extra_train_targets = make_modeling_data(final_data_list, target_data, new_time)\n",
    "            #extra_train_features.dropna(inplace=True)\n",
    "            train_features = train_features.append(extra_train_features)\n",
    "            train_targets = train_targets.append(extra_train_targets)"
   ]
  },
  {
   "cell_type": "code",
   "execution_count": 384,
   "metadata": {},
   "outputs": [
    {
     "data": {
      "text/plain": [
       "(55110, 1)"
      ]
     },
     "execution_count": 384,
     "metadata": {},
     "output_type": "execute_result"
    }
   ],
   "source": [
    "train_targets.shape"
   ]
  },
  {
   "cell_type": "code",
   "execution_count": 386,
   "metadata": {},
   "outputs": [
    {
     "data": {
      "text/plain": [
       "(55110, 120)"
      ]
     },
     "execution_count": 386,
     "metadata": {},
     "output_type": "execute_result"
    }
   ],
   "source": [
    "train_features.shape"
   ]
  },
  {
   "cell_type": "code",
   "execution_count": 170,
   "metadata": {
    "collapsed": true
   },
   "outputs": [],
   "source": [
    "test_features.to_csv('test_features_to_merge_final.csv')"
   ]
  },
  {
   "cell_type": "code",
   "execution_count": 385,
   "metadata": {},
   "outputs": [
    {
     "data": {
      "text/html": [
       "<div>\n",
       "<style>\n",
       "    .dataframe thead tr:only-child th {\n",
       "        text-align: right;\n",
       "    }\n",
       "\n",
       "    .dataframe thead th {\n",
       "        text-align: left;\n",
       "    }\n",
       "\n",
       "    .dataframe tbody tr th {\n",
       "        vertical-align: top;\n",
       "    }\n",
       "</style>\n",
       "<table border=\"1\" class=\"dataframe\">\n",
       "  <thead>\n",
       "    <tr style=\"text-align: right;\">\n",
       "      <th></th>\n",
       "      <th>target</th>\n",
       "    </tr>\n",
       "    <tr>\n",
       "      <th>RegionName</th>\n",
       "      <th></th>\n",
       "    </tr>\n",
       "  </thead>\n",
       "  <tbody>\n",
       "    <tr>\n",
       "      <th>99362</th>\n",
       "      <td>1.053118</td>\n",
       "    </tr>\n",
       "    <tr>\n",
       "      <th>99353</th>\n",
       "      <td>1.087944</td>\n",
       "    </tr>\n",
       "    <tr>\n",
       "      <th>99352</th>\n",
       "      <td>1.068541</td>\n",
       "    </tr>\n",
       "    <tr>\n",
       "      <th>99338</th>\n",
       "      <td>1.099950</td>\n",
       "    </tr>\n",
       "    <tr>\n",
       "      <th>99337</th>\n",
       "      <td>1.056829</td>\n",
       "    </tr>\n",
       "  </tbody>\n",
       "</table>\n",
       "</div>"
      ],
      "text/plain": [
       "              target\n",
       "RegionName          \n",
       "99362       1.053118\n",
       "99353       1.087944\n",
       "99352       1.068541\n",
       "99338       1.099950\n",
       "99337       1.056829"
      ]
     },
     "execution_count": 385,
     "metadata": {},
     "output_type": "execute_result"
    }
   ],
   "source": [
    "train_targets.head()"
   ]
  },
  {
   "cell_type": "markdown",
   "metadata": {},
   "source": [
    "#### Have not worked on w2v today; focused on business"
   ]
  },
  {
   "cell_type": "code",
   "execution_count": 115,
   "metadata": {
    "collapsed": true
   },
   "outputs": [],
   "source": [
    "w2v_features = pd.read_csv('w2v_for_features')"
   ]
  },
  {
   "cell_type": "code",
   "execution_count": 41,
   "metadata": {
    "collapsed": true
   },
   "outputs": [],
   "source": [
    "w2v_features['zips'] = w2v_features['zips'].astype(str)"
   ]
  },
  {
   "cell_type": "code",
   "execution_count": 46,
   "metadata": {},
   "outputs": [
    {
     "data": {
      "text/plain": [
       "(55, 501)"
      ]
     },
     "execution_count": 46,
     "metadata": {},
     "output_type": "execute_result"
    }
   ],
   "source": [
    "w2v_features.shape"
   ]
  },
  {
   "cell_type": "code",
   "execution_count": 42,
   "metadata": {
    "collapsed": true
   },
   "outputs": [],
   "source": [
    "w2v_features.index = w2v_features['zips']"
   ]
  },
  {
   "cell_type": "code",
   "execution_count": 43,
   "metadata": {
    "collapsed": true
   },
   "outputs": [],
   "source": [
    "w2v_features = w2v_features.iloc[:, 1:]"
   ]
  },
  {
   "cell_type": "code",
   "execution_count": 44,
   "metadata": {},
   "outputs": [
    {
     "data": {
      "text/plain": [
       "(55, 500)"
      ]
     },
     "execution_count": 44,
     "metadata": {},
     "output_type": "execute_result"
    }
   ],
   "source": [
    "w2v_features.shape"
   ]
  },
  {
   "cell_type": "markdown",
   "metadata": {},
   "source": [
    "#### Here is where business is imported"
   ]
  },
  {
   "cell_type": "code",
   "execution_count": 387,
   "metadata": {
    "collapsed": true
   },
   "outputs": [],
   "source": [
    "# Up to date business features where all rows are a singular zipcode\n",
    "business_features = pd.read_csv('real_business_features_3_4')"
   ]
  },
  {
   "cell_type": "code",
   "execution_count": 388,
   "metadata": {},
   "outputs": [
    {
     "data": {
      "text/plain": [
       "959"
      ]
     },
     "execution_count": 388,
     "metadata": {},
     "output_type": "execute_result"
    }
   ],
   "source": [
    "len(business_features)"
   ]
  },
  {
   "cell_type": "code",
   "execution_count": 389,
   "metadata": {},
   "outputs": [
    {
     "name": "stdout",
     "output_type": "stream",
     "text": [
      "<class 'pandas.core.frame.DataFrame'>\n",
      "RangeIndex: 959 entries, 0 to 958\n",
      "Data columns (total 11 columns):\n",
      "postal_code             959 non-null int64\n",
      "is_open                 959 non-null float64\n",
      "latitude                959 non-null float64\n",
      "longitude               959 non-null float64\n",
      "review_count            959 non-null float64\n",
      "stars                   959 non-null float64\n",
      "average_review_count    959 non-null float64\n",
      "business_count          959 non-null float64\n",
      "zip_review_count        959 non-null float64\n",
      "average_review_max      959 non-null float64\n",
      "average_review_min      959 non-null float64\n",
      "dtypes: float64(10), int64(1)\n",
      "memory usage: 82.5 KB\n"
     ]
    }
   ],
   "source": [
    "business_features.info()"
   ]
  },
  {
   "cell_type": "code",
   "execution_count": 390,
   "metadata": {},
   "outputs": [
    {
     "data": {
      "text/plain": [
       "(959, 11)"
      ]
     },
     "execution_count": 390,
     "metadata": {},
     "output_type": "execute_result"
    }
   ],
   "source": [
    "business_features.shape"
   ]
  },
  {
   "cell_type": "code",
   "execution_count": 391,
   "metadata": {
    "collapsed": true
   },
   "outputs": [],
   "source": [
    "business_features['postal_code'] = business_features['postal_code'].astype(str)"
   ]
  },
  {
   "cell_type": "code",
   "execution_count": 392,
   "metadata": {},
   "outputs": [
    {
     "data": {
      "text/plain": [
       "959"
      ]
     },
     "execution_count": 392,
     "metadata": {},
     "output_type": "execute_result"
    }
   ],
   "source": [
    "business_features['postal_code'].nunique()"
   ]
  },
  {
   "cell_type": "code",
   "execution_count": 393,
   "metadata": {
    "collapsed": true
   },
   "outputs": [],
   "source": [
    "business_features = business_features.set_index('postal_code')"
   ]
  },
  {
   "cell_type": "code",
   "execution_count": 394,
   "metadata": {},
   "outputs": [
    {
     "data": {
      "text/html": [
       "<div>\n",
       "<style>\n",
       "    .dataframe thead tr:only-child th {\n",
       "        text-align: right;\n",
       "    }\n",
       "\n",
       "    .dataframe thead th {\n",
       "        text-align: left;\n",
       "    }\n",
       "\n",
       "    .dataframe tbody tr th {\n",
       "        vertical-align: top;\n",
       "    }\n",
       "</style>\n",
       "<table border=\"1\" class=\"dataframe\">\n",
       "  <thead>\n",
       "    <tr style=\"text-align: right;\">\n",
       "      <th></th>\n",
       "      <th>is_open</th>\n",
       "      <th>latitude</th>\n",
       "      <th>longitude</th>\n",
       "      <th>review_count</th>\n",
       "      <th>stars</th>\n",
       "      <th>average_review_count</th>\n",
       "      <th>business_count</th>\n",
       "      <th>zip_review_count</th>\n",
       "      <th>average_review_max</th>\n",
       "      <th>average_review_min</th>\n",
       "    </tr>\n",
       "    <tr>\n",
       "      <th>postal_code</th>\n",
       "      <th></th>\n",
       "      <th></th>\n",
       "      <th></th>\n",
       "      <th></th>\n",
       "      <th></th>\n",
       "      <th></th>\n",
       "      <th></th>\n",
       "      <th></th>\n",
       "      <th></th>\n",
       "      <th></th>\n",
       "    </tr>\n",
       "  </thead>\n",
       "  <tbody>\n",
       "    <tr>\n",
       "      <th>2224</th>\n",
       "      <td>1.0</td>\n",
       "      <td>41.499208</td>\n",
       "      <td>-81.536689</td>\n",
       "      <td>7.000000</td>\n",
       "      <td>2.500000</td>\n",
       "      <td>7.000000</td>\n",
       "      <td>1.0</td>\n",
       "      <td>7.0</td>\n",
       "      <td>7.0</td>\n",
       "      <td>7.0</td>\n",
       "    </tr>\n",
       "    <tr>\n",
       "      <th>5440</th>\n",
       "      <td>1.0</td>\n",
       "      <td>44.964078</td>\n",
       "      <td>-73.285549</td>\n",
       "      <td>4.000000</td>\n",
       "      <td>4.250000</td>\n",
       "      <td>4.000000</td>\n",
       "      <td>2.0</td>\n",
       "      <td>8.0</td>\n",
       "      <td>5.0</td>\n",
       "      <td>3.0</td>\n",
       "    </tr>\n",
       "    <tr>\n",
       "      <th>5452</th>\n",
       "      <td>1.0</td>\n",
       "      <td>40.780821</td>\n",
       "      <td>-74.150722</td>\n",
       "      <td>49.000000</td>\n",
       "      <td>4.000000</td>\n",
       "      <td>49.000000</td>\n",
       "      <td>1.0</td>\n",
       "      <td>49.0</td>\n",
       "      <td>49.0</td>\n",
       "      <td>49.0</td>\n",
       "    </tr>\n",
       "    <tr>\n",
       "      <th>6618</th>\n",
       "      <td>1.0</td>\n",
       "      <td>51.083200</td>\n",
       "      <td>11.858200</td>\n",
       "      <td>8.000000</td>\n",
       "      <td>3.500000</td>\n",
       "      <td>8.000000</td>\n",
       "      <td>1.0</td>\n",
       "      <td>8.0</td>\n",
       "      <td>8.0</td>\n",
       "      <td>8.0</td>\n",
       "    </tr>\n",
       "    <tr>\n",
       "      <th>6632</th>\n",
       "      <td>1.0</td>\n",
       "      <td>51.213256</td>\n",
       "      <td>11.763245</td>\n",
       "      <td>5.888889</td>\n",
       "      <td>4.222222</td>\n",
       "      <td>5.888889</td>\n",
       "      <td>9.0</td>\n",
       "      <td>53.0</td>\n",
       "      <td>8.0</td>\n",
       "      <td>3.0</td>\n",
       "    </tr>\n",
       "  </tbody>\n",
       "</table>\n",
       "</div>"
      ],
      "text/plain": [
       "             is_open   latitude  longitude  review_count     stars  \\\n",
       "postal_code                                                          \n",
       "2224             1.0  41.499208 -81.536689      7.000000  2.500000   \n",
       "5440             1.0  44.964078 -73.285549      4.000000  4.250000   \n",
       "5452             1.0  40.780821 -74.150722     49.000000  4.000000   \n",
       "6618             1.0  51.083200  11.858200      8.000000  3.500000   \n",
       "6632             1.0  51.213256  11.763245      5.888889  4.222222   \n",
       "\n",
       "             average_review_count  business_count  zip_review_count  \\\n",
       "postal_code                                                           \n",
       "2224                     7.000000             1.0               7.0   \n",
       "5440                     4.000000             2.0               8.0   \n",
       "5452                    49.000000             1.0              49.0   \n",
       "6618                     8.000000             1.0               8.0   \n",
       "6632                     5.888889             9.0              53.0   \n",
       "\n",
       "             average_review_max  average_review_min  \n",
       "postal_code                                          \n",
       "2224                        7.0                 7.0  \n",
       "5440                        5.0                 3.0  \n",
       "5452                       49.0                49.0  \n",
       "6618                        8.0                 8.0  \n",
       "6632                        8.0                 3.0  "
      ]
     },
     "execution_count": 394,
     "metadata": {},
     "output_type": "execute_result"
    }
   ],
   "source": [
    "business_features.head()"
   ]
  },
  {
   "cell_type": "code",
   "execution_count": 395,
   "metadata": {},
   "outputs": [
    {
     "data": {
      "text/plain": [
       "(55110, 120)"
      ]
     },
     "execution_count": 395,
     "metadata": {},
     "output_type": "execute_result"
    }
   ],
   "source": [
    "train_features.shape"
   ]
  },
  {
   "cell_type": "code",
   "execution_count": 396,
   "metadata": {},
   "outputs": [],
   "source": [
    "train_features = train_features.reset_index()"
   ]
  },
  {
   "cell_type": "code",
   "execution_count": 397,
   "metadata": {
    "collapsed": true
   },
   "outputs": [],
   "source": [
    "test_features = test_features.reset_index()"
   ]
  },
  {
   "cell_type": "code",
   "execution_count": 398,
   "metadata": {},
   "outputs": [
    {
     "data": {
      "text/plain": [
       "5511"
      ]
     },
     "execution_count": 398,
     "metadata": {},
     "output_type": "execute_result"
    }
   ],
   "source": [
    "len(test_features)"
   ]
  },
  {
   "cell_type": "code",
   "execution_count": 399,
   "metadata": {
    "collapsed": true
   },
   "outputs": [],
   "source": [
    "train_targets = train_targets.reset_index()"
   ]
  },
  {
   "cell_type": "code",
   "execution_count": 400,
   "metadata": {
    "collapsed": true
   },
   "outputs": [],
   "source": [
    "test_targets = test_targets.reset_index()"
   ]
  },
  {
   "cell_type": "code",
   "execution_count": 401,
   "metadata": {},
   "outputs": [],
   "source": [
    "business_features_index = business_features.index.unique()"
   ]
  },
  {
   "cell_type": "code",
   "execution_count": 402,
   "metadata": {},
   "outputs": [],
   "source": [
    "region_name_list = train_features['RegionName'].unique()"
   ]
  },
  {
   "cell_type": "code",
   "execution_count": 403,
   "metadata": {
    "collapsed": true
   },
   "outputs": [],
   "source": [
    "shared_list = []\n",
    "for zipc in business_features_index:\n",
    "    if zipc in region_name_list:\n",
    "        shared_list.append(zipc)"
   ]
  },
  {
   "cell_type": "code",
   "execution_count": 404,
   "metadata": {},
   "outputs": [
    {
     "data": {
      "text/plain": [
       "333"
      ]
     },
     "execution_count": 404,
     "metadata": {},
     "output_type": "execute_result"
    }
   ],
   "source": [
    "len(shared_list)"
   ]
  },
  {
   "cell_type": "code",
   "execution_count": 405,
   "metadata": {},
   "outputs": [
    {
     "data": {
      "text/plain": [
       "55110"
      ]
     },
     "execution_count": 405,
     "metadata": {},
     "output_type": "execute_result"
    }
   ],
   "source": [
    "len(train_features)"
   ]
  },
  {
   "cell_type": "code",
   "execution_count": 406,
   "metadata": {
    "collapsed": true
   },
   "outputs": [],
   "source": [
    "# Merging on index for train features and targets so it doesn't multiply \n",
    "train_merge = pd.merge(train_features, train_targets, right_index=True, left_index=True, how='inner')"
   ]
  },
  {
   "cell_type": "code",
   "execution_count": 407,
   "metadata": {
    "collapsed": true
   },
   "outputs": [],
   "source": [
    "test_merge = pd.merge(test_features, test_targets, right_index=True, left_index=True, how='inner')"
   ]
  },
  {
   "cell_type": "code",
   "execution_count": 408,
   "metadata": {},
   "outputs": [
    {
     "data": {
      "text/plain": [
       "55110"
      ]
     },
     "execution_count": 408,
     "metadata": {},
     "output_type": "execute_result"
    }
   ],
   "source": [
    "len(train_merge)"
   ]
  },
  {
   "cell_type": "code",
   "execution_count": 409,
   "metadata": {},
   "outputs": [
    {
     "data": {
      "text/html": [
       "<div>\n",
       "<style>\n",
       "    .dataframe thead tr:only-child th {\n",
       "        text-align: right;\n",
       "    }\n",
       "\n",
       "    .dataframe thead th {\n",
       "        text-align: left;\n",
       "    }\n",
       "\n",
       "    .dataframe tbody tr th {\n",
       "        vertical-align: top;\n",
       "    }\n",
       "</style>\n",
       "<table border=\"1\" class=\"dataframe\">\n",
       "  <thead>\n",
       "    <tr style=\"text-align: right;\">\n",
       "      <th></th>\n",
       "      <th>RegionName_x</th>\n",
       "      <th>mean_x</th>\n",
       "      <th>std_x</th>\n",
       "      <th>min_x</th>\n",
       "      <th>max_x</th>\n",
       "      <th>swing_x</th>\n",
       "      <th>change_x</th>\n",
       "      <th>swing_pos_x</th>\n",
       "      <th>swing_big_x</th>\n",
       "      <th>swing_neg_x</th>\n",
       "      <th>...</th>\n",
       "      <th>min_y</th>\n",
       "      <th>max_y</th>\n",
       "      <th>swing_y</th>\n",
       "      <th>change_y</th>\n",
       "      <th>swing_pos_y</th>\n",
       "      <th>swing_big_y</th>\n",
       "      <th>swing_neg_y</th>\n",
       "      <th>swing_loss_big_y</th>\n",
       "      <th>RegionName_y</th>\n",
       "      <th>target</th>\n",
       "    </tr>\n",
       "  </thead>\n",
       "  <tbody>\n",
       "    <tr>\n",
       "      <th>0</th>\n",
       "      <td>99362</td>\n",
       "      <td>9.899305</td>\n",
       "      <td>2.694838</td>\n",
       "      <td>7.225547</td>\n",
       "      <td>15.562721</td>\n",
       "      <td>8.337174</td>\n",
       "      <td>-8.337174</td>\n",
       "      <td>0</td>\n",
       "      <td>0</td>\n",
       "      <td>1</td>\n",
       "      <td>...</td>\n",
       "      <td>0.874</td>\n",
       "      <td>0.894</td>\n",
       "      <td>0.020</td>\n",
       "      <td>0.018</td>\n",
       "      <td>0</td>\n",
       "      <td>0</td>\n",
       "      <td>1</td>\n",
       "      <td>0</td>\n",
       "      <td>99362</td>\n",
       "      <td>1.000168</td>\n",
       "    </tr>\n",
       "    <tr>\n",
       "      <th>1</th>\n",
       "      <td>99353</td>\n",
       "      <td>12.713502</td>\n",
       "      <td>4.201132</td>\n",
       "      <td>8.701869</td>\n",
       "      <td>20.788350</td>\n",
       "      <td>12.086481</td>\n",
       "      <td>6.728607</td>\n",
       "      <td>1</td>\n",
       "      <td>1</td>\n",
       "      <td>0</td>\n",
       "      <td>...</td>\n",
       "      <td>0.874</td>\n",
       "      <td>0.886</td>\n",
       "      <td>0.012</td>\n",
       "      <td>-0.010</td>\n",
       "      <td>0</td>\n",
       "      <td>0</td>\n",
       "      <td>1</td>\n",
       "      <td>0</td>\n",
       "      <td>99353</td>\n",
       "      <td>1.137133</td>\n",
       "    </tr>\n",
       "    <tr>\n",
       "      <th>2</th>\n",
       "      <td>99352</td>\n",
       "      <td>13.114296</td>\n",
       "      <td>2.222078</td>\n",
       "      <td>10.907130</td>\n",
       "      <td>17.667674</td>\n",
       "      <td>6.760545</td>\n",
       "      <td>2.172499</td>\n",
       "      <td>0</td>\n",
       "      <td>0</td>\n",
       "      <td>1</td>\n",
       "      <td>...</td>\n",
       "      <td>0.900</td>\n",
       "      <td>0.908</td>\n",
       "      <td>0.008</td>\n",
       "      <td>-0.004</td>\n",
       "      <td>0</td>\n",
       "      <td>0</td>\n",
       "      <td>1</td>\n",
       "      <td>0</td>\n",
       "      <td>99352</td>\n",
       "      <td>1.011334</td>\n",
       "    </tr>\n",
       "    <tr>\n",
       "      <th>3</th>\n",
       "      <td>99338</td>\n",
       "      <td>10.337470</td>\n",
       "      <td>2.859324</td>\n",
       "      <td>6.462035</td>\n",
       "      <td>15.113417</td>\n",
       "      <td>8.651382</td>\n",
       "      <td>-1.678754</td>\n",
       "      <td>1</td>\n",
       "      <td>0</td>\n",
       "      <td>0</td>\n",
       "      <td>...</td>\n",
       "      <td>0.884</td>\n",
       "      <td>0.896</td>\n",
       "      <td>0.012</td>\n",
       "      <td>0.008</td>\n",
       "      <td>0</td>\n",
       "      <td>0</td>\n",
       "      <td>1</td>\n",
       "      <td>0</td>\n",
       "      <td>99338</td>\n",
       "      <td>1.014762</td>\n",
       "    </tr>\n",
       "    <tr>\n",
       "      <th>4</th>\n",
       "      <td>99337</td>\n",
       "      <td>12.309892</td>\n",
       "      <td>3.922309</td>\n",
       "      <td>7.724349</td>\n",
       "      <td>18.444138</td>\n",
       "      <td>10.719789</td>\n",
       "      <td>-6.511823</td>\n",
       "      <td>1</td>\n",
       "      <td>0</td>\n",
       "      <td>0</td>\n",
       "      <td>...</td>\n",
       "      <td>0.878</td>\n",
       "      <td>0.890</td>\n",
       "      <td>0.012</td>\n",
       "      <td>0.012</td>\n",
       "      <td>0</td>\n",
       "      <td>0</td>\n",
       "      <td>1</td>\n",
       "      <td>0</td>\n",
       "      <td>99337</td>\n",
       "      <td>1.062254</td>\n",
       "    </tr>\n",
       "  </tbody>\n",
       "</table>\n",
       "<p>5 rows × 123 columns</p>\n",
       "</div>"
      ],
      "text/plain": [
       "  RegionName_x     mean_x     std_x      min_x      max_x    swing_x  \\\n",
       "0        99362   9.899305  2.694838   7.225547  15.562721   8.337174   \n",
       "1        99353  12.713502  4.201132   8.701869  20.788350  12.086481   \n",
       "2        99352  13.114296  2.222078  10.907130  17.667674   6.760545   \n",
       "3        99338  10.337470  2.859324   6.462035  15.113417   8.651382   \n",
       "4        99337  12.309892  3.922309   7.724349  18.444138  10.719789   \n",
       "\n",
       "   change_x  swing_pos_x  swing_big_x  swing_neg_x    ...     min_y  max_y  \\\n",
       "0 -8.337174            0            0            1    ...     0.874  0.894   \n",
       "1  6.728607            1            1            0    ...     0.874  0.886   \n",
       "2  2.172499            0            0            1    ...     0.900  0.908   \n",
       "3 -1.678754            1            0            0    ...     0.884  0.896   \n",
       "4 -6.511823            1            0            0    ...     0.878  0.890   \n",
       "\n",
       "   swing_y  change_y  swing_pos_y  swing_big_y  swing_neg_y  swing_loss_big_y  \\\n",
       "0    0.020     0.018            0            0            1                 0   \n",
       "1    0.012    -0.010            0            0            1                 0   \n",
       "2    0.008    -0.004            0            0            1                 0   \n",
       "3    0.012     0.008            0            0            1                 0   \n",
       "4    0.012     0.012            0            0            1                 0   \n",
       "\n",
       "   RegionName_y    target  \n",
       "0         99362  1.000168  \n",
       "1         99353  1.137133  \n",
       "2         99352  1.011334  \n",
       "3         99338  1.014762  \n",
       "4         99337  1.062254  \n",
       "\n",
       "[5 rows x 123 columns]"
      ]
     },
     "execution_count": 409,
     "metadata": {},
     "output_type": "execute_result"
    }
   ],
   "source": [
    "test_merge.head()"
   ]
  },
  {
   "cell_type": "code",
   "execution_count": 410,
   "metadata": {
    "collapsed": true
   },
   "outputs": [],
   "source": [
    "train_merge = train_merge.set_index('RegionName_x')"
   ]
  },
  {
   "cell_type": "code",
   "execution_count": 411,
   "metadata": {
    "collapsed": true
   },
   "outputs": [],
   "source": [
    "test_merge = test_merge.set_index('RegionName_x')"
   ]
  },
  {
   "cell_type": "code",
   "execution_count": 412,
   "metadata": {},
   "outputs": [
    {
     "data": {
      "text/plain": [
       "(55110, 122)"
      ]
     },
     "execution_count": 412,
     "metadata": {},
     "output_type": "execute_result"
    }
   ],
   "source": [
    "train_merge.shape"
   ]
  },
  {
   "cell_type": "code",
   "execution_count": 413,
   "metadata": {},
   "outputs": [
    {
     "name": "stdout",
     "output_type": "stream",
     "text": [
      "<class 'pandas.core.frame.DataFrame'>\n",
      "Index: 55110 entries, 99362 to 1001\n",
      "Columns: 122 entries, mean_x to target\n",
      "dtypes: float64(73), int64(48), object(1)\n",
      "memory usage: 51.7+ MB\n"
     ]
    }
   ],
   "source": [
    "train_merge.info()"
   ]
  },
  {
   "cell_type": "raw",
   "metadata": {},
   "source": []
  },
  {
   "cell_type": "code",
   "execution_count": 414,
   "metadata": {},
   "outputs": [
    {
     "data": {
      "text/plain": [
       "(959, 10)"
      ]
     },
     "execution_count": 414,
     "metadata": {},
     "output_type": "execute_result"
    }
   ],
   "source": [
    "business_features.shape"
   ]
  },
  {
   "cell_type": "code",
   "execution_count": 415,
   "metadata": {},
   "outputs": [
    {
     "data": {
      "text/plain": [
       "5511"
      ]
     },
     "execution_count": 415,
     "metadata": {},
     "output_type": "execute_result"
    }
   ],
   "source": [
    "train_merge['RegionName_y'].nunique()"
   ]
  },
  {
   "cell_type": "code",
   "execution_count": 416,
   "metadata": {
    "collapsed": true
   },
   "outputs": [],
   "source": [
    "business_train_merge = pd.merge(train_merge, business_features, right_index=True, left_index=True, how='inner')"
   ]
  },
  {
   "cell_type": "code",
   "execution_count": 417,
   "metadata": {
    "collapsed": true
   },
   "outputs": [],
   "source": [
    "business_test_merge = pd.merge(test_merge, business_features, right_index=True, left_index=True, how='inner')"
   ]
  },
  {
   "cell_type": "code",
   "execution_count": 418,
   "metadata": {},
   "outputs": [
    {
     "data": {
      "text/plain": [
       "(3330, 132)"
      ]
     },
     "execution_count": 418,
     "metadata": {},
     "output_type": "execute_result"
    }
   ],
   "source": [
    "# This should have all instances of the train and test. \n",
    "business_train_merge.shape"
   ]
  },
  {
   "cell_type": "code",
   "execution_count": 303,
   "metadata": {},
   "outputs": [
    {
     "data": {
      "text/html": [
       "<div>\n",
       "<style>\n",
       "    .dataframe thead tr:only-child th {\n",
       "        text-align: right;\n",
       "    }\n",
       "\n",
       "    .dataframe thead th {\n",
       "        text-align: left;\n",
       "    }\n",
       "\n",
       "    .dataframe tbody tr th {\n",
       "        vertical-align: top;\n",
       "    }\n",
       "</style>\n",
       "<table border=\"1\" class=\"dataframe\">\n",
       "  <thead>\n",
       "    <tr style=\"text-align: right;\">\n",
       "      <th></th>\n",
       "      <th>mean_x</th>\n",
       "      <th>std_x</th>\n",
       "      <th>min_x</th>\n",
       "      <th>max_x</th>\n",
       "      <th>swing_x</th>\n",
       "      <th>change_x</th>\n",
       "      <th>swing_pos_x</th>\n",
       "      <th>swing_big_x</th>\n",
       "      <th>swing_neg_x</th>\n",
       "      <th>swing_loss_big_x</th>\n",
       "      <th>...</th>\n",
       "      <th>is_open</th>\n",
       "      <th>latitude</th>\n",
       "      <th>longitude</th>\n",
       "      <th>review_count</th>\n",
       "      <th>stars</th>\n",
       "      <th>average_review_count</th>\n",
       "      <th>business_count</th>\n",
       "      <th>zip_review_count</th>\n",
       "      <th>average_review_max</th>\n",
       "      <th>average_review_min</th>\n",
       "    </tr>\n",
       "  </thead>\n",
       "  <tbody>\n",
       "    <tr>\n",
       "      <th>15003</th>\n",
       "      <td>14.181132</td>\n",
       "      <td>2.147629</td>\n",
       "      <td>11.537536</td>\n",
       "      <td>18.258360</td>\n",
       "      <td>6.720823</td>\n",
       "      <td>-1.803249</td>\n",
       "      <td>0</td>\n",
       "      <td>0</td>\n",
       "      <td>1</td>\n",
       "      <td>0</td>\n",
       "      <td>...</td>\n",
       "      <td>0.916667</td>\n",
       "      <td>40.598250</td>\n",
       "      <td>-80.223206</td>\n",
       "      <td>10.861111</td>\n",
       "      <td>3.958333</td>\n",
       "      <td>10.861111</td>\n",
       "      <td>36.0</td>\n",
       "      <td>391.0</td>\n",
       "      <td>50.0</td>\n",
       "      <td>3.0</td>\n",
       "    </tr>\n",
       "    <tr>\n",
       "      <th>15003</th>\n",
       "      <td>15.011149</td>\n",
       "      <td>3.868854</td>\n",
       "      <td>8.586176</td>\n",
       "      <td>21.331859</td>\n",
       "      <td>12.745683</td>\n",
       "      <td>-3.823192</td>\n",
       "      <td>1</td>\n",
       "      <td>1</td>\n",
       "      <td>0</td>\n",
       "      <td>0</td>\n",
       "      <td>...</td>\n",
       "      <td>0.916667</td>\n",
       "      <td>40.598250</td>\n",
       "      <td>-80.223206</td>\n",
       "      <td>10.861111</td>\n",
       "      <td>3.958333</td>\n",
       "      <td>10.861111</td>\n",
       "      <td>36.0</td>\n",
       "      <td>391.0</td>\n",
       "      <td>50.0</td>\n",
       "      <td>3.0</td>\n",
       "    </tr>\n",
       "    <tr>\n",
       "      <th>15003</th>\n",
       "      <td>13.066543</td>\n",
       "      <td>2.749281</td>\n",
       "      <td>9.918464</td>\n",
       "      <td>18.321159</td>\n",
       "      <td>8.402695</td>\n",
       "      <td>-1.485973</td>\n",
       "      <td>1</td>\n",
       "      <td>0</td>\n",
       "      <td>0</td>\n",
       "      <td>0</td>\n",
       "      <td>...</td>\n",
       "      <td>0.916667</td>\n",
       "      <td>40.598250</td>\n",
       "      <td>-80.223206</td>\n",
       "      <td>10.861111</td>\n",
       "      <td>3.958333</td>\n",
       "      <td>10.861111</td>\n",
       "      <td>36.0</td>\n",
       "      <td>391.0</td>\n",
       "      <td>50.0</td>\n",
       "      <td>3.0</td>\n",
       "    </tr>\n",
       "    <tr>\n",
       "      <th>15003</th>\n",
       "      <td>14.267149</td>\n",
       "      <td>3.381999</td>\n",
       "      <td>9.615653</td>\n",
       "      <td>19.912455</td>\n",
       "      <td>10.296802</td>\n",
       "      <td>-3.850137</td>\n",
       "      <td>1</td>\n",
       "      <td>0</td>\n",
       "      <td>0</td>\n",
       "      <td>0</td>\n",
       "      <td>...</td>\n",
       "      <td>0.916667</td>\n",
       "      <td>40.598250</td>\n",
       "      <td>-80.223206</td>\n",
       "      <td>10.861111</td>\n",
       "      <td>3.958333</td>\n",
       "      <td>10.861111</td>\n",
       "      <td>36.0</td>\n",
       "      <td>391.0</td>\n",
       "      <td>50.0</td>\n",
       "      <td>3.0</td>\n",
       "    </tr>\n",
       "    <tr>\n",
       "      <th>15003</th>\n",
       "      <td>15.460086</td>\n",
       "      <td>3.876415</td>\n",
       "      <td>9.615653</td>\n",
       "      <td>20.093610</td>\n",
       "      <td>10.477957</td>\n",
       "      <td>8.783796</td>\n",
       "      <td>1</td>\n",
       "      <td>0</td>\n",
       "      <td>0</td>\n",
       "      <td>0</td>\n",
       "      <td>...</td>\n",
       "      <td>0.916667</td>\n",
       "      <td>40.598250</td>\n",
       "      <td>-80.223206</td>\n",
       "      <td>10.861111</td>\n",
       "      <td>3.958333</td>\n",
       "      <td>10.861111</td>\n",
       "      <td>36.0</td>\n",
       "      <td>391.0</td>\n",
       "      <td>50.0</td>\n",
       "      <td>3.0</td>\n",
       "    </tr>\n",
       "    <tr>\n",
       "      <th>15003</th>\n",
       "      <td>16.248923</td>\n",
       "      <td>2.768642</td>\n",
       "      <td>11.968512</td>\n",
       "      <td>21.010779</td>\n",
       "      <td>9.042267</td>\n",
       "      <td>2.144157</td>\n",
       "      <td>1</td>\n",
       "      <td>0</td>\n",
       "      <td>0</td>\n",
       "      <td>0</td>\n",
       "      <td>...</td>\n",
       "      <td>0.916667</td>\n",
       "      <td>40.598250</td>\n",
       "      <td>-80.223206</td>\n",
       "      <td>10.861111</td>\n",
       "      <td>3.958333</td>\n",
       "      <td>10.861111</td>\n",
       "      <td>36.0</td>\n",
       "      <td>391.0</td>\n",
       "      <td>50.0</td>\n",
       "      <td>3.0</td>\n",
       "    </tr>\n",
       "    <tr>\n",
       "      <th>15003</th>\n",
       "      <td>16.116125</td>\n",
       "      <td>4.855846</td>\n",
       "      <td>8.884885</td>\n",
       "      <td>24.155285</td>\n",
       "      <td>15.270400</td>\n",
       "      <td>2.256744</td>\n",
       "      <td>1</td>\n",
       "      <td>1</td>\n",
       "      <td>0</td>\n",
       "      <td>0</td>\n",
       "      <td>...</td>\n",
       "      <td>0.916667</td>\n",
       "      <td>40.598250</td>\n",
       "      <td>-80.223206</td>\n",
       "      <td>10.861111</td>\n",
       "      <td>3.958333</td>\n",
       "      <td>10.861111</td>\n",
       "      <td>36.0</td>\n",
       "      <td>391.0</td>\n",
       "      <td>50.0</td>\n",
       "      <td>3.0</td>\n",
       "    </tr>\n",
       "    <tr>\n",
       "      <th>15003</th>\n",
       "      <td>16.885622</td>\n",
       "      <td>3.206663</td>\n",
       "      <td>13.813915</td>\n",
       "      <td>24.155285</td>\n",
       "      <td>10.341370</td>\n",
       "      <td>-8.362070</td>\n",
       "      <td>1</td>\n",
       "      <td>0</td>\n",
       "      <td>0</td>\n",
       "      <td>0</td>\n",
       "      <td>...</td>\n",
       "      <td>0.916667</td>\n",
       "      <td>40.598250</td>\n",
       "      <td>-80.223206</td>\n",
       "      <td>10.861111</td>\n",
       "      <td>3.958333</td>\n",
       "      <td>10.861111</td>\n",
       "      <td>36.0</td>\n",
       "      <td>391.0</td>\n",
       "      <td>50.0</td>\n",
       "      <td>3.0</td>\n",
       "    </tr>\n",
       "    <tr>\n",
       "      <th>15003</th>\n",
       "      <td>13.163923</td>\n",
       "      <td>2.375110</td>\n",
       "      <td>9.706724</td>\n",
       "      <td>16.074128</td>\n",
       "      <td>6.367404</td>\n",
       "      <td>-2.375702</td>\n",
       "      <td>0</td>\n",
       "      <td>0</td>\n",
       "      <td>1</td>\n",
       "      <td>0</td>\n",
       "      <td>...</td>\n",
       "      <td>0.916667</td>\n",
       "      <td>40.598250</td>\n",
       "      <td>-80.223206</td>\n",
       "      <td>10.861111</td>\n",
       "      <td>3.958333</td>\n",
       "      <td>10.861111</td>\n",
       "      <td>36.0</td>\n",
       "      <td>391.0</td>\n",
       "      <td>50.0</td>\n",
       "      <td>3.0</td>\n",
       "    </tr>\n",
       "    <tr>\n",
       "      <th>15003</th>\n",
       "      <td>14.980037</td>\n",
       "      <td>2.924676</td>\n",
       "      <td>9.706724</td>\n",
       "      <td>19.470481</td>\n",
       "      <td>9.763757</td>\n",
       "      <td>8.018858</td>\n",
       "      <td>1</td>\n",
       "      <td>0</td>\n",
       "      <td>0</td>\n",
       "      <td>0</td>\n",
       "      <td>...</td>\n",
       "      <td>0.916667</td>\n",
       "      <td>40.598250</td>\n",
       "      <td>-80.223206</td>\n",
       "      <td>10.861111</td>\n",
       "      <td>3.958333</td>\n",
       "      <td>10.861111</td>\n",
       "      <td>36.0</td>\n",
       "      <td>391.0</td>\n",
       "      <td>50.0</td>\n",
       "      <td>3.0</td>\n",
       "    </tr>\n",
       "    <tr>\n",
       "      <th>15009</th>\n",
       "      <td>14.761129</td>\n",
       "      <td>2.839089</td>\n",
       "      <td>9.485934</td>\n",
       "      <td>18.903844</td>\n",
       "      <td>9.417910</td>\n",
       "      <td>-3.535707</td>\n",
       "      <td>1</td>\n",
       "      <td>0</td>\n",
       "      <td>0</td>\n",
       "      <td>0</td>\n",
       "      <td>...</td>\n",
       "      <td>1.000000</td>\n",
       "      <td>40.698469</td>\n",
       "      <td>-80.293171</td>\n",
       "      <td>4.000000</td>\n",
       "      <td>2.000000</td>\n",
       "      <td>4.000000</td>\n",
       "      <td>1.0</td>\n",
       "      <td>4.0</td>\n",
       "      <td>4.0</td>\n",
       "      <td>4.0</td>\n",
       "    </tr>\n",
       "  </tbody>\n",
       "</table>\n",
       "<p>11 rows × 71 columns</p>\n",
       "</div>"
      ],
      "text/plain": [
       "          mean_x     std_x      min_x      max_x    swing_x  change_x  \\\n",
       "15003  14.181132  2.147629  11.537536  18.258360   6.720823 -1.803249   \n",
       "15003  15.011149  3.868854   8.586176  21.331859  12.745683 -3.823192   \n",
       "15003  13.066543  2.749281   9.918464  18.321159   8.402695 -1.485973   \n",
       "15003  14.267149  3.381999   9.615653  19.912455  10.296802 -3.850137   \n",
       "15003  15.460086  3.876415   9.615653  20.093610  10.477957  8.783796   \n",
       "15003  16.248923  2.768642  11.968512  21.010779   9.042267  2.144157   \n",
       "15003  16.116125  4.855846   8.884885  24.155285  15.270400  2.256744   \n",
       "15003  16.885622  3.206663  13.813915  24.155285  10.341370 -8.362070   \n",
       "15003  13.163923  2.375110   9.706724  16.074128   6.367404 -2.375702   \n",
       "15003  14.980037  2.924676   9.706724  19.470481   9.763757  8.018858   \n",
       "15009  14.761129  2.839089   9.485934  18.903844   9.417910 -3.535707   \n",
       "\n",
       "       swing_pos_x  swing_big_x  swing_neg_x  swing_loss_big_x  \\\n",
       "15003            0            0            1                 0   \n",
       "15003            1            1            0                 0   \n",
       "15003            1            0            0                 0   \n",
       "15003            1            0            0                 0   \n",
       "15003            1            0            0                 0   \n",
       "15003            1            0            0                 0   \n",
       "15003            1            1            0                 0   \n",
       "15003            1            0            0                 0   \n",
       "15003            0            0            1                 0   \n",
       "15003            1            0            0                 0   \n",
       "15009            1            0            0                 0   \n",
       "\n",
       "              ...           is_open   latitude  longitude  review_count  \\\n",
       "15003         ...          0.916667  40.598250 -80.223206     10.861111   \n",
       "15003         ...          0.916667  40.598250 -80.223206     10.861111   \n",
       "15003         ...          0.916667  40.598250 -80.223206     10.861111   \n",
       "15003         ...          0.916667  40.598250 -80.223206     10.861111   \n",
       "15003         ...          0.916667  40.598250 -80.223206     10.861111   \n",
       "15003         ...          0.916667  40.598250 -80.223206     10.861111   \n",
       "15003         ...          0.916667  40.598250 -80.223206     10.861111   \n",
       "15003         ...          0.916667  40.598250 -80.223206     10.861111   \n",
       "15003         ...          0.916667  40.598250 -80.223206     10.861111   \n",
       "15003         ...          0.916667  40.598250 -80.223206     10.861111   \n",
       "15009         ...          1.000000  40.698469 -80.293171      4.000000   \n",
       "\n",
       "          stars  average_review_count  business_count  zip_review_count  \\\n",
       "15003  3.958333             10.861111            36.0             391.0   \n",
       "15003  3.958333             10.861111            36.0             391.0   \n",
       "15003  3.958333             10.861111            36.0             391.0   \n",
       "15003  3.958333             10.861111            36.0             391.0   \n",
       "15003  3.958333             10.861111            36.0             391.0   \n",
       "15003  3.958333             10.861111            36.0             391.0   \n",
       "15003  3.958333             10.861111            36.0             391.0   \n",
       "15003  3.958333             10.861111            36.0             391.0   \n",
       "15003  3.958333             10.861111            36.0             391.0   \n",
       "15003  3.958333             10.861111            36.0             391.0   \n",
       "15009  2.000000              4.000000             1.0               4.0   \n",
       "\n",
       "       average_review_max  average_review_min  \n",
       "15003                50.0                 3.0  \n",
       "15003                50.0                 3.0  \n",
       "15003                50.0                 3.0  \n",
       "15003                50.0                 3.0  \n",
       "15003                50.0                 3.0  \n",
       "15003                50.0                 3.0  \n",
       "15003                50.0                 3.0  \n",
       "15003                50.0                 3.0  \n",
       "15003                50.0                 3.0  \n",
       "15003                50.0                 3.0  \n",
       "15009                 4.0                 4.0  \n",
       "\n",
       "[11 rows x 71 columns]"
      ]
     },
     "execution_count": 303,
     "metadata": {},
     "output_type": "execute_result"
    }
   ],
   "source": [
    "# Is it ok that I have multiple of the aggregated information from Yelp?\n",
    "business_train_merge.head(11)"
   ]
  },
  {
   "cell_type": "code",
   "execution_count": 323,
   "metadata": {
    "collapsed": true
   },
   "outputs": [],
   "source": [
    "X_train = train_merge.iloc[:, :-1].values\n",
    "y_train = train_merge.iloc[:, -1].values\n",
    "X_test = test_merge.iloc[:, :-1].values\n",
    "y_test = test_merge.iloc[:, -1].values"
   ]
  },
  {
   "cell_type": "markdown",
   "metadata": {},
   "source": [
    "### Most up to date Business attempt\n",
    "- Why is y glitching with NaN?\n",
    "- Update I have not removed any NaN's yet"
   ]
  },
  {
   "cell_type": "code",
   "execution_count": 419,
   "metadata": {},
   "outputs": [],
   "source": [
    "business_train_merge.dropna(inplace=True)"
   ]
  },
  {
   "cell_type": "code",
   "execution_count": 420,
   "metadata": {
    "collapsed": true
   },
   "outputs": [],
   "source": [
    "business_test_merge.dropna(inplace=True)"
   ]
  },
  {
   "cell_type": "code",
   "execution_count": 421,
   "metadata": {},
   "outputs": [
    {
     "name": "stdout",
     "output_type": "stream",
     "text": [
      "<class 'pandas.core.frame.DataFrame'>\n",
      "Index: 331 entries, 95966 to 15003\n",
      "Columns: 132 entries, mean_x to average_review_min\n",
      "dtypes: float64(83), int64(48), object(1)\n",
      "memory usage: 343.9+ KB\n"
     ]
    }
   ],
   "source": [
    "# 169 zipcodes in common after dropna. Had about double that before\n",
    "business_test_merge.info()"
   ]
  },
  {
   "cell_type": "code",
   "execution_count": 422,
   "metadata": {
    "collapsed": true
   },
   "outputs": [],
   "source": [
    "# Setting up train and test\n",
    "business_train_merge = business_train_merge.drop('RegionName_y', 1)\n",
    "business_test_merge = business_test_merge.drop('RegionName_y', 1)\n",
    "y_train_business = business_train_merge.loc[:, 'target'].values\n",
    "y_test_business = business_test_merge.loc[:, 'target'].values\n",
    "business_train = pd.DataFrame()\n",
    "business_train_features = business_train_merge.drop('target', 1).values\n",
    "X_train_business = pd.DataFrame()\n",
    "X_train_business = business_train_features\n",
    "X_test_business_features = pd.DataFrame()\n",
    "X_test_business_features = business_test_merge.drop('target', 1).values\n",
    "X_test_business = pd.DataFrame()\n",
    "X_test_business = X_test_business_features"
   ]
  },
  {
   "cell_type": "code",
   "execution_count": 423,
   "metadata": {},
   "outputs": [
    {
     "data": {
      "text/plain": [
       "(331, 130)"
      ]
     },
     "execution_count": 423,
     "metadata": {},
     "output_type": "execute_result"
    }
   ],
   "source": [
    "X_test_business.shape"
   ]
  },
  {
   "cell_type": "code",
   "execution_count": 399,
   "metadata": {
    "collapsed": true
   },
   "outputs": [],
   "source": [
    "#For w2v import\n",
    "X_train_w2v = train_merge_w2v.iloc[:, :-1].values\n",
    "y_train_w2v = train_merge_w2v.iloc[:, -1].values\n",
    "X_test_w2v = test_merge_w2v.iloc[:, :-1].values\n",
    "y_test_w2v = test_merge_w2v.iloc[:, -1].values"
   ]
  },
  {
   "cell_type": "code",
   "execution_count": 400,
   "metadata": {},
   "outputs": [
    {
     "data": {
      "text/plain": [
       "(5400, 610)"
      ]
     },
     "execution_count": 400,
     "metadata": {},
     "output_type": "execute_result"
    }
   ],
   "source": [
    "X_train_w2v.shape"
   ]
  },
  {
   "cell_type": "code",
   "execution_count": 424,
   "metadata": {
    "collapsed": true
   },
   "outputs": [],
   "source": [
    "def norm_per_column(X):\n",
    "    new_array = []\n",
    "    shape = X.shape\n",
    "    columns = shape[1]\n",
    "    for num in range(columns):\n",
    "        mx = X[:, num].max()\n",
    "        if mx == 0:\n",
    "            new_array.append(X[:, num])\n",
    "        else:\n",
    "            X[:, num] = X[:, num] / mx\n",
    "            new_array.append(X[:, num])\n",
    "    new_array = np.array(new_array)\n",
    "    new_array = np.transpose(new_array)\n",
    "    return new_array"
   ]
  },
  {
   "cell_type": "code",
   "execution_count": 327,
   "metadata": {
    "collapsed": true
   },
   "outputs": [],
   "source": [
    "X_train = norm_per_column(X_train)\n",
    "X_test = norm_per_column(X_test)"
   ]
  },
  {
   "cell_type": "code",
   "execution_count": 425,
   "metadata": {},
   "outputs": [],
   "source": [
    "X_train_business = norm_per_column(X_train_business)\n",
    "X_test_business = norm_per_column(X_test_business)"
   ]
  },
  {
   "cell_type": "code",
   "execution_count": 401,
   "metadata": {
    "collapsed": true
   },
   "outputs": [],
   "source": [
    "X_train_w2v = norm_per_column(X_train_w2v)\n",
    "X_test_w2v = norm_per_column(X_test_w2v)"
   ]
  },
  {
   "cell_type": "code",
   "execution_count": 291,
   "metadata": {},
   "outputs": [
    {
     "data": {
      "text/plain": [
       "(169, 70)"
      ]
     },
     "execution_count": 291,
     "metadata": {},
     "output_type": "execute_result"
    }
   ],
   "source": [
    "y_train_business.shape"
   ]
  },
  {
   "cell_type": "code",
   "execution_count": 62,
   "metadata": {
    "collapsed": true
   },
   "outputs": [],
   "source": [
    "# Hold overfit model for now\n",
    "model = Sequential()\n",
    "model.add(Dense(3000, input_shape=(110,), activation='relu'))\n",
    "model.add(Dense(2000, activation='relu'))\n",
    "model.add(Dense(256, activation='relu'))\n",
    "model.add(Dense(128, activation='relu'))\n",
    "model.add(Dense(128, activation='relu'))\n",
    "model.add(Dense(1, activation='linear'))\n",
    "sgd = keras.optimizers.SGD(lr=0.75)\n",
    "model.compile(optimizer='Adam',\n",
    "              loss='mean_squared_error')"
   ]
  },
  {
   "cell_type": "code",
   "execution_count": 81,
   "metadata": {
    "collapsed": true
   },
   "outputs": [],
   "source": [
    "model = Sequential()\n",
    "model.add(Dense(1000, input_shape=(110,), activation='relu'))\n",
    "model.add(Dense(1000, activation='relu'))\n",
    "model.add(Dense(256, activation='relu'))\n",
    "model.add(Dense(128, activation='relu'))\n",
    "model.add(Dense(128, activation='relu'))\n",
    "model.add(Dense(1, activation='linear'))\n",
    "sgd = keras.optimizers.SGD(lr=0.75)\n",
    "model.compile(optimizer='Adam',\n",
    "              loss='mean_squared_error')"
   ]
  },
  {
   "cell_type": "code",
   "execution_count": 83,
   "metadata": {},
   "outputs": [
    {
     "name": "stdout",
     "output_type": "stream",
     "text": [
      "Train on 126808 samples, validate on 1048 samples\n",
      "Epoch 1/40\n",
      "126808/126808 [==============================] - 31s 247us/step - loss: 0.0025 - val_loss: 0.0050\n",
      "Epoch 2/40\n",
      "126808/126808 [==============================] - 31s 244us/step - loss: 0.0025 - val_loss: 0.0040\n",
      "Epoch 3/40\n",
      "126808/126808 [==============================] - 31s 244us/step - loss: 0.0025 - val_loss: 0.0052\n",
      "Epoch 4/40\n",
      "126808/126808 [==============================] - 31s 244us/step - loss: 0.0025 - val_loss: 0.0049\n",
      "Epoch 5/40\n",
      "126808/126808 [==============================] - 31s 245us/step - loss: 0.0025 - val_loss: 0.0042\n",
      "Epoch 6/40\n",
      "126808/126808 [==============================] - 31s 247us/step - loss: 0.0025 - val_loss: 0.0056\n",
      "Epoch 7/40\n",
      "126808/126808 [==============================] - 31s 246us/step - loss: 0.0025 - val_loss: 0.0073\n",
      "Epoch 8/40\n",
      "126808/126808 [==============================] - 31s 245us/step - loss: 0.0025 - val_loss: 0.0057\n",
      "Epoch 9/40\n",
      "126808/126808 [==============================] - 31s 244us/step - loss: 0.0025 - val_loss: 0.0055\n",
      "Epoch 10/40\n",
      "126808/126808 [==============================] - 31s 244us/step - loss: 0.0024 - val_loss: 0.0050\n",
      "Epoch 11/40\n",
      "126808/126808 [==============================] - 31s 246us/step - loss: 0.0024 - val_loss: 0.0059\n",
      "Epoch 12/40\n",
      "126808/126808 [==============================] - 31s 244us/step - loss: 0.0024 - val_loss: 0.0053\n",
      "Epoch 13/40\n",
      "126808/126808 [==============================] - 31s 245us/step - loss: 0.0024 - val_loss: 0.0038\n",
      "Epoch 14/40\n",
      "126808/126808 [==============================] - 31s 246us/step - loss: 0.0025 - val_loss: 0.0043\n",
      "Epoch 15/40\n",
      "126808/126808 [==============================] - 31s 244us/step - loss: 0.0024 - val_loss: 0.0050\n",
      "Epoch 16/40\n",
      "126808/126808 [==============================] - 31s 243us/step - loss: 0.0024 - val_loss: 0.0048\n",
      "Epoch 17/40\n",
      "126808/126808 [==============================] - 31s 245us/step - loss: 0.0024 - val_loss: 0.0051\n",
      "Epoch 18/40\n",
      "126808/126808 [==============================] - 31s 244us/step - loss: 0.0024 - val_loss: 0.0051\n",
      "Epoch 19/40\n",
      "126808/126808 [==============================] - 31s 244us/step - loss: 0.0024 - val_loss: 0.0055\n",
      "Epoch 20/40\n",
      "126808/126808 [==============================] - 31s 245us/step - loss: 0.0024 - val_loss: 0.0042\n",
      "Epoch 21/40\n",
      "126808/126808 [==============================] - 31s 244us/step - loss: 0.0024 - val_loss: 0.0058\n",
      "Epoch 22/40\n",
      "126808/126808 [==============================] - 31s 245us/step - loss: 0.0025 - val_loss: 0.0045\n",
      "Epoch 23/40\n",
      "126808/126808 [==============================] - 31s 245us/step - loss: 0.0025 - val_loss: 0.0032\n",
      "Epoch 24/40\n",
      "126808/126808 [==============================] - 31s 244us/step - loss: 0.0026 - val_loss: 0.0039\n",
      "Epoch 25/40\n",
      "126808/126808 [==============================] - 31s 246us/step - loss: 0.0024 - val_loss: 0.0068\n",
      "Epoch 26/40\n",
      "126808/126808 [==============================] - 31s 245us/step - loss: 0.0024 - val_loss: 0.0051\n",
      "Epoch 27/40\n",
      "126808/126808 [==============================] - 31s 244us/step - loss: 0.0024 - val_loss: 0.0056\n",
      "Epoch 28/40\n",
      "126808/126808 [==============================] - 31s 243us/step - loss: 0.0024 - val_loss: 0.0055\n",
      "Epoch 29/40\n",
      "126808/126808 [==============================] - 31s 245us/step - loss: 0.0026 - val_loss: 0.0041\n",
      "Epoch 30/40\n",
      "126808/126808 [==============================] - 31s 245us/step - loss: 0.0025 - val_loss: 0.0058\n",
      "Epoch 31/40\n",
      "126808/126808 [==============================] - 31s 244us/step - loss: 0.0024 - val_loss: 0.0043\n",
      "Epoch 32/40\n",
      "126808/126808 [==============================] - 31s 244us/step - loss: 0.0024 - val_loss: 0.0063\n",
      "Epoch 33/40\n",
      "126808/126808 [==============================] - 31s 245us/step - loss: 0.0025 - val_loss: 0.0043\n",
      "Epoch 34/40\n",
      "126808/126808 [==============================] - 31s 246us/step - loss: 0.0025 - val_loss: 0.0049\n",
      "Epoch 35/40\n",
      "126808/126808 [==============================] - 31s 243us/step - loss: 0.0026 - val_loss: 0.0046\n",
      "Epoch 36/40\n",
      "126808/126808 [==============================] - 31s 244us/step - loss: 0.0025 - val_loss: 0.0054\n",
      "Epoch 37/40\n",
      "126808/126808 [==============================] - 31s 244us/step - loss: 0.0024 - val_loss: 0.0051\n",
      "Epoch 38/40\n",
      "126808/126808 [==============================] - 31s 244us/step - loss: 0.0024 - val_loss: 0.0060\n",
      "Epoch 39/40\n",
      "126808/126808 [==============================] - 31s 244us/step - loss: 0.0024 - val_loss: 0.0047\n",
      "Epoch 40/40\n",
      "126808/126808 [==============================] - 31s 245us/step - loss: 0.0025 - val_loss: 0.0053\n"
     ]
    },
    {
     "data": {
      "text/plain": [
       "<keras.callbacks.History at 0x15e8dcd30>"
      ]
     },
     "execution_count": 83,
     "metadata": {},
     "output_type": "execute_result"
    }
   ],
   "source": [
    "model.fit(x=X_train, y=y_train, \n",
    "          batch_size=5000, \n",
    "          epochs=40, \n",
    "          verbose=1, \n",
    "          validation_data=(X_test, y_test),\n",
    "          callbacks=None)"
   ]
  },
  {
   "cell_type": "code",
   "execution_count": null,
   "metadata": {
    "collapsed": true
   },
   "outputs": [],
   "source": [
    "#loss = .00001441 (overfit) = .0038\n",
    "\n",
    "#std = .072"
   ]
  },
  {
   "cell_type": "code",
   "execution_count": 428,
   "metadata": {
    "collapsed": true
   },
   "outputs": [],
   "source": [
    "model = Sequential()\n",
    "model.add(Dense(3000, input_shape=(130,), activation='relu'))\n",
    "model.add(Dense(2000, activation='relu'))\n",
    "model.add(Dense(256, activation='relu'))\n",
    "model.add(Dense(128, activation='relu'))\n",
    "model.add(Dense(128, activation='relu'))\n",
    "model.add(Dense(1, activation='linear'))\n",
    "sgd = keras.optimizers.SGD(lr=0.75)\n",
    "model.compile(optimizer='Adam',\n",
    "              loss='mean_squared_error')"
   ]
  },
  {
   "cell_type": "code",
   "execution_count": 429,
   "metadata": {},
   "outputs": [
    {
     "name": "stdout",
     "output_type": "stream",
     "text": [
      "Train on 2187 samples, validate on 331 samples\n",
      "Epoch 1/40\n",
      "2187/2187 [==============================] - 4s 2ms/step - loss: 1.2322 - val_loss: 2.1528\n",
      "Epoch 2/40\n",
      "2187/2187 [==============================] - 3s 1ms/step - loss: 1.9971 - val_loss: 0.2972\n",
      "Epoch 3/40\n",
      "2187/2187 [==============================] - 3s 1ms/step - loss: 0.3186 - val_loss: 0.0314\n",
      "Epoch 4/40\n",
      "2187/2187 [==============================] - 3s 1ms/step - loss: 0.0320 - val_loss: 0.1145\n",
      "Epoch 5/40\n",
      "2187/2187 [==============================] - 3s 1ms/step - loss: 0.1030 - val_loss: 0.1072\n",
      "Epoch 6/40\n",
      "2187/2187 [==============================] - 3s 1ms/step - loss: 0.1235 - val_loss: 0.0181\n",
      "Epoch 7/40\n",
      "2187/2187 [==============================] - 3s 1ms/step - loss: 0.0236 - val_loss: 0.1243\n",
      "Epoch 8/40\n",
      "2187/2187 [==============================] - 3s 1ms/step - loss: 0.1099 - val_loss: 0.0258\n",
      "Epoch 9/40\n",
      "2187/2187 [==============================] - 3s 1ms/step - loss: 0.0352 - val_loss: 0.0521\n",
      "Epoch 10/40\n",
      "2187/2187 [==============================] - 3s 1ms/step - loss: 0.0651 - val_loss: 0.0458\n",
      "Epoch 11/40\n",
      "2187/2187 [==============================] - 3s 1ms/step - loss: 0.0410 - val_loss: 0.0461\n",
      "Epoch 12/40\n",
      "2187/2187 [==============================] - 3s 1ms/step - loss: 0.0409 - val_loss: 0.0307\n",
      "Epoch 13/40\n",
      "2187/2187 [==============================] - 3s 1ms/step - loss: 0.0401 - val_loss: 0.0210\n",
      "Epoch 14/40\n",
      "2187/2187 [==============================] - 3s 1ms/step - loss: 0.0282 - val_loss: 0.0410\n",
      "Epoch 15/40\n",
      "2187/2187 [==============================] - 3s 1ms/step - loss: 0.0359 - val_loss: 0.0198\n",
      "Epoch 16/40\n",
      "2187/2187 [==============================] - 3s 1ms/step - loss: 0.0194 - val_loss: 0.0229\n",
      "Epoch 17/40\n",
      "2187/2187 [==============================] - 3s 1ms/step - loss: 0.0312 - val_loss: 0.0123\n",
      "Epoch 18/40\n",
      "2187/2187 [==============================] - 3s 1ms/step - loss: 0.0146 - val_loss: 0.0376\n",
      "Epoch 19/40\n",
      "2187/2187 [==============================] - 3s 1ms/step - loss: 0.0292 - val_loss: 0.0099\n",
      "Epoch 20/40\n",
      "2187/2187 [==============================] - 3s 1ms/step - loss: 0.0124 - val_loss: 0.0138\n",
      "Epoch 21/40\n",
      "2187/2187 [==============================] - 3s 1ms/step - loss: 0.0210 - val_loss: 0.0184\n",
      "Epoch 22/40\n",
      "2187/2187 [==============================] - 3s 1ms/step - loss: 0.0130 - val_loss: 0.0193\n",
      "Epoch 23/40\n",
      "2187/2187 [==============================] - 3s 1ms/step - loss: 0.0129 - val_loss: 0.0095\n",
      "Epoch 24/40\n",
      "2187/2187 [==============================] - 3s 1ms/step - loss: 0.0164 - val_loss: 0.0067\n",
      "Epoch 25/40\n",
      "2187/2187 [==============================] - 3s 1ms/step - loss: 0.0069 - val_loss: 0.0264\n",
      "Epoch 26/40\n",
      "2187/2187 [==============================] - 3s 1ms/step - loss: 0.0156 - val_loss: 0.0053\n",
      "Epoch 27/40\n",
      "2187/2187 [==============================] - 3s 1ms/step - loss: 0.0086 - val_loss: 0.0050\n",
      "Epoch 28/40\n",
      "2187/2187 [==============================] - 3s 1ms/step - loss: 0.0085 - val_loss: 0.0223\n",
      "Epoch 29/40\n",
      "2187/2187 [==============================] - 3s 1ms/step - loss: 0.0119 - val_loss: 0.0061\n",
      "Epoch 30/40\n",
      "2187/2187 [==============================] - 3s 1ms/step - loss: 0.0049 - val_loss: 0.0046\n",
      "Epoch 31/40\n",
      "2187/2187 [==============================] - 3s 1ms/step - loss: 0.0094 - val_loss: 0.0183\n",
      "Epoch 32/40\n",
      "2187/2187 [==============================] - 3s 1ms/step - loss: 0.0086 - val_loss: 0.0079\n",
      "Epoch 33/40\n",
      "2187/2187 [==============================] - 3s 1ms/step - loss: 0.0043 - val_loss: 0.0043\n",
      "Epoch 34/40\n",
      "2187/2187 [==============================] - 3s 1ms/step - loss: 0.0085 - val_loss: 0.0154\n",
      "Epoch 35/40\n",
      "2187/2187 [==============================] - 3s 1ms/step - loss: 0.0065 - val_loss: 0.0084\n",
      "Epoch 36/40\n",
      "2187/2187 [==============================] - 3s 1ms/step - loss: 0.0039 - val_loss: 0.0040\n",
      "Epoch 37/40\n",
      "2187/2187 [==============================] - 3s 1ms/step - loss: 0.0072 - val_loss: 0.0148\n",
      "Epoch 38/40\n",
      "2187/2187 [==============================] - 3s 1ms/step - loss: 0.0060 - val_loss: 0.0074\n",
      "Epoch 39/40\n",
      "2187/2187 [==============================] - 3s 1ms/step - loss: 0.0036 - val_loss: 0.0039\n",
      "Epoch 40/40\n",
      "2187/2187 [==============================] - 3s 1ms/step - loss: 0.0059 - val_loss: 0.0138\n"
     ]
    },
    {
     "data": {
      "text/plain": [
       "<keras.callbacks.History at 0x1a97a8dd8>"
      ]
     },
     "execution_count": 429,
     "metadata": {},
     "output_type": "execute_result"
    }
   ],
   "source": [
    "model.fit(x=X_train_business, y=y_train_business, \n",
    "          batch_size=5000, \n",
    "          epochs=40, \n",
    "          verbose=1, \n",
    "          validation_data=(X_test_business, y_test_business),\n",
    "          callbacks=None)"
   ]
  },
  {
   "cell_type": "code",
   "execution_count": 403,
   "metadata": {
    "collapsed": true
   },
   "outputs": [],
   "source": [
    "model = Sequential()\n",
    "model.add(Dense(3000, input_shape=(610,), activation='relu'))\n",
    "model.add(Dense(2000, activation='relu'))\n",
    "model.add(Dense(256, activation='relu'))\n",
    "model.add(Dense(128, activation='relu'))\n",
    "model.add(Dense(128, activation='relu'))\n",
    "model.add(Dense(1, activation='linear'))\n",
    "sgd = keras.optimizers.SGD(lr=0.75)\n",
    "model.compile(optimizer='Adam',\n",
    "              loss='mean_squared_error')"
   ]
  },
  {
   "cell_type": "code",
   "execution_count": 405,
   "metadata": {},
   "outputs": [
    {
     "name": "stdout",
     "output_type": "stream",
     "text": [
      "Train on 5400 samples, validate on 55 samples\n",
      "Epoch 1/40\n",
      "5400/5400 [==============================] - 7s 1ms/step - loss: 0.0039 - val_loss: nan\n",
      "Epoch 2/40\n",
      "5400/5400 [==============================] - 7s 1ms/step - loss: 0.0038 - val_loss: nan\n",
      "Epoch 3/40\n",
      "5400/5400 [==============================] - 7s 1ms/step - loss: 0.0038 - val_loss: nan\n",
      "Epoch 4/40\n",
      "5400/5400 [==============================] - 7s 1ms/step - loss: 0.0037 - val_loss: nan\n",
      "Epoch 5/40\n"
     ]
    },
    {
     "ename": "KeyboardInterrupt",
     "evalue": "",
     "output_type": "error",
     "traceback": [
      "\u001b[0;31m---------------------------------------------------------------------------\u001b[0m",
      "\u001b[0;31mKeyboardInterrupt\u001b[0m                         Traceback (most recent call last)",
      "\u001b[0;32m<ipython-input-405-9d0a995dd2b1>\u001b[0m in \u001b[0;36m<module>\u001b[0;34m()\u001b[0m\n\u001b[1;32m      4\u001b[0m           \u001b[0mverbose\u001b[0m\u001b[0;34m=\u001b[0m\u001b[0;36m1\u001b[0m\u001b[0;34m,\u001b[0m\u001b[0;34m\u001b[0m\u001b[0m\n\u001b[1;32m      5\u001b[0m           \u001b[0mvalidation_data\u001b[0m\u001b[0;34m=\u001b[0m\u001b[0;34m(\u001b[0m\u001b[0mX_test_w2v\u001b[0m\u001b[0;34m,\u001b[0m \u001b[0my_test_w2v\u001b[0m\u001b[0;34m)\u001b[0m\u001b[0;34m,\u001b[0m\u001b[0;34m\u001b[0m\u001b[0m\n\u001b[0;32m----> 6\u001b[0;31m           callbacks=None)\n\u001b[0m",
      "\u001b[0;32m~/Desktop/Thinkful/anaconda/lib/python3.6/site-packages/keras/models.py\u001b[0m in \u001b[0;36mfit\u001b[0;34m(self, x, y, batch_size, epochs, verbose, callbacks, validation_split, validation_data, shuffle, class_weight, sample_weight, initial_epoch, steps_per_epoch, validation_steps, **kwargs)\u001b[0m\n\u001b[1;32m    958\u001b[0m                               \u001b[0minitial_epoch\u001b[0m\u001b[0;34m=\u001b[0m\u001b[0minitial_epoch\u001b[0m\u001b[0;34m,\u001b[0m\u001b[0;34m\u001b[0m\u001b[0m\n\u001b[1;32m    959\u001b[0m                               \u001b[0msteps_per_epoch\u001b[0m\u001b[0;34m=\u001b[0m\u001b[0msteps_per_epoch\u001b[0m\u001b[0;34m,\u001b[0m\u001b[0;34m\u001b[0m\u001b[0m\n\u001b[0;32m--> 960\u001b[0;31m                               validation_steps=validation_steps)\n\u001b[0m\u001b[1;32m    961\u001b[0m \u001b[0;34m\u001b[0m\u001b[0m\n\u001b[1;32m    962\u001b[0m     def evaluate(self, x, y, batch_size=32, verbose=1,\n",
      "\u001b[0;32m~/Desktop/Thinkful/anaconda/lib/python3.6/site-packages/keras/engine/training.py\u001b[0m in \u001b[0;36mfit\u001b[0;34m(self, x, y, batch_size, epochs, verbose, callbacks, validation_split, validation_data, shuffle, class_weight, sample_weight, initial_epoch, steps_per_epoch, validation_steps, **kwargs)\u001b[0m\n\u001b[1;32m   1655\u001b[0m                               \u001b[0minitial_epoch\u001b[0m\u001b[0;34m=\u001b[0m\u001b[0minitial_epoch\u001b[0m\u001b[0;34m,\u001b[0m\u001b[0;34m\u001b[0m\u001b[0m\n\u001b[1;32m   1656\u001b[0m                               \u001b[0msteps_per_epoch\u001b[0m\u001b[0;34m=\u001b[0m\u001b[0msteps_per_epoch\u001b[0m\u001b[0;34m,\u001b[0m\u001b[0;34m\u001b[0m\u001b[0m\n\u001b[0;32m-> 1657\u001b[0;31m                               validation_steps=validation_steps)\n\u001b[0m\u001b[1;32m   1658\u001b[0m \u001b[0;34m\u001b[0m\u001b[0m\n\u001b[1;32m   1659\u001b[0m     def evaluate(self, x=None, y=None,\n",
      "\u001b[0;32m~/Desktop/Thinkful/anaconda/lib/python3.6/site-packages/keras/engine/training.py\u001b[0m in \u001b[0;36m_fit_loop\u001b[0;34m(self, f, ins, out_labels, batch_size, epochs, verbose, callbacks, val_f, val_ins, shuffle, callback_metrics, initial_epoch, steps_per_epoch, validation_steps)\u001b[0m\n\u001b[1;32m   1211\u001b[0m                     \u001b[0mbatch_logs\u001b[0m\u001b[0;34m[\u001b[0m\u001b[0;34m'size'\u001b[0m\u001b[0;34m]\u001b[0m \u001b[0;34m=\u001b[0m \u001b[0mlen\u001b[0m\u001b[0;34m(\u001b[0m\u001b[0mbatch_ids\u001b[0m\u001b[0;34m)\u001b[0m\u001b[0;34m\u001b[0m\u001b[0m\n\u001b[1;32m   1212\u001b[0m                     \u001b[0mcallbacks\u001b[0m\u001b[0;34m.\u001b[0m\u001b[0mon_batch_begin\u001b[0m\u001b[0;34m(\u001b[0m\u001b[0mbatch_index\u001b[0m\u001b[0;34m,\u001b[0m \u001b[0mbatch_logs\u001b[0m\u001b[0;34m)\u001b[0m\u001b[0;34m\u001b[0m\u001b[0m\n\u001b[0;32m-> 1213\u001b[0;31m                     \u001b[0mouts\u001b[0m \u001b[0;34m=\u001b[0m \u001b[0mf\u001b[0m\u001b[0;34m(\u001b[0m\u001b[0mins_batch\u001b[0m\u001b[0;34m)\u001b[0m\u001b[0;34m\u001b[0m\u001b[0m\n\u001b[0m\u001b[1;32m   1214\u001b[0m                     \u001b[0;32mif\u001b[0m \u001b[0;32mnot\u001b[0m \u001b[0misinstance\u001b[0m\u001b[0;34m(\u001b[0m\u001b[0mouts\u001b[0m\u001b[0;34m,\u001b[0m \u001b[0mlist\u001b[0m\u001b[0;34m)\u001b[0m\u001b[0;34m:\u001b[0m\u001b[0;34m\u001b[0m\u001b[0m\n\u001b[1;32m   1215\u001b[0m                         \u001b[0mouts\u001b[0m \u001b[0;34m=\u001b[0m \u001b[0;34m[\u001b[0m\u001b[0mouts\u001b[0m\u001b[0;34m]\u001b[0m\u001b[0;34m\u001b[0m\u001b[0m\n",
      "\u001b[0;32m~/Desktop/Thinkful/anaconda/lib/python3.6/site-packages/keras/backend/tensorflow_backend.py\u001b[0m in \u001b[0;36m__call__\u001b[0;34m(self, inputs)\u001b[0m\n\u001b[1;32m   2355\u001b[0m         \u001b[0msession\u001b[0m \u001b[0;34m=\u001b[0m \u001b[0mget_session\u001b[0m\u001b[0;34m(\u001b[0m\u001b[0;34m)\u001b[0m\u001b[0;34m\u001b[0m\u001b[0m\n\u001b[1;32m   2356\u001b[0m         updated = session.run(fetches=fetches, feed_dict=feed_dict,\n\u001b[0;32m-> 2357\u001b[0;31m                               **self.session_kwargs)\n\u001b[0m\u001b[1;32m   2358\u001b[0m         \u001b[0;32mreturn\u001b[0m \u001b[0mupdated\u001b[0m\u001b[0;34m[\u001b[0m\u001b[0;34m:\u001b[0m\u001b[0mlen\u001b[0m\u001b[0;34m(\u001b[0m\u001b[0mself\u001b[0m\u001b[0;34m.\u001b[0m\u001b[0moutputs\u001b[0m\u001b[0;34m)\u001b[0m\u001b[0;34m]\u001b[0m\u001b[0;34m\u001b[0m\u001b[0m\n\u001b[1;32m   2359\u001b[0m \u001b[0;34m\u001b[0m\u001b[0m\n",
      "\u001b[0;32m~/Desktop/Thinkful/anaconda/lib/python3.6/site-packages/tensorflow/python/client/session.py\u001b[0m in \u001b[0;36mrun\u001b[0;34m(self, fetches, feed_dict, options, run_metadata)\u001b[0m\n\u001b[1;32m    776\u001b[0m     \u001b[0;32mtry\u001b[0m\u001b[0;34m:\u001b[0m\u001b[0;34m\u001b[0m\u001b[0m\n\u001b[1;32m    777\u001b[0m       result = self._run(None, fetches, feed_dict, options_ptr,\n\u001b[0;32m--> 778\u001b[0;31m                          run_metadata_ptr)\n\u001b[0m\u001b[1;32m    779\u001b[0m       \u001b[0;32mif\u001b[0m \u001b[0mrun_metadata\u001b[0m\u001b[0;34m:\u001b[0m\u001b[0;34m\u001b[0m\u001b[0m\n\u001b[1;32m    780\u001b[0m         \u001b[0mproto_data\u001b[0m \u001b[0;34m=\u001b[0m \u001b[0mtf_session\u001b[0m\u001b[0;34m.\u001b[0m\u001b[0mTF_GetBuffer\u001b[0m\u001b[0;34m(\u001b[0m\u001b[0mrun_metadata_ptr\u001b[0m\u001b[0;34m)\u001b[0m\u001b[0;34m\u001b[0m\u001b[0m\n",
      "\u001b[0;32m~/Desktop/Thinkful/anaconda/lib/python3.6/site-packages/tensorflow/python/client/session.py\u001b[0m in \u001b[0;36m_run\u001b[0;34m(self, handle, fetches, feed_dict, options, run_metadata)\u001b[0m\n\u001b[1;32m    980\u001b[0m     \u001b[0;32mif\u001b[0m \u001b[0mfinal_fetches\u001b[0m \u001b[0;32mor\u001b[0m \u001b[0mfinal_targets\u001b[0m\u001b[0;34m:\u001b[0m\u001b[0;34m\u001b[0m\u001b[0m\n\u001b[1;32m    981\u001b[0m       results = self._do_run(handle, final_targets, final_fetches,\n\u001b[0;32m--> 982\u001b[0;31m                              feed_dict_string, options, run_metadata)\n\u001b[0m\u001b[1;32m    983\u001b[0m     \u001b[0;32melse\u001b[0m\u001b[0;34m:\u001b[0m\u001b[0;34m\u001b[0m\u001b[0m\n\u001b[1;32m    984\u001b[0m       \u001b[0mresults\u001b[0m \u001b[0;34m=\u001b[0m \u001b[0;34m[\u001b[0m\u001b[0;34m]\u001b[0m\u001b[0;34m\u001b[0m\u001b[0m\n",
      "\u001b[0;32m~/Desktop/Thinkful/anaconda/lib/python3.6/site-packages/tensorflow/python/client/session.py\u001b[0m in \u001b[0;36m_do_run\u001b[0;34m(self, handle, target_list, fetch_list, feed_dict, options, run_metadata)\u001b[0m\n\u001b[1;32m   1030\u001b[0m     \u001b[0;32mif\u001b[0m \u001b[0mhandle\u001b[0m \u001b[0;32mis\u001b[0m \u001b[0;32mNone\u001b[0m\u001b[0;34m:\u001b[0m\u001b[0;34m\u001b[0m\u001b[0m\n\u001b[1;32m   1031\u001b[0m       return self._do_call(_run_fn, self._session, feed_dict, fetch_list,\n\u001b[0;32m-> 1032\u001b[0;31m                            target_list, options, run_metadata)\n\u001b[0m\u001b[1;32m   1033\u001b[0m     \u001b[0;32melse\u001b[0m\u001b[0;34m:\u001b[0m\u001b[0;34m\u001b[0m\u001b[0m\n\u001b[1;32m   1034\u001b[0m       return self._do_call(_prun_fn, self._session, handle, feed_dict,\n",
      "\u001b[0;32m~/Desktop/Thinkful/anaconda/lib/python3.6/site-packages/tensorflow/python/client/session.py\u001b[0m in \u001b[0;36m_do_call\u001b[0;34m(self, fn, *args)\u001b[0m\n\u001b[1;32m   1037\u001b[0m   \u001b[0;32mdef\u001b[0m \u001b[0m_do_call\u001b[0m\u001b[0;34m(\u001b[0m\u001b[0mself\u001b[0m\u001b[0;34m,\u001b[0m \u001b[0mfn\u001b[0m\u001b[0;34m,\u001b[0m \u001b[0;34m*\u001b[0m\u001b[0margs\u001b[0m\u001b[0;34m)\u001b[0m\u001b[0;34m:\u001b[0m\u001b[0;34m\u001b[0m\u001b[0m\n\u001b[1;32m   1038\u001b[0m     \u001b[0;32mtry\u001b[0m\u001b[0;34m:\u001b[0m\u001b[0;34m\u001b[0m\u001b[0m\n\u001b[0;32m-> 1039\u001b[0;31m       \u001b[0;32mreturn\u001b[0m \u001b[0mfn\u001b[0m\u001b[0;34m(\u001b[0m\u001b[0;34m*\u001b[0m\u001b[0margs\u001b[0m\u001b[0;34m)\u001b[0m\u001b[0;34m\u001b[0m\u001b[0m\n\u001b[0m\u001b[1;32m   1040\u001b[0m     \u001b[0;32mexcept\u001b[0m \u001b[0merrors\u001b[0m\u001b[0;34m.\u001b[0m\u001b[0mOpError\u001b[0m \u001b[0;32mas\u001b[0m \u001b[0me\u001b[0m\u001b[0;34m:\u001b[0m\u001b[0;34m\u001b[0m\u001b[0m\n\u001b[1;32m   1041\u001b[0m       \u001b[0mmessage\u001b[0m \u001b[0;34m=\u001b[0m \u001b[0mcompat\u001b[0m\u001b[0;34m.\u001b[0m\u001b[0mas_text\u001b[0m\u001b[0;34m(\u001b[0m\u001b[0me\u001b[0m\u001b[0;34m.\u001b[0m\u001b[0mmessage\u001b[0m\u001b[0;34m)\u001b[0m\u001b[0;34m\u001b[0m\u001b[0m\n",
      "\u001b[0;32m~/Desktop/Thinkful/anaconda/lib/python3.6/site-packages/tensorflow/python/client/session.py\u001b[0m in \u001b[0;36m_run_fn\u001b[0;34m(session, feed_dict, fetch_list, target_list, options, run_metadata)\u001b[0m\n\u001b[1;32m   1019\u001b[0m         return tf_session.TF_Run(session, options,\n\u001b[1;32m   1020\u001b[0m                                  \u001b[0mfeed_dict\u001b[0m\u001b[0;34m,\u001b[0m \u001b[0mfetch_list\u001b[0m\u001b[0;34m,\u001b[0m \u001b[0mtarget_list\u001b[0m\u001b[0;34m,\u001b[0m\u001b[0;34m\u001b[0m\u001b[0m\n\u001b[0;32m-> 1021\u001b[0;31m                                  status, run_metadata)\n\u001b[0m\u001b[1;32m   1022\u001b[0m \u001b[0;34m\u001b[0m\u001b[0m\n\u001b[1;32m   1023\u001b[0m     \u001b[0;32mdef\u001b[0m \u001b[0m_prun_fn\u001b[0m\u001b[0;34m(\u001b[0m\u001b[0msession\u001b[0m\u001b[0;34m,\u001b[0m \u001b[0mhandle\u001b[0m\u001b[0;34m,\u001b[0m \u001b[0mfeed_dict\u001b[0m\u001b[0;34m,\u001b[0m \u001b[0mfetch_list\u001b[0m\u001b[0;34m)\u001b[0m\u001b[0;34m:\u001b[0m\u001b[0;34m\u001b[0m\u001b[0m\n",
      "\u001b[0;31mKeyboardInterrupt\u001b[0m: "
     ]
    }
   ],
   "source": [
    "model.fit(x=X_train_w2v, y=y_train_w2v, \n",
    "          batch_size=5000, \n",
    "          epochs=40, \n",
    "          verbose=1, \n",
    "          validation_data=(X_test_w2v, y_test_w2v),\n",
    "          callbacks=None)"
   ]
  },
  {
   "cell_type": "code",
   "execution_count": null,
   "metadata": {
    "collapsed": true
   },
   "outputs": [],
   "source": []
  }
 ],
 "metadata": {
  "kernelspec": {
   "display_name": "Python 3",
   "language": "python",
   "name": "python3"
  },
  "language_info": {
   "codemirror_mode": {
    "name": "ipython",
    "version": 3
   },
   "file_extension": ".py",
   "mimetype": "text/x-python",
   "name": "python",
   "nbconvert_exporter": "python",
   "pygments_lexer": "ipython3",
   "version": "3.6.1"
  }
 },
 "nbformat": 4,
 "nbformat_minor": 2
}
