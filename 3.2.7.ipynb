{
 "cells": [
  {
   "cell_type": "code",
   "execution_count": 1,
   "metadata": {
    "collapsed": true
   },
   "outputs": [],
   "source": [
    "# question 1\n",
    "# Since the information is for Christmas Eve it will tell you about people visiting cities in Amsterdam for the holidays"
   ]
  },
  {
   "cell_type": "code",
   "execution_count": 2,
   "metadata": {
    "collapsed": true
   },
   "outputs": [],
   "source": [
    "# question 2\n",
    "# Since the date of the mental health survey was 10 days after 9/11 the people in the cities affected will have a \n",
    "# higher rate of reported mental stress and usage of mental service facilities. Also, the cities not directly affected\n",
    "# will have larger amounts of anxiety or depression due to loss of loved ones then normal"
   ]
  },
  {
   "cell_type": "code",
   "execution_count": null,
   "metadata": {
    "collapsed": true
   },
   "outputs": [],
   "source": [
    "# question 3 \n",
    "# The information may be skewed because of the method used to survey the group. It is a more tech saavy method and many\n",
    "# older people or those who don't frequent social media often will not be in the sample."
   ]
  }
 ],
 "metadata": {
  "kernelspec": {
   "display_name": "Python 2",
   "language": "python",
   "name": "python2"
  },
  "language_info": {
   "codemirror_mode": {
    "name": "ipython",
    "version": 2
   },
   "file_extension": ".py",
   "mimetype": "text/x-python",
   "name": "python",
   "nbconvert_exporter": "python",
   "pygments_lexer": "ipython2",
   "version": "2.7.13"
  }
 },
 "nbformat": 4,
 "nbformat_minor": 2
}
