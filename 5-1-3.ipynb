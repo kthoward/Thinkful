{
 "cells": [
  {
   "cell_type": "code",
   "execution_count": 3,
   "metadata": {},
   "outputs": [],
   "source": [
    "class Node:\n",
    "    def __init__(self, val):\n",
    "        self.left = None\n",
    "        self.right = None\n",
    "        self.val = val"
   ]
  },
  {
   "cell_type": "code",
   "execution_count": 10,
   "metadata": {},
   "outputs": [],
   "source": [
    "# Tried using the caldd Node but I couldnt access it so I found this method\n",
    "root = {1: [2,3],\n",
    "       2: [1, 4, 5],\n",
    "       3: [1, 6, 7],\n",
    "       4: [2, 8, 9],\n",
    "       5: [2, 10, 11],\n",
    "       6: [3, 12, 13],\n",
    "       7: [3, 14, 15],\n",
    "       8: [4],\n",
    "       9: [4],\n",
    "       10: [5],\n",
    "       11: [5],\n",
    "       12: [6],\n",
    "       13: [6],\n",
    "       14: [7],\n",
    "       15: [7],\n",
    "       }\n",
    "\n",
    "    \n"
   ]
  },
  {
   "cell_type": "code",
   "execution_count": 11,
   "metadata": {},
   "outputs": [
    {
     "data": {
      "text/plain": [
       "[1, 2, 3, 4, 5, 6, 7, 8, 9, 10, 11, 12, 13, 14, 15]"
      ]
     },
     "execution_count": 11,
     "metadata": {},
     "output_type": "execute_result"
    }
   ],
   "source": [
    "def breadth_first(root, start):\n",
    "    explored = []\n",
    "    queue = [start]\n",
    "    \n",
    "    while queue:\n",
    "        node = queue.pop(0)\n",
    "        if node not in explored:\n",
    "            explored.append(node)\n",
    "            neighbors = root[node]\n",
    "            for neighbor in neighbors:\n",
    "                queue.append(neighbor)\n",
    "                \n",
    "    return explored\n",
    "breadth_first(root, 1)"
   ]
  },
  {
   "cell_type": "code",
   "execution_count": null,
   "metadata": {
    "collapsed": true
   },
   "outputs": [],
   "source": []
  }
 ],
 "metadata": {
  "kernelspec": {
   "display_name": "Python 3",
   "language": "python",
   "name": "python3"
  },
  "language_info": {
   "codemirror_mode": {
    "name": "ipython",
    "version": 3
   },
   "file_extension": ".py",
   "mimetype": "text/x-python",
   "name": "python",
   "nbconvert_exporter": "python",
   "pygments_lexer": "ipython3",
   "version": "3.6.1"
  }
 },
 "nbformat": 4,
 "nbformat_minor": 2
}
