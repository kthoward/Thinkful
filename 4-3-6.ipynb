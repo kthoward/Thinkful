{
 "cells": [
  {
   "cell_type": "code",
   "execution_count": 90,
   "metadata": {},
   "outputs": [
    {
     "data": {
      "text/plain": [
       "'/Users/kylehoward/Desktop/Thinkful/Thinkful-2'"
      ]
     },
     "execution_count": 90,
     "metadata": {},
     "output_type": "execute_result"
    }
   ],
   "source": [
    "%matplotlib inline\n",
    "import numpy as np\n",
    "import pandas as pd\n",
    "import scipy\n",
    "import sklearn\n",
    "from sklearn.neural_network import MLPClassifier\n",
    "import matplotlib.pyplot as plt\n",
    "import seaborn as sns\n",
    "from sklearn.preprocessing import normalize\n",
    "from sklearn import ensemble\n",
    "import re\n",
    "import os\n",
    "os.getcwd()\n",
    "os.chdir('/Users/kylehoward/desktop/thinkful/thinkful-2') \n",
    "os.getcwd()"
   ]
  },
  {
   "cell_type": "code",
   "execution_count": 3,
   "metadata": {
    "collapsed": true
   },
   "outputs": [],
   "source": [
    "data = (\"Pokemon.csv\")\n",
    "df = pd.read_csv(data)"
   ]
  },
  {
   "cell_type": "code",
   "execution_count": 4,
   "metadata": {
    "collapsed": true
   },
   "outputs": [],
   "source": [
    "\n",
    "p_type = df['Type 1']\n",
    "poke_class = []\n",
    "\n",
    "for p in p_type:\n",
    "    if p == 'Poison':\n",
    "        p = 0\n",
    "        poke_class.append(p)\n",
    "    elif p == 'Water':\n",
    "        p = 1\n",
    "        poke_class.append(p)\n",
    "    elif p == 'Electric':\n",
    "        p = 2\n",
    "        poke_class.append(p)\n",
    "    elif p == 'Fairy':\n",
    "        p = 3\n",
    "        poke_class.append(p)\n",
    "    elif p == 'Normal':\n",
    "        p = 4\n",
    "        poke_class.append(p)\n",
    "    elif p == 'Psychic':\n",
    "        p = 5\n",
    "        poke_class.append(p)\n",
    "    elif p == 'Grass':\n",
    "        p = 6\n",
    "        poke_class.append(p)\n",
    "    elif p == 'Rock':\n",
    "        p = 7\n",
    "        poke_class.append(p)\n",
    "    elif p == 'Bug':\n",
    "        p = 8\n",
    "        poke_class.append(p)\n",
    "    elif p == 'Dark':\n",
    "        p = 9\n",
    "        poke_class.append(p)\n",
    "    elif p == 'Ghost':\n",
    "        p = 10\n",
    "        poke_class.append(p)\n",
    "    elif p == 'Steel':\n",
    "        p = 11\n",
    "        poke_class.append(p)\n",
    "    elif p == 'Fire':\n",
    "        p = 12\n",
    "        poke_class.append(p)\n",
    "    elif p == 'Ice':\n",
    "        p = 13\n",
    "        poke_class.append(p)\n",
    "    elif p == 'Fighting':\n",
    "        p = 14\n",
    "        poke_class.append(p)\n",
    "    elif p == 'Dragon':\n",
    "        p = 15\n",
    "        poke_class.append(p)\n",
    "    elif p == 'Ground':\n",
    "        p = 16\n",
    "        poke_class.append(p)\n",
    "    else:\n",
    "        p = 17\n",
    "        poke_class.append(p)"
   ]
  },
  {
   "cell_type": "code",
   "execution_count": 12,
   "metadata": {},
   "outputs": [
    {
     "data": {
      "text/html": [
       "<div>\n",
       "<style>\n",
       "    .dataframe thead tr:only-child th {\n",
       "        text-align: right;\n",
       "    }\n",
       "\n",
       "    .dataframe thead th {\n",
       "        text-align: left;\n",
       "    }\n",
       "\n",
       "    .dataframe tbody tr th {\n",
       "        vertical-align: top;\n",
       "    }\n",
       "</style>\n",
       "<table border=\"1\" class=\"dataframe\">\n",
       "  <thead>\n",
       "    <tr style=\"text-align: right;\">\n",
       "      <th></th>\n",
       "      <th>Name</th>\n",
       "      <th>Total</th>\n",
       "      <th>HP</th>\n",
       "      <th>Attack</th>\n",
       "      <th>Defense</th>\n",
       "      <th>Sp. Atk</th>\n",
       "      <th>Sp. Def</th>\n",
       "      <th>Speed</th>\n",
       "      <th>Generation</th>\n",
       "      <th>Legendary</th>\n",
       "      <th>poke_class</th>\n",
       "    </tr>\n",
       "  </thead>\n",
       "  <tbody>\n",
       "    <tr>\n",
       "      <th>795</th>\n",
       "      <td>Diancie</td>\n",
       "      <td>600</td>\n",
       "      <td>50</td>\n",
       "      <td>100</td>\n",
       "      <td>150</td>\n",
       "      <td>100</td>\n",
       "      <td>150</td>\n",
       "      <td>50</td>\n",
       "      <td>6</td>\n",
       "      <td>True</td>\n",
       "      <td>7</td>\n",
       "    </tr>\n",
       "    <tr>\n",
       "      <th>796</th>\n",
       "      <td>DiancieMega Diancie</td>\n",
       "      <td>700</td>\n",
       "      <td>50</td>\n",
       "      <td>160</td>\n",
       "      <td>110</td>\n",
       "      <td>160</td>\n",
       "      <td>110</td>\n",
       "      <td>110</td>\n",
       "      <td>6</td>\n",
       "      <td>True</td>\n",
       "      <td>7</td>\n",
       "    </tr>\n",
       "    <tr>\n",
       "      <th>797</th>\n",
       "      <td>HoopaHoopa Confined</td>\n",
       "      <td>600</td>\n",
       "      <td>80</td>\n",
       "      <td>110</td>\n",
       "      <td>60</td>\n",
       "      <td>150</td>\n",
       "      <td>130</td>\n",
       "      <td>70</td>\n",
       "      <td>6</td>\n",
       "      <td>True</td>\n",
       "      <td>5</td>\n",
       "    </tr>\n",
       "    <tr>\n",
       "      <th>798</th>\n",
       "      <td>HoopaHoopa Unbound</td>\n",
       "      <td>680</td>\n",
       "      <td>80</td>\n",
       "      <td>160</td>\n",
       "      <td>60</td>\n",
       "      <td>170</td>\n",
       "      <td>130</td>\n",
       "      <td>80</td>\n",
       "      <td>6</td>\n",
       "      <td>True</td>\n",
       "      <td>5</td>\n",
       "    </tr>\n",
       "    <tr>\n",
       "      <th>799</th>\n",
       "      <td>Volcanion</td>\n",
       "      <td>600</td>\n",
       "      <td>80</td>\n",
       "      <td>110</td>\n",
       "      <td>120</td>\n",
       "      <td>130</td>\n",
       "      <td>90</td>\n",
       "      <td>70</td>\n",
       "      <td>6</td>\n",
       "      <td>True</td>\n",
       "      <td>12</td>\n",
       "    </tr>\n",
       "  </tbody>\n",
       "</table>\n",
       "</div>"
      ],
      "text/plain": [
       "                    Name  Total  HP  Attack  Defense  Sp. Atk  Sp. Def  Speed  \\\n",
       "795              Diancie    600  50     100      150      100      150     50   \n",
       "796  DiancieMega Diancie    700  50     160      110      160      110    110   \n",
       "797  HoopaHoopa Confined    600  80     110       60      150      130     70   \n",
       "798   HoopaHoopa Unbound    680  80     160       60      170      130     80   \n",
       "799            Volcanion    600  80     110      120      130       90     70   \n",
       "\n",
       "     Generation  Legendary  poke_class  \n",
       "795           6       True           7  \n",
       "796           6       True           7  \n",
       "797           6       True           5  \n",
       "798           6       True           5  \n",
       "799           6       True          12  "
      ]
     },
     "execution_count": 12,
     "metadata": {},
     "output_type": "execute_result"
    }
   ],
   "source": [
    "df['poke_class'] = poke_class\n",
    "df.tail()"
   ]
  },
  {
   "cell_type": "code",
   "execution_count": 104,
   "metadata": {},
   "outputs": [],
   "source": [
    "#df = df.drop('Type 1', 1)\n",
    "df['hp_r'] = df['HP'] / df['Total']\n",
    "df['attk_r'] = df['Attack'] / df['Total']\n",
    "df['def_r'] = df['Defense'] / df['Total']\n",
    "df['spa_r'] = df['Sp. Atk'] / df['Total']\n",
    "df['spd_r'] = df['Sp. Def'] / df['Total']\n",
    "df['spd'] = df['Speed'] / df['Total']\n",
    "df['mult'] = df['hp_r'] * df['attk_r'] * df['def_r'] * df['spa_r'] * df['spd_r'] * df['spd']\n",
    "df = df.sort_values('Name', ascending=[False])"
   ]
  },
  {
   "cell_type": "code",
   "execution_count": 105,
   "metadata": {},
   "outputs": [],
   "source": [
    "y = df['poke_class']\n",
    "X = df[['Generation', 'spd', 'spd_r', 'spa_r', 'def_r', 'attk_r', 'hp_r']]\n",
    "X = pd.get_dummies(X)\n",
    "#X = normalize(X)\n",
    "X_training = X[:600]\n",
    "y_training = y[:600]\n",
    "X_test = X[600:]\n",
    "y_test = y[600:]"
   ]
  },
  {
   "cell_type": "code",
   "execution_count": 106,
   "metadata": {},
   "outputs": [
    {
     "data": {
      "text/plain": [
       "MLPClassifier(activation='relu', alpha=0.0001, batch_size='auto', beta_1=0.9,\n",
       "       beta_2=0.999, early_stopping=False, epsilon=1e-08,\n",
       "       hidden_layer_sizes=(1000, 1000, 1000, 4000),\n",
       "       learning_rate='constant', learning_rate_init=0.001, max_iter=200,\n",
       "       momentum=0.9, nesterovs_momentum=True, power_t=0.5,\n",
       "       random_state=None, shuffle=True, solver='lbfgs', tol=0.0001,\n",
       "       validation_fraction=0.1, verbose=False, warm_start=False)"
      ]
     },
     "execution_count": 106,
     "metadata": {},
     "output_type": "execute_result"
    }
   ],
   "source": [
    "mlp = MLPClassifier(hidden_layer_sizes=(1000, 1000, 1000, 4000), solver='lbfgs')\n",
    "mlp.fit(X_training, y_training)"
   ]
  },
  {
   "cell_type": "code",
   "execution_count": 107,
   "metadata": {
    "collapsed": true
   },
   "outputs": [],
   "source": [
    "y_pred_test = mlp.predict(X_test)"
   ]
  },
  {
   "cell_type": "code",
   "execution_count": 108,
   "metadata": {},
   "outputs": [
    {
     "data": {
      "text/plain": [
       "0.17999999999999999"
      ]
     },
     "execution_count": 108,
     "metadata": {},
     "output_type": "execute_result"
    }
   ],
   "source": [
    "mlp.score(X_test, y_test) "
   ]
  },
  {
   "cell_type": "code",
   "execution_count": 20,
   "metadata": {},
   "outputs": [
    {
     "data": {
      "text/plain": [
       "array([[ 0,  2,  0,  0,  0,  0,  0,  2,  0,  0,  0,  0,  0,  0,  0,  0,  0,\n",
       "         0],\n",
       "       [ 0, 11,  0,  0,  0,  0,  0,  2,  0,  0,  0,  0,  0,  0,  0,  2,  0,\n",
       "         0],\n",
       "       [ 0,  6,  0,  0,  0,  0,  0,  1,  0,  2,  0,  0,  0,  0,  0,  0,  0,\n",
       "         0],\n",
       "       [ 0,  4,  0,  0,  0,  0,  0,  5,  0,  0,  0,  0,  0,  0,  0,  0,  0,\n",
       "         0],\n",
       "       [ 0, 12,  0,  0,  0,  0,  0,  1,  0,  0,  0,  0,  0,  0,  0,  0,  0,\n",
       "         0],\n",
       "       [ 0,  7,  0,  0,  0,  0,  0,  7,  0,  0,  0,  0,  0,  0,  0,  0,  0,\n",
       "         0],\n",
       "       [ 0, 10,  0,  0,  0,  0,  0,  1,  0,  3,  0,  0,  0,  0,  0,  1,  0,\n",
       "         0],\n",
       "       [ 0,  5,  0,  0,  0,  0,  0,  0,  0,  6,  0,  0,  0,  0,  0,  1,  0,\n",
       "         0],\n",
       "       [ 0, 12,  0,  0,  0,  0,  0,  2,  0,  7,  0,  0,  0,  0,  0,  0,  0,\n",
       "         0],\n",
       "       [ 0,  8,  0,  0,  0,  0,  0,  0,  0,  4,  0,  0,  0,  0,  0,  2,  0,\n",
       "         0],\n",
       "       [ 0,  5,  0,  0,  0,  0,  0,  4,  0,  5,  0,  0,  0,  0,  0,  1,  0,\n",
       "         0],\n",
       "       [ 0,  4,  0,  0,  0,  0,  0,  0,  0,  2,  0,  0,  0,  0,  0,  3,  0,\n",
       "         0],\n",
       "       [ 0,  9,  0,  0,  0,  0,  0,  2,  0,  0,  0,  0,  0,  0,  0,  1,  0,\n",
       "         0],\n",
       "       [ 0,  3,  0,  0,  0,  0,  0,  3,  0,  0,  0,  0,  0,  0,  0,  2,  0,\n",
       "         0],\n",
       "       [ 0,  4,  0,  0,  0,  0,  0,  0,  0,  1,  0,  0,  0,  0,  0,  0,  0,\n",
       "         0],\n",
       "       [ 0,  5,  0,  0,  0,  0,  0,  5,  0,  3,  0,  0,  0,  0,  0,  0,  0,\n",
       "         0],\n",
       "       [ 0,  8,  0,  0,  0,  0,  0,  0,  0,  0,  0,  0,  0,  0,  0,  0,  0,\n",
       "         0],\n",
       "       [ 0,  4,  0,  0,  0,  0,  0,  0,  0,  0,  0,  0,  0,  0,  0,  0,  0,\n",
       "         0]])"
      ]
     },
     "execution_count": 20,
     "metadata": {},
     "output_type": "execute_result"
    }
   ],
   "source": [
    "from sklearn.metrics import confusion_matrix\n",
    "confusion_matrix(y_test, y_pred_test)"
   ]
  },
  {
   "cell_type": "code",
   "execution_count": 110,
   "metadata": {},
   "outputs": [
    {
     "data": {
      "text/plain": [
       "0.32000000000000001"
      ]
     },
     "execution_count": 110,
     "metadata": {},
     "output_type": "execute_result"
    }
   ],
   "source": [
    "rfc = ensemble.RandomForestClassifier(n_estimators=1000, max_depth=25)\n",
    "y = df['poke_class']\n",
    "X = df[['Generation', 'spd', 'spd_r', 'spa_r', 'def_r', 'attk_r', 'hp_r', 'mult']]\n",
    "X = pd.get_dummies(X)\n",
    "#X = normalize(X)\n",
    "X_training = X[:600]\n",
    "y_training = y[:600]\n",
    "X_test = X[600:]\n",
    "y_test = y[600:]\n",
    "rfc.fit(X_training, y_training)\n",
    "rfc.score(X_test, y_test) "
   ]
  },
  {
   "cell_type": "code",
   "execution_count": null,
   "metadata": {
    "collapsed": true
   },
   "outputs": [],
   "source": []
  }
 ],
 "metadata": {
  "kernelspec": {
   "display_name": "Python 3",
   "language": "python",
   "name": "python3"
  },
  "language_info": {
   "codemirror_mode": {
    "name": "ipython",
    "version": 3
   },
   "file_extension": ".py",
   "mimetype": "text/x-python",
   "name": "python",
   "nbconvert_exporter": "python",
   "pygments_lexer": "ipython3",
   "version": "3.6.1"
  }
 },
 "nbformat": 4,
 "nbformat_minor": 2
}
