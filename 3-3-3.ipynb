{
 "cells": [
  {
   "cell_type": "code",
   "execution_count": 44,
   "metadata": {
    "collapsed": true
   },
   "outputs": [],
   "source": [
    "import pandas as pd\n",
    "from matplotlib import pyplot as plt\n",
    "import numpy as np\n",
    "import math\n",
    "import seaborn as sns\n",
    "import sklearn\n",
    "from sklearn import linear_model\n",
    "from sklearn import preprocessing\n",
    "%matplotlib inline\n",
    "sns.set_style('white')"
   ]
  },
  {
   "cell_type": "code",
   "execution_count": 45,
   "metadata": {
    "collapsed": true
   },
   "outputs": [],
   "source": [
    "df = pd.read_csv(\n",
    "    'https://vincentarelbundock.github.io/Rdatasets/csv/ISLR/Default.csv'\n",
    ").iloc[:,1:].dropna()\n",
    "\n",
    "# Recode strings to numeric.\n",
    "df['default'] = np.where(df['default']=='Yes', 1, 0)\n",
    "df['student'] = np.where(df['student']=='Yes', 1, 0)\n",
    "names = df.columns\n",
    "df = pd.DataFrame(preprocessing.scale(df), columns=names)\n",
    "\n",
    "# Define the training and test sizes.\n",
    "trainsize = int(df.shape[0] / 2)\n",
    "df_test = df.iloc[trainsize:, :].copy()\n",
    "df_train = df.iloc[:trainsize, :].copy()\n",
    "\n",
    "Y_train = df_train['income'].values.reshape(-1, 1)\n",
    "X_train = df_train.loc[:, ~(df_train.columns).isin(['income'])]\n",
    "\n",
    "# Make some new features to capture potential quadratic and cubic\n",
    "# relationships between solar radiation and day or temperature.\n",
    "df_train['balance_student'] = df_train['balance'] * df_train['student']\n",
    "df_train['balance_default'] = df_train['balance'] * df_train['default']\n",
    "df_train['student_default'] = df_train['student'] * df_train['default']\n",
    "df_train['balance_sqrt'] = (df_train['balance'] + 100) ** .5\n",
    "df_train['balance2'] = (df_train['balance'] + 100) ** 2\n",
    "df_train['balance3'] = (df_train['balance'] + 100) ** 3\n",
    "\n",
    "X_train2 = df_train.loc[:, ~(df_train.columns).isin(['income'])]\n",
    "\n",
    "# Test the simpler model with smaller coefficients.\n",
    "Y_test = df_test['income'].values.reshape(-1, 1)\n",
    "X_test = df_test.loc[:, ~(df_test.columns).isin(['income'])]\n",
    "\n",
    "# Test the more complex model with larger coefficients.\n",
    "df_test['balance_student'] = df_test['balance'] * df_test['student']\n",
    "df_test['balance_default'] = df_test['balance'] * df_test['default']\n",
    "df_test['student_default'] = df_test['student'] * df_test['default']\n",
    "df_test['balance_sqrt'] = (df_test['balance'] + 100) ** .5\n",
    "df_test['balance2'] = (df_test['balance'] + 100) ** 2\n",
    "df_test['balance3'] = (df_test['balance'] + 100) ** 3\n",
    "X_test2 = df_test.loc[:, ~(df_test.columns).isin(['income'])]"
   ]
  },
  {
   "cell_type": "code",
   "execution_count": 46,
   "metadata": {},
   "outputs": [
    {
     "name": "stdout",
     "output_type": "stream",
     "text": [
      "R² for the model with few features:\n",
      "0.450062579301\n",
      "\n",
      "Parameter estimates for the model with few features:\n",
      "[-0.         -0.40657726 -0.          0.00114596]\n",
      "\n",
      "R² for the model with many features:\n",
      "0.0268341343517\n",
      "\n",
      "Parameter estimates for the model with many features:\n",
      "[  0.00000000e+00  -0.00000000e+00   0.00000000e+00  -0.00000000e+00\n",
      "   0.00000000e+00  -0.00000000e+00   0.00000000e+00   0.00000000e+00\n",
      "  -5.42632541e-06   5.43049680e+00]\n"
     ]
    }
   ],
   "source": [
    "# Small number of parameters.\n",
    "lass = linear_model.Lasso(alpha=.35)\n",
    "lassfit = lass.fit(X_train, Y_train)\n",
    "print('R² for the model with few features:')\n",
    "print(lass.score(X_train, Y_train))\n",
    "origparams = np.append(lassfit.coef_, lassfit.intercept_)\n",
    "print('\\nParameter estimates for the model with few features:')\n",
    "print(origparams)\n",
    "\n",
    "# Large number of parameters.\n",
    "lassBig = linear_model.Lasso(alpha=1)\n",
    "lassBig.fit(X_train2, Y_train)\n",
    "print('\\nR² for the model with many features:')\n",
    "print(lassBig.score(X_train2, Y_train))\n",
    "origparams = np.append(lassBig.coef_, lassBig.intercept_)\n",
    "print('\\nParameter estimates for the model with many features:')\n",
    "print(origparams)\n",
    "l_1 = lassBig.score(X_train2, Y_train)"
   ]
  },
  {
   "cell_type": "code",
   "execution_count": 47,
   "metadata": {},
   "outputs": [
    {
     "name": "stdout",
     "output_type": "stream",
     "text": [
      "\n",
      "R² for the model with many features:\n",
      "0.0268341310407\n",
      "\n",
      "Parameter estimates for the model with many features:\n",
      "[  0.00000000e+00  -0.00000000e+00   0.00000000e+00  -0.00000000e+00\n",
      "   0.00000000e+00  -0.00000000e+00   0.00000000e+00   0.00000000e+00\n",
      "  -5.42522471e-06   5.42939607e+00]\n"
     ]
    }
   ],
   "source": [
    "lassBig = linear_model.Lasso(alpha=2)\n",
    "lassBig.fit(X_train2, Y_train)\n",
    "print('\\nR² for the model with many features:')\n",
    "print(lassBig.score(X_train2, Y_train))\n",
    "origparams = np.append(lassBig.coef_, lassBig.intercept_)\n",
    "print('\\nParameter estimates for the model with many features:')\n",
    "print(origparams)\n",
    "l_2 = lassBig.score(X_train2, Y_train)"
   ]
  },
  {
   "cell_type": "code",
   "execution_count": 48,
   "metadata": {},
   "outputs": [
    {
     "name": "stdout",
     "output_type": "stream",
     "text": [
      "\n",
      "R² for the model with many features:\n",
      "0.0268341255224\n",
      "\n",
      "Parameter estimates for the model with many features:\n",
      "[  0.00000000e+00  -0.00000000e+00   0.00000000e+00  -0.00000000e+00\n",
      "   0.00000000e+00  -0.00000000e+00   0.00000000e+00   0.00000000e+00\n",
      "  -5.42412401e-06   5.42829534e+00]\n"
     ]
    }
   ],
   "source": [
    "lassBig = linear_model.Lasso(alpha=3)\n",
    "lassBig.fit(X_train2, Y_train)\n",
    "print('\\nR² for the model with many features:')\n",
    "print(lassBig.score(X_train2, Y_train))\n",
    "origparams = np.append(lassBig.coef_, lassBig.intercept_)\n",
    "print('\\nParameter estimates for the model with many features:')\n",
    "print(origparams)\n",
    "l_3 = lassBig.score(X_train2, Y_train)"
   ]
  },
  {
   "cell_type": "code",
   "execution_count": 49,
   "metadata": {},
   "outputs": [
    {
     "name": "stdout",
     "output_type": "stream",
     "text": [
      "\n",
      "R² for the model with many features:\n",
      "0.0268341177968\n",
      "\n",
      "Parameter estimates for the model with many features:\n",
      "[  0.00000000e+00  -0.00000000e+00   0.00000000e+00  -0.00000000e+00\n",
      "   0.00000000e+00  -0.00000000e+00   0.00000000e+00  -0.00000000e+00\n",
      "  -5.42302331e-06   5.42719461e+00]\n"
     ]
    }
   ],
   "source": [
    "lassBig = linear_model.Lasso(alpha=4)\n",
    "lassBig.fit(X_train2, Y_train)\n",
    "print('\\nR² for the model with many features:')\n",
    "print(lassBig.score(X_train2, Y_train))\n",
    "origparams = np.append(lassBig.coef_, lassBig.intercept_)\n",
    "print('\\nParameter estimates for the model with many features:')\n",
    "print(origparams)\n",
    "l_4 = lassBig.score(X_train2, Y_train)"
   ]
  },
  {
   "cell_type": "code",
   "execution_count": 50,
   "metadata": {},
   "outputs": [
    {
     "name": "stdout",
     "output_type": "stream",
     "text": [
      "\n",
      "R² for the model with many features:\n",
      "0.0268341078638\n",
      "\n",
      "Parameter estimates for the model with many features:\n",
      "[  0.00000000e+00  -0.00000000e+00   0.00000000e+00  -0.00000000e+00\n",
      "   0.00000000e+00  -0.00000000e+00   0.00000000e+00  -0.00000000e+00\n",
      "  -5.42192261e-06   5.42609387e+00]\n"
     ]
    }
   ],
   "source": [
    "lassBig = linear_model.Lasso(alpha=5)\n",
    "lassBig.fit(X_train2, Y_train)\n",
    "print('\\nR² for the model with many features:')\n",
    "print(lassBig.score(X_train2, Y_train))\n",
    "origparams = np.append(lassBig.coef_, lassBig.intercept_)\n",
    "print('\\nParameter estimates for the model with many features:')\n",
    "print(origparams)\n",
    "l_5 = lassBig.score(X_train2, Y_train)"
   ]
  },
  {
   "cell_type": "code",
   "execution_count": 51,
   "metadata": {},
   "outputs": [
    {
     "name": "stdout",
     "output_type": "stream",
     "text": [
      "\n",
      "R² for the model with many features:\n",
      "0.0268340957236\n",
      "\n",
      "Parameter estimates for the model with many features:\n",
      "[  0.00000000e+00  -0.00000000e+00   0.00000000e+00  -0.00000000e+00\n",
      "   0.00000000e+00  -0.00000000e+00   0.00000000e+00  -0.00000000e+00\n",
      "  -5.42082192e-06   5.42499314e+00]\n"
     ]
    }
   ],
   "source": [
    "lassBig = linear_model.Lasso(alpha=6)\n",
    "lassBig.fit(X_train2, Y_train)\n",
    "print('\\nR² for the model with many features:')\n",
    "print(lassBig.score(X_train2, Y_train))\n",
    "origparams = np.append(lassBig.coef_, lassBig.intercept_)\n",
    "print('\\nParameter estimates for the model with many features:')\n",
    "print(origparams)\n",
    "l_6 = lassBig.score(X_train2, Y_train)"
   ]
  },
  {
   "cell_type": "code",
   "execution_count": 52,
   "metadata": {},
   "outputs": [
    {
     "name": "stdout",
     "output_type": "stream",
     "text": [
      "\n",
      "R² for the model with many features:\n",
      "0.0268340813759\n",
      "\n",
      "Parameter estimates for the model with many features:\n",
      "[  0.00000000e+00  -0.00000000e+00  -0.00000000e+00  -0.00000000e+00\n",
      "   0.00000000e+00  -0.00000000e+00   0.00000000e+00  -0.00000000e+00\n",
      "  -5.41972122e-06   5.42389241e+00]\n"
     ]
    }
   ],
   "source": [
    "lassBig = linear_model.Lasso(alpha=7)\n",
    "lassBig.fit(X_train2, Y_train)\n",
    "print('\\nR² for the model with many features:')\n",
    "print(lassBig.score(X_train2, Y_train))\n",
    "origparams = np.append(lassBig.coef_, lassBig.intercept_)\n",
    "print('\\nParameter estimates for the model with many features:')\n",
    "print(origparams)\n",
    "l_7 = lassBig.score(X_train2, Y_train)"
   ]
  },
  {
   "cell_type": "code",
   "execution_count": 53,
   "metadata": {},
   "outputs": [
    {
     "name": "stdout",
     "output_type": "stream",
     "text": [
      "\n",
      "R² for the model with many features:\n",
      "0.026834064821\n",
      "\n",
      "Parameter estimates for the model with many features:\n",
      "[  0.00000000e+00  -0.00000000e+00  -0.00000000e+00  -0.00000000e+00\n",
      "   0.00000000e+00  -0.00000000e+00  -0.00000000e+00  -0.00000000e+00\n",
      "  -5.41862052e-06   5.42279168e+00]\n"
     ]
    }
   ],
   "source": [
    "lassBig = linear_model.Lasso(alpha=8)\n",
    "lassBig.fit(X_train2, Y_train)\n",
    "print('\\nR² for the model with many features:')\n",
    "print(lassBig.score(X_train2, Y_train))\n",
    "origparams = np.append(lassBig.coef_, lassBig.intercept_)\n",
    "print('\\nParameter estimates for the model with many features:')\n",
    "print(origparams)\n",
    "l_8 = lassBig.score(X_train2, Y_train)"
   ]
  },
  {
   "cell_type": "code",
   "execution_count": 54,
   "metadata": {},
   "outputs": [
    {
     "name": "stdout",
     "output_type": "stream",
     "text": [
      "\n",
      "R² for the model with many features:\n",
      "0.0268340460588\n",
      "\n",
      "Parameter estimates for the model with many features:\n",
      "[  0.00000000e+00  -0.00000000e+00  -0.00000000e+00  -0.00000000e+00\n",
      "   0.00000000e+00  -0.00000000e+00  -0.00000000e+00  -0.00000000e+00\n",
      "  -5.41751982e-06   5.42169094e+00]\n"
     ]
    }
   ],
   "source": [
    "lassBig = linear_model.Lasso(alpha=9)\n",
    "lassBig.fit(X_train2, Y_train)\n",
    "print('\\nR² for the model with many features:')\n",
    "print(lassBig.score(X_train2, Y_train))\n",
    "origparams = np.append(lassBig.coef_, lassBig.intercept_)\n",
    "print('\\nParameter estimates for the model with many features:')\n",
    "print(origparams)\n",
    "l_9 = lassBig.score(X_train2, Y_train)"
   ]
  },
  {
   "cell_type": "code",
   "execution_count": 55,
   "metadata": {},
   "outputs": [
    {
     "name": "stdout",
     "output_type": "stream",
     "text": [
      "\n",
      "R² for the model with many features:\n",
      "0.0268340250892\n",
      "\n",
      "Parameter estimates for the model with many features:\n",
      "[  0.00000000e+00  -0.00000000e+00  -0.00000000e+00  -0.00000000e+00\n",
      "   0.00000000e+00  -0.00000000e+00  -0.00000000e+00  -0.00000000e+00\n",
      "  -5.41641912e-06   5.42059021e+00]\n"
     ]
    }
   ],
   "source": [
    "lassBig = linear_model.Lasso(alpha=10)\n",
    "lassBig.fit(X_train2, Y_train)\n",
    "print('\\nR² for the model with many features:')\n",
    "print(lassBig.score(X_train2, Y_train))\n",
    "origparams = np.append(lassBig.coef_, lassBig.intercept_)\n",
    "print('\\nParameter estimates for the model with many features:')\n",
    "print(origparams)\n",
    "l_10 = lassBig.score(X_train2, Y_train)"
   ]
  },
  {
   "cell_type": "code",
   "execution_count": 56,
   "metadata": {},
   "outputs": [
    {
     "name": "stdout",
     "output_type": "stream",
     "text": [
      "\n",
      "R² for the model with many features:\n",
      "0.573968601452\n",
      "\n",
      "Parameter estimates for the model with many features:\n",
      "[ -4.27783831e-03  -7.58734740e-01   1.91749285e-01  -2.30805622e-03\n",
      "   1.14873174e-02  -4.20909186e-03  -1.79503525e-02   1.95202108e-03\n",
      "  -1.93416477e-05   0.00000000e+00]\n"
     ]
    }
   ],
   "source": [
    "ridgeregr = linear_model.Ridge(alpha=1, fit_intercept=False)\n",
    "ridgeregr.fit(X_train2, Y_train)\n",
    "print('\\nR² for the model with many features:')\n",
    "print(ridgeregr.score(X_train2, Y_train))\n",
    "origparams = np.append(ridgeregr.coef_, ridgeregr.intercept_)\n",
    "print('\\nParameter estimates for the model with many features:')\n",
    "print(origparams)\n",
    "r_1 = ridgeregr.score(X_train2, Y_train)"
   ]
  },
  {
   "cell_type": "code",
   "execution_count": 57,
   "metadata": {},
   "outputs": [
    {
     "name": "stdout",
     "output_type": "stream",
     "text": [
      "\n",
      "R² for the model with many features:\n",
      "0.573963861181\n",
      "\n",
      "Parameter estimates for the model with many features:\n",
      "[ -3.62841637e-03  -7.58540878e-01   1.43847914e-01  -2.70051016e-03\n",
      "   1.08509988e-02  -4.08146141e-03  -1.34768560e-02   1.46289617e-03\n",
      "  -1.44957925e-05   0.00000000e+00]\n"
     ]
    }
   ],
   "source": [
    "ridgeregr = linear_model.Ridge(alpha=2, fit_intercept=False)\n",
    "ridgeregr.fit(X_train2, Y_train)\n",
    "print('\\nR² for the model with many features:')\n",
    "print(ridgeregr.score(X_train2, Y_train))\n",
    "origparams = np.append(ridgeregr.coef_, ridgeregr.intercept_)\n",
    "print('\\nParameter estimates for the model with many features:')\n",
    "print(origparams)\n",
    "r_2 = ridgeregr.score(X_train2, Y_train)"
   ]
  },
  {
   "cell_type": "code",
   "execution_count": 58,
   "metadata": {},
   "outputs": [
    {
     "name": "stdout",
     "output_type": "stream",
     "text": [
      "\n",
      "R² for the model with many features:\n",
      "0.57396003014\n",
      "\n",
      "Parameter estimates for the model with many features:\n",
      "[ -3.22846210e-03  -7.58358018e-01   1.15052488e-01  -2.94851047e-03\n",
      "   1.04649007e-02  -4.00180082e-03  -1.07819233e-02   1.16900315e-03\n",
      "  -1.15842033e-05   0.00000000e+00]\n"
     ]
    }
   ],
   "source": [
    "ridgeregr = linear_model.Ridge(alpha=3, fit_intercept=False)\n",
    "ridgeregr.fit(X_train2, Y_train)\n",
    "print('\\nR² for the model with many features:')\n",
    "print(ridgeregr.score(X_train2, Y_train))\n",
    "origparams = np.append(ridgeregr.coef_, ridgeregr.intercept_)\n",
    "print('\\nParameter estimates for the model with many features:')\n",
    "print(origparams)\n",
    "r_3 = ridgeregr.score(X_train2, Y_train)"
   ]
  },
  {
   "cell_type": "code",
   "execution_count": 59,
   "metadata": {},
   "outputs": [
    {
     "name": "stdout",
     "output_type": "stream",
     "text": [
      "\n",
      "R² for the model with many features:\n",
      "0.573957004144\n",
      "\n",
      "Parameter estimates for the model with many features:\n",
      "[ -2.95359241e-03  -7.58180710e-01   9.58327437e-02  -3.12409570e-03\n",
      "   1.02042386e-02  -3.94619161e-03  -8.98197288e-03   9.72966988e-04\n",
      "  -9.64209899e-06   0.00000000e+00]\n"
     ]
    }
   ],
   "source": [
    "ridgeregr = linear_model.Ridge(alpha=4, fit_intercept=False)\n",
    "ridgeregr.fit(X_train2, Y_train)\n",
    "print('\\nR² for the model with many features:')\n",
    "print(ridgeregr.score(X_train2, Y_train))\n",
    "origparams = np.append(ridgeregr.coef_, ridgeregr.intercept_)\n",
    "print('\\nParameter estimates for the model with many features:')\n",
    "print(origparams)\n",
    "r_4 = ridgeregr.score(X_train2, Y_train)"
   ]
  },
  {
   "cell_type": "code",
   "execution_count": 60,
   "metadata": {},
   "outputs": [
    {
     "name": "stdout",
     "output_type": "stream",
     "text": [
      "\n",
      "R² for the model with many features:\n",
      "0.573954555355\n",
      "\n",
      "Parameter estimates for the model with many features:\n",
      "[ -2.75035289e-03  -7.58006613e-01   8.20932498e-02  -3.25822468e-03\n",
      "   1.00153856e-02  -3.90435469e-03  -7.69484396e-03   8.32936623e-04\n",
      "  -8.25484777e-06   0.00000000e+00]\n"
     ]
    }
   ],
   "source": [
    "ridgeregr = linear_model.Ridge(alpha=5, fit_intercept=False)\n",
    "ridgeregr.fit(X_train2, Y_train)\n",
    "print('\\nR² for the model with many features:')\n",
    "print(ridgeregr.score(X_train2, Y_train))\n",
    "origparams = np.append(ridgeregr.coef_, ridgeregr.intercept_)\n",
    "print('\\nParameter estimates for the model with many features:')\n",
    "print(origparams)\n",
    "r_5 = ridgeregr.score(X_train2, Y_train)"
   ]
  },
  {
   "cell_type": "code",
   "execution_count": 61,
   "metadata": {},
   "outputs": [
    {
     "name": "stdout",
     "output_type": "stream",
     "text": [
      "\n",
      "R² for the model with many features:\n",
      "0.573952509401\n",
      "\n",
      "Parameter estimates for the model with many features:\n",
      "[ -2.59196761e-03  -7.57834553e-01   7.17826152e-02  -3.36640487e-03\n",
      "   9.87147976e-03  -3.87114119e-03  -6.72875442e-03   7.27948082e-04\n",
      "  -7.21475646e-06   0.00000000e+00]\n"
     ]
    }
   ],
   "source": [
    "ridgeregr = linear_model.Ridge(alpha=6, fit_intercept=False)\n",
    "ridgeregr.fit(X_train2, Y_train)\n",
    "print('\\nR² for the model with many features:')\n",
    "print(ridgeregr.score(X_train2, Y_train))\n",
    "origparams = np.append(ridgeregr.coef_, ridgeregr.intercept_)\n",
    "print('\\nParameter estimates for the model with many features:')\n",
    "print(origparams)\n",
    "r_6 = ridgeregr.score(X_train2, Y_train)"
   ]
  },
  {
   "cell_type": "code",
   "execution_count": 62,
   "metadata": {},
   "outputs": [
    {
     "name": "stdout",
     "output_type": "stream",
     "text": [
      "\n",
      "R² for the model with many features:\n",
      "0.573950745449\n",
      "\n",
      "Parameter estimates for the model with many features:\n",
      "[ -2.46354164e-03  -7.57663877e-01   6.37597191e-02  -3.45726263e-03\n",
      "   9.75757825e-03  -3.84368691e-03  -5.97693100e-03   6.46339572e-04\n",
      "  -6.40629081e-06   0.00000000e+00]\n"
     ]
    }
   ],
   "source": [
    "ridgeregr = linear_model.Ridge(alpha=7, fit_intercept=False)\n",
    "ridgeregr.fit(X_train2, Y_train)\n",
    "print('\\nR² for the model with many features:')\n",
    "print(ridgeregr.score(X_train2, Y_train))\n",
    "origparams = np.append(ridgeregr.coef_, ridgeregr.intercept_)\n",
    "print('\\nParameter estimates for the model with many features:')\n",
    "print(origparams)\n",
    "r_7 = ridgeregr.score(X_train2, Y_train)"
   ]
  },
  {
   "cell_type": "code",
   "execution_count": 63,
   "metadata": {},
   "outputs": [
    {
     "name": "stdout",
     "output_type": "stream",
     "text": [
      "\n",
      "R² for the model with many features:\n",
      "0.573949180202\n",
      "\n",
      "Parameter estimates for the model with many features:\n",
      "[ -2.35612916e-03  -7.57494194e-01   5.73392310e-02  -3.53597877e-03\n",
      "   9.66470667e-03  -3.82027163e-03  -5.37521749e-03   5.81107215e-04\n",
      "  -5.76006320e-06   0.00000000e+00]\n"
     ]
    }
   ],
   "source": [
    "ridgeregr = linear_model.Ridge(alpha=8, fit_intercept=False)\n",
    "ridgeregr.fit(X_train2, Y_train)\n",
    "print('\\nR² for the model with many features:')\n",
    "print(ridgeregr.score(X_train2, Y_train))\n",
    "origparams = np.append(ridgeregr.coef_, ridgeregr.intercept_)\n",
    "print('\\nParameter estimates for the model with many features:')\n",
    "print(origparams)\n",
    "r_8 = ridgeregr.score(X_train2, Y_train)"
   ]
  },
  {
   "cell_type": "code",
   "execution_count": 64,
   "metadata": {},
   "outputs": [
    {
     "name": "stdout",
     "output_type": "stream",
     "text": [
      "\n",
      "R² for the model with many features:\n",
      "0.573947755296\n",
      "\n",
      "Parameter estimates for the model with many features:\n",
      "[ -2.26403286e-03  -7.57325254e-01   5.20847043e-02  -3.60585269e-03\n",
      "   9.58714965e-03  -3.79979985e-03  -4.88274411e-03   5.27790625e-04\n",
      "  -5.23188457e-06   0.00000000e+00]\n"
     ]
    }
   ],
   "source": [
    "ridgeregr = linear_model.Ridge(alpha=9, fit_intercept=False)\n",
    "ridgeregr.fit(X_train2, Y_train)\n",
    "print('\\nR² for the model with many features:')\n",
    "print(ridgeregr.score(X_train2, Y_train))\n",
    "origparams = np.append(ridgeregr.coef_, ridgeregr.intercept_)\n",
    "print('\\nParameter estimates for the model with many features:')\n",
    "print(origparams)\n",
    "r_9 = ridgeregr.score(X_train2, Y_train)"
   ]
  },
  {
   "cell_type": "code",
   "execution_count": 65,
   "metadata": {},
   "outputs": [
    {
     "name": "stdout",
     "output_type": "stream",
     "text": [
      "\n",
      "R² for the model with many features:\n",
      "0.573946428961\n",
      "\n",
      "Parameter estimates for the model with many features:\n",
      "[ -2.18345205e-03  -7.57156891e-01   4.77049992e-02  -3.66908529e-03\n",
      "   9.52109450e-03  -3.78154074e-03  -4.47224220e-03   4.83414403e-04\n",
      "  -4.79227770e-06   0.00000000e+00]\n"
     ]
    }
   ],
   "source": [
    "ridgeregr = linear_model.Ridge(alpha=10, fit_intercept=False)\n",
    "ridgeregr.fit(X_train2, Y_train)\n",
    "print('\\nR² for the model with many features:')\n",
    "print(ridgeregr.score(X_train2, Y_train))\n",
    "origparams = np.append(ridgeregr.coef_, ridgeregr.intercept_)\n",
    "print('\\nParameter estimates for the model with many features:')\n",
    "print(origparams)\n",
    "r_10 = ridgeregr.score(X_train2, Y_train)"
   ]
  },
  {
   "cell_type": "code",
   "execution_count": 71,
   "metadata": {},
   "outputs": [
    {
     "data": {
      "image/png": "[encoded data removed]",
      "text/plain": [
       "<matplotlib.figure.Figure at 0x111d25748>"
      ]
     },
     "metadata": {},
     "output_type": "display_data"
    }
   ],
   "source": [
    "l = [l_1, l_2, l_3, l_4, l_5, l_6, l_7, l_8, l_9, l_10]\n",
    "r = [r_1, r_2, r_3, r_4, r_5, r_6, r_7, r_8, r_9, r_10]\n",
    "plt.plot(r)\n",
    "plt.xlabel('Ridge')\n",
    "plt.show()"
   ]
  },
  {
   "cell_type": "code",
   "execution_count": 72,
   "metadata": {},
   "outputs": [
    {
     "data": {
      "image/png": "[encoded data removed]",
      "text/plain": [
       "<matplotlib.figure.Figure at 0x111e23e48>"
      ]
     },
     "metadata": {},
     "output_type": "display_data"
    }
   ],
   "source": [
    "plt.plot(l)\n",
    "plt.xlabel('Lasso')\n",
    "plt.show()"
   ]
  },
  {
   "cell_type": "code",
   "execution_count": null,
   "metadata": {
    "collapsed": true
   },
   "outputs": [],
   "source": []
  }
 ],
 "metadata": {
  "kernelspec": {
   "display_name": "Python 3",
   "language": "python",
   "name": "python3"
  },
  "language_info": {
   "codemirror_mode": {
    "name": "ipython",
    "version": 3
   },
   "file_extension": ".py",
   "mimetype": "text/x-python",
   "name": "python",
   "nbconvert_exporter": "python",
   "pygments_lexer": "ipython3",
   "version": "3.6.1"
  }
 },
 "nbformat": 4,
 "nbformat_minor": 2
}
