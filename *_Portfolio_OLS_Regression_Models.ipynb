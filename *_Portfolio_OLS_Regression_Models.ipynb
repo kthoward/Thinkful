{
 "cells": [
  {
   "cell_type": "code",
   "execution_count": 19,
   "metadata": {},
   "outputs": [
    {
     "data": {
      "text/plain": [
       "'/Users/kylehoward/Desktop/Thinkful/Thinkful-2'"
      ]
     },
     "execution_count": 19,
     "metadata": {},
     "output_type": "execute_result"
    }
   ],
   "source": [
    "import math\n",
    "import numpy as np\n",
    "import pandas as pd\n",
    "from IPython.display import display\n",
    "import scipy\n",
    "import sklearn\n",
    "import matplotlib.pyplot as plt\n",
    "import os\n",
    "from statsmodels.sandbox.regression.predstd import wls_prediction_std\n",
    "from sklearn import linear_model\n",
    "import statsmodels.formula.api as smf\n",
    "from sklearn.metrics import confusion_matrix\n",
    "\n",
    "os.getcwd()\n",
    "os.chdir('/Users/kylehoward/desktop/thinkful/thinkful-2') \n",
    "os.getcwd()"
   ]
  },
  {
   "cell_type": "code",
   "execution_count": 2,
   "metadata": {
    "collapsed": true
   },
   "outputs": [],
   "source": [
    "# Importing and cleaning the 2013 New York crime data\n",
    "data = (\"FBI_data_4.csv\")\n",
    "fbi = pd.read_csv(data, usecols=[1,2,3,6,8,11,12])\n",
    "fbi.columns = ['population', 'violent_crime', 'murder', 'robbery', 'prop_crime', 'gta', 'arsen']\n",
    "fbi = fbi.replace([np.inf, -np.inf], np.nan).dropna()\n",
    "fbi = fbi[1:]\n",
    "fbi = fbi.dropna()\n",
    "\n",
    "\n"
   ]
  },
  {
   "cell_type": "code",
   "execution_count": 3,
   "metadata": {},
   "outputs": [
    {
     "data": {
      "text/plain": [
       "1         6640929\n",
       "2         8099716\n",
       "6         3171961\n",
       "7     13993943616\n",
       "8        90611361\n",
       "9       330585124\n",
       "10        4214809\n",
       "11       20457529\n",
       "12         432964\n",
       "13        6360484\n",
       "Name: population_squared, dtype: int64"
      ]
     },
     "execution_count": 3,
     "metadata": {},
     "output_type": "execute_result"
    }
   ],
   "source": [
    "# Feature building where we are manipulating population to try and expand on more subtle patterns subtle patterns\n",
    "fbi['population'] = fbi['population'].astype(int)\n",
    "fbi['population_squared'] = fbi['population'] * fbi['population']\n",
    "fbi['population_squared'].head(10)"
   ]
  },
  {
   "cell_type": "code",
   "execution_count": 18,
   "metadata": {},
   "outputs": [
    {
     "data": {
      "text/plain": [
       "1      50\n",
       "2      53\n",
       "6      42\n",
       "7     343\n",
       "8      97\n",
       "9     134\n",
       "10     45\n",
       "11     67\n",
       "12     25\n",
       "13     50\n",
       "Name: population_sqrt, dtype: int64"
      ]
     },
     "execution_count": 18,
     "metadata": {},
     "output_type": "execute_result"
    }
   ],
   "source": [
    "# Feature building where we are manipulating population to normalize the data\n",
    "fbi['population_sqrt'] = fbi['population'] ** .5\n",
    "fbi['population_sqrt'] = fbi['population_sqrt'].astype(int)\n",
    "fbi['population_sqrt'].head(10)"
   ]
  },
  {
   "cell_type": "code",
   "execution_count": 5,
   "metadata": {},
   "outputs": [
    {
     "data": {
      "text/plain": [
       "1     0\n",
       "2     0\n",
       "6     0\n",
       "7     1\n",
       "8     0\n",
       "9     0\n",
       "10    0\n",
       "11    0\n",
       "12    0\n",
       "13    0\n",
       "Name: has_murder, dtype: int64"
      ]
     },
     "execution_count": 5,
     "metadata": {},
     "output_type": "execute_result"
    }
   ],
   "source": [
    "# Creating categorical features\n",
    "fbi['murder'] = fbi['murder'].astype(int)\n",
    "fbi['has_murder'] = np.where(fbi['murder']>=1, 1, 0)\n",
    "fbi['has_murder'].head(10)"
   ]
  },
  {
   "cell_type": "code",
   "execution_count": 6,
   "metadata": {},
   "outputs": [
    {
     "data": {
      "text/plain": [
       "1     0\n",
       "2     0\n",
       "6     0\n",
       "7     1\n",
       "8     1\n",
       "9     1\n",
       "10    0\n",
       "11    1\n",
       "12    0\n",
       "13    0\n",
       "Name: has_robbery, dtype: int64"
      ]
     },
     "execution_count": 6,
     "metadata": {},
     "output_type": "execute_result"
    }
   ],
   "source": [
    "# Creating more categorical features and cleaning the data\n",
    "fbi['robbery'] = fbi['robbery'].astype(int)\n",
    "fbi['has_robbery'] = np.where(fbi['robbery']>=1, 1, 0)\n",
    "fbi['arsen'] = fbi['arsen'].astype(int)\n",
    "fbi['has_robbery'].head(10)"
   ]
  },
  {
   "cell_type": "code",
   "execution_count": 7,
   "metadata": {
    "collapsed": true
   },
   "outputs": [],
   "source": [
    "# ------------------------------------------sklearn OLS Regression -------------------------------------\n",
    "regr = linear_model.LinearRegression()\n",
    "fbi['prop_crime'].astype(int)\n",
    "fbi['population_sqrt'].astype(int)\n",
    "fbi['violent_crime'].astype(int)\n",
    "fbi['arsen'].astype(int)\n",
    "fbi['gta'].astype(int)\n",
    "\n",
    "#fbi['prop_crime'] = pd.to_numeric(fbi['prop_crime'], errors='coerce')\n",
    "#fbi['gta'] = pd.to_numeric(fbi['gta'], errors='coerce')\n",
    "#fbi['violent_crime'] = pd.to_numeric(fbi['violent_crime'], errors='coerce')\n",
    "#fbi['arsen'] = pd.to_numeric(fbi['arsen'], errors='coerce')\n",
    "Y = fbi['prop_crime'].values.reshape(-1, 1)\n",
    "X = fbi[['gta', 'population_sqrt', 'violent_crime', 'arsen']]\n",
    "X_training = X[:100]\n",
    "Y_training = Y[:100]\n",
    "X_test = X[100:]\n",
    "Y_test = Y[100:]\n",
    "regr.fit(X_training, Y_training)\n",
    "y_pred_test = regr.predict(X_test)\n",
    "\n"
   ]
  },
  {
   "cell_type": "code",
   "execution_count": 8,
   "metadata": {},
   "outputs": [
    {
     "name": "stdout",
     "output_type": "stream",
     "text": [
      "\n",
      "Coefficients: \n",
      " [[ 17.30987145   4.02844667  -3.45162097  21.30677974]]\n",
      "\n",
      "Intercept: \n",
      " [-208.19966493]\n",
      "\n",
      "R-squared:\n",
      "0.781025167054\n"
     ]
    }
   ],
   "source": [
    "# Inspecting the training outputs\n",
    "print('\\nCoefficients: \\n', regr.coef_)\n",
    "print('\\nIntercept: \\n', regr.intercept_)\n",
    "print('\\nR-squared:')\n",
    "print(regr.score(X_training, Y_training))"
   ]
  },
  {
   "cell_type": "code",
   "execution_count": 9,
   "metadata": {},
   "outputs": [
    {
     "name": "stdout",
     "output_type": "stream",
     "text": [
      "\n",
      "Coefficients: \n",
      " [[ 17.30987145   4.02844667  -3.45162097  21.30677974]]\n",
      "\n",
      "Intercept: \n",
      " [-208.19966493]\n",
      "\n",
      "R-squared:\n",
      "0.916290908524\n"
     ]
    }
   ],
   "source": [
    "# Inspecting the test outputs\n",
    "print('\\nCoefficients: \\n', regr.coef_)\n",
    "print('\\nIntercept: \\n', regr.intercept_)\n",
    "print('\\nR-squared:')\n",
    "print(regr.score(X_test, Y_test))"
   ]
  },
  {
   "cell_type": "code",
   "execution_count": 11,
   "metadata": {},
   "outputs": [
    {
     "name": "stdout",
     "output_type": "stream",
     "text": [
      "Coefficients: \n",
      " [[ 17.30987145   4.02844667  -3.45162097  21.30677974]]\n",
      "Mean squared error: \n",
      " 148324.714285\n",
      "R2 score: \n",
      " 0.916290908524\n"
     ]
    }
   ],
   "source": [
    "# Inspecting Mean squared error and R2 score\n",
    "print('Coefficients: \\n', regr.coef_)\n",
    "print('Mean squared error: \\n', sklearn.metrics.mean_squared_error(Y_test, y_pred_test))\n",
    "print('R2 score: \\n', sklearn.metrics.r2_score(Y_test, y_pred_test))"
   ]
  },
  {
   "cell_type": "code",
   "execution_count": 13,
   "metadata": {
    "collapsed": true
   },
   "outputs": [],
   "source": [
    "# -------------------------------------- statsmodels OLS Regression ---------------------------\n",
    "linear_formula = 'prop_crime ~ gta+population_sqrt+violent_crime+arsen'\n",
    "lm = smf.ols(formula=linear_formula, data=fbi).fit()"
   ]
  },
  {
   "cell_type": "code",
   "execution_count": 14,
   "metadata": {},
   "outputs": [
    {
     "data": {
      "text/plain": [
       "Intercept         -178.889203\n",
       "gta                 11.623850\n",
       "population_sqrt      3.652602\n",
       "violent_crime       -1.546253\n",
       "arsen               38.042049\n",
       "dtype: float64"
      ]
     },
     "execution_count": 14,
     "metadata": {},
     "output_type": "execute_result"
    }
   ],
   "source": [
    "# Inspecting parameters\n",
    "lm.params"
   ]
  },
  {
   "cell_type": "code",
   "execution_count": 15,
   "metadata": {},
   "outputs": [
    {
     "data": {
      "text/plain": [
       "Intercept          1.137841e-08\n",
       "gta                1.108854e-10\n",
       "population_sqrt    5.795206e-24\n",
       "violent_crime      1.491665e-04\n",
       "arsen              3.553459e-16\n",
       "dtype: float64"
      ]
     },
     "execution_count": 15,
     "metadata": {},
     "output_type": "execute_result"
    }
   ],
   "source": [
    "# Inspecting feature p values\n",
    "lm.pvalues"
   ]
  },
  {
   "cell_type": "code",
   "execution_count": 16,
   "metadata": {},
   "outputs": [
    {
     "data": {
      "text/plain": [
       "0.95833936944267883"
      ]
     },
     "execution_count": 16,
     "metadata": {},
     "output_type": "execute_result"
    }
   ],
   "source": [
    "# Inspecting r squared\n",
    "lm.rsquared"
   ]
  },
  {
   "cell_type": "code",
   "execution_count": 17,
   "metadata": {},
   "outputs": [
    {
     "data": {
      "text/html": [
       "<div>\n",
       "<style>\n",
       "    .dataframe thead tr:only-child th {\n",
       "        text-align: right;\n",
       "    }\n",
       "\n",
       "    .dataframe thead th {\n",
       "        text-align: left;\n",
       "    }\n",
       "\n",
       "    .dataframe tbody tr th {\n",
       "        vertical-align: top;\n",
       "    }\n",
       "</style>\n",
       "<table border=\"1\" class=\"dataframe\">\n",
       "  <thead>\n",
       "    <tr style=\"text-align: right;\">\n",
       "      <th></th>\n",
       "      <th>0</th>\n",
       "      <th>1</th>\n",
       "    </tr>\n",
       "  </thead>\n",
       "  <tbody>\n",
       "    <tr>\n",
       "      <th>Intercept</th>\n",
       "      <td>-237.870404</td>\n",
       "      <td>-119.908001</td>\n",
       "    </tr>\n",
       "    <tr>\n",
       "      <th>gta</th>\n",
       "      <td>8.276037</td>\n",
       "      <td>14.971663</td>\n",
       "    </tr>\n",
       "    <tr>\n",
       "      <th>population_sqrt</th>\n",
       "      <td>3.037564</td>\n",
       "      <td>4.267639</td>\n",
       "    </tr>\n",
       "    <tr>\n",
       "      <th>violent_crime</th>\n",
       "      <td>-2.333693</td>\n",
       "      <td>-0.758813</td>\n",
       "    </tr>\n",
       "    <tr>\n",
       "      <th>arsen</th>\n",
       "      <td>29.679695</td>\n",
       "      <td>46.404403</td>\n",
       "    </tr>\n",
       "  </tbody>\n",
       "</table>\n",
       "</div>"
      ],
      "text/plain": [
       "                          0           1\n",
       "Intercept       -237.870404 -119.908001\n",
       "gta                8.276037   14.971663\n",
       "population_sqrt    3.037564    4.267639\n",
       "violent_crime     -2.333693   -0.758813\n",
       "arsen             29.679695   46.404403"
      ]
     },
     "execution_count": 17,
     "metadata": {},
     "output_type": "execute_result"
    }
   ],
   "source": [
    "# Inspecting confidence intervals\n",
    "lm.conf_int()"
   ]
  }
 ],
 "metadata": {
  "kernelspec": {
   "display_name": "Python 3",
   "language": "python",
   "name": "python3"
  },
  "language_info": {
   "codemirror_mode": {
    "name": "ipython",
    "version": 3
   },
   "file_extension": ".py",
   "mimetype": "text/x-python",
   "name": "python",
   "nbconvert_exporter": "python",
   "pygments_lexer": "ipython3",
   "version": "3.6.1"
  }
 },
 "nbformat": 4,
 "nbformat_minor": 2
}
