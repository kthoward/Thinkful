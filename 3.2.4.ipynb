{
 "cells": [
  {
   "cell_type": "code",
   "execution_count": 1,
   "metadata": {
    "collapsed": false
   },
   "outputs": [
    {
     "name": "stdout",
     "output_type": "stream",
     "text": [
      "0\n"
     ]
    }
   ],
   "source": [
    "# question 1\n",
    "# The probability of flipping HTTH, HHHH and TTHH on a balanced coin are all 1 / 16 or 1 / 2 * 1 / 2 * 1 / 2 * 1 / 2\n",
    "# or 6.25%"
   ]
  },
  {
   "cell_type": "code",
   "execution_count": 2,
   "metadata": {
    "collapsed": true
   },
   "outputs": [],
   "source": [
    "# question 2 \n",
    "# The probability of not chosing a man from a group that has 21 men and 24 women is 24 / 45 or 53% "
   ]
  },
  {
   "cell_type": "code",
   "execution_count": 3,
   "metadata": {
    "collapsed": true
   },
   "outputs": [],
   "source": [
    "# question 3\n",
    "#The probability of Bernice being in a plane crash is .0005%"
   ]
  },
  {
   "cell_type": "code",
   "execution_count": null,
   "metadata": {
    "collapsed": true
   },
   "outputs": [],
   "source": [
    "# question 4 \n",
    "# The users who click on links more frequently have a better chance of receiving the survey. This would make the \n",
    "# information regarding the legnth of time spent on the website skewed because one could assume that more click volume\n",
    "# would at least partially correlate with time spent on the website"
   ]
  }
 ],
 "metadata": {
  "kernelspec": {
   "display_name": "Python 2",
   "language": "python",
   "name": "python2"
  },
  "language_info": {
   "codemirror_mode": {
    "name": "ipython",
    "version": 2
   },
   "file_extension": ".py",
   "mimetype": "text/x-python",
   "name": "python",
   "nbconvert_exporter": "python",
   "pygments_lexer": "ipython2",
   "version": "2.7.13"
  }
 },
 "nbformat": 4,
 "nbformat_minor": 2
}
