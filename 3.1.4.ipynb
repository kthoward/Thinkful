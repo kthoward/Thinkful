{
 "cells": [
  {
   "cell_type": "code",
   "execution_count": 16,
   "metadata": {
    "collapsed": false
   },
   "outputs": [
    {
     "name": "stdout",
     "output_type": "stream",
     "text": [
      "7.47619047619\n",
      "2.73426232761\n",
      "1.03345401972\n"
     ]
    }
   ],
   "source": [
    "import pandas as pd\n",
    "import numpy as np\n",
    "# Question 1 by hand\n",
    "ages = [14, 12, 11, 10, 8, 8, 6]\n",
    "mean = 9.85714286 #sum of ages / 7\n",
    "median = 10 #number in the middle of the list\n",
    "mode = 8 #most frequent number\n",
    "\n",
    "age_mean_square = [] #list of squareed difference between the variable and the mean\n",
    "for age in ages:\n",
    "    age = (age - mean) ** 2\n",
    "    age_mean_square.append(age)\n",
    "total = 0\n",
    "for age in age_mean_square:\n",
    "    total += age\n",
    "var = total / 6 #calculates variance for exercise 1\n",
    "print(var)\n",
    "s = var ** 0.5 #calculates standard deviation for exercise 1\n",
    "print(s)\n",
    "se = s / (7 ** 0.5) #calculates standard error for exercize 1\n",
    "print(se)"
   ]
  },
  {
   "cell_type": "code",
   "execution_count": 19,
   "metadata": {
    "collapsed": false
   },
   "outputs": [
    {
     "name": "stdout",
     "output_type": "stream",
     "text": [
      "7.47619047619\n",
      "2.73426232761\n",
      "1.03345401972\n"
     ]
    }
   ],
   "source": [
    "#checking answer for question 1 \n",
    "import pandas as pd\n",
    "import numpy as np\n",
    "df = pd.DataFrame()\n",
    "df['age'] = [14, 12, 11, 10, 8, 8, 6]\n",
    "print(np.var(df['age'], ddof=1))\n",
    "print(np.std(df['age'], ddof=1))\n",
    "print(np.std(df['age'] ,ddof=1) / np.sqrt(len(df['age'])))"
   ]
  },
  {
   "cell_type": "code",
   "execution_count": null,
   "metadata": {
    "collapsed": true
   },
   "outputs": [],
   "source": [
    "'''question 2: \n",
    "For central tendency I would chose 'mean' because it would set a baseline for each character in relation to the\n",
    "family dynamic. This may be stepping into the variance portion of the question but understanding how old the character\n",
    "is compared to the family average would help writers understand how mature or immature compared to the rest of the \n",
    "group the character would be assumed to be'''\n",
    "\n",
    "'''As partially explained above I would chose 'variance' for the estimate of variance' because a writer could use that\n",
    "as a way of asertaining how mature or immature a character would be assumed to be compared to the group. However the \n",
    "writer could also deviate from this if they decided to for character building purposes''"
   ]
  },
  {
   "cell_type": "code",
   "execution_count": 20,
   "metadata": {
    "collapsed": false
   },
   "outputs": [
    {
     "name": "stdout",
     "output_type": "stream",
     "text": [
      "6.33333333333\n",
      "2.51661147842\n",
      "0.951189731211\n"
     ]
    }
   ],
   "source": [
    "import pandas as pd\n",
    "import numpy as np\n",
    "# Question 3 \n",
    "ages = [14, 12, 11, 10, 8, 8, 7]\n",
    "mean = 10 #sum of ages / 7\n",
    "median = 10 #number in the middle of the list\n",
    "mode = 8 #most frequent number\n",
    "'''mean is the only one that changed in central tendency because Cindy's is the lowest value and the increase didn't\n",
    "cause the valuse to duplicate another in the list'''\n",
    "df = pd.DataFrame()\n",
    "df['age'] = [14, 12, 11, 10, 8, 8, 7]\n",
    "print(np.var(df['age'], ddof=1))\n",
    "print(np.std(df['age'], ddof=1))\n",
    "print(np.std(df['age'] ,ddof=1) / np.sqrt(len(df['age'])))\n",
    "'''Since Cindy's age was one of the furthest from the mean her age increase caused the variance to reduce. \n",
    "This had the effect of also reducing the standard deviation and standard error'''"
   ]
  },
  {
   "cell_type": "code",
   "execution_count": 21,
   "metadata": {
    "collapsed": false
   },
   "outputs": [
    {
     "name": "stdout",
     "output_type": "stream",
     "text": [
      "18.0\n",
      "4.24264068712\n",
      "1.60356745147\n"
     ]
    }
   ],
   "source": [
    "import pandas as pd\n",
    "import numpy as np\n",
    "# Question 4\n",
    "ages = [14, 12, 11, 10, 8, 7, 1]\n",
    "mean = 9 #sum of ages / 7\n",
    "median = 10 #number in the middle of the list\n",
    "mode = None #no number repeats more frequently then another\n",
    "'''Swapping out the characters wouldn't change using mean as the preferred central tendency menthod since the relationship\n",
    "between the mean age and the character's age would be the information I would be looking for. Unless I am\n",
    "misunderstanding why we would be looking into this data'''\n",
    "df = pd.DataFrame()\n",
    "df['age'] = [14, 12, 11, 10, 8, 7, 1]\n",
    "print(np.var(df['age'], ddof=1))\n",
    "print(np.std(df['age'], ddof=1))\n",
    "print(np.std(df['age'] ,ddof=1) / np.sqrt(len(df['age'])))\n",
    "'''I would still look at variance to see that the pool of characters has become more diverse in their ages and \n",
    "would seem to have a wider range of personalities'''\n"
   ]
  },
  {
   "cell_type": "code",
   "execution_count": 34,
   "metadata": {
    "collapsed": false
   },
   "outputs": [
    {
     "name": "stdout",
     "output_type": "stream",
     "text": [
      "16\n"
     ]
    }
   ],
   "source": [
    "#question 5\n",
    "'''average the four publications percentage of viewership to find overall average. Redership volumes could play a\n",
    "part in the analysis but that is not given'''\n",
    "popularity_list = [20, 23, 17, 5]\n",
    "total = 0\n",
    "for x in popularity_list:\n",
    "    total += x\n",
    "    y = total / len(popularity_list)\n",
    "    \n",
    "'''\"y\" equals 16.25 when done by hand. Why is this method of division responding like floor division?'''\n",
    "\n",
    "print(y)\n"
   ]
  },
  {
   "cell_type": "code",
   "execution_count": null,
   "metadata": {
    "collapsed": true
   },
   "outputs": [],
   "source": []
  }
 ],
 "metadata": {
  "kernelspec": {
   "display_name": "Python 2",
   "language": "python",
   "name": "python2"
  },
  "language_info": {
   "codemirror_mode": {
    "name": "ipython",
    "version": 2
   },
   "file_extension": ".py",
   "mimetype": "text/x-python",
   "name": "python",
   "nbconvert_exporter": "python",
   "pygments_lexer": "ipython2",
   "version": "2.7.13"
  }
 },
 "nbformat": 4,
 "nbformat_minor": 2
}
