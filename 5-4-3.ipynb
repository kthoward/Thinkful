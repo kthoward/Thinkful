{
 "cells": [
  {
   "cell_type": "markdown",
   "metadata": {},
   "source": [
    "1) Popularity of various Uber drivers. \n",
    "Self-report unless we want to use tip as a behavioral parameter\n",
    "2) A grocery store wants to know how much people like strawberry, chocolate, and vanilla ice cream. \n",
    "Self-report unless we want to use sales/repeat sales as a parameter. How do we determine \"like\"? Is it someone saying they like something or their repeat purchases?\n",
    "3) Trojan wants to know whether their condoms are more popular among straight people or gay people. \n",
    "Self-report \n",
    "4) Recently, rental rates for HappyCars have increased by 30%, which is quite unusual. You want to find out why this is happening and how to keep the increase going. \n",
    "Behavioral\n",
    "5) Assessing the success rate of a new advertising campaign. \n",
    "Behavioral\n",
    "6) Measuring the effect of nurse/patient ratio on patient recovery rates in hospital wards.\n",
    "Behavioral"
   ]
  }
 ],
 "metadata": {
  "kernelspec": {
   "display_name": "Python 3",
   "language": "python",
   "name": "python3"
  },
  "language_info": {
   "codemirror_mode": {
    "name": "ipython",
    "version": 3
   },
   "file_extension": ".py",
   "mimetype": "text/x-python",
   "name": "python",
   "nbconvert_exporter": "python",
   "pygments_lexer": "ipython3",
   "version": "3.6.1"
  }
 },
 "nbformat": 4,
 "nbformat_minor": 2
}
