{
 "cells": [
  {
   "cell_type": "code",
   "execution_count": 31,
   "metadata": {
    "collapsed": false
   },
   "outputs": [
    {
     "data": {
      "text/plain": [
       "'/Users/kylehoward/Desktop/Thinkful'"
      ]
     },
     "execution_count": 31,
     "metadata": {},
     "output_type": "execute_result"
    }
   ],
   "source": [
    "import pandas as pd\n",
    "import numpy as np\n",
    "import os\n",
    "import json\n",
    "import matplotlib.pyplot as plt\n",
    "%matplotlib inline\n",
    "os.getcwd()\n",
    "os.chdir('/Users/kylehoward/desktop/thinkful') \n",
    "os.getcwd()"
   ]
  },
  {
   "cell_type": "code",
   "execution_count": 71,
   "metadata": {
    "collapsed": false
   },
   "outputs": [
    {
     "name": "stdout",
     "output_type": "stream",
     "text": [
      "       pg    sg    sf    pf     c   pg_sg   sg_sf   sf_pf    pf_c    c_pg\n",
      "atl  4886  4129  4334  4460  4650  4507.5  4231.5  4397.0  4555.0  4768.0\n",
      "bos  4696  4009  4155  4782  4999  4352.5  4082.0  4468.5  4890.5  4847.5\n",
      "bkn  5143  4357  4416  4960  5317  4750.0  4386.5  4688.0  5138.5  5230.0\n",
      "cha  4686  4149  4098  4629  5129  4417.5  4123.5  4363.5  4879.0  4907.5\n",
      "chi  4704  3907  4040  4606  4713  4305.5  3973.5  4323.0  4659.5  4708.5\n",
      "cle  4688  4325  4219  4408  4910  4506.5  4272.0  4313.5  4659.0  4799.0\n",
      "dal  4227  3959  3777  4506  4787  4093.0  3868.0  4141.5  4646.5  4507.0\n",
      "den  4982  4326  3998  4671  5021  4654.0  4162.0  4334.5  4846.0  5001.5\n",
      "det  4725  3766  3974  4519  4801  4245.5  3870.0  4246.5  4660.0  4763.0\n",
      "gsw  4484  3967  4060  4671  4994  4225.5  4013.5  4365.5  4832.5  4739.0\n",
      "hou  4827  4152  4173  4787  5364  4489.5  4162.5  4480.0  5075.5  5095.5\n",
      "ind  4581  3918  4290  4681  4937  4249.5  4104.0  4485.5  4809.0  4759.0\n",
      "lac  4349  3835  4154  4561  4842  4092.0  3994.5  4357.5  4701.5  4595.5\n",
      "lal  5031  4082  4347  5061  5484  4556.5  4214.5  4704.0  5272.5  5257.5\n",
      "mem  4489  3855  3990  4183  4261  4172.0  3922.5  4086.5  4222.0  4375.0\n",
      "mia  4433  3681  3903  4429  4919  4057.0  3792.0  4166.0  4674.0  4676.0\n",
      "mil  4443  4002  4127  4543  4988  4222.5  4064.5  4335.0  4765.5  4715.5\n",
      "min  4608  4088  3964  4361  5130  4348.0  4026.0  4162.5  4745.5  4869.0\n",
      "nop  4860  4193  4045  4711  5098  4526.5  4119.0  4378.0  4904.5  4979.0\n",
      "nyk  4526  4133  4078  4677  5201  4329.5  4105.5  4377.5  4939.0  4863.5\n",
      "okc  4535  4094  4026  4553  4924  4314.5  4060.0  4289.5  4738.5  4729.5\n",
      "orl  4967  4138  4091  4713  5118  4552.5  4114.5  4402.0  4915.5  5042.5\n",
      "phi  4619  4095  4139  4590  5180  4357.0  4117.0  4364.5  4885.0  4899.5\n",
      "pho  4938  4231  4059  4838  5180  4584.5  4145.0  4448.5  5009.0  5059.0\n",
      "por  4531  3966  4070  4948  5128  4248.5  4018.0  4509.0  5038.0  4829.5\n",
      "sac  4601  4220  4062  4805  5007  4410.5  4141.0  4433.5  4906.0  4804.0\n",
      "sas  4543  3964  3572  4297  4596  4253.5  3768.0  3934.5  4446.5  4569.5\n",
      "tor  4470  3699  4116  4445  4880  4084.5  3907.5  4280.5  4662.5  4675.0\n",
      "uth  4495  3498  3519  4174  4538  3996.5  3508.5  3846.5  4356.0  4516.5\n",
      "was  4590  3897  4023  4735  5021  4243.5  3960.0  4379.0  4878.0  4805.5\n"
     ]
    }
   ],
   "source": [
    "# Building dataframe of fantasy points scored against each team broken down by position and an average of similar\n",
    "# positions\n",
    "fp = pd.DataFrame(pd.read_csv('FPPG.csv', nrows=30))\n",
    "fp.columns = ['pg', 'sg', 'sf', 'pf', 'c']\n",
    "fp.index = ['atl', 'bos', 'bkn', 'cha', 'chi', 'cle', 'dal', 'den', 'det', 'gsw', 'hou', 'ind', 'lac', 'lal', 'mem', 'mia', 'mil', 'min', 'nop', 'nyk', 'okc', 'orl', 'phi', 'pho', 'por', 'sac', 'sas', 'tor', 'uth', 'was']\n",
    "fp['pg_sg'] = (fp['pg'] + fp['sg']) / 2\n",
    "fp['sg_sf'] = (fp['sg'] + fp['sf']) / 2\n",
    "fp['sf_pf'] = (fp['sf'] + fp['pf']) / 2\n",
    "fp['pf_c'] = (fp['pf'] + fp['c']) / 2\n",
    "fp['c_pg'] = (fp['c'] + fp['pg']) / 2\n",
    "print(fp)\n",
    "\n",
    "\n"
   ]
  },
  {
   "cell_type": "code",
   "execution_count": 58,
   "metadata": {
    "collapsed": false
   },
   "outputs": [],
   "source": [
    "# Finding the mean of the fantasy points by position\n",
    "pg_avg = sum(fp['pg']) / len(fp['pg'])\n",
    "sg_avg = sum(fp['sg']) / len(fp['sg'])\n",
    "sf_avg = sum(fp['sf']) / len(fp['sf'])\n",
    "pf_avg = sum(fp['pf']) / len(fp['pf'])\n",
    "c_avg = sum(fp['c']) / len(fp['c'])\n"
   ]
  },
  {
   "cell_type": "code",
   "execution_count": 118,
   "metadata": {
    "collapsed": false
   },
   "outputs": [
    {
     "data": {
      "image/png": "[encoded data removed]",
      "text/plain": [
       "<matplotlib.figure.Figure at 0x11b8785d0>"
      ]
     },
     "metadata": {},
     "output_type": "display_data"
    },
    {
     "name": "stdout",
     "output_type": "stream",
     "text": [
      "4655\n",
      "46987.4264368\n",
      "216.765833186\n"
     ]
    }
   ],
   "source": [
    "# Histogram of point guard fantasy points against each team as well as the mean, variance, and standard deviation\n",
    "plt.hist(fp['pg'])\n",
    "plt.axvline((fp['pg']).mean(), color='b', linestyle='solid', linewidth=2)\n",
    "plt.axvline((fp['pg']).mean() + (fp['pg']).std(), color='b', linestyle='dashed', linewidth=2)\n",
    "plt.axvline((fp['pg']).mean() - (fp['pg']).std(), color='b', linestyle='dashed', linewidth=2) \n",
    "plt.show()\n",
    "pg_var = np.var(fp['pg'], ddof=1)\n",
    "pg_std = np.std(fp['pg'], ddof=1)\n",
    "print(pg_avg)\n",
    "print(pg_var)\n",
    "print(pg_std)"
   ]
  },
  {
   "cell_type": "code",
   "execution_count": 119,
   "metadata": {
    "collapsed": false
   },
   "outputs": [
    {
     "data": {
      "image/png": "[encoded data removed]",
      "text/plain": [
       "<matplotlib.figure.Figure at 0x11b9333d0>"
      ]
     },
     "metadata": {},
     "output_type": "display_data"
    },
    {
     "name": "stdout",
     "output_type": "stream",
     "text": [
      "4021\n",
      "40503.0402299\n",
      "201.253671345\n"
     ]
    }
   ],
   "source": [
    "# Histogram of shooting guard fantasy points against each team as well as the mean, variance, and standard deviation\n",
    "plt.hist(fp['sg'])\n",
    "plt.axvline(fp['sg'].mean(), color='b', linestyle='solid', linewidth=2)\n",
    "plt.axvline(fp['sg'].mean() + fp['sg'].std(), color='b', linestyle='dashed', linewidth=2)\n",
    "plt.axvline(fp['sg'].mean() - fp['sg'].std(), color='b', linestyle='dashed', linewidth=2) \n",
    "plt.show()\n",
    "sg_var = np.var(fp['sg'], ddof=1)\n",
    "sg_std = np.std(fp['sg'], ddof=1)\n",
    "print(sg_avg)\n",
    "print(sg_var)\n",
    "print(sg_std)"
   ]
  },
  {
   "cell_type": "code",
   "execution_count": 117,
   "metadata": {
    "collapsed": false
   },
   "outputs": [
    {
     "data": {
      "image/png": "[encoded data removed]",
      "text/plain": [
       "<matplotlib.figure.Figure at 0x11b4b6610>"
      ]
     },
     "metadata": {},
     "output_type": "display_data"
    },
    {
     "name": "stdout",
     "output_type": "stream",
     "text": [
      "4060\n",
      "37025.8264368\n",
      "192.420961532\n"
     ]
    }
   ],
   "source": [
    "# Histogram of small forward fantasy points against each team as well as the mean, variance, and standard deviation\n",
    "plt.hist(fp['sf'])\n",
    "plt.axvline(fp['sf'].mean(), color='b', linestyle='solid', linewidth=2)\n",
    "plt.axvline(fp['sf'].mean() + fp['sf'].std(), color='b', linestyle='dashed', linewidth=2)\n",
    "plt.axvline(fp['sf'].mean() - fp['sf'].std(), color='b', linestyle='dashed', linewidth=2) \n",
    "plt.show()\n",
    "sf_var = np.var(fp['sf'], ddof=1)\n",
    "sf_std = np.std(fp['sf'], ddof=1)\n",
    "print(sf_avg)\n",
    "print(sf_var)\n",
    "print(sf_std)"
   ]
  },
  {
   "cell_type": "code",
   "execution_count": 120,
   "metadata": {
    "collapsed": false
   },
   "outputs": [
    {
     "data": {
      "image/png": "[encoded data removed]",
      "text/plain": [
       "<matplotlib.figure.Figure at 0x11b6e9d10>"
      ]
     },
     "metadata": {},
     "output_type": "display_data"
    },
    {
     "name": "stdout",
     "output_type": "stream",
     "text": [
      "4610\n",
      "45867.9816092\n",
      "214.168115295\n"
     ]
    }
   ],
   "source": [
    "# Histogram of power forward fantasy points against each team as well as the mean, variance, and standard deviation\n",
    "plt.hist(fp['pf'])\n",
    "plt.axvline(fp['pf'].mean(), color='b', linestyle='solid', linewidth=2)\n",
    "plt.axvline(fp['pf'].mean() + fp['pf'].std(), color='b', linestyle='dashed', linewidth=2)\n",
    "plt.axvline(fp['pf'].mean() - fp['pf'].std(), color='b', linestyle='dashed', linewidth=2) \n",
    "plt.show()\n",
    "pf_var = np.var(fp['pf'], ddof=1)\n",
    "pf_std = np.std(fp['pf'], ddof=1)\n",
    "print(pf_avg)\n",
    "print(pf_var)\n",
    "print(pf_std)"
   ]
  },
  {
   "cell_type": "code",
   "execution_count": 121,
   "metadata": {
    "collapsed": false
   },
   "outputs": [
    {
     "data": {
      "image/png": "[encoded data removed]",
      "text/plain": [
       "<matplotlib.figure.Figure at 0x11b5f1c50>"
      ]
     },
     "metadata": {},
     "output_type": "display_data"
    },
    {
     "name": "stdout",
     "output_type": "stream",
     "text": [
      "4970\n",
      "65427.8402299\n",
      "255.788663216\n"
     ]
    }
   ],
   "source": [
    "# Histogram of center fantasy points against each team as well as the mean, variance, and standard deviation\n",
    "plt.hist(fp['c'])\n",
    "plt.axvline(fp['c'].mean(), color='b', linestyle='solid', linewidth=2)\n",
    "plt.axvline(fp['c'].mean() + fp['c'].std(), color='b', linestyle='dashed', linewidth=2)\n",
    "plt.axvline(fp['c'].mean() - fp['c'].std(), color='b', linestyle='dashed', linewidth=2) \n",
    "plt.show()\n",
    "c_var = np.var(fp['c'], ddof=1)\n",
    "c_std = np.std(fp['c'], ddof=1)\n",
    "print(c_avg)\n",
    "print(c_var)\n",
    "print(c_std)"
   ]
  },
  {
   "cell_type": "code",
   "execution_count": 85,
   "metadata": {
    "collapsed": false
   },
   "outputs": [
    {
     "name": "stdout",
     "output_type": "stream",
     "text": [
      "4338\n",
      "4040\n",
      "4335\n",
      "4790\n",
      "4812\n",
      "4245\n",
      "4230\n",
      "4546\n",
      "4745\n",
      "4561\n",
      "4463\n"
     ]
    }
   ],
   "source": [
    "# Finding the means of multiple positions to see if they correlate. Also looking for the overall mean\n",
    "group_1 = (pg_avg + sg_avg) / 2\n",
    "group_2 = (sg_avg + sf_avg) / 2\n",
    "group_3 = (sf_avg + pf_avg) / 2\n",
    "group_4 = (pf_avg + c_avg) / 2\n",
    "group_5 = (pg_avg + c_avg) / 2\n",
    "group_6 = (pg_avg + sg_avg + sf_avg) / 3\n",
    "group_7 = (sg_avg + sf_avg + pf_avg) / 3\n",
    "group_8 = (sf_avg + pf_avg + c_avg) / 3\n",
    "group_9 = (pf_avg + c_avg + pg_avg) / 3\n",
    "group_10 =(pg_avg + sf_avg + c_avg) / 3\n",
    "group_11 = (pg_avg + sg_avg + sf_avg + pf_avg + c_avg) / 5\n",
    "print(group_1)\n",
    "print(group_2)\n",
    "print(group_3)\n",
    "print(group_4)\n",
    "print(group_5)\n",
    "print(group_6)\n",
    "print(group_7)\n",
    "print(group_8)\n",
    "print(group_9)\n",
    "print(group_10)\n",
    "print(group_11)"
   ]
  },
  {
   "cell_type": "code",
   "execution_count": 122,
   "metadata": {
    "collapsed": false
   },
   "outputs": [
    {
     "data": {
      "image/png": "[encoded data removed]",
      "text/plain": [
       "<matplotlib.figure.Figure at 0x11b03c510>"
      ]
     },
     "metadata": {},
     "output_type": "display_data"
    },
    {
     "name": "stdout",
     "output_type": "stream",
     "text": [
      "4338\n",
      "35450.2517241\n",
      "188.282372314\n"
     ]
    }
   ],
   "source": [
    "# Histogram of the point guard and shooting guard fantasy scores to see if there is a visual correlation\n",
    "plt.hist(fp['pg_sg'])\n",
    "plt.axvline((fp['pg_sg']).mean(), color='b', linestyle='solid', linewidth=2)\n",
    "plt.axvline((fp['pg_sg']).mean() + (fp['pg_sg']).std(), color='b', linestyle='dashed', linewidth=2)\n",
    "plt.axvline((fp['pg_sg']).mean() - (fp['pg_sg']).std(), color='b', linestyle='dashed', linewidth=2) \n",
    "plt.show()\n",
    "pg_sg_var = np.var(fp['pg_sg'], ddof=1)\n",
    "pg_sg_std = np.std(fp['pg_sg'], ddof=1)\n",
    "print(group_1)\n",
    "print(pg_sg_var)\n",
    "print(pg_sg_std)"
   ]
  },
  {
   "cell_type": "code",
   "execution_count": 123,
   "metadata": {
    "collapsed": false
   },
   "outputs": [
    {
     "data": {
      "image/png": "[encoded data removed]",
      "text/plain": [
       "<matplotlib.figure.Figure at 0x11b5ed5d0>"
      ]
     },
     "metadata": {},
     "output_type": "display_data"
    },
    {
     "name": "stdout",
     "output_type": "stream",
     "text": [
      "4040\n",
      "29311.9034483\n",
      "171.207194499\n"
     ]
    }
   ],
   "source": [
    "# Histogram of the shooting guard and small forward fantasy scores to see if there is a visual correlation\n",
    "plt.hist(fp['sg_sf'])\n",
    "plt.axvline((fp['sg_sf']).mean(), color='b', linestyle='solid', linewidth=2)\n",
    "plt.axvline((fp['sg_sf']).mean() - (fp['sg_sf']).std(), color='b', linestyle='dashed', linewidth=2) \n",
    "plt.axvline((fp['sg_sf']).mean() + (fp['sg_sf']).std(), color='b', linestyle='dashed', linewidth=2)\n",
    "plt.show()\n",
    "sg_sf_var = np.var(fp['sg_sf'], ddof=1)\n",
    "sg_sf_std = np.std(fp['sg_sf'], ddof=1)\n",
    "print(group_2)\n",
    "print(sg_sf_var)\n",
    "print(sg_sf_std)\n"
   ]
  },
  {
   "cell_type": "code",
   "execution_count": 124,
   "metadata": {
    "collapsed": false
   },
   "outputs": [
    {
     "data": {
      "image/png": "[encoded data removed]",
      "text/plain": [
       "<matplotlib.figure.Figure at 0x11b6b02d0>"
      ]
     },
     "metadata": {},
     "output_type": "display_data"
    },
    {
     "name": "stdout",
     "output_type": "stream",
     "text": [
      "4335\n",
      "33178.9772989\n",
      "182.150973917\n"
     ]
    }
   ],
   "source": [
    "# Histogram of the small forward and power forward fantasy scores to see if there is a visual correlation\n",
    "plt.hist(fp['sf_pf'])\n",
    "plt.axvline((fp['sf_pf']).mean(), color='b', linestyle='solid', linewidth=2)\n",
    "plt.axvline((fp['sf_pf']).mean() - (fp['sf_pf']).std(), color='b', linestyle='dashed', linewidth=2) \n",
    "plt.axvline((fp['sf_pf']).mean() + (fp['sf_pf']).std(), color='b', linestyle='dashed', linewidth=2)\n",
    "plt.show()\n",
    "sf_pf_var = np.var(fp['sf_pf'], ddof=1)\n",
    "sf_pf_std = np.std(fp['sf_pf'], ddof=1)\n",
    "print(group_3)\n",
    "print(sf_pf_var)\n",
    "print(sf_pf_std)"
   ]
  },
  {
   "cell_type": "code",
   "execution_count": 125,
   "metadata": {
    "collapsed": false
   },
   "outputs": [
    {
     "data": {
      "image/png": "[encoded data removed]",
      "text/plain": [
       "<matplotlib.figure.Figure at 0x117b94110>"
      ]
     },
     "metadata": {},
     "output_type": "display_data"
    },
    {
     "name": "stdout",
     "output_type": "stream",
     "text": [
      "4790\n",
      "49948.2439655\n",
      "223.491037774\n"
     ]
    }
   ],
   "source": [
    "# Histogram of the power forward and center fantasy scores to see if there is a visual correlation\n",
    "plt.hist(fp['pf_c'])\n",
    "plt.axvline((fp['pf_c']).mean(), color='b', linestyle='solid', linewidth=2)\n",
    "plt.axvline((fp['pf_c']).mean() - (fp['pf_c']).std(), color='b', linestyle='dashed', linewidth=2) \n",
    "plt.axvline((fp['pf_c']).mean() + (fp['pf_c']).std(), color='b', linestyle='dashed', linewidth=2)\n",
    "plt.show()\n",
    "pf_c_var = np.var(fp['pf_c'], ddof=1)\n",
    "pf_c_std = np.std(fp['pf_c'], ddof=1)\n",
    "print(group_4)\n",
    "print(pf_c_var)\n",
    "print(pf_c_std)"
   ]
  },
  {
   "cell_type": "code",
   "execution_count": 126,
   "metadata": {
    "collapsed": false
   },
   "outputs": [
    {
     "data": {
      "image/png": "[encoded data removed]",
      "text/plain": [
       "<matplotlib.figure.Figure at 0x11b2ed190>"
      ]
     },
     "metadata": {},
     "output_type": "display_data"
    },
    {
     "name": "stdout",
     "output_type": "stream",
     "text": [
      "4812\n",
      "41709.0931034\n",
      "204.228041913\n"
     ]
    }
   ],
   "source": [
    "# Histogram of the point guard and center fantasy scores to see if there is a visual correlation and, since there \n",
    "# should be no correlation based on the hypothesis. \n",
    "plt.hist(fp['c_pg'])\n",
    "plt.axvline((fp['c_pg']).mean(), color='b', linestyle='solid', linewidth=2)\n",
    "plt.axvline((fp['c_pg']).mean() - (fp['c_pg']).std(), color='b', linestyle='dashed', linewidth=2) \n",
    "plt.axvline((fp['c_pg']).mean() + (fp['c_pg']).std(), color='b', linestyle='dashed', linewidth=2)\n",
    "plt.show()\n",
    "c_pg_var = np.var(fp['c_pg'], ddof=1)\n",
    "c_pg_std = np.std(fp['c_pg'], ddof=1)\n",
    "print(group_5)\n",
    "print(c_pg_var)\n",
    "print(c_pg_std)"
   ]
  },
  {
   "cell_type": "code",
   "execution_count": 131,
   "metadata": {
    "collapsed": false
   },
   "outputs": [
    {
     "data": {
      "image/png": "[encoded data removed]",
      "text/plain": [
       "<matplotlib.figure.Figure at 0x11b8d6ed0>"
      ]
     },
     "metadata": {},
     "output_type": "display_data"
    }
   ],
   "source": [
    "# A side by side histogram of the point guard and shooting guard fantasy scores to see if there is a visual correlation\n",
    "x = fp['pg']\n",
    "y = fp['sg']\n",
    "plt.hist(x, color='red', alpha=.5) \n",
    "plt.hist(y, color='blue', alpha=.5)\n",
    "plt.show()"
   ]
  },
  {
   "cell_type": "code",
   "execution_count": 132,
   "metadata": {
    "collapsed": false
   },
   "outputs": [
    {
     "data": {
      "image/png": "[encoded data removed]",
      "text/plain": [
       "<matplotlib.figure.Figure at 0x11b414bd0>"
      ]
     },
     "metadata": {},
     "output_type": "display_data"
    }
   ],
   "source": [
    "# A side by side histogram of the shooting guard and small forward fantasy scores to see if there is a visual correlation\n",
    "x = fp['sg']\n",
    "y = fp['sf']\n",
    "plt.hist(x, color='red', alpha=.5) \n",
    "plt.hist(y, color='blue', alpha=.5)\n",
    "plt.show()"
   ]
  },
  {
   "cell_type": "code",
   "execution_count": 133,
   "metadata": {
    "collapsed": false
   },
   "outputs": [
    {
     "data": {
      "image/png": "[encoded data removed]",
      "text/plain": [
       "<matplotlib.figure.Figure at 0x11b198f90>"
      ]
     },
     "metadata": {},
     "output_type": "display_data"
    }
   ],
   "source": [
    "# A side by side histogram of the small forward and power forward fantasy scores to see if there is a visual correlation\n",
    "x = fp['sf']\n",
    "y = fp['pf']\n",
    "plt.hist(x, color='red', alpha=.5) \n",
    "plt.hist(y, color='blue', alpha=.5)\n",
    "plt.show()"
   ]
  },
  {
   "cell_type": "code",
   "execution_count": 134,
   "metadata": {
    "collapsed": false
   },
   "outputs": [
    {
     "data": {
      "image/png": "[encoded data removed]",
      "text/plain": [
       "<matplotlib.figure.Figure at 0x11b1f02d0>"
      ]
     },
     "metadata": {},
     "output_type": "display_data"
    }
   ],
   "source": [
    "# A side by side histogram of the power forward and center fantasy scores to see if there is a visual correlation\n",
    "x = fp['pf']\n",
    "y = fp['c']\n",
    "plt.hist(x, color='red', alpha=.5) \n",
    "plt.hist(y, color='blue', alpha=.5)\n",
    "plt.show()"
   ]
  },
  {
   "cell_type": "code",
   "execution_count": 135,
   "metadata": {
    "collapsed": false
   },
   "outputs": [
    {
     "data": {
      "image/png": "[encoded data removed]",
      "text/plain": [
       "<matplotlib.figure.Figure at 0x11b0373d0>"
      ]
     },
     "metadata": {},
     "output_type": "display_data"
    }
   ],
   "source": [
    "# A side by side histogram of the point guard and center fantasy scores to see if there is a visual correlation.\n",
    "# Based on the hypothesis there should be little correlation.\n",
    "x = fp['c']\n",
    "y = fp['pg']\n",
    "plt.hist(x, color='red', alpha=.5) \n",
    "plt.hist(y, color='blue', alpha=.5)\n",
    "plt.show()"
   ]
  },
  {
   "cell_type": "code",
   "execution_count": 96,
   "metadata": {
    "collapsed": false
   },
   "outputs": [
    {
     "data": {
      "image/png": "[encoded data removed]",
      "text/plain": [
       "<matplotlib.figure.Figure at 0x11b979bd0>"
      ]
     },
     "metadata": {},
     "output_type": "display_data"
    }
   ],
   "source": [
    "# A scatter plot of the point guard and shooting guard fantasy scores to see if there is a linear correlation\n",
    "plt.scatter(x = fp['pg'], y = fp['sg'], color='purple')\n",
    "plt.ylabel('sg')\n",
    "plt.xlabel('pg')\n",
    "plt.show()"
   ]
  },
  {
   "cell_type": "code",
   "execution_count": 98,
   "metadata": {
    "collapsed": false
   },
   "outputs": [
    {
     "data": {
      "image/png": "[encoded data removed]",
      "text/plain": [
       "<matplotlib.figure.Figure at 0x11b153d90>"
      ]
     },
     "metadata": {},
     "output_type": "display_data"
    }
   ],
   "source": [
    "# A scatter plot of the shooting guard and small forward fantasy scores to see if there is a linear correlation\n",
    "plt.scatter(x = fp['sg'], y = fp['sf'], color='purple')\n",
    "plt.ylabel('sf')\n",
    "plt.xlabel('sg')\n",
    "plt.show()"
   ]
  },
  {
   "cell_type": "code",
   "execution_count": 99,
   "metadata": {
    "collapsed": false
   },
   "outputs": [
    {
     "data": {
      "image/png": "[encoded data removed]",
      "text/plain": [
       "<matplotlib.figure.Figure at 0x11b177750>"
      ]
     },
     "metadata": {},
     "output_type": "display_data"
    }
   ],
   "source": [
    "# A scatter plot of the small forward and power forward fantasy scores to see if there is a linear correlation\n",
    "plt.scatter(x = fp['sf'], y = fp['pf'], color='purple')\n",
    "plt.ylabel('pf')\n",
    "plt.xlabel('sf')\n",
    "plt.show()"
   ]
  },
  {
   "cell_type": "code",
   "execution_count": 103,
   "metadata": {
    "collapsed": false
   },
   "outputs": [
    {
     "data": {
      "image/png": "[encoded data removed]",
      "text/plain": [
       "<matplotlib.figure.Figure at 0x117cc9ed0>"
      ]
     },
     "metadata": {},
     "output_type": "display_data"
    }
   ],
   "source": [
    "# A scatter plot of the power forward and center fantasy scores to see if there is a linear correlation\n",
    "plt.scatter(x = fp['pf'], y = fp['c'], color='purple')\n",
    "plt.ylabel('c')\n",
    "plt.xlabel('pf')\n",
    "plt.show()"
   ]
  },
  {
   "cell_type": "code",
   "execution_count": 101,
   "metadata": {
    "collapsed": false
   },
   "outputs": [
    {
     "data": {
      "image/png": "[encoded data removed]",
      "text/plain": [
       "<matplotlib.figure.Figure at 0x11b955110>"
      ]
     },
     "metadata": {},
     "output_type": "display_data"
    }
   ],
   "source": [
    "# A scatter plot of the center and point guard fantasy scores to see if there is a linear correlation\n",
    "plt.scatter(x = fp['c'], y = fp['pg'], color='purple')\n",
    "plt.ylabel('pg')\n",
    "plt.xlabel('c')\n",
    "plt.show()"
   ]
  },
  {
   "cell_type": "code",
   "execution_count": 198,
   "metadata": {
    "collapsed": false
   },
   "outputs": [
    {
     "name": "stdout",
     "output_type": "stream",
     "text": [
      "6\n",
      "0.2\n",
      "4871.76583319\n"
     ]
    },
    {
     "data": {
      "text/html": [
       "<div>\n",
       "<table border=\"1\" class=\"dataframe\">\n",
       "  <thead>\n",
       "    <tr style=\"text-align: right;\">\n",
       "      <th></th>\n",
       "      <th>pg</th>\n",
       "      <th>sg</th>\n",
       "      <th>sf</th>\n",
       "      <th>pf</th>\n",
       "      <th>c</th>\n",
       "      <th>pg_sg</th>\n",
       "      <th>sg_sf</th>\n",
       "      <th>sf_pf</th>\n",
       "      <th>pf_c</th>\n",
       "      <th>c_pg</th>\n",
       "    </tr>\n",
       "  </thead>\n",
       "  <tbody>\n",
       "    <tr>\n",
       "      <th>atl</th>\n",
       "      <td>4886</td>\n",
       "      <td>4129</td>\n",
       "      <td>4334</td>\n",
       "      <td>4460</td>\n",
       "      <td>4650</td>\n",
       "      <td>4507.5</td>\n",
       "      <td>4231.5</td>\n",
       "      <td>4397.0</td>\n",
       "      <td>4555.0</td>\n",
       "      <td>4768.0</td>\n",
       "    </tr>\n",
       "    <tr>\n",
       "      <th>bkn</th>\n",
       "      <td>5143</td>\n",
       "      <td>4357</td>\n",
       "      <td>4416</td>\n",
       "      <td>4960</td>\n",
       "      <td>5317</td>\n",
       "      <td>4750.0</td>\n",
       "      <td>4386.5</td>\n",
       "      <td>4688.0</td>\n",
       "      <td>5138.5</td>\n",
       "      <td>5230.0</td>\n",
       "    </tr>\n",
       "    <tr>\n",
       "      <th>den</th>\n",
       "      <td>4982</td>\n",
       "      <td>4326</td>\n",
       "      <td>3998</td>\n",
       "      <td>4671</td>\n",
       "      <td>5021</td>\n",
       "      <td>4654.0</td>\n",
       "      <td>4162.0</td>\n",
       "      <td>4334.5</td>\n",
       "      <td>4846.0</td>\n",
       "      <td>5001.5</td>\n",
       "    </tr>\n",
       "    <tr>\n",
       "      <th>lal</th>\n",
       "      <td>5031</td>\n",
       "      <td>4082</td>\n",
       "      <td>4347</td>\n",
       "      <td>5061</td>\n",
       "      <td>5484</td>\n",
       "      <td>4556.5</td>\n",
       "      <td>4214.5</td>\n",
       "      <td>4704.0</td>\n",
       "      <td>5272.5</td>\n",
       "      <td>5257.5</td>\n",
       "    </tr>\n",
       "    <tr>\n",
       "      <th>orl</th>\n",
       "      <td>4967</td>\n",
       "      <td>4138</td>\n",
       "      <td>4091</td>\n",
       "      <td>4713</td>\n",
       "      <td>5118</td>\n",
       "      <td>4552.5</td>\n",
       "      <td>4114.5</td>\n",
       "      <td>4402.0</td>\n",
       "      <td>4915.5</td>\n",
       "      <td>5042.5</td>\n",
       "    </tr>\n",
       "    <tr>\n",
       "      <th>pho</th>\n",
       "      <td>4938</td>\n",
       "      <td>4231</td>\n",
       "      <td>4059</td>\n",
       "      <td>4838</td>\n",
       "      <td>5180</td>\n",
       "      <td>4584.5</td>\n",
       "      <td>4145.0</td>\n",
       "      <td>4448.5</td>\n",
       "      <td>5009.0</td>\n",
       "      <td>5059.0</td>\n",
       "    </tr>\n",
       "  </tbody>\n",
       "</table>\n",
       "</div>"
      ],
      "text/plain": [
       "       pg    sg    sf    pf     c   pg_sg   sg_sf   sf_pf    pf_c    c_pg\n",
       "atl  4886  4129  4334  4460  4650  4507.5  4231.5  4397.0  4555.0  4768.0\n",
       "bkn  5143  4357  4416  4960  5317  4750.0  4386.5  4688.0  5138.5  5230.0\n",
       "den  4982  4326  3998  4671  5021  4654.0  4162.0  4334.5  4846.0  5001.5\n",
       "lal  5031  4082  4347  5061  5484  4556.5  4214.5  4704.0  5272.5  5257.5\n",
       "orl  4967  4138  4091  4713  5118  4552.5  4114.5  4402.0  4915.5  5042.5\n",
       "pho  4938  4231  4059  4838  5180  4584.5  4145.0  4448.5  5009.0  5059.0"
      ]
     },
     "execution_count": 198,
     "metadata": {},
     "output_type": "execute_result"
    }
   ],
   "source": [
    "# Creating a dataframe with the teams who allow more fantasy points to point guards then one STD above the mean. \n",
    "# Also, creating a percentage of teams who allow more fantasy points to point guards then above one STD above the mean.\n",
    "pg_tip = pg_avg + pg_std\n",
    "pg_tip_tot = len(fp.ix[lambda df: fp['pg'] > pg_tip, :])\n",
    "print(pg_tip_tot)\n",
    "print(pg_tip_tot / 30)\n",
    "print(pg_tip)\n",
    "fp.ix[lambda df: fp['pg'] > pg_tip, :]"
   ]
  },
  {
   "cell_type": "code",
   "execution_count": 199,
   "metadata": {
    "collapsed": false
   },
   "outputs": [
    {
     "name": "stdout",
     "output_type": "stream",
     "text": [
      "4\n",
      "0.133333333333\n",
      "4222.25367135\n"
     ]
    },
    {
     "data": {
      "text/html": [
       "<div>\n",
       "<table border=\"1\" class=\"dataframe\">\n",
       "  <thead>\n",
       "    <tr style=\"text-align: right;\">\n",
       "      <th></th>\n",
       "      <th>pg</th>\n",
       "      <th>sg</th>\n",
       "      <th>sf</th>\n",
       "      <th>pf</th>\n",
       "      <th>c</th>\n",
       "      <th>pg_sg</th>\n",
       "      <th>sg_sf</th>\n",
       "      <th>sf_pf</th>\n",
       "      <th>pf_c</th>\n",
       "      <th>c_pg</th>\n",
       "    </tr>\n",
       "  </thead>\n",
       "  <tbody>\n",
       "    <tr>\n",
       "      <th>bkn</th>\n",
       "      <td>5143</td>\n",
       "      <td>4357</td>\n",
       "      <td>4416</td>\n",
       "      <td>4960</td>\n",
       "      <td>5317</td>\n",
       "      <td>4750.0</td>\n",
       "      <td>4386.5</td>\n",
       "      <td>4688.0</td>\n",
       "      <td>5138.5</td>\n",
       "      <td>5230.0</td>\n",
       "    </tr>\n",
       "    <tr>\n",
       "      <th>cle</th>\n",
       "      <td>4688</td>\n",
       "      <td>4325</td>\n",
       "      <td>4219</td>\n",
       "      <td>4408</td>\n",
       "      <td>4910</td>\n",
       "      <td>4506.5</td>\n",
       "      <td>4272.0</td>\n",
       "      <td>4313.5</td>\n",
       "      <td>4659.0</td>\n",
       "      <td>4799.0</td>\n",
       "    </tr>\n",
       "    <tr>\n",
       "      <th>den</th>\n",
       "      <td>4982</td>\n",
       "      <td>4326</td>\n",
       "      <td>3998</td>\n",
       "      <td>4671</td>\n",
       "      <td>5021</td>\n",
       "      <td>4654.0</td>\n",
       "      <td>4162.0</td>\n",
       "      <td>4334.5</td>\n",
       "      <td>4846.0</td>\n",
       "      <td>5001.5</td>\n",
       "    </tr>\n",
       "    <tr>\n",
       "      <th>pho</th>\n",
       "      <td>4938</td>\n",
       "      <td>4231</td>\n",
       "      <td>4059</td>\n",
       "      <td>4838</td>\n",
       "      <td>5180</td>\n",
       "      <td>4584.5</td>\n",
       "      <td>4145.0</td>\n",
       "      <td>4448.5</td>\n",
       "      <td>5009.0</td>\n",
       "      <td>5059.0</td>\n",
       "    </tr>\n",
       "  </tbody>\n",
       "</table>\n",
       "</div>"
      ],
      "text/plain": [
       "       pg    sg    sf    pf     c   pg_sg   sg_sf   sf_pf    pf_c    c_pg\n",
       "bkn  5143  4357  4416  4960  5317  4750.0  4386.5  4688.0  5138.5  5230.0\n",
       "cle  4688  4325  4219  4408  4910  4506.5  4272.0  4313.5  4659.0  4799.0\n",
       "den  4982  4326  3998  4671  5021  4654.0  4162.0  4334.5  4846.0  5001.5\n",
       "pho  4938  4231  4059  4838  5180  4584.5  4145.0  4448.5  5009.0  5059.0"
      ]
     },
     "execution_count": 199,
     "metadata": {},
     "output_type": "execute_result"
    }
   ],
   "source": [
    "# Creating a dataframe with the teams who allow more fantasy points to shooting guards then one STD above the mean. \n",
    "# Also, creating a percentage of teams who allow more fantasy points to shooting guards then above one STD above the mean.\n",
    "sg_tip = sg_avg + sg_std\n",
    "sg_tip_tot = len(fp.ix[lambda df: fp['sg'] > sg_tip, :])\n",
    "print(sg_tip_tot)\n",
    "print(sg_tip_tot / 30)\n",
    "print(sg_tip)\n",
    "fp.ix[lambda df: fp['sg'] > sg_tip, :]"
   ]
  },
  {
   "cell_type": "code",
   "execution_count": 200,
   "metadata": {
    "collapsed": false
   },
   "outputs": [
    {
     "name": "stdout",
     "output_type": "stream",
     "text": [
      "4\n",
      "0.133333333333\n",
      "4252.42096153\n"
     ]
    },
    {
     "data": {
      "text/html": [
       "<div>\n",
       "<table border=\"1\" class=\"dataframe\">\n",
       "  <thead>\n",
       "    <tr style=\"text-align: right;\">\n",
       "      <th></th>\n",
       "      <th>pg</th>\n",
       "      <th>sg</th>\n",
       "      <th>sf</th>\n",
       "      <th>pf</th>\n",
       "      <th>c</th>\n",
       "      <th>pg_sg</th>\n",
       "      <th>sg_sf</th>\n",
       "      <th>sf_pf</th>\n",
       "      <th>pf_c</th>\n",
       "      <th>c_pg</th>\n",
       "    </tr>\n",
       "  </thead>\n",
       "  <tbody>\n",
       "    <tr>\n",
       "      <th>atl</th>\n",
       "      <td>4886</td>\n",
       "      <td>4129</td>\n",
       "      <td>4334</td>\n",
       "      <td>4460</td>\n",
       "      <td>4650</td>\n",
       "      <td>4507.5</td>\n",
       "      <td>4231.5</td>\n",
       "      <td>4397.0</td>\n",
       "      <td>4555.0</td>\n",
       "      <td>4768.0</td>\n",
       "    </tr>\n",
       "    <tr>\n",
       "      <th>bkn</th>\n",
       "      <td>5143</td>\n",
       "      <td>4357</td>\n",
       "      <td>4416</td>\n",
       "      <td>4960</td>\n",
       "      <td>5317</td>\n",
       "      <td>4750.0</td>\n",
       "      <td>4386.5</td>\n",
       "      <td>4688.0</td>\n",
       "      <td>5138.5</td>\n",
       "      <td>5230.0</td>\n",
       "    </tr>\n",
       "    <tr>\n",
       "      <th>ind</th>\n",
       "      <td>4581</td>\n",
       "      <td>3918</td>\n",
       "      <td>4290</td>\n",
       "      <td>4681</td>\n",
       "      <td>4937</td>\n",
       "      <td>4249.5</td>\n",
       "      <td>4104.0</td>\n",
       "      <td>4485.5</td>\n",
       "      <td>4809.0</td>\n",
       "      <td>4759.0</td>\n",
       "    </tr>\n",
       "    <tr>\n",
       "      <th>lal</th>\n",
       "      <td>5031</td>\n",
       "      <td>4082</td>\n",
       "      <td>4347</td>\n",
       "      <td>5061</td>\n",
       "      <td>5484</td>\n",
       "      <td>4556.5</td>\n",
       "      <td>4214.5</td>\n",
       "      <td>4704.0</td>\n",
       "      <td>5272.5</td>\n",
       "      <td>5257.5</td>\n",
       "    </tr>\n",
       "  </tbody>\n",
       "</table>\n",
       "</div>"
      ],
      "text/plain": [
       "       pg    sg    sf    pf     c   pg_sg   sg_sf   sf_pf    pf_c    c_pg\n",
       "atl  4886  4129  4334  4460  4650  4507.5  4231.5  4397.0  4555.0  4768.0\n",
       "bkn  5143  4357  4416  4960  5317  4750.0  4386.5  4688.0  5138.5  5230.0\n",
       "ind  4581  3918  4290  4681  4937  4249.5  4104.0  4485.5  4809.0  4759.0\n",
       "lal  5031  4082  4347  5061  5484  4556.5  4214.5  4704.0  5272.5  5257.5"
      ]
     },
     "execution_count": 200,
     "metadata": {},
     "output_type": "execute_result"
    }
   ],
   "source": [
    "# Creating a dataframe with the teams who allow more fantasy points to small forwards then one STD above the mean. \n",
    "# Also, creating a percentage of teams who allow more fantasy points to small forwards then above one STD above the mean.\n",
    "sf_tip = sf_avg + sf_std\n",
    "sf_tip_tot = len(fp.ix[lambda df: fp['sf'] > sf_tip, :])\n",
    "print(sf_tip_tot)\n",
    "print(sf_tip_tot / 30)\n",
    "print(sf_tip)\n",
    "fp.ix[lambda df: fp['sf'] > sf_tip, :]"
   ]
  },
  {
   "cell_type": "code",
   "execution_count": 201,
   "metadata": {
    "collapsed": false
   },
   "outputs": [
    {
     "name": "stdout",
     "output_type": "stream",
     "text": [
      "4\n",
      "0.133333333333\n",
      "4824.1681153\n"
     ]
    },
    {
     "data": {
      "text/html": [
       "<div>\n",
       "<table border=\"1\" class=\"dataframe\">\n",
       "  <thead>\n",
       "    <tr style=\"text-align: right;\">\n",
       "      <th></th>\n",
       "      <th>pg</th>\n",
       "      <th>sg</th>\n",
       "      <th>sf</th>\n",
       "      <th>pf</th>\n",
       "      <th>c</th>\n",
       "      <th>pg_sg</th>\n",
       "      <th>sg_sf</th>\n",
       "      <th>sf_pf</th>\n",
       "      <th>pf_c</th>\n",
       "      <th>c_pg</th>\n",
       "    </tr>\n",
       "  </thead>\n",
       "  <tbody>\n",
       "    <tr>\n",
       "      <th>bkn</th>\n",
       "      <td>5143</td>\n",
       "      <td>4357</td>\n",
       "      <td>4416</td>\n",
       "      <td>4960</td>\n",
       "      <td>5317</td>\n",
       "      <td>4750.0</td>\n",
       "      <td>4386.5</td>\n",
       "      <td>4688.0</td>\n",
       "      <td>5138.5</td>\n",
       "      <td>5230.0</td>\n",
       "    </tr>\n",
       "    <tr>\n",
       "      <th>lal</th>\n",
       "      <td>5031</td>\n",
       "      <td>4082</td>\n",
       "      <td>4347</td>\n",
       "      <td>5061</td>\n",
       "      <td>5484</td>\n",
       "      <td>4556.5</td>\n",
       "      <td>4214.5</td>\n",
       "      <td>4704.0</td>\n",
       "      <td>5272.5</td>\n",
       "      <td>5257.5</td>\n",
       "    </tr>\n",
       "    <tr>\n",
       "      <th>pho</th>\n",
       "      <td>4938</td>\n",
       "      <td>4231</td>\n",
       "      <td>4059</td>\n",
       "      <td>4838</td>\n",
       "      <td>5180</td>\n",
       "      <td>4584.5</td>\n",
       "      <td>4145.0</td>\n",
       "      <td>4448.5</td>\n",
       "      <td>5009.0</td>\n",
       "      <td>5059.0</td>\n",
       "    </tr>\n",
       "    <tr>\n",
       "      <th>por</th>\n",
       "      <td>4531</td>\n",
       "      <td>3966</td>\n",
       "      <td>4070</td>\n",
       "      <td>4948</td>\n",
       "      <td>5128</td>\n",
       "      <td>4248.5</td>\n",
       "      <td>4018.0</td>\n",
       "      <td>4509.0</td>\n",
       "      <td>5038.0</td>\n",
       "      <td>4829.5</td>\n",
       "    </tr>\n",
       "  </tbody>\n",
       "</table>\n",
       "</div>"
      ],
      "text/plain": [
       "       pg    sg    sf    pf     c   pg_sg   sg_sf   sf_pf    pf_c    c_pg\n",
       "bkn  5143  4357  4416  4960  5317  4750.0  4386.5  4688.0  5138.5  5230.0\n",
       "lal  5031  4082  4347  5061  5484  4556.5  4214.5  4704.0  5272.5  5257.5\n",
       "pho  4938  4231  4059  4838  5180  4584.5  4145.0  4448.5  5009.0  5059.0\n",
       "por  4531  3966  4070  4948  5128  4248.5  4018.0  4509.0  5038.0  4829.5"
      ]
     },
     "execution_count": 201,
     "metadata": {},
     "output_type": "execute_result"
    }
   ],
   "source": [
    "# Creating a dataframe with the teams who allow more fantasy points to power forwards then one STD above the mean. \n",
    "# Also, creating a percentage of teams who allow more fantasy points to power forwards then above one STD above the mean.\n",
    "pf_tip = pf_avg + pf_std\n",
    "pf_tip_tot = len(fp.ix[lambda df: fp['pf'] > pf_tip, :])\n",
    "print(pf_tip_tot)\n",
    "print(pf_tip_tot / 30)\n",
    "print(pf_tip)\n",
    "fp.ix[lambda df: fp['pf'] > pf_tip, :]"
   ]
  },
  {
   "cell_type": "code",
   "execution_count": 202,
   "metadata": {
    "collapsed": false
   },
   "outputs": [
    {
     "name": "stdout",
     "output_type": "stream",
     "text": [
      "3\n",
      "0.1\n",
      "5225.78866322\n"
     ]
    },
    {
     "data": {
      "text/html": [
       "<div>\n",
       "<table border=\"1\" class=\"dataframe\">\n",
       "  <thead>\n",
       "    <tr style=\"text-align: right;\">\n",
       "      <th></th>\n",
       "      <th>pg</th>\n",
       "      <th>sg</th>\n",
       "      <th>sf</th>\n",
       "      <th>pf</th>\n",
       "      <th>c</th>\n",
       "      <th>pg_sg</th>\n",
       "      <th>sg_sf</th>\n",
       "      <th>sf_pf</th>\n",
       "      <th>pf_c</th>\n",
       "      <th>c_pg</th>\n",
       "    </tr>\n",
       "  </thead>\n",
       "  <tbody>\n",
       "    <tr>\n",
       "      <th>bkn</th>\n",
       "      <td>5143</td>\n",
       "      <td>4357</td>\n",
       "      <td>4416</td>\n",
       "      <td>4960</td>\n",
       "      <td>5317</td>\n",
       "      <td>4750.0</td>\n",
       "      <td>4386.5</td>\n",
       "      <td>4688.0</td>\n",
       "      <td>5138.5</td>\n",
       "      <td>5230.0</td>\n",
       "    </tr>\n",
       "    <tr>\n",
       "      <th>hou</th>\n",
       "      <td>4827</td>\n",
       "      <td>4152</td>\n",
       "      <td>4173</td>\n",
       "      <td>4787</td>\n",
       "      <td>5364</td>\n",
       "      <td>4489.5</td>\n",
       "      <td>4162.5</td>\n",
       "      <td>4480.0</td>\n",
       "      <td>5075.5</td>\n",
       "      <td>5095.5</td>\n",
       "    </tr>\n",
       "    <tr>\n",
       "      <th>lal</th>\n",
       "      <td>5031</td>\n",
       "      <td>4082</td>\n",
       "      <td>4347</td>\n",
       "      <td>5061</td>\n",
       "      <td>5484</td>\n",
       "      <td>4556.5</td>\n",
       "      <td>4214.5</td>\n",
       "      <td>4704.0</td>\n",
       "      <td>5272.5</td>\n",
       "      <td>5257.5</td>\n",
       "    </tr>\n",
       "  </tbody>\n",
       "</table>\n",
       "</div>"
      ],
      "text/plain": [
       "       pg    sg    sf    pf     c   pg_sg   sg_sf   sf_pf    pf_c    c_pg\n",
       "bkn  5143  4357  4416  4960  5317  4750.0  4386.5  4688.0  5138.5  5230.0\n",
       "hou  4827  4152  4173  4787  5364  4489.5  4162.5  4480.0  5075.5  5095.5\n",
       "lal  5031  4082  4347  5061  5484  4556.5  4214.5  4704.0  5272.5  5257.5"
      ]
     },
     "execution_count": 202,
     "metadata": {},
     "output_type": "execute_result"
    }
   ],
   "source": [
    "# Creating a dataframe with the teams who allow more fantasy points to centers then one STD above the mean. \n",
    "# Also, creating a percentage of teams who allow more fantasy points to centers then above one STD above the mean.\n",
    "c_tip = c_avg + c_std\n",
    "c_tip_tot = len(fp.ix[lambda df: fp['c'] > c_tip, :])\n",
    "print(c_tip_tot)\n",
    "print(c_tip_tot / 30)\n",
    "print(c_tip)\n",
    "fp.ix[lambda df: fp['c'] > c_tip, :]"
   ]
  },
  {
   "cell_type": "code",
   "execution_count": 204,
   "metadata": {
    "collapsed": false
   },
   "outputs": [
    {
     "name": "stdout",
     "output_type": "stream",
     "text": [
      "4\n",
      "0.133333333333\n",
      "5013.49103777\n"
     ]
    },
    {
     "data": {
      "text/html": [
       "<div>\n",
       "<table border=\"1\" class=\"dataframe\">\n",
       "  <thead>\n",
       "    <tr style=\"text-align: right;\">\n",
       "      <th></th>\n",
       "      <th>pg</th>\n",
       "      <th>sg</th>\n",
       "      <th>sf</th>\n",
       "      <th>pf</th>\n",
       "      <th>c</th>\n",
       "      <th>pg_sg</th>\n",
       "      <th>sg_sf</th>\n",
       "      <th>sf_pf</th>\n",
       "      <th>pf_c</th>\n",
       "      <th>c_pg</th>\n",
       "    </tr>\n",
       "  </thead>\n",
       "  <tbody>\n",
       "    <tr>\n",
       "      <th>bkn</th>\n",
       "      <td>5143</td>\n",
       "      <td>4357</td>\n",
       "      <td>4416</td>\n",
       "      <td>4960</td>\n",
       "      <td>5317</td>\n",
       "      <td>4750.0</td>\n",
       "      <td>4386.5</td>\n",
       "      <td>4688.0</td>\n",
       "      <td>5138.5</td>\n",
       "      <td>5230.0</td>\n",
       "    </tr>\n",
       "    <tr>\n",
       "      <th>hou</th>\n",
       "      <td>4827</td>\n",
       "      <td>4152</td>\n",
       "      <td>4173</td>\n",
       "      <td>4787</td>\n",
       "      <td>5364</td>\n",
       "      <td>4489.5</td>\n",
       "      <td>4162.5</td>\n",
       "      <td>4480.0</td>\n",
       "      <td>5075.5</td>\n",
       "      <td>5095.5</td>\n",
       "    </tr>\n",
       "    <tr>\n",
       "      <th>lal</th>\n",
       "      <td>5031</td>\n",
       "      <td>4082</td>\n",
       "      <td>4347</td>\n",
       "      <td>5061</td>\n",
       "      <td>5484</td>\n",
       "      <td>4556.5</td>\n",
       "      <td>4214.5</td>\n",
       "      <td>4704.0</td>\n",
       "      <td>5272.5</td>\n",
       "      <td>5257.5</td>\n",
       "    </tr>\n",
       "    <tr>\n",
       "      <th>por</th>\n",
       "      <td>4531</td>\n",
       "      <td>3966</td>\n",
       "      <td>4070</td>\n",
       "      <td>4948</td>\n",
       "      <td>5128</td>\n",
       "      <td>4248.5</td>\n",
       "      <td>4018.0</td>\n",
       "      <td>4509.0</td>\n",
       "      <td>5038.0</td>\n",
       "      <td>4829.5</td>\n",
       "    </tr>\n",
       "  </tbody>\n",
       "</table>\n",
       "</div>"
      ],
      "text/plain": [
       "       pg    sg    sf    pf     c   pg_sg   sg_sf   sf_pf    pf_c    c_pg\n",
       "bkn  5143  4357  4416  4960  5317  4750.0  4386.5  4688.0  5138.5  5230.0\n",
       "hou  4827  4152  4173  4787  5364  4489.5  4162.5  4480.0  5075.5  5095.5\n",
       "lal  5031  4082  4347  5061  5484  4556.5  4214.5  4704.0  5272.5  5257.5\n",
       "por  4531  3966  4070  4948  5128  4248.5  4018.0  4509.0  5038.0  4829.5"
      ]
     },
     "execution_count": 204,
     "metadata": {},
     "output_type": "execute_result"
    }
   ],
   "source": [
    "# Creating a dataframe with the teams who allow more fantasy points to both power forwards and centers then one STD above the mean. \n",
    "# Also, creating a percentage of teams who allow more fantasy points to both power forwards and centers then above one STD above the mean.\n",
    "pf_c_tip = group_4 + pf_c_std\n",
    "pf_c_tip_tot = len(fp.ix[lambda df: fp['pf_c'] > pf_c_tip, :])\n",
    "print(pf_c_tip_tot)\n",
    "print(pf_c_tip_tot / 30)\n",
    "print(pf_c_tip)\n",
    "fp.ix[lambda df: fp['pf_c'] > pf_c_tip, :]"
   ]
  },
  {
   "cell_type": "code",
   "execution_count": 193,
   "metadata": {
    "collapsed": false
   },
   "outputs": [
    {
     "name": "stdout",
     "output_type": "stream",
     "text": [
      "13\n",
      "0.433333333333\n"
     ]
    },
    {
     "data": {
      "text/html": [
       "<div>\n",
       "<table border=\"1\" class=\"dataframe\">\n",
       "  <thead>\n",
       "    <tr style=\"text-align: right;\">\n",
       "      <th></th>\n",
       "      <th>pg</th>\n",
       "      <th>sg</th>\n",
       "      <th>sf</th>\n",
       "      <th>pf</th>\n",
       "      <th>c</th>\n",
       "      <th>pg_sg</th>\n",
       "      <th>sg_sf</th>\n",
       "      <th>sf_pf</th>\n",
       "      <th>pf_c</th>\n",
       "      <th>c_pg</th>\n",
       "    </tr>\n",
       "  </thead>\n",
       "  <tbody>\n",
       "    <tr>\n",
       "      <th>atl</th>\n",
       "      <td>4886</td>\n",
       "      <td>4129</td>\n",
       "      <td>4334</td>\n",
       "      <td>4460</td>\n",
       "      <td>4650</td>\n",
       "      <td>4507.5</td>\n",
       "      <td>4231.5</td>\n",
       "      <td>4397.0</td>\n",
       "      <td>4555.0</td>\n",
       "      <td>4768.0</td>\n",
       "    </tr>\n",
       "    <tr>\n",
       "      <th>bos</th>\n",
       "      <td>4696</td>\n",
       "      <td>4009</td>\n",
       "      <td>4155</td>\n",
       "      <td>4782</td>\n",
       "      <td>4999</td>\n",
       "      <td>4352.5</td>\n",
       "      <td>4082.0</td>\n",
       "      <td>4468.5</td>\n",
       "      <td>4890.5</td>\n",
       "      <td>4847.5</td>\n",
       "    </tr>\n",
       "    <tr>\n",
       "      <th>bkn</th>\n",
       "      <td>5143</td>\n",
       "      <td>4357</td>\n",
       "      <td>4416</td>\n",
       "      <td>4960</td>\n",
       "      <td>5317</td>\n",
       "      <td>4750.0</td>\n",
       "      <td>4386.5</td>\n",
       "      <td>4688.0</td>\n",
       "      <td>5138.5</td>\n",
       "      <td>5230.0</td>\n",
       "    </tr>\n",
       "    <tr>\n",
       "      <th>cha</th>\n",
       "      <td>4686</td>\n",
       "      <td>4149</td>\n",
       "      <td>4098</td>\n",
       "      <td>4629</td>\n",
       "      <td>5129</td>\n",
       "      <td>4417.5</td>\n",
       "      <td>4123.5</td>\n",
       "      <td>4363.5</td>\n",
       "      <td>4879.0</td>\n",
       "      <td>4907.5</td>\n",
       "    </tr>\n",
       "    <tr>\n",
       "      <th>chi</th>\n",
       "      <td>4704</td>\n",
       "      <td>3907</td>\n",
       "      <td>4040</td>\n",
       "      <td>4606</td>\n",
       "      <td>4713</td>\n",
       "      <td>4305.5</td>\n",
       "      <td>3973.5</td>\n",
       "      <td>4323.0</td>\n",
       "      <td>4659.5</td>\n",
       "      <td>4708.5</td>\n",
       "    </tr>\n",
       "    <tr>\n",
       "      <th>cle</th>\n",
       "      <td>4688</td>\n",
       "      <td>4325</td>\n",
       "      <td>4219</td>\n",
       "      <td>4408</td>\n",
       "      <td>4910</td>\n",
       "      <td>4506.5</td>\n",
       "      <td>4272.0</td>\n",
       "      <td>4313.5</td>\n",
       "      <td>4659.0</td>\n",
       "      <td>4799.0</td>\n",
       "    </tr>\n",
       "    <tr>\n",
       "      <th>den</th>\n",
       "      <td>4982</td>\n",
       "      <td>4326</td>\n",
       "      <td>3998</td>\n",
       "      <td>4671</td>\n",
       "      <td>5021</td>\n",
       "      <td>4654.0</td>\n",
       "      <td>4162.0</td>\n",
       "      <td>4334.5</td>\n",
       "      <td>4846.0</td>\n",
       "      <td>5001.5</td>\n",
       "    </tr>\n",
       "    <tr>\n",
       "      <th>det</th>\n",
       "      <td>4725</td>\n",
       "      <td>3766</td>\n",
       "      <td>3974</td>\n",
       "      <td>4519</td>\n",
       "      <td>4801</td>\n",
       "      <td>4245.5</td>\n",
       "      <td>3870.0</td>\n",
       "      <td>4246.5</td>\n",
       "      <td>4660.0</td>\n",
       "      <td>4763.0</td>\n",
       "    </tr>\n",
       "    <tr>\n",
       "      <th>hou</th>\n",
       "      <td>4827</td>\n",
       "      <td>4152</td>\n",
       "      <td>4173</td>\n",
       "      <td>4787</td>\n",
       "      <td>5364</td>\n",
       "      <td>4489.5</td>\n",
       "      <td>4162.5</td>\n",
       "      <td>4480.0</td>\n",
       "      <td>5075.5</td>\n",
       "      <td>5095.5</td>\n",
       "    </tr>\n",
       "    <tr>\n",
       "      <th>lal</th>\n",
       "      <td>5031</td>\n",
       "      <td>4082</td>\n",
       "      <td>4347</td>\n",
       "      <td>5061</td>\n",
       "      <td>5484</td>\n",
       "      <td>4556.5</td>\n",
       "      <td>4214.5</td>\n",
       "      <td>4704.0</td>\n",
       "      <td>5272.5</td>\n",
       "      <td>5257.5</td>\n",
       "    </tr>\n",
       "    <tr>\n",
       "      <th>nop</th>\n",
       "      <td>4860</td>\n",
       "      <td>4193</td>\n",
       "      <td>4045</td>\n",
       "      <td>4711</td>\n",
       "      <td>5098</td>\n",
       "      <td>4526.5</td>\n",
       "      <td>4119.0</td>\n",
       "      <td>4378.0</td>\n",
       "      <td>4904.5</td>\n",
       "      <td>4979.0</td>\n",
       "    </tr>\n",
       "    <tr>\n",
       "      <th>orl</th>\n",
       "      <td>4967</td>\n",
       "      <td>4138</td>\n",
       "      <td>4091</td>\n",
       "      <td>4713</td>\n",
       "      <td>5118</td>\n",
       "      <td>4552.5</td>\n",
       "      <td>4114.5</td>\n",
       "      <td>4402.0</td>\n",
       "      <td>4915.5</td>\n",
       "      <td>5042.5</td>\n",
       "    </tr>\n",
       "    <tr>\n",
       "      <th>pho</th>\n",
       "      <td>4938</td>\n",
       "      <td>4231</td>\n",
       "      <td>4059</td>\n",
       "      <td>4838</td>\n",
       "      <td>5180</td>\n",
       "      <td>4584.5</td>\n",
       "      <td>4145.0</td>\n",
       "      <td>4448.5</td>\n",
       "      <td>5009.0</td>\n",
       "      <td>5059.0</td>\n",
       "    </tr>\n",
       "  </tbody>\n",
       "</table>\n",
       "</div>"
      ],
      "text/plain": [
       "       pg    sg    sf    pf     c   pg_sg   sg_sf   sf_pf    pf_c    c_pg\n",
       "atl  4886  4129  4334  4460  4650  4507.5  4231.5  4397.0  4555.0  4768.0\n",
       "bos  4696  4009  4155  4782  4999  4352.5  4082.0  4468.5  4890.5  4847.5\n",
       "bkn  5143  4357  4416  4960  5317  4750.0  4386.5  4688.0  5138.5  5230.0\n",
       "cha  4686  4149  4098  4629  5129  4417.5  4123.5  4363.5  4879.0  4907.5\n",
       "chi  4704  3907  4040  4606  4713  4305.5  3973.5  4323.0  4659.5  4708.5\n",
       "cle  4688  4325  4219  4408  4910  4506.5  4272.0  4313.5  4659.0  4799.0\n",
       "den  4982  4326  3998  4671  5021  4654.0  4162.0  4334.5  4846.0  5001.5\n",
       "det  4725  3766  3974  4519  4801  4245.5  3870.0  4246.5  4660.0  4763.0\n",
       "hou  4827  4152  4173  4787  5364  4489.5  4162.5  4480.0  5075.5  5095.5\n",
       "lal  5031  4082  4347  5061  5484  4556.5  4214.5  4704.0  5272.5  5257.5\n",
       "nop  4860  4193  4045  4711  5098  4526.5  4119.0  4378.0  4904.5  4979.0\n",
       "orl  4967  4138  4091  4713  5118  4552.5  4114.5  4402.0  4915.5  5042.5\n",
       "pho  4938  4231  4059  4838  5180  4584.5  4145.0  4448.5  5009.0  5059.0"
      ]
     },
     "execution_count": 193,
     "metadata": {},
     "output_type": "execute_result"
    }
   ],
   "source": [
    "# Creating a dataframe with the teams who allow more fantasy points to point guards then the mean. \n",
    "# Also, creating a percentage of teams who allow more fantasy points to point guards then the mean.\n",
    "pg_above_mid = len(fp.ix[lambda df: fp['pg'] > pg_avg, :])\n",
    "print(pg_above_mid)\n",
    "print(pg_above_mid / 30)\n",
    "fp.ix[lambda df: fp['pg'] > pg_avg, :]"
   ]
  },
  {
   "cell_type": "code",
   "execution_count": 194,
   "metadata": {
    "collapsed": false
   },
   "outputs": [
    {
     "name": "stdout",
     "output_type": "stream",
     "text": [
      "15\n",
      "0.5\n"
     ]
    },
    {
     "data": {
      "text/html": [
       "<div>\n",
       "<table border=\"1\" class=\"dataframe\">\n",
       "  <thead>\n",
       "    <tr style=\"text-align: right;\">\n",
       "      <th></th>\n",
       "      <th>pg</th>\n",
       "      <th>sg</th>\n",
       "      <th>sf</th>\n",
       "      <th>pf</th>\n",
       "      <th>c</th>\n",
       "      <th>pg_sg</th>\n",
       "      <th>sg_sf</th>\n",
       "      <th>sf_pf</th>\n",
       "      <th>pf_c</th>\n",
       "      <th>c_pg</th>\n",
       "    </tr>\n",
       "  </thead>\n",
       "  <tbody>\n",
       "    <tr>\n",
       "      <th>atl</th>\n",
       "      <td>4886</td>\n",
       "      <td>4129</td>\n",
       "      <td>4334</td>\n",
       "      <td>4460</td>\n",
       "      <td>4650</td>\n",
       "      <td>4507.5</td>\n",
       "      <td>4231.5</td>\n",
       "      <td>4397.0</td>\n",
       "      <td>4555.0</td>\n",
       "      <td>4768.0</td>\n",
       "    </tr>\n",
       "    <tr>\n",
       "      <th>bkn</th>\n",
       "      <td>5143</td>\n",
       "      <td>4357</td>\n",
       "      <td>4416</td>\n",
       "      <td>4960</td>\n",
       "      <td>5317</td>\n",
       "      <td>4750.0</td>\n",
       "      <td>4386.5</td>\n",
       "      <td>4688.0</td>\n",
       "      <td>5138.5</td>\n",
       "      <td>5230.0</td>\n",
       "    </tr>\n",
       "    <tr>\n",
       "      <th>cha</th>\n",
       "      <td>4686</td>\n",
       "      <td>4149</td>\n",
       "      <td>4098</td>\n",
       "      <td>4629</td>\n",
       "      <td>5129</td>\n",
       "      <td>4417.5</td>\n",
       "      <td>4123.5</td>\n",
       "      <td>4363.5</td>\n",
       "      <td>4879.0</td>\n",
       "      <td>4907.5</td>\n",
       "    </tr>\n",
       "    <tr>\n",
       "      <th>cle</th>\n",
       "      <td>4688</td>\n",
       "      <td>4325</td>\n",
       "      <td>4219</td>\n",
       "      <td>4408</td>\n",
       "      <td>4910</td>\n",
       "      <td>4506.5</td>\n",
       "      <td>4272.0</td>\n",
       "      <td>4313.5</td>\n",
       "      <td>4659.0</td>\n",
       "      <td>4799.0</td>\n",
       "    </tr>\n",
       "    <tr>\n",
       "      <th>den</th>\n",
       "      <td>4982</td>\n",
       "      <td>4326</td>\n",
       "      <td>3998</td>\n",
       "      <td>4671</td>\n",
       "      <td>5021</td>\n",
       "      <td>4654.0</td>\n",
       "      <td>4162.0</td>\n",
       "      <td>4334.5</td>\n",
       "      <td>4846.0</td>\n",
       "      <td>5001.5</td>\n",
       "    </tr>\n",
       "    <tr>\n",
       "      <th>hou</th>\n",
       "      <td>4827</td>\n",
       "      <td>4152</td>\n",
       "      <td>4173</td>\n",
       "      <td>4787</td>\n",
       "      <td>5364</td>\n",
       "      <td>4489.5</td>\n",
       "      <td>4162.5</td>\n",
       "      <td>4480.0</td>\n",
       "      <td>5075.5</td>\n",
       "      <td>5095.5</td>\n",
       "    </tr>\n",
       "    <tr>\n",
       "      <th>lal</th>\n",
       "      <td>5031</td>\n",
       "      <td>4082</td>\n",
       "      <td>4347</td>\n",
       "      <td>5061</td>\n",
       "      <td>5484</td>\n",
       "      <td>4556.5</td>\n",
       "      <td>4214.5</td>\n",
       "      <td>4704.0</td>\n",
       "      <td>5272.5</td>\n",
       "      <td>5257.5</td>\n",
       "    </tr>\n",
       "    <tr>\n",
       "      <th>min</th>\n",
       "      <td>4608</td>\n",
       "      <td>4088</td>\n",
       "      <td>3964</td>\n",
       "      <td>4361</td>\n",
       "      <td>5130</td>\n",
       "      <td>4348.0</td>\n",
       "      <td>4026.0</td>\n",
       "      <td>4162.5</td>\n",
       "      <td>4745.5</td>\n",
       "      <td>4869.0</td>\n",
       "    </tr>\n",
       "    <tr>\n",
       "      <th>nop</th>\n",
       "      <td>4860</td>\n",
       "      <td>4193</td>\n",
       "      <td>4045</td>\n",
       "      <td>4711</td>\n",
       "      <td>5098</td>\n",
       "      <td>4526.5</td>\n",
       "      <td>4119.0</td>\n",
       "      <td>4378.0</td>\n",
       "      <td>4904.5</td>\n",
       "      <td>4979.0</td>\n",
       "    </tr>\n",
       "    <tr>\n",
       "      <th>nyk</th>\n",
       "      <td>4526</td>\n",
       "      <td>4133</td>\n",
       "      <td>4078</td>\n",
       "      <td>4677</td>\n",
       "      <td>5201</td>\n",
       "      <td>4329.5</td>\n",
       "      <td>4105.5</td>\n",
       "      <td>4377.5</td>\n",
       "      <td>4939.0</td>\n",
       "      <td>4863.5</td>\n",
       "    </tr>\n",
       "    <tr>\n",
       "      <th>okc</th>\n",
       "      <td>4535</td>\n",
       "      <td>4094</td>\n",
       "      <td>4026</td>\n",
       "      <td>4553</td>\n",
       "      <td>4924</td>\n",
       "      <td>4314.5</td>\n",
       "      <td>4060.0</td>\n",
       "      <td>4289.5</td>\n",
       "      <td>4738.5</td>\n",
       "      <td>4729.5</td>\n",
       "    </tr>\n",
       "    <tr>\n",
       "      <th>orl</th>\n",
       "      <td>4967</td>\n",
       "      <td>4138</td>\n",
       "      <td>4091</td>\n",
       "      <td>4713</td>\n",
       "      <td>5118</td>\n",
       "      <td>4552.5</td>\n",
       "      <td>4114.5</td>\n",
       "      <td>4402.0</td>\n",
       "      <td>4915.5</td>\n",
       "      <td>5042.5</td>\n",
       "    </tr>\n",
       "    <tr>\n",
       "      <th>phi</th>\n",
       "      <td>4619</td>\n",
       "      <td>4095</td>\n",
       "      <td>4139</td>\n",
       "      <td>4590</td>\n",
       "      <td>5180</td>\n",
       "      <td>4357.0</td>\n",
       "      <td>4117.0</td>\n",
       "      <td>4364.5</td>\n",
       "      <td>4885.0</td>\n",
       "      <td>4899.5</td>\n",
       "    </tr>\n",
       "    <tr>\n",
       "      <th>pho</th>\n",
       "      <td>4938</td>\n",
       "      <td>4231</td>\n",
       "      <td>4059</td>\n",
       "      <td>4838</td>\n",
       "      <td>5180</td>\n",
       "      <td>4584.5</td>\n",
       "      <td>4145.0</td>\n",
       "      <td>4448.5</td>\n",
       "      <td>5009.0</td>\n",
       "      <td>5059.0</td>\n",
       "    </tr>\n",
       "    <tr>\n",
       "      <th>sac</th>\n",
       "      <td>4601</td>\n",
       "      <td>4220</td>\n",
       "      <td>4062</td>\n",
       "      <td>4805</td>\n",
       "      <td>5007</td>\n",
       "      <td>4410.5</td>\n",
       "      <td>4141.0</td>\n",
       "      <td>4433.5</td>\n",
       "      <td>4906.0</td>\n",
       "      <td>4804.0</td>\n",
       "    </tr>\n",
       "  </tbody>\n",
       "</table>\n",
       "</div>"
      ],
      "text/plain": [
       "       pg    sg    sf    pf     c   pg_sg   sg_sf   sf_pf    pf_c    c_pg\n",
       "atl  4886  4129  4334  4460  4650  4507.5  4231.5  4397.0  4555.0  4768.0\n",
       "bkn  5143  4357  4416  4960  5317  4750.0  4386.5  4688.0  5138.5  5230.0\n",
       "cha  4686  4149  4098  4629  5129  4417.5  4123.5  4363.5  4879.0  4907.5\n",
       "cle  4688  4325  4219  4408  4910  4506.5  4272.0  4313.5  4659.0  4799.0\n",
       "den  4982  4326  3998  4671  5021  4654.0  4162.0  4334.5  4846.0  5001.5\n",
       "hou  4827  4152  4173  4787  5364  4489.5  4162.5  4480.0  5075.5  5095.5\n",
       "lal  5031  4082  4347  5061  5484  4556.5  4214.5  4704.0  5272.5  5257.5\n",
       "min  4608  4088  3964  4361  5130  4348.0  4026.0  4162.5  4745.5  4869.0\n",
       "nop  4860  4193  4045  4711  5098  4526.5  4119.0  4378.0  4904.5  4979.0\n",
       "nyk  4526  4133  4078  4677  5201  4329.5  4105.5  4377.5  4939.0  4863.5\n",
       "okc  4535  4094  4026  4553  4924  4314.5  4060.0  4289.5  4738.5  4729.5\n",
       "orl  4967  4138  4091  4713  5118  4552.5  4114.5  4402.0  4915.5  5042.5\n",
       "phi  4619  4095  4139  4590  5180  4357.0  4117.0  4364.5  4885.0  4899.5\n",
       "pho  4938  4231  4059  4838  5180  4584.5  4145.0  4448.5  5009.0  5059.0\n",
       "sac  4601  4220  4062  4805  5007  4410.5  4141.0  4433.5  4906.0  4804.0"
      ]
     },
     "execution_count": 194,
     "metadata": {},
     "output_type": "execute_result"
    }
   ],
   "source": [
    "# Creating a dataframe with the teams who allow more fantasy points to shooting guards then the mean. \n",
    "# Also, creating a percentage of teams who allow more fantasy points to shooting guards then the mean.\n",
    "sg_above_mid = len(fp.ix[lambda df: fp['sg'] > sg_avg, :])\n",
    "print(sg_above_mid)\n",
    "print(sg_above_mid / 30)\n",
    "fp.ix[lambda df: fp['sg'] > sg_avg, :]"
   ]
  },
  {
   "cell_type": "code",
   "execution_count": 195,
   "metadata": {
    "collapsed": false
   },
   "outputs": [
    {
     "name": "stdout",
     "output_type": "stream",
     "text": [
      "16\n",
      "0.533333333333\n"
     ]
    },
    {
     "data": {
      "text/html": [
       "<div>\n",
       "<table border=\"1\" class=\"dataframe\">\n",
       "  <thead>\n",
       "    <tr style=\"text-align: right;\">\n",
       "      <th></th>\n",
       "      <th>pg</th>\n",
       "      <th>sg</th>\n",
       "      <th>sf</th>\n",
       "      <th>pf</th>\n",
       "      <th>c</th>\n",
       "      <th>pg_sg</th>\n",
       "      <th>sg_sf</th>\n",
       "      <th>sf_pf</th>\n",
       "      <th>pf_c</th>\n",
       "      <th>c_pg</th>\n",
       "    </tr>\n",
       "  </thead>\n",
       "  <tbody>\n",
       "    <tr>\n",
       "      <th>atl</th>\n",
       "      <td>4886</td>\n",
       "      <td>4129</td>\n",
       "      <td>4334</td>\n",
       "      <td>4460</td>\n",
       "      <td>4650</td>\n",
       "      <td>4507.5</td>\n",
       "      <td>4231.5</td>\n",
       "      <td>4397.0</td>\n",
       "      <td>4555.0</td>\n",
       "      <td>4768.0</td>\n",
       "    </tr>\n",
       "    <tr>\n",
       "      <th>bos</th>\n",
       "      <td>4696</td>\n",
       "      <td>4009</td>\n",
       "      <td>4155</td>\n",
       "      <td>4782</td>\n",
       "      <td>4999</td>\n",
       "      <td>4352.5</td>\n",
       "      <td>4082.0</td>\n",
       "      <td>4468.5</td>\n",
       "      <td>4890.5</td>\n",
       "      <td>4847.5</td>\n",
       "    </tr>\n",
       "    <tr>\n",
       "      <th>bkn</th>\n",
       "      <td>5143</td>\n",
       "      <td>4357</td>\n",
       "      <td>4416</td>\n",
       "      <td>4960</td>\n",
       "      <td>5317</td>\n",
       "      <td>4750.0</td>\n",
       "      <td>4386.5</td>\n",
       "      <td>4688.0</td>\n",
       "      <td>5138.5</td>\n",
       "      <td>5230.0</td>\n",
       "    </tr>\n",
       "    <tr>\n",
       "      <th>cha</th>\n",
       "      <td>4686</td>\n",
       "      <td>4149</td>\n",
       "      <td>4098</td>\n",
       "      <td>4629</td>\n",
       "      <td>5129</td>\n",
       "      <td>4417.5</td>\n",
       "      <td>4123.5</td>\n",
       "      <td>4363.5</td>\n",
       "      <td>4879.0</td>\n",
       "      <td>4907.5</td>\n",
       "    </tr>\n",
       "    <tr>\n",
       "      <th>cle</th>\n",
       "      <td>4688</td>\n",
       "      <td>4325</td>\n",
       "      <td>4219</td>\n",
       "      <td>4408</td>\n",
       "      <td>4910</td>\n",
       "      <td>4506.5</td>\n",
       "      <td>4272.0</td>\n",
       "      <td>4313.5</td>\n",
       "      <td>4659.0</td>\n",
       "      <td>4799.0</td>\n",
       "    </tr>\n",
       "    <tr>\n",
       "      <th>hou</th>\n",
       "      <td>4827</td>\n",
       "      <td>4152</td>\n",
       "      <td>4173</td>\n",
       "      <td>4787</td>\n",
       "      <td>5364</td>\n",
       "      <td>4489.5</td>\n",
       "      <td>4162.5</td>\n",
       "      <td>4480.0</td>\n",
       "      <td>5075.5</td>\n",
       "      <td>5095.5</td>\n",
       "    </tr>\n",
       "    <tr>\n",
       "      <th>ind</th>\n",
       "      <td>4581</td>\n",
       "      <td>3918</td>\n",
       "      <td>4290</td>\n",
       "      <td>4681</td>\n",
       "      <td>4937</td>\n",
       "      <td>4249.5</td>\n",
       "      <td>4104.0</td>\n",
       "      <td>4485.5</td>\n",
       "      <td>4809.0</td>\n",
       "      <td>4759.0</td>\n",
       "    </tr>\n",
       "    <tr>\n",
       "      <th>lac</th>\n",
       "      <td>4349</td>\n",
       "      <td>3835</td>\n",
       "      <td>4154</td>\n",
       "      <td>4561</td>\n",
       "      <td>4842</td>\n",
       "      <td>4092.0</td>\n",
       "      <td>3994.5</td>\n",
       "      <td>4357.5</td>\n",
       "      <td>4701.5</td>\n",
       "      <td>4595.5</td>\n",
       "    </tr>\n",
       "    <tr>\n",
       "      <th>lal</th>\n",
       "      <td>5031</td>\n",
       "      <td>4082</td>\n",
       "      <td>4347</td>\n",
       "      <td>5061</td>\n",
       "      <td>5484</td>\n",
       "      <td>4556.5</td>\n",
       "      <td>4214.5</td>\n",
       "      <td>4704.0</td>\n",
       "      <td>5272.5</td>\n",
       "      <td>5257.5</td>\n",
       "    </tr>\n",
       "    <tr>\n",
       "      <th>mil</th>\n",
       "      <td>4443</td>\n",
       "      <td>4002</td>\n",
       "      <td>4127</td>\n",
       "      <td>4543</td>\n",
       "      <td>4988</td>\n",
       "      <td>4222.5</td>\n",
       "      <td>4064.5</td>\n",
       "      <td>4335.0</td>\n",
       "      <td>4765.5</td>\n",
       "      <td>4715.5</td>\n",
       "    </tr>\n",
       "    <tr>\n",
       "      <th>nyk</th>\n",
       "      <td>4526</td>\n",
       "      <td>4133</td>\n",
       "      <td>4078</td>\n",
       "      <td>4677</td>\n",
       "      <td>5201</td>\n",
       "      <td>4329.5</td>\n",
       "      <td>4105.5</td>\n",
       "      <td>4377.5</td>\n",
       "      <td>4939.0</td>\n",
       "      <td>4863.5</td>\n",
       "    </tr>\n",
       "    <tr>\n",
       "      <th>orl</th>\n",
       "      <td>4967</td>\n",
       "      <td>4138</td>\n",
       "      <td>4091</td>\n",
       "      <td>4713</td>\n",
       "      <td>5118</td>\n",
       "      <td>4552.5</td>\n",
       "      <td>4114.5</td>\n",
       "      <td>4402.0</td>\n",
       "      <td>4915.5</td>\n",
       "      <td>5042.5</td>\n",
       "    </tr>\n",
       "    <tr>\n",
       "      <th>phi</th>\n",
       "      <td>4619</td>\n",
       "      <td>4095</td>\n",
       "      <td>4139</td>\n",
       "      <td>4590</td>\n",
       "      <td>5180</td>\n",
       "      <td>4357.0</td>\n",
       "      <td>4117.0</td>\n",
       "      <td>4364.5</td>\n",
       "      <td>4885.0</td>\n",
       "      <td>4899.5</td>\n",
       "    </tr>\n",
       "    <tr>\n",
       "      <th>por</th>\n",
       "      <td>4531</td>\n",
       "      <td>3966</td>\n",
       "      <td>4070</td>\n",
       "      <td>4948</td>\n",
       "      <td>5128</td>\n",
       "      <td>4248.5</td>\n",
       "      <td>4018.0</td>\n",
       "      <td>4509.0</td>\n",
       "      <td>5038.0</td>\n",
       "      <td>4829.5</td>\n",
       "    </tr>\n",
       "    <tr>\n",
       "      <th>sac</th>\n",
       "      <td>4601</td>\n",
       "      <td>4220</td>\n",
       "      <td>4062</td>\n",
       "      <td>4805</td>\n",
       "      <td>5007</td>\n",
       "      <td>4410.5</td>\n",
       "      <td>4141.0</td>\n",
       "      <td>4433.5</td>\n",
       "      <td>4906.0</td>\n",
       "      <td>4804.0</td>\n",
       "    </tr>\n",
       "    <tr>\n",
       "      <th>tor</th>\n",
       "      <td>4470</td>\n",
       "      <td>3699</td>\n",
       "      <td>4116</td>\n",
       "      <td>4445</td>\n",
       "      <td>4880</td>\n",
       "      <td>4084.5</td>\n",
       "      <td>3907.5</td>\n",
       "      <td>4280.5</td>\n",
       "      <td>4662.5</td>\n",
       "      <td>4675.0</td>\n",
       "    </tr>\n",
       "  </tbody>\n",
       "</table>\n",
       "</div>"
      ],
      "text/plain": [
       "       pg    sg    sf    pf     c   pg_sg   sg_sf   sf_pf    pf_c    c_pg\n",
       "atl  4886  4129  4334  4460  4650  4507.5  4231.5  4397.0  4555.0  4768.0\n",
       "bos  4696  4009  4155  4782  4999  4352.5  4082.0  4468.5  4890.5  4847.5\n",
       "bkn  5143  4357  4416  4960  5317  4750.0  4386.5  4688.0  5138.5  5230.0\n",
       "cha  4686  4149  4098  4629  5129  4417.5  4123.5  4363.5  4879.0  4907.5\n",
       "cle  4688  4325  4219  4408  4910  4506.5  4272.0  4313.5  4659.0  4799.0\n",
       "hou  4827  4152  4173  4787  5364  4489.5  4162.5  4480.0  5075.5  5095.5\n",
       "ind  4581  3918  4290  4681  4937  4249.5  4104.0  4485.5  4809.0  4759.0\n",
       "lac  4349  3835  4154  4561  4842  4092.0  3994.5  4357.5  4701.5  4595.5\n",
       "lal  5031  4082  4347  5061  5484  4556.5  4214.5  4704.0  5272.5  5257.5\n",
       "mil  4443  4002  4127  4543  4988  4222.5  4064.5  4335.0  4765.5  4715.5\n",
       "nyk  4526  4133  4078  4677  5201  4329.5  4105.5  4377.5  4939.0  4863.5\n",
       "orl  4967  4138  4091  4713  5118  4552.5  4114.5  4402.0  4915.5  5042.5\n",
       "phi  4619  4095  4139  4590  5180  4357.0  4117.0  4364.5  4885.0  4899.5\n",
       "por  4531  3966  4070  4948  5128  4248.5  4018.0  4509.0  5038.0  4829.5\n",
       "sac  4601  4220  4062  4805  5007  4410.5  4141.0  4433.5  4906.0  4804.0\n",
       "tor  4470  3699  4116  4445  4880  4084.5  3907.5  4280.5  4662.5  4675.0"
      ]
     },
     "execution_count": 195,
     "metadata": {},
     "output_type": "execute_result"
    }
   ],
   "source": [
    "# Creating a dataframe with the teams who allow more fantasy points to small forwards then the mean. \n",
    "# Also, creating a percentage of teams who allow more fantasy points to small forwards then the mean.\n",
    "sf_above_mid = len(fp.ix[lambda df: fp['sf'] > sf_avg, :])\n",
    "print(sf_above_mid)\n",
    "print(sf_above_mid / 30)\n",
    "fp.ix[lambda df: fp['sf'] > sf_avg, :]"
   ]
  },
  {
   "cell_type": "code",
   "execution_count": 196,
   "metadata": {
    "collapsed": false
   },
   "outputs": [
    {
     "name": "stdout",
     "output_type": "stream",
     "text": [
      "15\n",
      "0.5\n"
     ]
    },
    {
     "data": {
      "text/html": [
       "<div>\n",
       "<table border=\"1\" class=\"dataframe\">\n",
       "  <thead>\n",
       "    <tr style=\"text-align: right;\">\n",
       "      <th></th>\n",
       "      <th>pg</th>\n",
       "      <th>sg</th>\n",
       "      <th>sf</th>\n",
       "      <th>pf</th>\n",
       "      <th>c</th>\n",
       "      <th>pg_sg</th>\n",
       "      <th>sg_sf</th>\n",
       "      <th>sf_pf</th>\n",
       "      <th>pf_c</th>\n",
       "      <th>c_pg</th>\n",
       "    </tr>\n",
       "  </thead>\n",
       "  <tbody>\n",
       "    <tr>\n",
       "      <th>bos</th>\n",
       "      <td>4696</td>\n",
       "      <td>4009</td>\n",
       "      <td>4155</td>\n",
       "      <td>4782</td>\n",
       "      <td>4999</td>\n",
       "      <td>4352.5</td>\n",
       "      <td>4082.0</td>\n",
       "      <td>4468.5</td>\n",
       "      <td>4890.5</td>\n",
       "      <td>4847.5</td>\n",
       "    </tr>\n",
       "    <tr>\n",
       "      <th>bkn</th>\n",
       "      <td>5143</td>\n",
       "      <td>4357</td>\n",
       "      <td>4416</td>\n",
       "      <td>4960</td>\n",
       "      <td>5317</td>\n",
       "      <td>4750.0</td>\n",
       "      <td>4386.5</td>\n",
       "      <td>4688.0</td>\n",
       "      <td>5138.5</td>\n",
       "      <td>5230.0</td>\n",
       "    </tr>\n",
       "    <tr>\n",
       "      <th>cha</th>\n",
       "      <td>4686</td>\n",
       "      <td>4149</td>\n",
       "      <td>4098</td>\n",
       "      <td>4629</td>\n",
       "      <td>5129</td>\n",
       "      <td>4417.5</td>\n",
       "      <td>4123.5</td>\n",
       "      <td>4363.5</td>\n",
       "      <td>4879.0</td>\n",
       "      <td>4907.5</td>\n",
       "    </tr>\n",
       "    <tr>\n",
       "      <th>den</th>\n",
       "      <td>4982</td>\n",
       "      <td>4326</td>\n",
       "      <td>3998</td>\n",
       "      <td>4671</td>\n",
       "      <td>5021</td>\n",
       "      <td>4654.0</td>\n",
       "      <td>4162.0</td>\n",
       "      <td>4334.5</td>\n",
       "      <td>4846.0</td>\n",
       "      <td>5001.5</td>\n",
       "    </tr>\n",
       "    <tr>\n",
       "      <th>gsw</th>\n",
       "      <td>4484</td>\n",
       "      <td>3967</td>\n",
       "      <td>4060</td>\n",
       "      <td>4671</td>\n",
       "      <td>4994</td>\n",
       "      <td>4225.5</td>\n",
       "      <td>4013.5</td>\n",
       "      <td>4365.5</td>\n",
       "      <td>4832.5</td>\n",
       "      <td>4739.0</td>\n",
       "    </tr>\n",
       "    <tr>\n",
       "      <th>hou</th>\n",
       "      <td>4827</td>\n",
       "      <td>4152</td>\n",
       "      <td>4173</td>\n",
       "      <td>4787</td>\n",
       "      <td>5364</td>\n",
       "      <td>4489.5</td>\n",
       "      <td>4162.5</td>\n",
       "      <td>4480.0</td>\n",
       "      <td>5075.5</td>\n",
       "      <td>5095.5</td>\n",
       "    </tr>\n",
       "    <tr>\n",
       "      <th>ind</th>\n",
       "      <td>4581</td>\n",
       "      <td>3918</td>\n",
       "      <td>4290</td>\n",
       "      <td>4681</td>\n",
       "      <td>4937</td>\n",
       "      <td>4249.5</td>\n",
       "      <td>4104.0</td>\n",
       "      <td>4485.5</td>\n",
       "      <td>4809.0</td>\n",
       "      <td>4759.0</td>\n",
       "    </tr>\n",
       "    <tr>\n",
       "      <th>lal</th>\n",
       "      <td>5031</td>\n",
       "      <td>4082</td>\n",
       "      <td>4347</td>\n",
       "      <td>5061</td>\n",
       "      <td>5484</td>\n",
       "      <td>4556.5</td>\n",
       "      <td>4214.5</td>\n",
       "      <td>4704.0</td>\n",
       "      <td>5272.5</td>\n",
       "      <td>5257.5</td>\n",
       "    </tr>\n",
       "    <tr>\n",
       "      <th>nop</th>\n",
       "      <td>4860</td>\n",
       "      <td>4193</td>\n",
       "      <td>4045</td>\n",
       "      <td>4711</td>\n",
       "      <td>5098</td>\n",
       "      <td>4526.5</td>\n",
       "      <td>4119.0</td>\n",
       "      <td>4378.0</td>\n",
       "      <td>4904.5</td>\n",
       "      <td>4979.0</td>\n",
       "    </tr>\n",
       "    <tr>\n",
       "      <th>nyk</th>\n",
       "      <td>4526</td>\n",
       "      <td>4133</td>\n",
       "      <td>4078</td>\n",
       "      <td>4677</td>\n",
       "      <td>5201</td>\n",
       "      <td>4329.5</td>\n",
       "      <td>4105.5</td>\n",
       "      <td>4377.5</td>\n",
       "      <td>4939.0</td>\n",
       "      <td>4863.5</td>\n",
       "    </tr>\n",
       "    <tr>\n",
       "      <th>orl</th>\n",
       "      <td>4967</td>\n",
       "      <td>4138</td>\n",
       "      <td>4091</td>\n",
       "      <td>4713</td>\n",
       "      <td>5118</td>\n",
       "      <td>4552.5</td>\n",
       "      <td>4114.5</td>\n",
       "      <td>4402.0</td>\n",
       "      <td>4915.5</td>\n",
       "      <td>5042.5</td>\n",
       "    </tr>\n",
       "    <tr>\n",
       "      <th>pho</th>\n",
       "      <td>4938</td>\n",
       "      <td>4231</td>\n",
       "      <td>4059</td>\n",
       "      <td>4838</td>\n",
       "      <td>5180</td>\n",
       "      <td>4584.5</td>\n",
       "      <td>4145.0</td>\n",
       "      <td>4448.5</td>\n",
       "      <td>5009.0</td>\n",
       "      <td>5059.0</td>\n",
       "    </tr>\n",
       "    <tr>\n",
       "      <th>por</th>\n",
       "      <td>4531</td>\n",
       "      <td>3966</td>\n",
       "      <td>4070</td>\n",
       "      <td>4948</td>\n",
       "      <td>5128</td>\n",
       "      <td>4248.5</td>\n",
       "      <td>4018.0</td>\n",
       "      <td>4509.0</td>\n",
       "      <td>5038.0</td>\n",
       "      <td>4829.5</td>\n",
       "    </tr>\n",
       "    <tr>\n",
       "      <th>sac</th>\n",
       "      <td>4601</td>\n",
       "      <td>4220</td>\n",
       "      <td>4062</td>\n",
       "      <td>4805</td>\n",
       "      <td>5007</td>\n",
       "      <td>4410.5</td>\n",
       "      <td>4141.0</td>\n",
       "      <td>4433.5</td>\n",
       "      <td>4906.0</td>\n",
       "      <td>4804.0</td>\n",
       "    </tr>\n",
       "    <tr>\n",
       "      <th>was</th>\n",
       "      <td>4590</td>\n",
       "      <td>3897</td>\n",
       "      <td>4023</td>\n",
       "      <td>4735</td>\n",
       "      <td>5021</td>\n",
       "      <td>4243.5</td>\n",
       "      <td>3960.0</td>\n",
       "      <td>4379.0</td>\n",
       "      <td>4878.0</td>\n",
       "      <td>4805.5</td>\n",
       "    </tr>\n",
       "  </tbody>\n",
       "</table>\n",
       "</div>"
      ],
      "text/plain": [
       "       pg    sg    sf    pf     c   pg_sg   sg_sf   sf_pf    pf_c    c_pg\n",
       "bos  4696  4009  4155  4782  4999  4352.5  4082.0  4468.5  4890.5  4847.5\n",
       "bkn  5143  4357  4416  4960  5317  4750.0  4386.5  4688.0  5138.5  5230.0\n",
       "cha  4686  4149  4098  4629  5129  4417.5  4123.5  4363.5  4879.0  4907.5\n",
       "den  4982  4326  3998  4671  5021  4654.0  4162.0  4334.5  4846.0  5001.5\n",
       "gsw  4484  3967  4060  4671  4994  4225.5  4013.5  4365.5  4832.5  4739.0\n",
       "hou  4827  4152  4173  4787  5364  4489.5  4162.5  4480.0  5075.5  5095.5\n",
       "ind  4581  3918  4290  4681  4937  4249.5  4104.0  4485.5  4809.0  4759.0\n",
       "lal  5031  4082  4347  5061  5484  4556.5  4214.5  4704.0  5272.5  5257.5\n",
       "nop  4860  4193  4045  4711  5098  4526.5  4119.0  4378.0  4904.5  4979.0\n",
       "nyk  4526  4133  4078  4677  5201  4329.5  4105.5  4377.5  4939.0  4863.5\n",
       "orl  4967  4138  4091  4713  5118  4552.5  4114.5  4402.0  4915.5  5042.5\n",
       "pho  4938  4231  4059  4838  5180  4584.5  4145.0  4448.5  5009.0  5059.0\n",
       "por  4531  3966  4070  4948  5128  4248.5  4018.0  4509.0  5038.0  4829.5\n",
       "sac  4601  4220  4062  4805  5007  4410.5  4141.0  4433.5  4906.0  4804.0\n",
       "was  4590  3897  4023  4735  5021  4243.5  3960.0  4379.0  4878.0  4805.5"
      ]
     },
     "execution_count": 196,
     "metadata": {},
     "output_type": "execute_result"
    }
   ],
   "source": [
    "# Creating a dataframe with the teams who allow more fantasy points to power forwards then the mean. \n",
    "# Also, creating a percentage of teams who allow more fantasy points to power forwards then the mean.\n",
    "pf_above_mid = len(fp.ix[lambda df: fp['pf'] > pf_avg, :])\n",
    "print(pf_above_mid)\n",
    "print(pf_above_mid / 30)\n",
    "fp.ix[lambda df: fp['pf'] > pf_avg, :]"
   ]
  },
  {
   "cell_type": "code",
   "execution_count": 206,
   "metadata": {
    "collapsed": false
   },
   "outputs": [
    {
     "name": "stdout",
     "output_type": "stream",
     "text": [
      "17\n",
      "0.566666666667\n"
     ]
    },
    {
     "data": {
      "text/html": [
       "<div>\n",
       "<table border=\"1\" class=\"dataframe\">\n",
       "  <thead>\n",
       "    <tr style=\"text-align: right;\">\n",
       "      <th></th>\n",
       "      <th>pg</th>\n",
       "      <th>sg</th>\n",
       "      <th>sf</th>\n",
       "      <th>pf</th>\n",
       "      <th>c</th>\n",
       "      <th>pg_sg</th>\n",
       "      <th>sg_sf</th>\n",
       "      <th>sf_pf</th>\n",
       "      <th>pf_c</th>\n",
       "      <th>c_pg</th>\n",
       "    </tr>\n",
       "  </thead>\n",
       "  <tbody>\n",
       "    <tr>\n",
       "      <th>bos</th>\n",
       "      <td>4696</td>\n",
       "      <td>4009</td>\n",
       "      <td>4155</td>\n",
       "      <td>4782</td>\n",
       "      <td>4999</td>\n",
       "      <td>4352.5</td>\n",
       "      <td>4082.0</td>\n",
       "      <td>4468.5</td>\n",
       "      <td>4890.5</td>\n",
       "      <td>4847.5</td>\n",
       "    </tr>\n",
       "    <tr>\n",
       "      <th>bkn</th>\n",
       "      <td>5143</td>\n",
       "      <td>4357</td>\n",
       "      <td>4416</td>\n",
       "      <td>4960</td>\n",
       "      <td>5317</td>\n",
       "      <td>4750.0</td>\n",
       "      <td>4386.5</td>\n",
       "      <td>4688.0</td>\n",
       "      <td>5138.5</td>\n",
       "      <td>5230.0</td>\n",
       "    </tr>\n",
       "    <tr>\n",
       "      <th>cha</th>\n",
       "      <td>4686</td>\n",
       "      <td>4149</td>\n",
       "      <td>4098</td>\n",
       "      <td>4629</td>\n",
       "      <td>5129</td>\n",
       "      <td>4417.5</td>\n",
       "      <td>4123.5</td>\n",
       "      <td>4363.5</td>\n",
       "      <td>4879.0</td>\n",
       "      <td>4907.5</td>\n",
       "    </tr>\n",
       "    <tr>\n",
       "      <th>den</th>\n",
       "      <td>4982</td>\n",
       "      <td>4326</td>\n",
       "      <td>3998</td>\n",
       "      <td>4671</td>\n",
       "      <td>5021</td>\n",
       "      <td>4654.0</td>\n",
       "      <td>4162.0</td>\n",
       "      <td>4334.5</td>\n",
       "      <td>4846.0</td>\n",
       "      <td>5001.5</td>\n",
       "    </tr>\n",
       "    <tr>\n",
       "      <th>gsw</th>\n",
       "      <td>4484</td>\n",
       "      <td>3967</td>\n",
       "      <td>4060</td>\n",
       "      <td>4671</td>\n",
       "      <td>4994</td>\n",
       "      <td>4225.5</td>\n",
       "      <td>4013.5</td>\n",
       "      <td>4365.5</td>\n",
       "      <td>4832.5</td>\n",
       "      <td>4739.0</td>\n",
       "    </tr>\n",
       "    <tr>\n",
       "      <th>hou</th>\n",
       "      <td>4827</td>\n",
       "      <td>4152</td>\n",
       "      <td>4173</td>\n",
       "      <td>4787</td>\n",
       "      <td>5364</td>\n",
       "      <td>4489.5</td>\n",
       "      <td>4162.5</td>\n",
       "      <td>4480.0</td>\n",
       "      <td>5075.5</td>\n",
       "      <td>5095.5</td>\n",
       "    </tr>\n",
       "    <tr>\n",
       "      <th>lal</th>\n",
       "      <td>5031</td>\n",
       "      <td>4082</td>\n",
       "      <td>4347</td>\n",
       "      <td>5061</td>\n",
       "      <td>5484</td>\n",
       "      <td>4556.5</td>\n",
       "      <td>4214.5</td>\n",
       "      <td>4704.0</td>\n",
       "      <td>5272.5</td>\n",
       "      <td>5257.5</td>\n",
       "    </tr>\n",
       "    <tr>\n",
       "      <th>mil</th>\n",
       "      <td>4443</td>\n",
       "      <td>4002</td>\n",
       "      <td>4127</td>\n",
       "      <td>4543</td>\n",
       "      <td>4988</td>\n",
       "      <td>4222.5</td>\n",
       "      <td>4064.5</td>\n",
       "      <td>4335.0</td>\n",
       "      <td>4765.5</td>\n",
       "      <td>4715.5</td>\n",
       "    </tr>\n",
       "    <tr>\n",
       "      <th>min</th>\n",
       "      <td>4608</td>\n",
       "      <td>4088</td>\n",
       "      <td>3964</td>\n",
       "      <td>4361</td>\n",
       "      <td>5130</td>\n",
       "      <td>4348.0</td>\n",
       "      <td>4026.0</td>\n",
       "      <td>4162.5</td>\n",
       "      <td>4745.5</td>\n",
       "      <td>4869.0</td>\n",
       "    </tr>\n",
       "    <tr>\n",
       "      <th>nop</th>\n",
       "      <td>4860</td>\n",
       "      <td>4193</td>\n",
       "      <td>4045</td>\n",
       "      <td>4711</td>\n",
       "      <td>5098</td>\n",
       "      <td>4526.5</td>\n",
       "      <td>4119.0</td>\n",
       "      <td>4378.0</td>\n",
       "      <td>4904.5</td>\n",
       "      <td>4979.0</td>\n",
       "    </tr>\n",
       "    <tr>\n",
       "      <th>nyk</th>\n",
       "      <td>4526</td>\n",
       "      <td>4133</td>\n",
       "      <td>4078</td>\n",
       "      <td>4677</td>\n",
       "      <td>5201</td>\n",
       "      <td>4329.5</td>\n",
       "      <td>4105.5</td>\n",
       "      <td>4377.5</td>\n",
       "      <td>4939.0</td>\n",
       "      <td>4863.5</td>\n",
       "    </tr>\n",
       "    <tr>\n",
       "      <th>orl</th>\n",
       "      <td>4967</td>\n",
       "      <td>4138</td>\n",
       "      <td>4091</td>\n",
       "      <td>4713</td>\n",
       "      <td>5118</td>\n",
       "      <td>4552.5</td>\n",
       "      <td>4114.5</td>\n",
       "      <td>4402.0</td>\n",
       "      <td>4915.5</td>\n",
       "      <td>5042.5</td>\n",
       "    </tr>\n",
       "    <tr>\n",
       "      <th>phi</th>\n",
       "      <td>4619</td>\n",
       "      <td>4095</td>\n",
       "      <td>4139</td>\n",
       "      <td>4590</td>\n",
       "      <td>5180</td>\n",
       "      <td>4357.0</td>\n",
       "      <td>4117.0</td>\n",
       "      <td>4364.5</td>\n",
       "      <td>4885.0</td>\n",
       "      <td>4899.5</td>\n",
       "    </tr>\n",
       "    <tr>\n",
       "      <th>pho</th>\n",
       "      <td>4938</td>\n",
       "      <td>4231</td>\n",
       "      <td>4059</td>\n",
       "      <td>4838</td>\n",
       "      <td>5180</td>\n",
       "      <td>4584.5</td>\n",
       "      <td>4145.0</td>\n",
       "      <td>4448.5</td>\n",
       "      <td>5009.0</td>\n",
       "      <td>5059.0</td>\n",
       "    </tr>\n",
       "    <tr>\n",
       "      <th>por</th>\n",
       "      <td>4531</td>\n",
       "      <td>3966</td>\n",
       "      <td>4070</td>\n",
       "      <td>4948</td>\n",
       "      <td>5128</td>\n",
       "      <td>4248.5</td>\n",
       "      <td>4018.0</td>\n",
       "      <td>4509.0</td>\n",
       "      <td>5038.0</td>\n",
       "      <td>4829.5</td>\n",
       "    </tr>\n",
       "    <tr>\n",
       "      <th>sac</th>\n",
       "      <td>4601</td>\n",
       "      <td>4220</td>\n",
       "      <td>4062</td>\n",
       "      <td>4805</td>\n",
       "      <td>5007</td>\n",
       "      <td>4410.5</td>\n",
       "      <td>4141.0</td>\n",
       "      <td>4433.5</td>\n",
       "      <td>4906.0</td>\n",
       "      <td>4804.0</td>\n",
       "    </tr>\n",
       "    <tr>\n",
       "      <th>was</th>\n",
       "      <td>4590</td>\n",
       "      <td>3897</td>\n",
       "      <td>4023</td>\n",
       "      <td>4735</td>\n",
       "      <td>5021</td>\n",
       "      <td>4243.5</td>\n",
       "      <td>3960.0</td>\n",
       "      <td>4379.0</td>\n",
       "      <td>4878.0</td>\n",
       "      <td>4805.5</td>\n",
       "    </tr>\n",
       "  </tbody>\n",
       "</table>\n",
       "</div>"
      ],
      "text/plain": [
       "       pg    sg    sf    pf     c   pg_sg   sg_sf   sf_pf    pf_c    c_pg\n",
       "bos  4696  4009  4155  4782  4999  4352.5  4082.0  4468.5  4890.5  4847.5\n",
       "bkn  5143  4357  4416  4960  5317  4750.0  4386.5  4688.0  5138.5  5230.0\n",
       "cha  4686  4149  4098  4629  5129  4417.5  4123.5  4363.5  4879.0  4907.5\n",
       "den  4982  4326  3998  4671  5021  4654.0  4162.0  4334.5  4846.0  5001.5\n",
       "gsw  4484  3967  4060  4671  4994  4225.5  4013.5  4365.5  4832.5  4739.0\n",
       "hou  4827  4152  4173  4787  5364  4489.5  4162.5  4480.0  5075.5  5095.5\n",
       "lal  5031  4082  4347  5061  5484  4556.5  4214.5  4704.0  5272.5  5257.5\n",
       "mil  4443  4002  4127  4543  4988  4222.5  4064.5  4335.0  4765.5  4715.5\n",
       "min  4608  4088  3964  4361  5130  4348.0  4026.0  4162.5  4745.5  4869.0\n",
       "nop  4860  4193  4045  4711  5098  4526.5  4119.0  4378.0  4904.5  4979.0\n",
       "nyk  4526  4133  4078  4677  5201  4329.5  4105.5  4377.5  4939.0  4863.5\n",
       "orl  4967  4138  4091  4713  5118  4552.5  4114.5  4402.0  4915.5  5042.5\n",
       "phi  4619  4095  4139  4590  5180  4357.0  4117.0  4364.5  4885.0  4899.5\n",
       "pho  4938  4231  4059  4838  5180  4584.5  4145.0  4448.5  5009.0  5059.0\n",
       "por  4531  3966  4070  4948  5128  4248.5  4018.0  4509.0  5038.0  4829.5\n",
       "sac  4601  4220  4062  4805  5007  4410.5  4141.0  4433.5  4906.0  4804.0\n",
       "was  4590  3897  4023  4735  5021  4243.5  3960.0  4379.0  4878.0  4805.5"
      ]
     },
     "execution_count": 206,
     "metadata": {},
     "output_type": "execute_result"
    }
   ],
   "source": [
    "# Creating a dataframe with the teams who allow more fantasy points to centers then the mean. \n",
    "# Also, creating a percentage of teams who allow more fantasy points to centers then the mean.\n",
    "c_above_mid = len(fp.ix[lambda df: fp['c'] > c_avg, :])\n",
    "print(c_above_mid)\n",
    "print(c_above_mid / 30)\n",
    "fp.ix[lambda df: fp['c'] > c_avg, :]"
   ]
  },
  {
   "cell_type": "code",
   "execution_count": 205,
   "metadata": {
    "collapsed": false
   },
   "outputs": [
    {
     "name": "stdout",
     "output_type": "stream",
     "text": [
      "16\n",
      "0.533333333333\n"
     ]
    },
    {
     "data": {
      "text/html": [
       "<div>\n",
       "<table border=\"1\" class=\"dataframe\">\n",
       "  <thead>\n",
       "    <tr style=\"text-align: right;\">\n",
       "      <th></th>\n",
       "      <th>pg</th>\n",
       "      <th>sg</th>\n",
       "      <th>sf</th>\n",
       "      <th>pf</th>\n",
       "      <th>c</th>\n",
       "      <th>pg_sg</th>\n",
       "      <th>sg_sf</th>\n",
       "      <th>sf_pf</th>\n",
       "      <th>pf_c</th>\n",
       "      <th>c_pg</th>\n",
       "    </tr>\n",
       "  </thead>\n",
       "  <tbody>\n",
       "    <tr>\n",
       "      <th>bos</th>\n",
       "      <td>4696</td>\n",
       "      <td>4009</td>\n",
       "      <td>4155</td>\n",
       "      <td>4782</td>\n",
       "      <td>4999</td>\n",
       "      <td>4352.5</td>\n",
       "      <td>4082.0</td>\n",
       "      <td>4468.5</td>\n",
       "      <td>4890.5</td>\n",
       "      <td>4847.5</td>\n",
       "    </tr>\n",
       "    <tr>\n",
       "      <th>bkn</th>\n",
       "      <td>5143</td>\n",
       "      <td>4357</td>\n",
       "      <td>4416</td>\n",
       "      <td>4960</td>\n",
       "      <td>5317</td>\n",
       "      <td>4750.0</td>\n",
       "      <td>4386.5</td>\n",
       "      <td>4688.0</td>\n",
       "      <td>5138.5</td>\n",
       "      <td>5230.0</td>\n",
       "    </tr>\n",
       "    <tr>\n",
       "      <th>cha</th>\n",
       "      <td>4686</td>\n",
       "      <td>4149</td>\n",
       "      <td>4098</td>\n",
       "      <td>4629</td>\n",
       "      <td>5129</td>\n",
       "      <td>4417.5</td>\n",
       "      <td>4123.5</td>\n",
       "      <td>4363.5</td>\n",
       "      <td>4879.0</td>\n",
       "      <td>4907.5</td>\n",
       "    </tr>\n",
       "    <tr>\n",
       "      <th>den</th>\n",
       "      <td>4982</td>\n",
       "      <td>4326</td>\n",
       "      <td>3998</td>\n",
       "      <td>4671</td>\n",
       "      <td>5021</td>\n",
       "      <td>4654.0</td>\n",
       "      <td>4162.0</td>\n",
       "      <td>4334.5</td>\n",
       "      <td>4846.0</td>\n",
       "      <td>5001.5</td>\n",
       "    </tr>\n",
       "    <tr>\n",
       "      <th>gsw</th>\n",
       "      <td>4484</td>\n",
       "      <td>3967</td>\n",
       "      <td>4060</td>\n",
       "      <td>4671</td>\n",
       "      <td>4994</td>\n",
       "      <td>4225.5</td>\n",
       "      <td>4013.5</td>\n",
       "      <td>4365.5</td>\n",
       "      <td>4832.5</td>\n",
       "      <td>4739.0</td>\n",
       "    </tr>\n",
       "    <tr>\n",
       "      <th>hou</th>\n",
       "      <td>4827</td>\n",
       "      <td>4152</td>\n",
       "      <td>4173</td>\n",
       "      <td>4787</td>\n",
       "      <td>5364</td>\n",
       "      <td>4489.5</td>\n",
       "      <td>4162.5</td>\n",
       "      <td>4480.0</td>\n",
       "      <td>5075.5</td>\n",
       "      <td>5095.5</td>\n",
       "    </tr>\n",
       "    <tr>\n",
       "      <th>ind</th>\n",
       "      <td>4581</td>\n",
       "      <td>3918</td>\n",
       "      <td>4290</td>\n",
       "      <td>4681</td>\n",
       "      <td>4937</td>\n",
       "      <td>4249.5</td>\n",
       "      <td>4104.0</td>\n",
       "      <td>4485.5</td>\n",
       "      <td>4809.0</td>\n",
       "      <td>4759.0</td>\n",
       "    </tr>\n",
       "    <tr>\n",
       "      <th>lal</th>\n",
       "      <td>5031</td>\n",
       "      <td>4082</td>\n",
       "      <td>4347</td>\n",
       "      <td>5061</td>\n",
       "      <td>5484</td>\n",
       "      <td>4556.5</td>\n",
       "      <td>4214.5</td>\n",
       "      <td>4704.0</td>\n",
       "      <td>5272.5</td>\n",
       "      <td>5257.5</td>\n",
       "    </tr>\n",
       "    <tr>\n",
       "      <th>nop</th>\n",
       "      <td>4860</td>\n",
       "      <td>4193</td>\n",
       "      <td>4045</td>\n",
       "      <td>4711</td>\n",
       "      <td>5098</td>\n",
       "      <td>4526.5</td>\n",
       "      <td>4119.0</td>\n",
       "      <td>4378.0</td>\n",
       "      <td>4904.5</td>\n",
       "      <td>4979.0</td>\n",
       "    </tr>\n",
       "    <tr>\n",
       "      <th>nyk</th>\n",
       "      <td>4526</td>\n",
       "      <td>4133</td>\n",
       "      <td>4078</td>\n",
       "      <td>4677</td>\n",
       "      <td>5201</td>\n",
       "      <td>4329.5</td>\n",
       "      <td>4105.5</td>\n",
       "      <td>4377.5</td>\n",
       "      <td>4939.0</td>\n",
       "      <td>4863.5</td>\n",
       "    </tr>\n",
       "    <tr>\n",
       "      <th>orl</th>\n",
       "      <td>4967</td>\n",
       "      <td>4138</td>\n",
       "      <td>4091</td>\n",
       "      <td>4713</td>\n",
       "      <td>5118</td>\n",
       "      <td>4552.5</td>\n",
       "      <td>4114.5</td>\n",
       "      <td>4402.0</td>\n",
       "      <td>4915.5</td>\n",
       "      <td>5042.5</td>\n",
       "    </tr>\n",
       "    <tr>\n",
       "      <th>phi</th>\n",
       "      <td>4619</td>\n",
       "      <td>4095</td>\n",
       "      <td>4139</td>\n",
       "      <td>4590</td>\n",
       "      <td>5180</td>\n",
       "      <td>4357.0</td>\n",
       "      <td>4117.0</td>\n",
       "      <td>4364.5</td>\n",
       "      <td>4885.0</td>\n",
       "      <td>4899.5</td>\n",
       "    </tr>\n",
       "    <tr>\n",
       "      <th>pho</th>\n",
       "      <td>4938</td>\n",
       "      <td>4231</td>\n",
       "      <td>4059</td>\n",
       "      <td>4838</td>\n",
       "      <td>5180</td>\n",
       "      <td>4584.5</td>\n",
       "      <td>4145.0</td>\n",
       "      <td>4448.5</td>\n",
       "      <td>5009.0</td>\n",
       "      <td>5059.0</td>\n",
       "    </tr>\n",
       "    <tr>\n",
       "      <th>por</th>\n",
       "      <td>4531</td>\n",
       "      <td>3966</td>\n",
       "      <td>4070</td>\n",
       "      <td>4948</td>\n",
       "      <td>5128</td>\n",
       "      <td>4248.5</td>\n",
       "      <td>4018.0</td>\n",
       "      <td>4509.0</td>\n",
       "      <td>5038.0</td>\n",
       "      <td>4829.5</td>\n",
       "    </tr>\n",
       "    <tr>\n",
       "      <th>sac</th>\n",
       "      <td>4601</td>\n",
       "      <td>4220</td>\n",
       "      <td>4062</td>\n",
       "      <td>4805</td>\n",
       "      <td>5007</td>\n",
       "      <td>4410.5</td>\n",
       "      <td>4141.0</td>\n",
       "      <td>4433.5</td>\n",
       "      <td>4906.0</td>\n",
       "      <td>4804.0</td>\n",
       "    </tr>\n",
       "    <tr>\n",
       "      <th>was</th>\n",
       "      <td>4590</td>\n",
       "      <td>3897</td>\n",
       "      <td>4023</td>\n",
       "      <td>4735</td>\n",
       "      <td>5021</td>\n",
       "      <td>4243.5</td>\n",
       "      <td>3960.0</td>\n",
       "      <td>4379.0</td>\n",
       "      <td>4878.0</td>\n",
       "      <td>4805.5</td>\n",
       "    </tr>\n",
       "  </tbody>\n",
       "</table>\n",
       "</div>"
      ],
      "text/plain": [
       "       pg    sg    sf    pf     c   pg_sg   sg_sf   sf_pf    pf_c    c_pg\n",
       "bos  4696  4009  4155  4782  4999  4352.5  4082.0  4468.5  4890.5  4847.5\n",
       "bkn  5143  4357  4416  4960  5317  4750.0  4386.5  4688.0  5138.5  5230.0\n",
       "cha  4686  4149  4098  4629  5129  4417.5  4123.5  4363.5  4879.0  4907.5\n",
       "den  4982  4326  3998  4671  5021  4654.0  4162.0  4334.5  4846.0  5001.5\n",
       "gsw  4484  3967  4060  4671  4994  4225.5  4013.5  4365.5  4832.5  4739.0\n",
       "hou  4827  4152  4173  4787  5364  4489.5  4162.5  4480.0  5075.5  5095.5\n",
       "ind  4581  3918  4290  4681  4937  4249.5  4104.0  4485.5  4809.0  4759.0\n",
       "lal  5031  4082  4347  5061  5484  4556.5  4214.5  4704.0  5272.5  5257.5\n",
       "nop  4860  4193  4045  4711  5098  4526.5  4119.0  4378.0  4904.5  4979.0\n",
       "nyk  4526  4133  4078  4677  5201  4329.5  4105.5  4377.5  4939.0  4863.5\n",
       "orl  4967  4138  4091  4713  5118  4552.5  4114.5  4402.0  4915.5  5042.5\n",
       "phi  4619  4095  4139  4590  5180  4357.0  4117.0  4364.5  4885.0  4899.5\n",
       "pho  4938  4231  4059  4838  5180  4584.5  4145.0  4448.5  5009.0  5059.0\n",
       "por  4531  3966  4070  4948  5128  4248.5  4018.0  4509.0  5038.0  4829.5\n",
       "sac  4601  4220  4062  4805  5007  4410.5  4141.0  4433.5  4906.0  4804.0\n",
       "was  4590  3897  4023  4735  5021  4243.5  3960.0  4379.0  4878.0  4805.5"
      ]
     },
     "execution_count": 205,
     "metadata": {},
     "output_type": "execute_result"
    }
   ],
   "source": [
    "# Creating a dataframe with the teams who allow more fantasy points to both power forwards and centers then the mean. \n",
    "# Also, creating a percentage of teams who allow more fantasy points to power forwards and centers then the mean.\n",
    "pf_c_above_mid = len(fp.ix[lambda df: fp['pf_c'] > group_4, :])\n",
    "print(pf_c_above_mid)\n",
    "print(pf_c_above_mid / 30)\n",
    "fp.ix[lambda df: fp['pf_c'] > group_4, :]"
   ]
  },
  {
   "cell_type": "code",
   "execution_count": 208,
   "metadata": {
    "collapsed": false
   },
   "outputs": [
    {
     "name": "stdout",
     "output_type": "stream",
     "text": [
      "[428, 488]\n",
      "[523, 336]\n",
      "[541, 356]\n",
      "[436, 451]\n",
      "[709, 514]\n"
     ]
    }
   ],
   "source": [
    "pg_floor = [(pg_avg - min(fp['pg'])), (max(fp['pg']) - pg_avg)]  \n",
    "print(pg_floor)\n",
    "sg_floor = [(sg_avg - min(fp['sg'])), (max(fp['sg']) - sg_avg)] \n",
    "print(sg_floor)\n",
    "sf_floor = [(sf_avg - min(fp['sf'])), (max(fp['sf']) - sf_avg)]  \n",
    "print(sf_floor)\n",
    "pf_floor = [(pf_avg - min(fp['pf'])), (max(fp['pf']) - pf_avg)]\n",
    "print(pf_floor)\n",
    "c_floor = [(c_avg - min(fp['c'])), (max(fp['c']) - c_avg)]\n",
    "print(c_floor)"
   ]
  },
  {
   "cell_type": "code",
   "execution_count": 209,
   "metadata": {
    "collapsed": false
   },
   "outputs": [
    {
     "name": "stdout",
     "output_type": "stream",
     "text": [
      "1.14018691589\n",
      "0.642447418738\n",
      "0.658040665434\n",
      "1.03440366972\n",
      "0.724964739069\n"
     ]
    }
   ],
   "source": [
    "# Calculating the risk/reward above position mean metric\n",
    "def risk_calculator(pg_floor):\n",
    "    x = pg_floor[1]\n",
    "    y = pg_floor[0]\n",
    "    risk = x / y\n",
    "    return risk\n",
    "pg_risk = risk_calculator(pg_floor)\n",
    "print(pg_risk)\n",
    "sg_risk = risk_calculator(sg_floor)\n",
    "print(sg_risk)\n",
    "sf_risk = risk_calculator(sf_floor)\n",
    "print(sf_risk)\n",
    "pf_risk = risk_calculator(pf_floor)\n",
    "print(pf_risk)\n",
    "c_risk = risk_calculator(c_floor)\n",
    "print(c_risk)"
   ]
  },
  {
   "cell_type": "code",
   "execution_count": 210,
   "metadata": {
    "collapsed": false
   },
   "outputs": [
    {
     "name": "stdout",
     "output_type": "stream",
     "text": [
      "916\n",
      "859\n",
      "897\n",
      "887\n",
      "1223\n"
     ]
    }
   ],
   "source": [
    "# Calculating the difference between the ceilings and floors of each position\n",
    "def score_difference(pg_floor):\n",
    "    x = pg_floor[1]\n",
    "    y = pg_floor[0]\n",
    "    diff = x + y\n",
    "    return diff\n",
    "pg_diff = score_difference(pg_floor)\n",
    "print(pg_diff)\n",
    "sg_diff = score_difference(sg_floor)\n",
    "print(sg_diff)\n",
    "sf_diff = score_difference(sf_floor)\n",
    "print(sf_diff)\n",
    "pf_diff = score_difference(pf_floor)\n",
    "print(pf_diff)\n",
    "c_diff = score_difference(c_floor)\n",
    "print(c_diff)"
   ]
  },
  {
   "cell_type": "code",
   "execution_count": 213,
   "metadata": {
    "collapsed": false
   },
   "outputs": [
    {
     "name": "stdout",
     "output_type": "stream",
     "text": [
      "0.228037383178\n",
      "0.0856596558317\n",
      "0.0877387553913\n",
      "0.137920489297\n",
      "0.0724964739069\n"
     ]
    }
   ],
   "source": [
    "# Creating a metric, aggression, that combines the percentage of number of teams that allow more then one STD \n",
    "# above the mean with the risk/reward above position mean metric. \n",
    "pgm = (pg_tip_tot / 30) * pg_risk\n",
    "print(pgm)\n",
    "sgm = (sg_tip_tot / 30) * sg_risk\n",
    "print(sgm)\n",
    "sfm = (sf_tip_tot / 30) * sf_risk\n",
    "print(sfm)\n",
    "pfm = (pf_tip_tot / 30) * pf_risk\n",
    "print(pfm)\n",
    "cm = (c_tip_tot / 30) * c_risk\n",
    "print(cm)"
   ]
  },
  {
   "cell_type": "code",
   "execution_count": 215,
   "metadata": {
    "collapsed": false
   },
   "outputs": [
    {
     "name": "stdout",
     "output_type": "stream",
     "text": [
      "1.04302038987\n",
      "0.900963477482\n",
      "0.909701994174\n",
      "1.032937486\n",
      "1.11360071701\n"
     ]
    }
   ],
   "source": [
    "# Determines the value of each position as far as expected points contributed\n",
    "pg_pri = pg_avg / group_11\n",
    "print(pg_pri)\n",
    "sg_pri = sg_avg / group_11\n",
    "print(sg_pri)\n",
    "sf_pri = sf_avg / group_11\n",
    "print(sf_pri)\n",
    "pf_pri = pf_avg / group_11\n",
    "print(pf_pri)\n",
    "c_pri = c_avg / group_11\n",
    "print(c_pri)"
   ]
  },
  {
   "cell_type": "code",
   "execution_count": 217,
   "metadata": {
    "collapsed": false
   },
   "outputs": [
    {
     "name": "stdout",
     "output_type": "stream",
     "text": [
      "0.237847640307\n",
      "0.077176221398\n",
      "0.0798161207458\n",
      "0.142463243481\n",
      "0.0807321253232\n"
     ]
    }
   ],
   "source": [
    "# Combines the aggression metric with the value of position to give us an order of importance\n",
    "pgv = pg_pri * pgm\n",
    "print(pgv)\n",
    "sgv = sg_pri * sgm\n",
    "print(sgv)\n",
    "sfv = sf_pri * sfm\n",
    "print(sfv)\n",
    "pfv = pf_pri * pfm\n",
    "print(pfv)\n",
    "cv = c_pri * cm\n",
    "print(cv)"
   ]
  },
  {
   "cell_type": "code",
   "execution_count": null,
   "metadata": {
    "collapsed": true
   },
   "outputs": [],
   "source": []
  }
 ],
 "metadata": {
  "kernelspec": {
   "display_name": "Python 2",
   "language": "python",
   "name": "python2"
  },
  "language_info": {
   "codemirror_mode": {
    "name": "ipython",
    "version": 2
   },
   "file_extension": ".py",
   "mimetype": "text/x-python",
   "name": "python",
   "nbconvert_exporter": "python",
   "pygments_lexer": "ipython2",
   "version": "2.7.13"
  }
 },
 "nbformat": 4,
 "nbformat_minor": 2
}
