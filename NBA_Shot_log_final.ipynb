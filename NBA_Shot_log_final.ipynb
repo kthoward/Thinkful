{
 "cells": [
  {
   "cell_type": "code",
   "execution_count": 38,
   "metadata": {},
   "outputs": [
    {
     "data": {
      "text/plain": [
       "'/Users/kylehoward/Desktop/Thinkful/Thinkful-2/Capstone_1'"
      ]
     },
     "execution_count": 38,
     "metadata": {},
     "output_type": "execute_result"
    }
   ],
   "source": [
    "from sklearn.model_selection import cross_val_score\n",
    "from sklearn import neighbors\n",
    "from sklearn.svm import SVC\n",
    "import pandas as pd\n",
    "import numpy as np\n",
    "import scipy\n",
    "import matplotlib.pyplot as plt\n",
    "%matplotlib inline\n",
    "from scipy import stats\n",
    "import os\n",
    "from sklearn.metrics import confusion_matrix\n",
    "from sklearn.model_selection import StratifiedKFold\n",
    "from sklearn.metrics import roc_curve, auc\n",
    "from sklearn.metrics import roc_auc_score\n",
    "from statsmodels.sandbox.regression.predstd import wls_prediction_std\n",
    "from sklearn import linear_model\n",
    "import seaborn as sns\n",
    "import statsmodels.formula.api as smf\n",
    "from IPython.display import display\n",
    "import sklearn\n",
    "from sklearn.preprocessing import normalize\n",
    "import math\n",
    "import statsmodels.api as sm\n",
    "from sklearn import ensemble\n",
    "from sklearn.linear_model import LogisticRegression\n",
    "from sklearn import preprocessing\n",
    "from sklearn import tree\n",
    "from IPython.display import Image\n",
    "import pydotplus\n",
    "import graphviz\n",
    "os.getcwd()\n",
    "os.chdir('/Users/kylehoward/desktop/thinkful/thinkful-2/capstone_1') \n",
    "os.getcwd()"
   ]
  },
  {
   "cell_type": "code",
   "execution_count": 39,
   "metadata": {},
   "outputs": [
    {
     "data": {
      "text/plain": [
       "<bound method NDFrame.describe of         FINAL_MARGIN  SHOT_NUMBER  PERIOD GAME_CLOCK  SHOT_CLOCK  DRIBBLES  \\\n",
       "0                 24            1       1       1:09        10.8         2   \n",
       "1                 24            2       1       0:14         3.4         0   \n",
       "2                 24            3       1       0:00         NaN         3   \n",
       "3                 24            4       2      11:47        10.3         2   \n",
       "4                 24            5       2      10:34        10.9         2   \n",
       "5                 24            6       2       8:15         9.1         2   \n",
       "6                 24            7       4      10:15        14.5        11   \n",
       "7                 24            8       4       8:00         3.4         3   \n",
       "8                 24            9       4       5:14        12.4         0   \n",
       "9                  1            1       2      11:32        17.4         0   \n",
       "10                 1            2       2       6:30        16.0         8   \n",
       "11                 1            3       4      11:32        12.1        14   \n",
       "12                 1            4       4       8:55         4.3         2   \n",
       "13                15            1       4       9:10         4.4         0   \n",
       "14                -8            1       1       0:48         6.8         0   \n",
       "15                -8            2       2      10:38         6.4         3   \n",
       "16                -8            3       2       8:27        17.6         6   \n",
       "17                -8            4       4      10:55         8.7         1   \n",
       "18                -8            5       4      10:29        20.8         0   \n",
       "19                12            1       1       3:35        17.5         2   \n",
       "20                12            2       1       0:33        19.5         5   \n",
       "21                12            3       2       8:50         6.0         6   \n",
       "22                12            4       2       8:24        15.7         0   \n",
       "23                12            5       2       5:32        11.2        16   \n",
       "24                12            6       2       0:04         NaN         0   \n",
       "25                12            7       4      10:13        17.1         7   \n",
       "26                12            8       4       5:34        15.4         1   \n",
       "27               -11            1       1       2:25        12.3         0   \n",
       "28               -11            2       2       9:08        18.2         7   \n",
       "29               -11            3       2       8:53        11.9         1   \n",
       "...              ...          ...     ...        ...         ...       ...   \n",
       "128039            11            2       2       9:05         7.9         6   \n",
       "128040            11            3       4      11:13         8.8         0   \n",
       "128041            11            4       4       4:23        10.3         3   \n",
       "128042            11            5       4       0:06         4.0        20   \n",
       "128043            -7            1       2      11:48        12.1        16   \n",
       "128044            -7            2       2      10:05         8.4         3   \n",
       "128045            -7            3       2       9:34         9.0         0   \n",
       "128046            -7            4       3       4:01        19.3         2   \n",
       "128047            -7            5       3       3:05         7.3         6   \n",
       "128048            -7            6       4      11:01         9.0         0   \n",
       "128049            -7            7       4       7:27        11.0         2   \n",
       "128050            -7            8       4       6:41        22.7         1   \n",
       "128051            31            2       1       0:16         NaN         3   \n",
       "128052            31            3       2      10:29        19.3         2   \n",
       "128053            31            4       3       6:15         3.2         5   \n",
       "128054            31            5       3       3:17         4.1         2   \n",
       "128055            31            6       4      11:22        13.8         0   \n",
       "128056            12            1       1       1:50         7.1         2   \n",
       "128057            12            2       2      10:02         7.3         0   \n",
       "128058            12            3       4      10:57        14.3         2   \n",
       "128059            12            4       4       8:34        19.8         0   \n",
       "128060           -16            1       1       1:59        11.4        16   \n",
       "128061           -16            2       2      10:10        19.0         0   \n",
       "128062           -16            3       2       7:46         7.0         1   \n",
       "128063           -16            4       2       5:05        15.3         2   \n",
       "128064           -16            5       3       1:52        18.3         5   \n",
       "128065           -16            6       4      11:28        19.8         4   \n",
       "128066           -16            7       4      11:10        23.0         2   \n",
       "128067           -16            8       4       2:37         9.1         4   \n",
       "128068           -16            9       4       0:12         NaN         5   \n",
       "\n",
       "        TOUCH_TIME  SHOT_DIST  PTS_TYPE SHOT_RESULT  CLOSE_DEF_DIST  FGM  PTS  \\\n",
       "0              1.9        7.7         2        made             1.3    1    2   \n",
       "1              0.8       28.2         3      missed             6.1    0    0   \n",
       "2              2.7       10.1         2      missed             0.9    0    0   \n",
       "3              1.9       17.2         2      missed             3.4    0    0   \n",
       "4              2.7        3.7         2      missed             1.1    0    0   \n",
       "5              4.4       18.4         2      missed             2.6    0    0   \n",
       "6              9.0       20.7         2      missed             6.1    0    0   \n",
       "7              2.5        3.5         2        made             2.1    1    2   \n",
       "8              0.8       24.6         3      missed             7.3    0    0   \n",
       "9              1.1       22.4         3      missed            19.8    0    0   \n",
       "10             7.5       24.5         3      missed             4.7    0    0   \n",
       "11            11.9       14.6         2        made             1.8    1    2   \n",
       "12             2.9        5.9         2        made             5.4    1    2   \n",
       "13             0.8       26.4         3      missed             4.4    0    0   \n",
       "14             0.5       22.8         3      missed             5.3    0    0   \n",
       "15             2.7       24.7         3        made             5.6    1    3   \n",
       "16             5.1       25.0         3      missed             5.4    0    0   \n",
       "17             0.9       25.6         3      missed             5.1    0    0   \n",
       "18             1.2       24.2         3        made            11.1    1    3   \n",
       "19             2.2       25.4         3      missed             3.5    0    0   \n",
       "20             4.4       19.1         2        made             4.0    1    2   \n",
       "21             7.4       14.8         2        made             5.4    1    2   \n",
       "22             0.7       25.2         3      missed             3.7    0    0   \n",
       "23            13.4       22.8         3        made             5.1    1    3   \n",
       "24             0.7       25.2         3      missed             3.6    0    0   \n",
       "25             7.2       24.6         3        made             6.0    1    3   \n",
       "26             1.6       10.6         2        made             0.7    1    2   \n",
       "27             0.8       20.2         2      missed             3.5    0    0   \n",
       "28             5.2       24.9         3      missed             4.5    0    0   \n",
       "29             2.1        8.3         2      missed             3.5    0    0   \n",
       "...            ...        ...       ...         ...             ...  ...  ...   \n",
       "128039         6.3       10.7         2      missed             1.2    0    0   \n",
       "128040         0.5        2.5         2      missed             5.1    0    0   \n",
       "128041         2.1        7.5         2        made             0.9    1    2   \n",
       "128042        20.4        6.8         2        made             0.9    1    2   \n",
       "128043        12.0       16.2         2        made             2.5    1    2   \n",
       "128044         3.2       17.7         2      missed             1.8    0    0   \n",
       "128045         0.0        3.6         2      missed             1.5    0    0   \n",
       "128046         1.9       17.0         2      missed             3.6    0    0   \n",
       "128047         6.9       15.5         2        made             2.4    1    2   \n",
       "128048         1.0       20.2         2        made            11.1    1    2   \n",
       "128049         2.2        9.4         2        made             6.0    1    2   \n",
       "128050         2.0        2.3         2        made             7.7    1    2   \n",
       "128051         3.7        2.6         2        made             5.4    1    2   \n",
       "128052         3.2       18.9         2      missed             3.8    0    0   \n",
       "128053         5.1       13.7         2      missed             2.8    0    0   \n",
       "128054         2.1       11.1         2      missed             4.2    0    0   \n",
       "128055         0.6        5.1         2      missed             2.1    0    0   \n",
       "128056         2.3       15.5         2      missed             3.1    0    0   \n",
       "128057         1.0       22.1         3      missed             2.9    0    0   \n",
       "128058         2.0       18.2         2        made             1.1    1    2   \n",
       "128059         0.8       22.7         3      missed             4.0    0    0   \n",
       "128060        12.4       12.6         2      missed             4.8    0    0   \n",
       "128061        -0.2        7.4         2      missed             2.7    0    0   \n",
       "128062         1.7       14.5         2        made             3.1    1    2   \n",
       "128063         1.6        8.9         2        made             5.7    1    2   \n",
       "128064         6.2        8.7         2      missed             0.8    0    0   \n",
       "128065         5.2        0.6         2        made             0.6    1    2   \n",
       "128066         4.2       16.9         2        made             4.2    1    2   \n",
       "128067         4.5       18.3         2      missed             3.0    0    0   \n",
       "128068         4.7        5.1         2        made             2.3    1    2   \n",
       "\n",
       "        player_id  \n",
       "0          203148  \n",
       "1          203148  \n",
       "2          203148  \n",
       "3          203148  \n",
       "4          203148  \n",
       "5          203148  \n",
       "6          203148  \n",
       "7          203148  \n",
       "8          203148  \n",
       "9          203148  \n",
       "10         203148  \n",
       "11         203148  \n",
       "12         203148  \n",
       "13         203148  \n",
       "14         203148  \n",
       "15         203148  \n",
       "16         203148  \n",
       "17         203148  \n",
       "18         203148  \n",
       "19         203148  \n",
       "20         203148  \n",
       "21         203148  \n",
       "22         203148  \n",
       "23         203148  \n",
       "24         203148  \n",
       "25         203148  \n",
       "26         203148  \n",
       "27         203148  \n",
       "28         203148  \n",
       "29         203148  \n",
       "...           ...  \n",
       "128039     101127  \n",
       "128040     101127  \n",
       "128041     101127  \n",
       "128042     101127  \n",
       "128043     101127  \n",
       "128044     101127  \n",
       "128045     101127  \n",
       "128046     101127  \n",
       "128047     101127  \n",
       "128048     101127  \n",
       "128049     101127  \n",
       "128050     101127  \n",
       "128051     101127  \n",
       "128052     101127  \n",
       "128053     101127  \n",
       "128054     101127  \n",
       "128055     101127  \n",
       "128056     101127  \n",
       "128057     101127  \n",
       "128058     101127  \n",
       "128059     101127  \n",
       "128060     101127  \n",
       "128061     101127  \n",
       "128062     101127  \n",
       "128063     101127  \n",
       "128064     101127  \n",
       "128065     101127  \n",
       "128066     101127  \n",
       "128067     101127  \n",
       "128068     101127  \n",
       "\n",
       "[128069 rows x 14 columns]>"
      ]
     },
     "execution_count": 39,
     "metadata": {},
     "output_type": "execute_result"
    }
   ],
   "source": [
    "data = (\"shot_logs.csv\")\n",
    "df = pd.read_csv(data, usecols=[4,5,6,7,8,9,10,11,12,13,16,17,18,20])\n",
    "df.describe"
   ]
  },
  {
   "cell_type": "code",
   "execution_count": 40,
   "metadata": {
    "collapsed": true
   },
   "outputs": [],
   "source": [
    "df = df.dropna()"
   ]
  },
  {
   "cell_type": "code",
   "execution_count": 41,
   "metadata": {},
   "outputs": [
    {
     "data": {
      "text/html": [
       "<div>\n",
       "<style>\n",
       "    .dataframe thead tr:only-child th {\n",
       "        text-align: right;\n",
       "    }\n",
       "\n",
       "    .dataframe thead th {\n",
       "        text-align: left;\n",
       "    }\n",
       "\n",
       "    .dataframe tbody tr th {\n",
       "        vertical-align: top;\n",
       "    }\n",
       "</style>\n",
       "<table border=\"1\" class=\"dataframe\">\n",
       "  <thead>\n",
       "    <tr style=\"text-align: right;\">\n",
       "      <th></th>\n",
       "      <th>FINAL_MARGIN</th>\n",
       "      <th>SHOT_NUMBER</th>\n",
       "      <th>PERIOD</th>\n",
       "      <th>SHOT_CLOCK</th>\n",
       "      <th>DRIBBLES</th>\n",
       "      <th>TOUCH_TIME</th>\n",
       "      <th>SHOT_DIST</th>\n",
       "      <th>PTS_TYPE</th>\n",
       "      <th>CLOSE_DEF_DIST</th>\n",
       "      <th>FGM</th>\n",
       "      <th>PTS</th>\n",
       "      <th>player_id</th>\n",
       "    </tr>\n",
       "  </thead>\n",
       "  <tbody>\n",
       "    <tr>\n",
       "      <th>count</th>\n",
       "      <td>122502.000000</td>\n",
       "      <td>122502.000000</td>\n",
       "      <td>122502.000000</td>\n",
       "      <td>122502.000000</td>\n",
       "      <td>122502.000000</td>\n",
       "      <td>122502.000000</td>\n",
       "      <td>122502.000000</td>\n",
       "      <td>122502.000000</td>\n",
       "      <td>122502.000000</td>\n",
       "      <td>122502.000000</td>\n",
       "      <td>122502.000000</td>\n",
       "      <td>122502.000000</td>\n",
       "    </tr>\n",
       "    <tr>\n",
       "      <th>mean</th>\n",
       "      <td>0.252396</td>\n",
       "      <td>6.476164</td>\n",
       "      <td>2.471454</td>\n",
       "      <td>12.453344</td>\n",
       "      <td>1.989233</td>\n",
       "      <td>2.748202</td>\n",
       "      <td>13.443758</td>\n",
       "      <td>2.258363</td>\n",
       "      <td>4.121706</td>\n",
       "      <td>0.456156</td>\n",
       "      <td>1.005469</td>\n",
       "      <td>157334.912965</td>\n",
       "    </tr>\n",
       "    <tr>\n",
       "      <th>std</th>\n",
       "      <td>13.311418</td>\n",
       "      <td>4.681245</td>\n",
       "      <td>1.137898</td>\n",
       "      <td>5.763265</td>\n",
       "      <td>3.411188</td>\n",
       "      <td>2.957237</td>\n",
       "      <td>8.777113</td>\n",
       "      <td>0.437736</td>\n",
       "      <td>2.751587</td>\n",
       "      <td>0.498076</td>\n",
       "      <td>1.131129</td>\n",
       "      <td>79304.953702</td>\n",
       "    </tr>\n",
       "    <tr>\n",
       "      <th>min</th>\n",
       "      <td>-53.000000</td>\n",
       "      <td>1.000000</td>\n",
       "      <td>1.000000</td>\n",
       "      <td>0.000000</td>\n",
       "      <td>0.000000</td>\n",
       "      <td>-100.500000</td>\n",
       "      <td>0.000000</td>\n",
       "      <td>2.000000</td>\n",
       "      <td>0.000000</td>\n",
       "      <td>0.000000</td>\n",
       "      <td>0.000000</td>\n",
       "      <td>708.000000</td>\n",
       "    </tr>\n",
       "    <tr>\n",
       "      <th>25%</th>\n",
       "      <td>-8.000000</td>\n",
       "      <td>3.000000</td>\n",
       "      <td>1.000000</td>\n",
       "      <td>8.200000</td>\n",
       "      <td>0.000000</td>\n",
       "      <td>0.900000</td>\n",
       "      <td>4.700000</td>\n",
       "      <td>2.000000</td>\n",
       "      <td>2.300000</td>\n",
       "      <td>0.000000</td>\n",
       "      <td>0.000000</td>\n",
       "      <td>101162.000000</td>\n",
       "    </tr>\n",
       "    <tr>\n",
       "      <th>50%</th>\n",
       "      <td>1.000000</td>\n",
       "      <td>5.000000</td>\n",
       "      <td>2.000000</td>\n",
       "      <td>12.300000</td>\n",
       "      <td>1.000000</td>\n",
       "      <td>1.600000</td>\n",
       "      <td>13.400000</td>\n",
       "      <td>2.000000</td>\n",
       "      <td>3.700000</td>\n",
       "      <td>0.000000</td>\n",
       "      <td>0.000000</td>\n",
       "      <td>201939.000000</td>\n",
       "    </tr>\n",
       "    <tr>\n",
       "      <th>75%</th>\n",
       "      <td>9.000000</td>\n",
       "      <td>9.000000</td>\n",
       "      <td>3.000000</td>\n",
       "      <td>16.675000</td>\n",
       "      <td>2.000000</td>\n",
       "      <td>3.700000</td>\n",
       "      <td>22.400000</td>\n",
       "      <td>3.000000</td>\n",
       "      <td>5.300000</td>\n",
       "      <td>1.000000</td>\n",
       "      <td>2.000000</td>\n",
       "      <td>202704.000000</td>\n",
       "    </tr>\n",
       "    <tr>\n",
       "      <th>max</th>\n",
       "      <td>53.000000</td>\n",
       "      <td>37.000000</td>\n",
       "      <td>7.000000</td>\n",
       "      <td>24.000000</td>\n",
       "      <td>32.000000</td>\n",
       "      <td>24.900000</td>\n",
       "      <td>43.500000</td>\n",
       "      <td>3.000000</td>\n",
       "      <td>53.200000</td>\n",
       "      <td>1.000000</td>\n",
       "      <td>3.000000</td>\n",
       "      <td>204060.000000</td>\n",
       "    </tr>\n",
       "  </tbody>\n",
       "</table>\n",
       "</div>"
      ],
      "text/plain": [
       "        FINAL_MARGIN    SHOT_NUMBER         PERIOD     SHOT_CLOCK  \\\n",
       "count  122502.000000  122502.000000  122502.000000  122502.000000   \n",
       "mean        0.252396       6.476164       2.471454      12.453344   \n",
       "std        13.311418       4.681245       1.137898       5.763265   \n",
       "min       -53.000000       1.000000       1.000000       0.000000   \n",
       "25%        -8.000000       3.000000       1.000000       8.200000   \n",
       "50%         1.000000       5.000000       2.000000      12.300000   \n",
       "75%         9.000000       9.000000       3.000000      16.675000   \n",
       "max        53.000000      37.000000       7.000000      24.000000   \n",
       "\n",
       "            DRIBBLES     TOUCH_TIME      SHOT_DIST       PTS_TYPE  \\\n",
       "count  122502.000000  122502.000000  122502.000000  122502.000000   \n",
       "mean        1.989233       2.748202      13.443758       2.258363   \n",
       "std         3.411188       2.957237       8.777113       0.437736   \n",
       "min         0.000000    -100.500000       0.000000       2.000000   \n",
       "25%         0.000000       0.900000       4.700000       2.000000   \n",
       "50%         1.000000       1.600000      13.400000       2.000000   \n",
       "75%         2.000000       3.700000      22.400000       3.000000   \n",
       "max        32.000000      24.900000      43.500000       3.000000   \n",
       "\n",
       "       CLOSE_DEF_DIST            FGM            PTS      player_id  \n",
       "count   122502.000000  122502.000000  122502.000000  122502.000000  \n",
       "mean         4.121706       0.456156       1.005469  157334.912965  \n",
       "std          2.751587       0.498076       1.131129   79304.953702  \n",
       "min          0.000000       0.000000       0.000000     708.000000  \n",
       "25%          2.300000       0.000000       0.000000  101162.000000  \n",
       "50%          3.700000       0.000000       0.000000  201939.000000  \n",
       "75%          5.300000       1.000000       2.000000  202704.000000  \n",
       "max         53.200000       1.000000       3.000000  204060.000000  "
      ]
     },
     "execution_count": 41,
     "metadata": {},
     "output_type": "execute_result"
    }
   ],
   "source": [
    "df.describe()"
   ]
  },
  {
   "cell_type": "code",
   "execution_count": 42,
   "metadata": {},
   "outputs": [
    {
     "name": "stdout",
     "output_type": "stream",
     "text": [
      "<class 'pandas.core.frame.DataFrame'>\n",
      "Int64Index: 122502 entries, 0 to 128067\n",
      "Data columns (total 14 columns):\n",
      "FINAL_MARGIN      122502 non-null int64\n",
      "SHOT_NUMBER       122502 non-null int64\n",
      "PERIOD            122502 non-null int64\n",
      "GAME_CLOCK        122502 non-null object\n",
      "SHOT_CLOCK        122502 non-null float64\n",
      "DRIBBLES          122502 non-null int64\n",
      "TOUCH_TIME        122502 non-null float64\n",
      "SHOT_DIST         122502 non-null float64\n",
      "PTS_TYPE          122502 non-null int64\n",
      "SHOT_RESULT       122502 non-null object\n",
      "CLOSE_DEF_DIST    122502 non-null float64\n",
      "FGM               122502 non-null int64\n",
      "PTS               122502 non-null int64\n",
      "player_id         122502 non-null int64\n",
      "dtypes: float64(4), int64(8), object(2)\n",
      "memory usage: 14.0+ MB\n"
     ]
    }
   ],
   "source": [
    "df.info()"
   ]
  },
  {
   "cell_type": "code",
   "execution_count": 43,
   "metadata": {},
   "outputs": [
    {
     "data": {
      "text/plain": [
       "(110124, 14)"
      ]
     },
     "execution_count": 43,
     "metadata": {},
     "output_type": "execute_result"
    }
   ],
   "source": [
    "# Converting the data types and limiting defender distance to <= 10 ft\n",
    "df['PTS_TYPE'].astype(int)\n",
    "df['SHOT_DIST'].astype(int)\n",
    "df['CLOSE_DEF_DIST'].astype(int)\n",
    "df = df[df.CLOSE_DEF_DIST <= 10]\n",
    "df = df[df.SHOT_DIST <= 25]\n",
    "\n",
    "df.shape"
   ]
  },
  {
   "cell_type": "code",
   "execution_count": 44,
   "metadata": {},
   "outputs": [
    {
     "data": {
      "text/plain": [
       "(110124, 18)"
      ]
     },
     "execution_count": 44,
     "metadata": {},
     "output_type": "execute_result"
    }
   ],
   "source": [
    "# Creating categorical features\n",
    "df['S_IS_CLOSE'] = np.where(df['SHOT_DIST']<=6, 1, 0)\n",
    "df['S_IS_SHORT'] = np.where((df['SHOT_DIST']<=12) & (df['SHOT_DIST']>6), 1, 0)\n",
    "df['S_IS_MID'] = np.where((df['SHOT_DIST']<=18) & (df['SHOT_DIST']>12), 1, 0)\n",
    "df['S_IS_LONG'] = np.where(df['SHOT_DIST']>18, 1, 0)\n",
    "df.shape"
   ]
  },
  {
   "cell_type": "code",
   "execution_count": 45,
   "metadata": {},
   "outputs": [
    {
     "name": "stdout",
     "output_type": "stream",
     "text": [
      "0         1.715135e+07\n",
      "3         1.247831e+14\n",
      "4         3.256440e+03\n",
      "5         9.859699e+15\n",
      "6         1.718056e+12\n",
      "7         1.385782e+03\n",
      "8         4.088355e+10\n",
      "10        5.555956e+17\n",
      "11        2.196252e+13\n",
      "12        8.133383e+03\n",
      "14        2.107809e+15\n",
      "15        7.821339e+15\n",
      "16        3.706345e+16\n",
      "20        7.289351e+14\n",
      "21        6.438963e+09\n",
      "23        5.450930e+15\n",
      "25        6.466597e+14\n",
      "26        1.844672e+10\n",
      "27        2.635420e+16\n",
      "28        2.722895e+18\n",
      "29        5.587028e+06\n",
      "30        6.428889e+08\n",
      "32        6.807117e+19\n",
      "33        4.945194e+06\n",
      "34        2.044141e+07\n",
      "35        7.624901e+04\n",
      "36        1.801692e+17\n",
      "37        1.632982e+04\n",
      "38        1.341069e+21\n",
      "39        2.781855e+12\n",
      "              ...     \n",
      "128036    3.313878e+11\n",
      "128037    4.781251e+01\n",
      "128038    2.926566e+18\n",
      "128039    1.276335e+10\n",
      "128040    5.314840e+01\n",
      "128041    1.558872e+07\n",
      "128042    3.322626e+06\n",
      "128043    1.499659e+14\n",
      "128044    1.494532e+16\n",
      "128045    2.217727e+03\n",
      "128046    5.070602e+13\n",
      "128047    4.493768e+13\n",
      "128049    4.564192e+05\n",
      "128050    6.791630e+00\n",
      "128052    9.466794e+14\n",
      "128053    5.564872e+11\n",
      "128054    2.978864e+08\n",
      "128055    3.783539e+04\n",
      "128056    1.004988e+13\n",
      "128057    6.498446e+18\n",
      "128058    1.900632e+17\n",
      "128059    4.613530e+17\n",
      "128060    1.051095e+09\n",
      "128061    2.446748e+06\n",
      "128062    1.456504e+12\n",
      "128063    4.343794e+05\n",
      "128064    2.426354e+08\n",
      "128065    3.835983e+00\n",
      "128066    7.978718e+12\n",
      "128067    2.919404e+15\n",
      "Name: DIST_SQR_DIST, Length: 110124, dtype: float64\n"
     ]
    }
   ],
   "source": [
    "# Creating some new features. Creating a weighted defender distance variable. \n",
    "# The only one that seemed to be of value was ['DIST_DIST']\n",
    "df['IS_THREE'] = np.where(df['PTS_TYPE']==3, 1, 0)\n",
    "df['TOUCH_TIME_SQUARED'] = df['TOUCH_TIME'] ** 2\n",
    "df['TOUCH_TIME_THIRD'] = df['TOUCH_TIME'] ** 3\n",
    "df['DISTANCE_RECIP'] = df['CLOSE_DEF_DIST'] - 10\n",
    "df['DISTANCE_RECIP'] = df['DISTANCE_RECIP'].abs()\n",
    "df['DIST_DIST'] = df['DISTANCE_RECIP'] * df['SHOT_DIST']\n",
    "df['DIST_SQR_DIST'] = df['DISTANCE_RECIP'] ** df['SHOT_DIST']\n",
    "df.fillna(0, inplace=True)\n",
    "print(df['DIST_SQR_DIST'])"
   ]
  },
  {
   "cell_type": "code",
   "execution_count": 46,
   "metadata": {},
   "outputs": [
    {
     "name": "stderr",
     "output_type": "stream",
     "text": [
      "/Users/kylehoward/Desktop/Thinkful/anaconda/lib/python3.6/site-packages/ipykernel_launcher.py:5: RuntimeWarning: divide by zero encountered in log\n",
      "  \"\"\"\n"
     ]
    },
    {
     "data": {
      "text/plain": [
       "<bound method NDFrame.head of         FINAL_MARGIN  SHOT_NUMBER  PERIOD GAME_CLOCK  SHOT_CLOCK  DRIBBLES  \\\n",
       "0                 24            1       1       1:09        10.8         2   \n",
       "3                 24            4       2      11:47        10.3         2   \n",
       "4                 24            5       2      10:34        10.9         2   \n",
       "5                 24            6       2       8:15         9.1         2   \n",
       "6                 24            7       4      10:15        14.5        11   \n",
       "7                 24            8       4       8:00         3.4         3   \n",
       "8                 24            9       4       5:14        12.4         0   \n",
       "10                 1            2       2       6:30        16.0         8   \n",
       "11                 1            3       4      11:32        12.1        14   \n",
       "12                 1            4       4       8:55         4.3         2   \n",
       "14                -8            1       1       0:48         6.8         0   \n",
       "15                -8            2       2      10:38         6.4         3   \n",
       "16                -8            3       2       8:27        17.6         6   \n",
       "20                12            2       1       0:33        19.5         5   \n",
       "21                12            3       2       8:50         6.0         6   \n",
       "23                12            5       2       5:32        11.2        16   \n",
       "25                12            7       4      10:13        17.1         7   \n",
       "26                12            8       4       5:34        15.4         1   \n",
       "27               -11            1       1       2:25        12.3         0   \n",
       "28               -11            2       2       9:08        18.2         7   \n",
       "29               -11            3       2       8:53        11.9         1   \n",
       "30               -11            4       4      11:37        11.6         2   \n",
       "32                -7            2       2       9:34         6.0         1   \n",
       "33                -7            3       4      11:34         9.9         1   \n",
       "34                -7            4       4       8:08         6.1         2   \n",
       "35               -28            1       1       8:46        16.0        10   \n",
       "36               -28            2       3       7:19        11.7         0   \n",
       "37               -28            3       4      10:58         6.5         1   \n",
       "38               -28            4       4       7:52        13.8         0   \n",
       "39               -28            5       4       1:33        12.1         0   \n",
       "...              ...          ...     ...        ...         ...       ...   \n",
       "128036             8            5       4       7:55        10.3         2   \n",
       "128037             8            6       4       7:19        11.2         0   \n",
       "128038            11            1       2       9:46        13.6         1   \n",
       "128039            11            2       2       9:05         7.9         6   \n",
       "128040            11            3       4      11:13         8.8         0   \n",
       "128041            11            4       4       4:23        10.3         3   \n",
       "128042            11            5       4       0:06         4.0        20   \n",
       "128043            -7            1       2      11:48        12.1        16   \n",
       "128044            -7            2       2      10:05         8.4         3   \n",
       "128045            -7            3       2       9:34         9.0         0   \n",
       "128046            -7            4       3       4:01        19.3         2   \n",
       "128047            -7            5       3       3:05         7.3         6   \n",
       "128049            -7            7       4       7:27        11.0         2   \n",
       "128050            -7            8       4       6:41        22.7         1   \n",
       "128052            31            3       2      10:29        19.3         2   \n",
       "128053            31            4       3       6:15         3.2         5   \n",
       "128054            31            5       3       3:17         4.1         2   \n",
       "128055            31            6       4      11:22        13.8         0   \n",
       "128056            12            1       1       1:50         7.1         2   \n",
       "128057            12            2       2      10:02         7.3         0   \n",
       "128058            12            3       4      10:57        14.3         2   \n",
       "128059            12            4       4       8:34        19.8         0   \n",
       "128060           -16            1       1       1:59        11.4        16   \n",
       "128061           -16            2       2      10:10        19.0         0   \n",
       "128062           -16            3       2       7:46         7.0         1   \n",
       "128063           -16            4       2       5:05        15.3         2   \n",
       "128064           -16            5       3       1:52        18.3         5   \n",
       "128065           -16            6       4      11:28        19.8         4   \n",
       "128066           -16            7       4      11:10        23.0         2   \n",
       "128067           -16            8       4       2:37         9.1         4   \n",
       "\n",
       "        TOUCH_TIME  SHOT_DIST  PTS_TYPE SHOT_RESULT      ...       \\\n",
       "0              1.9        7.7         2        made      ...        \n",
       "3              1.9       17.2         2      missed      ...        \n",
       "4              2.7        3.7         2      missed      ...        \n",
       "5              4.4       18.4         2      missed      ...        \n",
       "6              9.0       20.7         2      missed      ...        \n",
       "7              2.5        3.5         2        made      ...        \n",
       "8              0.8       24.6         3      missed      ...        \n",
       "10             7.5       24.5         3      missed      ...        \n",
       "11            11.9       14.6         2        made      ...        \n",
       "12             2.9        5.9         2        made      ...        \n",
       "14             0.5       22.8         3      missed      ...        \n",
       "15             2.7       24.7         3        made      ...        \n",
       "16             5.1       25.0         3      missed      ...        \n",
       "20             4.4       19.1         2        made      ...        \n",
       "21             7.4       14.8         2        made      ...        \n",
       "23            13.4       22.8         3        made      ...        \n",
       "25             7.2       24.6         3        made      ...        \n",
       "26             1.6       10.6         2        made      ...        \n",
       "27             0.8       20.2         2      missed      ...        \n",
       "28             5.2       24.9         3      missed      ...        \n",
       "29             2.1        8.3         2      missed      ...        \n",
       "30             1.8       10.0         2      missed      ...        \n",
       "32             0.8       24.2         3      missed      ...        \n",
       "33             2.2        7.6         2        made      ...        \n",
       "34             1.8        8.0         2        made      ...        \n",
       "35             7.5        6.9         2        made      ...        \n",
       "36             0.9       24.1         3      missed      ...        \n",
       "37             1.8        5.1         2      missed      ...        \n",
       "38             0.9       25.0         3      missed      ...        \n",
       "39             0.9       24.0         3      missed      ...        \n",
       "...            ...        ...       ...         ...      ...        \n",
       "128036         3.0       18.8         2      missed      ...        \n",
       "128037         0.6        2.2         2        made      ...        \n",
       "128038         2.6       20.7         2      missed      ...        \n",
       "128039         6.3       10.7         2      missed      ...        \n",
       "128040         0.5        2.5         2      missed      ...        \n",
       "128041         2.1        7.5         2        made      ...        \n",
       "128042        20.4        6.8         2        made      ...        \n",
       "128043        12.0       16.2         2        made      ...        \n",
       "128044         3.2       17.7         2      missed      ...        \n",
       "128045         0.0        3.6         2      missed      ...        \n",
       "128046         1.9       17.0         2      missed      ...        \n",
       "128047         6.9       15.5         2        made      ...        \n",
       "128049         2.2        9.4         2        made      ...        \n",
       "128050         2.0        2.3         2        made      ...        \n",
       "128052         3.2       18.9         2      missed      ...        \n",
       "128053         5.1       13.7         2      missed      ...        \n",
       "128054         2.1       11.1         2      missed      ...        \n",
       "128055         0.6        5.1         2      missed      ...        \n",
       "128056         2.3       15.5         2      missed      ...        \n",
       "128057         1.0       22.1         3      missed      ...        \n",
       "128058         2.0       18.2         2        made      ...        \n",
       "128059         0.8       22.7         3      missed      ...        \n",
       "128060        12.4       12.6         2      missed      ...        \n",
       "128061        -0.2        7.4         2      missed      ...        \n",
       "128062         1.7       14.5         2        made      ...        \n",
       "128063         1.6        8.9         2        made      ...        \n",
       "128064         6.2        8.7         2      missed      ...        \n",
       "128065         5.2        0.6         2        made      ...        \n",
       "128066         4.2       16.9         2        made      ...        \n",
       "128067         4.5       18.3         2      missed      ...        \n",
       "\n",
       "        TOUCH_TIME_THIRD  DISTANCE_RECIP  DIST_DIST  DIST_SQR_DIST  \\\n",
       "0                  6.859             8.7      66.99   1.715135e+07   \n",
       "3                  6.859             6.6     113.52   1.247831e+14   \n",
       "4                 19.683             8.9      32.93   3.256440e+03   \n",
       "5                 85.184             7.4     136.16   9.859699e+15   \n",
       "6                729.000             3.9      80.73   1.718056e+12   \n",
       "7                 15.625             7.9      27.65   1.385782e+03   \n",
       "8                  0.512             2.7      66.42   4.088355e+10   \n",
       "10               421.875             5.3     129.85   5.555956e+17   \n",
       "11              1685.159             8.2     119.72   2.196252e+13   \n",
       "12                24.389             4.6      27.14   8.133383e+03   \n",
       "14                 0.125             4.7     107.16   2.107809e+15   \n",
       "15                19.683             4.4     108.68   7.821339e+15   \n",
       "16               132.651             4.6     115.00   3.706345e+16   \n",
       "20                85.184             6.0     114.60   7.289351e+14   \n",
       "21               405.224             4.6      68.08   6.438963e+09   \n",
       "23              2406.104             4.9     111.72   5.450930e+15   \n",
       "25               373.248             4.0      98.40   6.466597e+14   \n",
       "26                 4.096             9.3      98.58   1.844672e+10   \n",
       "27                 0.512             6.5     131.30   2.635420e+16   \n",
       "28               140.608             5.5     136.95   2.722895e+18   \n",
       "29                 9.261             6.5      53.95   5.587028e+06   \n",
       "30                 5.832             7.6      76.00   6.428889e+08   \n",
       "32                 0.512             6.6     159.72   6.807117e+19   \n",
       "33                10.648             7.6      57.76   4.945194e+06   \n",
       "34                 5.832             8.2      65.60   2.044141e+07   \n",
       "35               421.875             5.1      35.19   7.624901e+04   \n",
       "36                 0.729             5.2     125.32   1.801692e+17   \n",
       "37                 5.832             6.7      34.17   1.632982e+04   \n",
       "38                 0.729             7.0     175.00   1.341069e+21   \n",
       "39                 0.729             3.3      79.20   2.781855e+12   \n",
       "...                  ...             ...        ...            ...   \n",
       "128036            27.000             4.1      77.08   3.313878e+11   \n",
       "128037             0.216             5.8      12.76   4.781251e+01   \n",
       "128038            17.576             7.8     161.46   2.926566e+18   \n",
       "128039           250.047             8.8      94.16   1.276335e+10   \n",
       "128040             0.125             4.9      12.25   5.314840e+01   \n",
       "128041             9.261             9.1      68.25   1.558872e+07   \n",
       "128042          8489.664             9.1      61.88   3.322626e+06   \n",
       "128043          1728.000             7.5     121.50   1.499659e+14   \n",
       "128044            32.768             8.2     145.14   1.494532e+16   \n",
       "128045             0.000             8.5      30.60   2.217727e+03   \n",
       "128046             6.859             6.4     108.80   5.070602e+13   \n",
       "128047           328.509             7.6     117.80   4.493768e+13   \n",
       "128049            10.648             4.0      37.60   4.564192e+05   \n",
       "128050             8.000             2.3       5.29   6.791630e+00   \n",
       "128052            32.768             6.2     117.18   9.466794e+14   \n",
       "128053           132.651             7.2      98.64   5.564872e+11   \n",
       "128054             9.261             5.8      64.38   2.978864e+08   \n",
       "128055             0.216             7.9      40.29   3.783539e+04   \n",
       "128056            12.167             6.9     106.95   1.004988e+13   \n",
       "128057             1.000             7.1     156.91   6.498446e+18   \n",
       "128058             8.000             8.9     161.98   1.900632e+17   \n",
       "128059             0.512             6.0     136.20   4.613530e+17   \n",
       "128060          1906.624             5.2      65.52   1.051095e+09   \n",
       "128061            -0.008             7.3      54.02   2.446748e+06   \n",
       "128062             4.913             6.9     100.05   1.456504e+12   \n",
       "128063             4.096             4.3      38.27   4.343794e+05   \n",
       "128064           238.328             9.2      80.04   2.426354e+08   \n",
       "128065           140.608             9.4       5.64   3.835983e+00   \n",
       "128066            74.088             5.8      98.02   7.978718e+12   \n",
       "128067            91.125             7.0     128.10   2.919404e+15   \n",
       "\n",
       "        DRIBBLES_SQUARED  DRIBBLES_SQRT  DRIBBLES_THIRD  DRIBBLES_LOG  \\\n",
       "0                      4       1.414214               8      0.693147   \n",
       "3                      4       1.414214               8      0.693147   \n",
       "4                      4       1.414214               8      0.693147   \n",
       "5                      4       1.414214               8      0.693147   \n",
       "6                    121       3.316625            1331      2.397895   \n",
       "7                      9       1.732051              27      1.098612   \n",
       "8                      0       0.000000               0          -inf   \n",
       "10                    64       2.828427             512      2.079442   \n",
       "11                   196       3.741657            2744      2.639057   \n",
       "12                     4       1.414214               8      0.693147   \n",
       "14                     0       0.000000               0          -inf   \n",
       "15                     9       1.732051              27      1.098612   \n",
       "16                    36       2.449490             216      1.791759   \n",
       "20                    25       2.236068             125      1.609438   \n",
       "21                    36       2.449490             216      1.791759   \n",
       "23                   256       4.000000            4096      2.772589   \n",
       "25                    49       2.645751             343      1.945910   \n",
       "26                     1       1.000000               1      0.000000   \n",
       "27                     0       0.000000               0          -inf   \n",
       "28                    49       2.645751             343      1.945910   \n",
       "29                     1       1.000000               1      0.000000   \n",
       "30                     4       1.414214               8      0.693147   \n",
       "32                     1       1.000000               1      0.000000   \n",
       "33                     1       1.000000               1      0.000000   \n",
       "34                     4       1.414214               8      0.693147   \n",
       "35                   100       3.162278            1000      2.302585   \n",
       "36                     0       0.000000               0          -inf   \n",
       "37                     1       1.000000               1      0.000000   \n",
       "38                     0       0.000000               0          -inf   \n",
       "39                     0       0.000000               0          -inf   \n",
       "...                  ...            ...             ...           ...   \n",
       "128036                 4       1.414214               8      0.693147   \n",
       "128037                 0       0.000000               0          -inf   \n",
       "128038                 1       1.000000               1      0.000000   \n",
       "128039                36       2.449490             216      1.791759   \n",
       "128040                 0       0.000000               0          -inf   \n",
       "128041                 9       1.732051              27      1.098612   \n",
       "128042               400       4.472136            8000      2.995732   \n",
       "128043               256       4.000000            4096      2.772589   \n",
       "128044                 9       1.732051              27      1.098612   \n",
       "128045                 0       0.000000               0          -inf   \n",
       "128046                 4       1.414214               8      0.693147   \n",
       "128047                36       2.449490             216      1.791759   \n",
       "128049                 4       1.414214               8      0.693147   \n",
       "128050                 1       1.000000               1      0.000000   \n",
       "128052                 4       1.414214               8      0.693147   \n",
       "128053                25       2.236068             125      1.609438   \n",
       "128054                 4       1.414214               8      0.693147   \n",
       "128055                 0       0.000000               0          -inf   \n",
       "128056                 4       1.414214               8      0.693147   \n",
       "128057                 0       0.000000               0          -inf   \n",
       "128058                 4       1.414214               8      0.693147   \n",
       "128059                 0       0.000000               0          -inf   \n",
       "128060               256       4.000000            4096      2.772589   \n",
       "128061                 0       0.000000               0          -inf   \n",
       "128062                 1       1.000000               1      0.000000   \n",
       "128063                 4       1.414214               8      0.693147   \n",
       "128064                25       2.236068             125      1.609438   \n",
       "128065                16       2.000000              64      1.386294   \n",
       "128066                 4       1.414214               8      0.693147   \n",
       "128067                16       2.000000              64      1.386294   \n",
       "\n",
       "        DRIBBLES-TT      TT_SQ_DR  \n",
       "0              7.22  3.610000e+00  \n",
       "3              7.22  3.610000e+00  \n",
       "4             14.58  7.290000e+00  \n",
       "5             38.72  1.936000e+01  \n",
       "6            891.00  3.138106e+10  \n",
       "7             18.75  1.562500e+01  \n",
       "8              0.00  1.000000e+00  \n",
       "10           450.00  1.001129e+07  \n",
       "11          1982.54  1.141977e+15  \n",
       "12            16.82  8.410000e+00  \n",
       "14             0.00  1.000000e+00  \n",
       "15            21.87  1.968300e+01  \n",
       "16           156.06  1.759629e+04  \n",
       "20            96.80  1.649162e+03  \n",
       "21           328.56  1.642065e+05  \n",
       "23          2872.96  1.080629e+18  \n",
       "25           362.88  1.003061e+06  \n",
       "26             2.56  1.600000e+00  \n",
       "27             0.00  1.000000e+00  \n",
       "28           189.28  1.028072e+05  \n",
       "29             4.41  2.100000e+00  \n",
       "30             6.48  3.240000e+00  \n",
       "32             0.64  8.000000e-01  \n",
       "33             4.84  2.200000e+00  \n",
       "34             6.48  3.240000e+00  \n",
       "35           562.50  5.631351e+08  \n",
       "36             0.00  1.000000e+00  \n",
       "37             3.24  1.800000e+00  \n",
       "38             0.00  1.000000e+00  \n",
       "39             0.00  1.000000e+00  \n",
       "...             ...           ...  \n",
       "128036        18.00  9.000000e+00  \n",
       "128037         0.00  1.000000e+00  \n",
       "128038         6.76  2.600000e+00  \n",
       "128039       238.14  6.252350e+04  \n",
       "128040         0.00  1.000000e+00  \n",
       "128041        13.23  9.261000e+00  \n",
       "128042      8323.20  1.558129e+26  \n",
       "128043      2304.00  1.848843e+17  \n",
       "128044        30.72  3.276800e+01  \n",
       "128045         0.00  1.000000e+00  \n",
       "128046         7.22  3.610000e+00  \n",
       "128047       285.66  1.079182e+05  \n",
       "128049         9.68  4.840000e+00  \n",
       "128050         4.00  2.000000e+00  \n",
       "128052        20.48  1.024000e+01  \n",
       "128053       130.05  3.450253e+03  \n",
       "128054         8.82  4.410000e+00  \n",
       "128055         0.00  1.000000e+00  \n",
       "128056        10.58  5.290000e+00  \n",
       "128057         0.00  1.000000e+00  \n",
       "128058         8.00  4.000000e+00  \n",
       "128059         0.00  1.000000e+00  \n",
       "128060      2460.16  3.124259e+17  \n",
       "128061         0.00  1.000000e+00  \n",
       "128062         2.89  1.700000e+00  \n",
       "128063         5.12  2.560000e+00  \n",
       "128064       192.20  9.161328e+03  \n",
       "128065       108.16  7.311616e+02  \n",
       "128066        35.28  1.764000e+01  \n",
       "128067        81.00  4.100625e+02  \n",
       "\n",
       "[110124 rows x 30 columns]>"
      ]
     },
     "execution_count": 46,
     "metadata": {},
     "output_type": "execute_result"
    }
   ],
   "source": [
    "# Seeing if I can manipulate dribbles \n",
    "df['DRIBBLES_SQUARED'] = df['DRIBBLES'] ** 2\n",
    "df['DRIBBLES_SQRT'] = df['DRIBBLES'] ** .5\n",
    "df['DRIBBLES_THIRD'] = df['DRIBBLES'] ** 3\n",
    "df['DRIBBLES_LOG'] = np.log(df.DRIBBLES)\n",
    "df['DRIBBLES-TT'] = df['DRIBBLES'] * df['TOUCH_TIME_SQUARED']\n",
    "df['TT_SQ_DR'] = df['TOUCH_TIME'] ** df['DRIBBLES']\n",
    "df.head\n"
   ]
  },
  {
   "cell_type": "code",
   "execution_count": 47,
   "metadata": {},
   "outputs": [
    {
     "data": {
      "text/plain": [
       "(110124, 35)"
      ]
     },
     "execution_count": 47,
     "metadata": {},
     "output_type": "execute_result"
    }
   ],
   "source": [
    "# Trying out categorical variables to see if we can increase accuracy\n",
    "df['D_!'] = np.where(df['CLOSE_DEF_DIST']<=2, 1, 0)\n",
    "df['D_2'] = np.where((df['CLOSE_DEF_DIST']<=4) & (df['CLOSE_DEF_DIST']>2), 1, 0)\n",
    "df['D_3'] = np.where((df['CLOSE_DEF_DIST']<=6) & (df['CLOSE_DEF_DIST']>4), 1, 0)\n",
    "df['D_4'] = np.where((df['CLOSE_DEF_DIST']<=8) & (df['CLOSE_DEF_DIST']>6), 1, 0)\n",
    "df['D_5'] = np.where((df['CLOSE_DEF_DIST']<=10) & (df['CLOSE_DEF_DIST']>8), 1, 0)\n",
    "\n",
    "df.shape"
   ]
  },
  {
   "cell_type": "code",
   "execution_count": 48,
   "metadata": {},
   "outputs": [
    {
     "data": {
      "text/html": [
       "<div>\n",
       "<style>\n",
       "    .dataframe thead tr:only-child th {\n",
       "        text-align: right;\n",
       "    }\n",
       "\n",
       "    .dataframe thead th {\n",
       "        text-align: left;\n",
       "    }\n",
       "\n",
       "    .dataframe tbody tr th {\n",
       "        vertical-align: top;\n",
       "    }\n",
       "</style>\n",
       "<table border=\"1\" class=\"dataframe\">\n",
       "  <thead>\n",
       "    <tr style=\"text-align: right;\">\n",
       "      <th></th>\n",
       "      <th>D_5</th>\n",
       "      <th>203148</th>\n",
       "      <th>202687</th>\n",
       "      <th>2744</th>\n",
       "      <th>203469</th>\n",
       "      <th>202390</th>\n",
       "      <th>201945</th>\n",
       "      <th>202689</th>\n",
       "      <th>203077</th>\n",
       "      <th>202362</th>\n",
       "      <th>...</th>\n",
       "      <th>201572</th>\n",
       "      <th>203141</th>\n",
       "      <th>203486</th>\n",
       "      <th>708</th>\n",
       "      <th>101187</th>\n",
       "      <th>101114</th>\n",
       "      <th>2207</th>\n",
       "      <th>202366</th>\n",
       "      <th>202711</th>\n",
       "      <th>101127</th>\n",
       "    </tr>\n",
       "  </thead>\n",
       "  <tbody>\n",
       "    <tr>\n",
       "      <th>0</th>\n",
       "      <td>0</td>\n",
       "      <td>1</td>\n",
       "      <td>0</td>\n",
       "      <td>0</td>\n",
       "      <td>0</td>\n",
       "      <td>0</td>\n",
       "      <td>0</td>\n",
       "      <td>0</td>\n",
       "      <td>0</td>\n",
       "      <td>0</td>\n",
       "      <td>...</td>\n",
       "      <td>0</td>\n",
       "      <td>0</td>\n",
       "      <td>0</td>\n",
       "      <td>0</td>\n",
       "      <td>0</td>\n",
       "      <td>0</td>\n",
       "      <td>0</td>\n",
       "      <td>0</td>\n",
       "      <td>0</td>\n",
       "      <td>0</td>\n",
       "    </tr>\n",
       "    <tr>\n",
       "      <th>3</th>\n",
       "      <td>0</td>\n",
       "      <td>1</td>\n",
       "      <td>0</td>\n",
       "      <td>0</td>\n",
       "      <td>0</td>\n",
       "      <td>0</td>\n",
       "      <td>0</td>\n",
       "      <td>0</td>\n",
       "      <td>0</td>\n",
       "      <td>0</td>\n",
       "      <td>...</td>\n",
       "      <td>0</td>\n",
       "      <td>0</td>\n",
       "      <td>0</td>\n",
       "      <td>0</td>\n",
       "      <td>0</td>\n",
       "      <td>0</td>\n",
       "      <td>0</td>\n",
       "      <td>0</td>\n",
       "      <td>0</td>\n",
       "      <td>0</td>\n",
       "    </tr>\n",
       "    <tr>\n",
       "      <th>4</th>\n",
       "      <td>0</td>\n",
       "      <td>1</td>\n",
       "      <td>0</td>\n",
       "      <td>0</td>\n",
       "      <td>0</td>\n",
       "      <td>0</td>\n",
       "      <td>0</td>\n",
       "      <td>0</td>\n",
       "      <td>0</td>\n",
       "      <td>0</td>\n",
       "      <td>...</td>\n",
       "      <td>0</td>\n",
       "      <td>0</td>\n",
       "      <td>0</td>\n",
       "      <td>0</td>\n",
       "      <td>0</td>\n",
       "      <td>0</td>\n",
       "      <td>0</td>\n",
       "      <td>0</td>\n",
       "      <td>0</td>\n",
       "      <td>0</td>\n",
       "    </tr>\n",
       "    <tr>\n",
       "      <th>5</th>\n",
       "      <td>0</td>\n",
       "      <td>1</td>\n",
       "      <td>0</td>\n",
       "      <td>0</td>\n",
       "      <td>0</td>\n",
       "      <td>0</td>\n",
       "      <td>0</td>\n",
       "      <td>0</td>\n",
       "      <td>0</td>\n",
       "      <td>0</td>\n",
       "      <td>...</td>\n",
       "      <td>0</td>\n",
       "      <td>0</td>\n",
       "      <td>0</td>\n",
       "      <td>0</td>\n",
       "      <td>0</td>\n",
       "      <td>0</td>\n",
       "      <td>0</td>\n",
       "      <td>0</td>\n",
       "      <td>0</td>\n",
       "      <td>0</td>\n",
       "    </tr>\n",
       "    <tr>\n",
       "      <th>6</th>\n",
       "      <td>0</td>\n",
       "      <td>1</td>\n",
       "      <td>0</td>\n",
       "      <td>0</td>\n",
       "      <td>0</td>\n",
       "      <td>0</td>\n",
       "      <td>0</td>\n",
       "      <td>0</td>\n",
       "      <td>0</td>\n",
       "      <td>0</td>\n",
       "      <td>...</td>\n",
       "      <td>0</td>\n",
       "      <td>0</td>\n",
       "      <td>0</td>\n",
       "      <td>0</td>\n",
       "      <td>0</td>\n",
       "      <td>0</td>\n",
       "      <td>0</td>\n",
       "      <td>0</td>\n",
       "      <td>0</td>\n",
       "      <td>0</td>\n",
       "    </tr>\n",
       "  </tbody>\n",
       "</table>\n",
       "<p>5 rows × 282 columns</p>\n",
       "</div>"
      ],
      "text/plain": [
       "   D_5  203148  202687  2744  203469  202390  201945  202689  203077  202362  \\\n",
       "0    0       1       0     0       0       0       0       0       0       0   \n",
       "3    0       1       0     0       0       0       0       0       0       0   \n",
       "4    0       1       0     0       0       0       0       0       0       0   \n",
       "5    0       1       0     0       0       0       0       0       0       0   \n",
       "6    0       1       0     0       0       0       0       0       0       0   \n",
       "\n",
       "    ...    201572  203141  203486  708  101187  101114  2207  202366  202711  \\\n",
       "0   ...         0       0       0    0       0       0     0       0       0   \n",
       "3   ...         0       0       0    0       0       0     0       0       0   \n",
       "4   ...         0       0       0    0       0       0     0       0       0   \n",
       "5   ...         0       0       0    0       0       0     0       0       0   \n",
       "6   ...         0       0       0    0       0       0     0       0       0   \n",
       "\n",
       "   101127  \n",
       "0       0  \n",
       "3       0  \n",
       "4       0  \n",
       "5       0  \n",
       "6       0  \n",
       "\n",
       "[5 rows x 282 columns]"
      ]
     },
     "execution_count": 48,
     "metadata": {},
     "output_type": "execute_result"
    }
   ],
   "source": [
    "#Making dummy variables for player id\n",
    "for elem in df['player_id'].unique():\n",
    "    df[str(elem)] = df['player_id'] == elem\n",
    "df.columns\n",
    "df_p = df.iloc[:, 34:]\n",
    "df_p.fillna\n",
    "df_p = df_p.astype(int)\n",
    "players = df_p\n",
    "df_p.head()"
   ]
  },
  {
   "cell_type": "code",
   "execution_count": 49,
   "metadata": {},
   "outputs": [
    {
     "data": {
      "text/plain": [
       "(110124, 316)"
      ]
     },
     "execution_count": 49,
     "metadata": {},
     "output_type": "execute_result"
    }
   ],
   "source": [
    "#-----------------------------------KNN-----------------------------------------------\n",
    "# Held out 25% for test set\n",
    "y = df['FGM']\n",
    "X = df[['FINAL_MARGIN', 'TOUCH_TIME', 'SHOT_DIST', 'CLOSE_DEF_DIST', 'TOUCH_TIME_SQUARED', 'TOUCH_TIME_THIRD', \n",
    "        'DISTANCE_RECIP', 'DIST_DIST', 'D_!', 'S_IS_CLOSE', 'S_IS_LONG']]\n",
    "X_training = X[:86620]\n",
    "y_training = y[:86620]\n",
    "X_test = X[86620:]\n",
    "y_test = y[86620:]\n",
    "df.shape"
   ]
  },
  {
   "cell_type": "code",
   "execution_count": 50,
   "metadata": {},
   "outputs": [
    {
     "data": {
      "text/html": [
       "<div>\n",
       "<style>\n",
       "    .dataframe thead tr:only-child th {\n",
       "        text-align: right;\n",
       "    }\n",
       "\n",
       "    .dataframe thead th {\n",
       "        text-align: left;\n",
       "    }\n",
       "\n",
       "    .dataframe tbody tr th {\n",
       "        vertical-align: top;\n",
       "    }\n",
       "</style>\n",
       "<table border=\"1\" class=\"dataframe\">\n",
       "  <thead>\n",
       "    <tr style=\"text-align: right;\">\n",
       "      <th></th>\n",
       "      <th>0</th>\n",
       "      <th>1</th>\n",
       "      <th>2</th>\n",
       "      <th>3</th>\n",
       "      <th>4</th>\n",
       "      <th>5</th>\n",
       "      <th>6</th>\n",
       "      <th>7</th>\n",
       "      <th>8</th>\n",
       "      <th>9</th>\n",
       "      <th>...</th>\n",
       "      <th>282</th>\n",
       "      <th>283</th>\n",
       "      <th>284</th>\n",
       "      <th>285</th>\n",
       "      <th>286</th>\n",
       "      <th>287</th>\n",
       "      <th>288</th>\n",
       "      <th>289</th>\n",
       "      <th>290</th>\n",
       "      <th>291</th>\n",
       "    </tr>\n",
       "  </thead>\n",
       "  <tbody>\n",
       "    <tr>\n",
       "      <th>0</th>\n",
       "      <td>24</td>\n",
       "      <td>1.9</td>\n",
       "      <td>7.7</td>\n",
       "      <td>1.3</td>\n",
       "      <td>8.7</td>\n",
       "      <td>66.99</td>\n",
       "      <td>1</td>\n",
       "      <td>0</td>\n",
       "      <td>0</td>\n",
       "      <td>0</td>\n",
       "      <td>...</td>\n",
       "      <td>0</td>\n",
       "      <td>0</td>\n",
       "      <td>0</td>\n",
       "      <td>0</td>\n",
       "      <td>0</td>\n",
       "      <td>0</td>\n",
       "      <td>0</td>\n",
       "      <td>0</td>\n",
       "      <td>0</td>\n",
       "      <td>0</td>\n",
       "    </tr>\n",
       "    <tr>\n",
       "      <th>3</th>\n",
       "      <td>24</td>\n",
       "      <td>1.9</td>\n",
       "      <td>17.2</td>\n",
       "      <td>3.4</td>\n",
       "      <td>6.6</td>\n",
       "      <td>113.52</td>\n",
       "      <td>0</td>\n",
       "      <td>0</td>\n",
       "      <td>0</td>\n",
       "      <td>0</td>\n",
       "      <td>...</td>\n",
       "      <td>0</td>\n",
       "      <td>0</td>\n",
       "      <td>0</td>\n",
       "      <td>0</td>\n",
       "      <td>0</td>\n",
       "      <td>0</td>\n",
       "      <td>0</td>\n",
       "      <td>0</td>\n",
       "      <td>0</td>\n",
       "      <td>0</td>\n",
       "    </tr>\n",
       "    <tr>\n",
       "      <th>4</th>\n",
       "      <td>24</td>\n",
       "      <td>2.7</td>\n",
       "      <td>3.7</td>\n",
       "      <td>1.1</td>\n",
       "      <td>8.9</td>\n",
       "      <td>32.93</td>\n",
       "      <td>1</td>\n",
       "      <td>1</td>\n",
       "      <td>0</td>\n",
       "      <td>0</td>\n",
       "      <td>...</td>\n",
       "      <td>0</td>\n",
       "      <td>0</td>\n",
       "      <td>0</td>\n",
       "      <td>0</td>\n",
       "      <td>0</td>\n",
       "      <td>0</td>\n",
       "      <td>0</td>\n",
       "      <td>0</td>\n",
       "      <td>0</td>\n",
       "      <td>0</td>\n",
       "    </tr>\n",
       "    <tr>\n",
       "      <th>5</th>\n",
       "      <td>24</td>\n",
       "      <td>4.4</td>\n",
       "      <td>18.4</td>\n",
       "      <td>2.6</td>\n",
       "      <td>7.4</td>\n",
       "      <td>136.16</td>\n",
       "      <td>0</td>\n",
       "      <td>0</td>\n",
       "      <td>1</td>\n",
       "      <td>0</td>\n",
       "      <td>...</td>\n",
       "      <td>0</td>\n",
       "      <td>0</td>\n",
       "      <td>0</td>\n",
       "      <td>0</td>\n",
       "      <td>0</td>\n",
       "      <td>0</td>\n",
       "      <td>0</td>\n",
       "      <td>0</td>\n",
       "      <td>0</td>\n",
       "      <td>0</td>\n",
       "    </tr>\n",
       "    <tr>\n",
       "      <th>6</th>\n",
       "      <td>24</td>\n",
       "      <td>9.0</td>\n",
       "      <td>20.7</td>\n",
       "      <td>6.1</td>\n",
       "      <td>3.9</td>\n",
       "      <td>80.73</td>\n",
       "      <td>0</td>\n",
       "      <td>0</td>\n",
       "      <td>1</td>\n",
       "      <td>0</td>\n",
       "      <td>...</td>\n",
       "      <td>0</td>\n",
       "      <td>0</td>\n",
       "      <td>0</td>\n",
       "      <td>0</td>\n",
       "      <td>0</td>\n",
       "      <td>0</td>\n",
       "      <td>0</td>\n",
       "      <td>0</td>\n",
       "      <td>0</td>\n",
       "      <td>0</td>\n",
       "    </tr>\n",
       "  </tbody>\n",
       "</table>\n",
       "<p>5 rows × 292 columns</p>\n",
       "</div>"
      ],
      "text/plain": [
       "   0    1     2    3    4       5    6    7    8    9   ...   282  283  284  \\\n",
       "0   24  1.9   7.7  1.3  8.7   66.99    1    0    0    0 ...     0    0    0   \n",
       "3   24  1.9  17.2  3.4  6.6  113.52    0    0    0    0 ...     0    0    0   \n",
       "4   24  2.7   3.7  1.1  8.9   32.93    1    1    0    0 ...     0    0    0   \n",
       "5   24  4.4  18.4  2.6  7.4  136.16    0    0    1    0 ...     0    0    0   \n",
       "6   24  9.0  20.7  6.1  3.9   80.73    0    0    1    0 ...     0    0    0   \n",
       "\n",
       "   285  286  287  288  289  290  291  \n",
       "0    0    0    0    0    0    0    0  \n",
       "3    0    0    0    0    0    0    0  \n",
       "4    0    0    0    0    0    0    0  \n",
       "5    0    0    0    0    0    0    0  \n",
       "6    0    0    0    0    0    0    0  \n",
       "\n",
       "[5 rows x 292 columns]"
      ]
     },
     "execution_count": 50,
     "metadata": {},
     "output_type": "execute_result"
    }
   ],
   "source": [
    "\n",
    "y = df['FGM']\n",
    "X = df[['FINAL_MARGIN', 'TOUCH_TIME', 'SHOT_DIST', 'CLOSE_DEF_DIST',\n",
    "        'DISTANCE_RECIP', 'DIST_DIST', 'D_!', 'S_IS_CLOSE', 'S_IS_LONG', 'D_5']]\n",
    "X = pd.concat([X, players], axis=1, ignore_index=True)\n",
    "X_training = X[:86620]\n",
    "y_training = y[:86620]\n",
    "X_test = X[86620:]\n",
    "y_test = y[86620:]\n",
    "X.head()"
   ]
  },
  {
   "cell_type": "code",
   "execution_count": 51,
   "metadata": {
    "collapsed": true
   },
   "outputs": [],
   "source": [
    "knn = neighbors.KNeighborsClassifier(n_neighbors=100, weights='distance')\n",
    "knn.fit(X_training, y_training)\n",
    "y_pred = knn.predict(X_test)\n"
   ]
  },
  {
   "cell_type": "code",
   "execution_count": 52,
   "metadata": {},
   "outputs": [
    {
     "name": "stdout",
     "output_type": "stream",
     "text": [
      "0.602408100749\n",
      "[ 0.60976163  0.60985244  0.60671964  0.60059024  0.60157101]\n"
     ]
    }
   ],
   "source": [
    "# Poor initial score so I will try a few others--- After tuning n_neighbor to 2 it performed .39\n",
    "# better\n",
    "score = cross_val_score(knn, X, y, cv=5)\n",
    "print(knn.score(X_test, y_test))\n",
    "print(score)"
   ]
  },
  {
   "cell_type": "code",
   "execution_count": 53,
   "metadata": {},
   "outputs": [
    {
     "name": "stderr",
     "output_type": "stream",
     "text": [
      "/Users/kylehoward/Desktop/Thinkful/anaconda/lib/python3.6/site-packages/matplotlib/axes/_axes.py:545: UserWarning: No labelled objects found. Use label='...' kwarg on individual plots.\n",
      "  warnings.warn(\"No labelled objects found. \"\n"
     ]
    },
    {
     "data": {
      "image/png": "[encoded data removed]",
      "text/plain": [
       "<matplotlib.figure.Figure at 0x110486278>"
      ]
     },
     "metadata": {},
     "output_type": "display_data"
    },
    {
     "name": "stdout",
     "output_type": "stream",
     "text": [
      "0.587831080915\n"
     ]
    }
   ],
   "source": [
    "# Plotting ROC\n",
    "fpr_k, tpr_k, thresholds = sklearn.metrics.roc_curve(y_test, y_pred)\n",
    "a = roc_auc_score(y_test, y_pred)\n",
    "plt.figure()\n",
    "lw = 2\n",
    "plt.plot(fpr_k, tpr_k, color='darkorange',\n",
    "         lw=lw)\n",
    "plt.plot([0, 1], [0, 1], color='purple', lw=lw, linestyle='--')\n",
    "plt.xlim([0.0, 1.0])\n",
    "plt.ylim([0.0, 1.05])\n",
    "plt.xlabel('False Positive Rate')\n",
    "plt.ylabel('True Positive Rate')\n",
    "plt.title('KNN ROC')\n",
    "plt.legend(loc=\"lower right\")\n",
    "plt.show()\n",
    "print(a)"
   ]
  },
  {
   "cell_type": "code",
   "execution_count": 54,
   "metadata": {},
   "outputs": [
    {
     "data": {
      "text/plain": [
       "array([[9986, 2599],\n",
       "       [6746, 4173]])"
      ]
     },
     "execution_count": 54,
     "metadata": {},
     "output_type": "execute_result"
    }
   ],
   "source": [
    "confusion_matrix(y_test, y_pred)\n"
   ]
  },
  {
   "cell_type": "code",
   "execution_count": 55,
   "metadata": {
    "collapsed": true
   },
   "outputs": [],
   "source": [
    "#--------------------------------------RFC--------------------------------------------"
   ]
  },
  {
   "cell_type": "code",
   "execution_count": 102,
   "metadata": {},
   "outputs": [
    {
     "data": {
      "text/plain": [
       "0.55926650782845477"
      ]
     },
     "execution_count": 102,
     "metadata": {},
     "output_type": "execute_result"
    }
   ],
   "source": [
    "# Much better score. I will attempt to tune\n",
    "rfc = ensemble.RandomForestClassifier()\n",
    "y = df['FGM']\n",
    "X = df[['CLOSE_DEF_DIST', 'SHOT_DIST', 'TOUCH_TIME']]\n",
    "X_training = X[:86620]\n",
    "y_training = y[:86620]\n",
    "X_test = X[86620:]\n",
    "y_test = y[86620:]\n",
    "rfc.fit(X_training, y_training)\n",
    "y_pred_test = rfc.predict(X_test)\n",
    "rfc.score(X_test, y_test)  "
   ]
  },
  {
   "cell_type": "code",
   "execution_count": 103,
   "metadata": {},
   "outputs": [
    {
     "data": {
      "text/plain": [
       "array([ 0.56177072,  0.5631328 ,  0.55632236,  0.5584563 ,  0.55539412])"
      ]
     },
     "execution_count": 103,
     "metadata": {},
     "output_type": "execute_result"
    }
   ],
   "source": [
    "cross_val_score(rfc, X, y, cv=5)"
   ]
  },
  {
   "cell_type": "code",
   "execution_count": 104,
   "metadata": {},
   "outputs": [
    {
     "data": {
      "text/plain": [
       "0.5586283185840708"
      ]
     },
     "execution_count": 104,
     "metadata": {},
     "output_type": "execute_result"
    }
   ],
   "source": [
    "# ['TOUCH_TIME_SQUARED'] seems to actually make it worse\n",
    "rfc = ensemble.RandomForestClassifier()\n",
    "y = df['FGM']\n",
    "X = df[['CLOSE_DEF_DIST', 'SHOT_DIST', 'TOUCH_TIME_SQUARED']]\n",
    "X_training = X[:86620]\n",
    "y_training = y[:86620]\n",
    "X_test = X[86620:]\n",
    "y_test = y[86620:]\n",
    "rfc.fit(X_training, y_training)\n",
    "y_pred_test = rfc.predict(X_test)\n",
    "rfc.score(X_test, y_test)  "
   ]
  },
  {
   "cell_type": "code",
   "execution_count": 105,
   "metadata": {},
   "outputs": [
    {
     "data": {
      "text/plain": [
       "array([ 0.56036322,  0.55673099,  0.55505108,  0.55950057,  0.55562114])"
      ]
     },
     "execution_count": 105,
     "metadata": {},
     "output_type": "execute_result"
    }
   ],
   "source": [
    "cross_val_score(rfc, X, y, cv=5)"
   ]
  },
  {
   "cell_type": "code",
   "execution_count": 106,
   "metadata": {},
   "outputs": [
    {
     "data": {
      "text/plain": [
       "0.60857726344452012"
      ]
     },
     "execution_count": 106,
     "metadata": {},
     "output_type": "execute_result"
    }
   ],
   "source": [
    "# After tuning in multiple directions I settled on a depth of 6\n",
    "rfc = ensemble.RandomForestClassifier(max_depth=6)\n",
    "y = df['FGM']\n",
    "X = df[['CLOSE_DEF_DIST', 'SHOT_DIST', 'TOUCH_TIME']]\n",
    "X_training = X[:86620]\n",
    "y_training = y[:86620]\n",
    "X_test = X[86620:]\n",
    "y_test = y[86620:]\n",
    "rfc.fit(X_training, y_training)\n",
    "y_pred_test = rfc.predict(X_test)\n",
    "rfc.score(X_test, y_test)  "
   ]
  },
  {
   "cell_type": "code",
   "execution_count": 107,
   "metadata": {},
   "outputs": [
    {
     "data": {
      "text/plain": [
       "array([ 0.61779796,  0.61275823,  0.61035187,  0.60808173,  0.60978932])"
      ]
     },
     "execution_count": 107,
     "metadata": {},
     "output_type": "execute_result"
    }
   ],
   "source": [
    "cross_val_score(rfc, X, y, cv=5)"
   ]
  },
  {
   "cell_type": "code",
   "execution_count": 108,
   "metadata": {},
   "outputs": [
    {
     "data": {
      "text/plain": [
       "0.60998127978216476"
      ]
     },
     "execution_count": 108,
     "metadata": {},
     "output_type": "execute_result"
    }
   ],
   "source": [
    "# Adding ['PERIOD'] helps slightly. It could mean that players are more warmed up later, \n",
    "# have more energy earlier, or care more late in the game.\n",
    "rfc = ensemble.RandomForestClassifier(max_depth=6)\n",
    "y = df['FGM']\n",
    "X = df[['CLOSE_DEF_DIST', 'SHOT_DIST', 'TOUCH_TIME', 'PERIOD']]\n",
    "X_training = X[:86620]\n",
    "y_training = y[:86620]\n",
    "X_test = X[86620:]\n",
    "y_test = y[86620:]\n",
    "rfc.fit(X_training, y_training)\n",
    "y_pred_test = rfc.predict(X_test)\n",
    "rfc.score(X_test, y_test)  "
   ]
  },
  {
   "cell_type": "code",
   "execution_count": 109,
   "metadata": {},
   "outputs": [
    {
     "data": {
      "text/plain": [
       "array([ 0.61802497,  0.61589103,  0.60948922,  0.60835414,  0.61156012])"
      ]
     },
     "execution_count": 109,
     "metadata": {},
     "output_type": "execute_result"
    }
   ],
   "source": [
    "cross_val_score(rfc, X, y, cv=5)"
   ]
  },
  {
   "cell_type": "code",
   "execution_count": 110,
   "metadata": {},
   "outputs": [
    {
     "data": {
      "text/plain": [
       "0.60887508509189925"
      ]
     },
     "execution_count": 110,
     "metadata": {},
     "output_type": "execute_result"
    }
   ],
   "source": [
    "# Dribbles seems to make it worse\n",
    "rfc = ensemble.RandomForestClassifier(n_estimators=25, max_depth=6)\n",
    "y = df['FGM']\n",
    "X = df[['CLOSE_DEF_DIST', 'SHOT_DIST', 'TOUCH_TIME', 'PERIOD', 'DRIBBLES']]\n",
    "X_training = X[:86620]\n",
    "y_training = y[:86620]\n",
    "X_test = X[86620:]\n",
    "y_test = y[86620:]\n",
    "rfc.fit(X_training, y_training)\n",
    "y_pred_test = rfc.predict(X_test)\n",
    "rfc.score(X_test, y_test)  "
   ]
  },
  {
   "cell_type": "code",
   "execution_count": 111,
   "metadata": {},
   "outputs": [
    {
     "data": {
      "text/plain": [
       "array([ 0.61970488,  0.61402951,  0.61085131,  0.60553916,  0.60938068])"
      ]
     },
     "execution_count": 111,
     "metadata": {},
     "output_type": "execute_result"
    }
   ],
   "source": [
    "cross_val_score(rfc, X, y, cv=5)"
   ]
  },
  {
   "cell_type": "code",
   "execution_count": 112,
   "metadata": {},
   "outputs": [
    {
     "data": {
      "text/plain": [
       "Index(['FINAL_MARGIN', 'SHOT_NUMBER', 'PERIOD', 'GAME_CLOCK', 'SHOT_CLOCK',\n",
       "       'DRIBBLES', 'TOUCH_TIME', 'SHOT_DIST', 'PTS_TYPE', 'SHOT_RESULT',\n",
       "       ...\n",
       "       '201572', '203141', '203486', '708', '101187', '101114', '2207',\n",
       "       '202366', '202711', '101127'],\n",
       "      dtype='object', length=316)"
      ]
     },
     "execution_count": 112,
     "metadata": {},
     "output_type": "execute_result"
    }
   ],
   "source": [
    "df.columns"
   ]
  },
  {
   "cell_type": "code",
   "execution_count": 115,
   "metadata": {},
   "outputs": [
    {
     "data": {
      "text/plain": [
       "0.60981109598366234"
      ]
     },
     "execution_count": 115,
     "metadata": {},
     "output_type": "execute_result"
    }
   ],
   "source": [
    "# Manipulated different['DRIBBLES'] features and none added value\n",
    "rfc = ensemble.RandomForestClassifier(max_depth=6)\n",
    "y = df['FGM']\n",
    "X = df[['CLOSE_DEF_DIST', 'SHOT_DIST', 'TOUCH_TIME_SQUARED', 'PERIOD', 'DRIBBLES']]\n",
    "X_training = X[:86620]\n",
    "y_training = y[:86620]\n",
    "X_test = X[86620:]\n",
    "y_test = y[86620:]\n",
    "rfc.fit(X_training, y_training)\n",
    "y_pred_test = rfc.predict(X_test)\n",
    "rfc.score(X_test, y_test)  "
   ]
  },
  {
   "cell_type": "code",
   "execution_count": 116,
   "metadata": {},
   "outputs": [
    {
     "data": {
      "text/plain": [
       "0.60747106875425461"
      ]
     },
     "execution_count": 116,
     "metadata": {},
     "output_type": "execute_result"
    }
   ],
   "source": [
    "# ['DIST_DIST'] seems to help\n",
    "rfc = ensemble.RandomForestClassifier(max_depth=6)\n",
    "y = df['FGM']\n",
    "X = df[['CLOSE_DEF_DIST', 'SHOT_DIST', 'TOUCH_TIME_SQUARED', 'PERIOD', 'DIST_DIST']]\n",
    "X_training = X[:86620]\n",
    "y_training = y[:86620]\n",
    "X_test = X[86620:]\n",
    "y_test = y[86620:]\n",
    "rfc.fit(X_training, y_training)\n",
    "y_pred_test = rfc.predict(X_test)\n",
    "rfc.score(X_test, y_test)  "
   ]
  },
  {
   "cell_type": "code",
   "execution_count": 117,
   "metadata": {},
   "outputs": [
    {
     "data": {
      "text/plain": [
       "0.60704560925799866"
      ]
     },
     "execution_count": 117,
     "metadata": {},
     "output_type": "execute_result"
    }
   ],
   "source": [
    "# More feature experimentation\n",
    "rfc = ensemble.RandomForestClassifier(max_depth=6)\n",
    "y = df['FGM']\n",
    "X = df[['CLOSE_DEF_DIST', 'SHOT_DIST', 'DRIBBLES-TT', 'PERIOD', 'FINAL_MARGIN']]\n",
    "X_training = X[:86620]\n",
    "y_training = y[:86620]\n",
    "X_test = X[86620:]\n",
    "y_test = y[86620:]\n",
    "rfc.fit(X_training, y_training)\n",
    "y_pred_test = rfc.predict(X_test)\n",
    "rfc.score(X_test, y_test)  "
   ]
  },
  {
   "cell_type": "code",
   "execution_count": 118,
   "metadata": {},
   "outputs": [
    {
     "data": {
      "text/plain": [
       "0.60755616065350582"
      ]
     },
     "execution_count": 118,
     "metadata": {},
     "output_type": "execute_result"
    }
   ],
   "source": [
    "# More feature experimentation\n",
    "rfc = ensemble.RandomForestClassifier(max_depth=6)\n",
    "y = df['FGM']\n",
    "X = df[['CLOSE_DEF_DIST', 'SHOT_DIST', 'DRIBBLES-TT', 'PERIOD', 'IS_THREE']]\n",
    "X_training = X[:86620]\n",
    "y_training = y[:86620]\n",
    "X_test = X[86620:]\n",
    "y_test = y[86620:]\n",
    "rfc.fit(X_training, y_training)\n",
    "y_pred_test = rfc.predict(X_test)\n",
    "rfc.score(X_test, y_test)  "
   ]
  },
  {
   "cell_type": "code",
   "execution_count": 119,
   "metadata": {},
   "outputs": [
    {
     "data": {
      "text/plain": [
       "count    110124.000000\n",
       "mean          3.689032\n",
       "std           2.021923\n",
       "min           0.000000\n",
       "25%           2.200000\n",
       "50%           3.400000\n",
       "75%           5.000000\n",
       "max          10.000000\n",
       "Name: CLOSE_DEF_DIST, dtype: float64"
      ]
     },
     "execution_count": 119,
     "metadata": {},
     "output_type": "execute_result"
    }
   ],
   "source": [
    "# We will cap it at two standard deviations and round up to ten. I would sometimes say that \n",
    "# even ten feet is a bit long but this could help decide between an open three in transition\n",
    "# or getting closer for a more contested shot.\n",
    "df['CLOSE_DEF_DIST'].describe()"
   ]
  },
  {
   "cell_type": "code",
   "execution_count": 120,
   "metadata": {},
   "outputs": [
    {
     "data": {
      "text/plain": [
       "Index(['FINAL_MARGIN', 'SHOT_NUMBER', 'PERIOD', 'GAME_CLOCK', 'SHOT_CLOCK',\n",
       "       'DRIBBLES', 'TOUCH_TIME', 'SHOT_DIST', 'PTS_TYPE', 'SHOT_RESULT',\n",
       "       ...\n",
       "       '201572', '203141', '203486', '708', '101187', '101114', '2207',\n",
       "       '202366', '202711', '101127'],\n",
       "      dtype='object', length=316)"
      ]
     },
     "execution_count": 120,
     "metadata": {},
     "output_type": "execute_result"
    }
   ],
   "source": [
    "df.columns"
   ]
  },
  {
   "cell_type": "code",
   "execution_count": 121,
   "metadata": {},
   "outputs": [
    {
     "data": {
      "text/plain": [
       "0.61176820966643974"
      ]
     },
     "execution_count": 121,
     "metadata": {},
     "output_type": "execute_result"
    }
   ],
   "source": [
    "rfc = ensemble.RandomForestClassifier(n_estimators=30, max_depth=6)\n",
    "y = df['FGM']\n",
    "X = df[['FINAL_MARGIN', 'PERIOD', 'DRIBBLES', 'TOUCH_TIME', 'SHOT_DIST', 'CLOSE_DEF_DIST', \n",
    "        'TOUCH_TIME_SQUARED', 'TOUCH_TIME_THIRD', 'DISTANCE_RECIP', 'DIST_DIST', 'DRIBBLES_SQUARED', 'DRIBBLES_SQRT', \n",
    "        'DRIBBLES_THIRD', 'DRIBBLES-TT', 'SHOT_NUMBER']]\n",
    "X_training = X[:86620]\n",
    "y_training = y[:86620]\n",
    "X_test = X[86620:]\n",
    "y_test = y[86620:]\n",
    "rfc.fit(X_training, y_training)\n",
    "y_pred_test = rfc.predict(X_test)\n",
    "rfc.score(X_test, y_test) \n",
    "\n"
   ]
  },
  {
   "cell_type": "code",
   "execution_count": 122,
   "metadata": {},
   "outputs": [
    {
     "data": {
      "text/plain": [
       "array([ 0.61834279,  0.61507378,  0.61026107,  0.60694665,  0.61110607])"
      ]
     },
     "execution_count": 122,
     "metadata": {},
     "output_type": "execute_result"
    }
   ],
   "source": [
    "cross_val_score(rfc, X, y, cv=5)"
   ]
  },
  {
   "cell_type": "code",
   "execution_count": 123,
   "metadata": {},
   "outputs": [
    {
     "name": "stdout",
     "output_type": "stream",
     "text": [
      "[ 0.02924005  0.00348007  0.00472732  0.03838616  0.28919792  0.06750592\n",
      "  0.04481253  0.03657758  0.06407065  0.38290194  0.01018711  0.00432109\n",
      "  0.00724423  0.01205333  0.0052941 ]\n"
     ]
    }
   ],
   "source": [
    "importances = rfc.feature_importances_\n",
    "print(importances)"
   ]
  },
  {
   "cell_type": "code",
   "execution_count": 124,
   "metadata": {},
   "outputs": [
    {
     "name": "stderr",
     "output_type": "stream",
     "text": [
      "/Users/kylehoward/Desktop/Thinkful/anaconda/lib/python3.6/site-packages/matplotlib/axes/_axes.py:545: UserWarning: No labelled objects found. Use label='...' kwarg on individual plots.\n",
      "  warnings.warn(\"No labelled objects found. \"\n"
     ]
    },
    {
     "data": {
      "image/png": "[encoded data removed]",
      "text/plain": [
       "<matplotlib.figure.Figure at 0x110bc1400>"
      ]
     },
     "metadata": {},
     "output_type": "display_data"
    }
   ],
   "source": [
    "# Plotting ROC\n",
    "fpr, tpr, thresholds = sklearn.metrics.roc_curve(y_test, y_pred_test)\n",
    "plt.figure()\n",
    "lw = 2\n",
    "plt.plot(fpr, tpr, color='darkorange',\n",
    "         lw=lw)\n",
    "plt.plot([0, 1], [0, 1], color='purple', lw=lw, linestyle='--')\n",
    "plt.xlim([0.0, 1.0])\n",
    "plt.ylim([0.0, 1.05])\n",
    "plt.xlabel('False Positive Rate')\n",
    "plt.ylabel('True Positive Rate')\n",
    "plt.title('Receiver operating characteristic example')\n",
    "plt.legend(loc=\"lower right\")\n",
    "plt.show()"
   ]
  },
  {
   "cell_type": "code",
   "execution_count": 125,
   "metadata": {},
   "outputs": [
    {
     "data": {
      "text/plain": [
       "0.61261912865895163"
      ]
     },
     "execution_count": 125,
     "metadata": {},
     "output_type": "execute_result"
    }
   ],
   "source": [
    "rfc = ensemble.RandomForestClassifier(n_estimators=30, max_depth=6)\n",
    "y = df['FGM']\n",
    "X = df[['FINAL_MARGIN', 'TOUCH_TIME', 'SHOT_DIST', 'CLOSE_DEF_DIST', 'TOUCH_TIME_SQUARED', 'TOUCH_TIME_THIRD', \n",
    "        'DISTANCE_RECIP', 'DIST_DIST', 'D_!', 'S_IS_CLOSE', 'S_IS_LONG']]\n",
    "X_training = X[:86620]\n",
    "y_training = y[:86620]\n",
    "X_test = X[86620:]\n",
    "y_test = y[86620:]\n",
    "rfc.fit(X_training, y_training)\n",
    "y_pred_test = rfc.predict(X_test)\n",
    "rfc.score(X_test, y_test) "
   ]
  },
  {
   "cell_type": "code",
   "execution_count": 126,
   "metadata": {},
   "outputs": [
    {
     "data": {
      "text/plain": [
       "array([ 0.61929625,  0.615437  ,  0.60871737,  0.60740068,  0.61174174])"
      ]
     },
     "execution_count": 126,
     "metadata": {},
     "output_type": "execute_result"
    }
   ],
   "source": [
    "cross_val_score(rfc, X, y, cv=5)"
   ]
  },
  {
   "cell_type": "code",
   "execution_count": 127,
   "metadata": {},
   "outputs": [
    {
     "name": "stdout",
     "output_type": "stream",
     "text": [
      "[ 0.03430157  0.04327758  0.22535706  0.06633676  0.06307625  0.04545805\n",
      "  0.09088367  0.25192258  0.01769651  0.10514746  0.0565425 ]\n"
     ]
    }
   ],
   "source": [
    "importances = rfc.feature_importances_\n",
    "print(importances)"
   ]
  },
  {
   "cell_type": "code",
   "execution_count": 128,
   "metadata": {},
   "outputs": [
    {
     "data": {
      "text/plain": [
       "array([[10702,  1883],\n",
       "       [ 7222,  3697]])"
      ]
     },
     "execution_count": 128,
     "metadata": {},
     "output_type": "execute_result"
    }
   ],
   "source": [
    "confusion_matrix(y_test, y_pred_test)"
   ]
  },
  {
   "cell_type": "code",
   "execution_count": 129,
   "metadata": {},
   "outputs": [
    {
     "name": "stderr",
     "output_type": "stream",
     "text": [
      "/Users/kylehoward/Desktop/Thinkful/anaconda/lib/python3.6/site-packages/matplotlib/axes/_axes.py:545: UserWarning: No labelled objects found. Use label='...' kwarg on individual plots.\n",
      "  warnings.warn(\"No labelled objects found. \"\n"
     ]
    },
    {
     "data": {
      "image/png": "[encoded data removed]",
      "text/plain": [
       "<matplotlib.figure.Figure at 0x1101cda90>"
      ]
     },
     "metadata": {},
     "output_type": "display_data"
    },
    {
     "name": "stdout",
     "output_type": "stream",
     "text": [
      "0.587831080915\n"
     ]
    }
   ],
   "source": [
    "# Plotting ROC\n",
    "fpr, tpr, thresholds = sklearn.metrics.roc_curve(y_test, y_pred_test)\n",
    "a = roc_auc_score(y_test, y_pred)\n",
    "plt.figure()\n",
    "lw = 2\n",
    "plt.plot(fpr, tpr, color='darkorange',\n",
    "         lw=lw)\n",
    "plt.plot([0, 1], [0, 1], color='purple', lw=lw, linestyle='--')\n",
    "plt.xlim([0.0, 1.0])\n",
    "plt.ylim([0.0, 1.05])\n",
    "plt.xlabel('False Positive Rate')\n",
    "plt.ylabel('True Positive Rate')\n",
    "plt.title('Receiver operating characteristic example')\n",
    "plt.legend(loc=\"lower right\")\n",
    "plt.show()\n",
    "print(a)"
   ]
  },
  {
   "cell_type": "code",
   "execution_count": 130,
   "metadata": {},
   "outputs": [
    {
     "data": {
      "text/plain": [
       "0.60751361470388021"
      ]
     },
     "execution_count": 130,
     "metadata": {},
     "output_type": "execute_result"
    }
   ],
   "source": [
    "# Good but still below best model\n",
    "rfc = ensemble.RandomForestClassifier(max_depth=6)\n",
    "y = df['FGM']\n",
    "X = df[['CLOSE_DEF_DIST', 'DIST_DIST', 'SHOT_DIST', 'DRIBBLES-TT', 'PERIOD', 'IS_THREE', 'D_!', 'D_2', 'D_3', 'D_4', 'D_5', 'S_IS_CLOSE', 'S_IS_SHORT', 'S_IS_MID', 'S_IS_LONG']]\n",
    "X_training = X[:86620]\n",
    "y_training = y[:86620]\n",
    "X_test = X[86620:]\n",
    "y_test = y[86620:]\n",
    "rfc.fit(X_training, y_training)\n",
    "y_pred_test = rfc.predict(X_test)\n",
    "rfc.score(X_test, y_test)  "
   ]
  },
  {
   "cell_type": "code",
   "execution_count": 131,
   "metadata": {},
   "outputs": [
    {
     "data": {
      "text/plain": [
       "0.60755616065350582"
      ]
     },
     "execution_count": 131,
     "metadata": {},
     "output_type": "execute_result"
    }
   ],
   "source": [
    "# Worse then previous\n",
    "rfc = ensemble.RandomForestClassifier(max_depth=6)\n",
    "y = df['FGM']\n",
    "X = df[['CLOSE_DEF_DIST', 'SHOT_DIST', 'DRIBBLES-TT', 'PERIOD', 'IS_THREE']]\n",
    "X_training = X[:86620]\n",
    "y_training = y[:86620]\n",
    "X_test = X[86620:]\n",
    "y_test = y[86620:]\n",
    "rfc.fit(X_training, y_training)\n",
    "y_pred_test = rfc.predict(X_test)\n",
    "rfc.score(X_test, y_test)  "
   ]
  },
  {
   "cell_type": "code",
   "execution_count": 132,
   "metadata": {},
   "outputs": [
    {
     "data": {
      "text/plain": [
       "0.60713070115724987"
      ]
     },
     "execution_count": 132,
     "metadata": {},
     "output_type": "execute_result"
    }
   ],
   "source": [
    "# All new categorical variables paired with five previous best performing\n",
    "rfc = ensemble.RandomForestClassifier(max_depth=6)\n",
    "y = df['FGM']\n",
    "X = df[['CLOSE_DEF_DIST', 'SHOT_DIST', 'TOUCH_TIME', 'PERIOD', 'DIST_DIST', 'D_!', 'D_2', 'D_3', 'D_4', 'D_5', 'S_IS_CLOSE', 'S_IS_SHORT', 'S_IS_MID', 'S_IS_LONG']]\n",
    "X_training = X[:86620]\n",
    "y_training = y[:86620]\n",
    "X_test = X[86620:]\n",
    "y_test = y[86620:]\n",
    "rfc.fit(X_training, y_training)\n",
    "y_pred_test = rfc.predict(X_test)\n",
    "rfc.score(X_test, y_test)  "
   ]
  },
  {
   "cell_type": "code",
   "execution_count": 133,
   "metadata": {},
   "outputs": [
    {
     "data": {
      "text/plain": [
       "array([ 0.61875142,  0.61475596,  0.60830874,  0.60508513,  0.60951689])"
      ]
     },
     "execution_count": 133,
     "metadata": {},
     "output_type": "execute_result"
    }
   ],
   "source": [
    "cross_val_score(rfc, X, y, cv=5)"
   ]
  },
  {
   "cell_type": "code",
   "execution_count": 134,
   "metadata": {},
   "outputs": [
    {
     "name": "stdout",
     "output_type": "stream",
     "text": [
      "[ 0.09406349  0.15998677  0.05946901  0.00515824  0.43813483  0.02372384\n",
      "  0.01061034  0.01447312  0.00393683  0.00332847  0.05900426  0.0194342\n",
      "  0.01202811  0.09664847]\n"
     ]
    }
   ],
   "source": [
    "importances = rfc.feature_importances_\n",
    "print(importances)"
   ]
  },
  {
   "cell_type": "code",
   "execution_count": 135,
   "metadata": {},
   "outputs": [
    {
     "data": {
      "text/plain": [
       "0.59977025187202182"
      ]
     },
     "execution_count": 135,
     "metadata": {},
     "output_type": "execute_result"
    }
   ],
   "source": [
    "# Just new categorical\n",
    "rfc = ensemble.RandomForestClassifier(max_depth=6)\n",
    "y = df['FGM']\n",
    "X = df[['D_!', 'D_2', 'D_3', 'D_4', 'D_5', 'S_IS_CLOSE', 'S_IS_SHORT', 'S_IS_MID', 'S_IS_LONG']]\n",
    "X_training = X[:86620]\n",
    "y_training = y[:86620]\n",
    "X_test = X[86620:]\n",
    "y_test = y[86620:]\n",
    "rfc.fit(X_training, y_training)\n",
    "y_pred_test = rfc.predict(X_test)\n",
    "rfc.score(X_test, y_test)  "
   ]
  },
  {
   "cell_type": "code",
   "execution_count": 136,
   "metadata": {},
   "outputs": [
    {
     "name": "stdout",
     "output_type": "stream",
     "text": [
      "[ 0.08608401  0.03849073  0.08104304  0.04464247  0.02529614  0.39776746\n",
      "  0.08890327  0.04350442  0.19426847]\n"
     ]
    }
   ],
   "source": [
    "importances = rfc.feature_importances_\n",
    "print(importances)"
   ]
  },
  {
   "cell_type": "code",
   "execution_count": 172,
   "metadata": {},
   "outputs": [
    {
     "data": {
      "text/plain": [
       "0.61117256637168138"
      ]
     },
     "execution_count": 172,
     "metadata": {},
     "output_type": "execute_result"
    }
   ],
   "source": [
    "# Best five without categorical is basically identical to with. I will drop new variables\n",
    "# for feature reduction sake\n",
    "rfc = ensemble.RandomForestClassifier(n_estimators=250, max_depth=6)\n",
    "y = df['FGM']\n",
    "X = df[['CLOSE_DEF_DIST', 'SHOT_DIST', 'TOUCH_TIME', 'PERIOD', 'DIST_DIST']]\n",
    "#X = normalize(X)\n",
    "X_training = X[:86620]\n",
    "y_training = y[:86620]\n",
    "X_test = X[86620:]\n",
    "y_test = y[86620:]\n",
    "rfc.fit(X_training, y_training)\n",
    "y_pred_test = rfc.predict(X_test)\n",
    "rfc.score(X_test, y_test) "
   ]
  },
  {
   "cell_type": "code",
   "execution_count": 173,
   "metadata": {},
   "outputs": [
    {
     "data": {
      "text/plain": [
       "array([ 0.61916005,  0.61353008,  0.60889898,  0.60708286,  0.61128769])"
      ]
     },
     "execution_count": 173,
     "metadata": {},
     "output_type": "execute_result"
    }
   ],
   "source": [
    "cross_val_score(rfc, X, y, cv=5)"
   ]
  },
  {
   "cell_type": "code",
   "execution_count": 174,
   "metadata": {},
   "outputs": [
    {
     "data": {
      "text/plain": [
       "array([[9986, 2599],\n",
       "       [6746, 4173]])"
      ]
     },
     "execution_count": 174,
     "metadata": {},
     "output_type": "execute_result"
    }
   ],
   "source": [
    "# 64.8% on selecting 'made' 60.9% on selecting missed\n",
    "confusion_matrix(y_test, y_pred)"
   ]
  },
  {
   "cell_type": "code",
   "execution_count": 175,
   "metadata": {},
   "outputs": [
    {
     "name": "stderr",
     "output_type": "stream",
     "text": [
      "/Users/kylehoward/Desktop/Thinkful/anaconda/lib/python3.6/site-packages/matplotlib/axes/_axes.py:545: UserWarning: No labelled objects found. Use label='...' kwarg on individual plots.\n",
      "  warnings.warn(\"No labelled objects found. \"\n"
     ]
    },
    {
     "data": {
      "image/png": "[encoded data removed]",
      "text/plain": [
       "<matplotlib.figure.Figure at 0x1138d0940>"
      ]
     },
     "metadata": {},
     "output_type": "display_data"
    },
    {
     "name": "stdout",
     "output_type": "stream",
     "text": [
      "0.587831080915\n"
     ]
    }
   ],
   "source": [
    "# Plotting ROC\n",
    "fpr_r, tpr_r, thresholds = sklearn.metrics.roc_curve(y_test, y_pred)\n",
    "a = roc_auc_score(y_test, y_pred)\n",
    "plt.figure()\n",
    "lw = 2\n",
    "plt.plot(fpr_r, tpr_r, color='darkorange',\n",
    "         lw=lw)\n",
    "plt.plot([0, 1], [0, 1], color='purple', lw=lw, linestyle='--')\n",
    "plt.xlim([0.0, 1.0])\n",
    "plt.ylim([0.0, 1.05])\n",
    "plt.xlabel('False Positive Rate')\n",
    "plt.ylabel('True Positive Rate')\n",
    "plt.title('Random Forrest Classifier ROC')\n",
    "plt.legend(loc=\"lower right\")\n",
    "plt.show()\n",
    "print(a)"
   ]
  },
  {
   "cell_type": "code",
   "execution_count": 176,
   "metadata": {},
   "outputs": [
    {
     "name": "stdout",
     "output_type": "stream",
     "text": [
      "[ 0.15036538  0.3340441   0.11795386  0.00472784  0.39290881]\n"
     ]
    }
   ],
   "source": [
    "# Feature stregnth. ['DIST_DIST'] is most successful with ['SHOT_DIST'] following\n",
    "importances = rfc.feature_importances_\n",
    "print(importances)"
   ]
  },
  {
   "cell_type": "code",
   "execution_count": 84,
   "metadata": {},
   "outputs": [
    {
     "data": {
      "text/plain": [
       "0.60535396462169921"
      ]
     },
     "execution_count": 84,
     "metadata": {},
     "output_type": "execute_result"
    }
   ],
   "source": [
    "# Attempt to reduce features further\n",
    "rfc = ensemble.RandomForestClassifier(max_depth=5)\n",
    "y = df['FGM']\n",
    "X = df[['SHOT_DIST', 'DIST_DIST']]\n",
    "X_training = X[:86620]\n",
    "y_training = y[:86620]\n",
    "X_test = X[86620:]\n",
    "y_test = y[86620:]\n",
    "rfc.fit(X_training, y_training)\n",
    "y_pred_test = rfc.predict(X_test)\n",
    "rfc.score(X_test, y_test) "
   ]
  },
  {
   "cell_type": "code",
   "execution_count": 45,
   "metadata": {},
   "outputs": [
    {
     "data": {
      "text/plain": [
       "array([ 0.61393871,  0.6093076 ,  0.60435868,  0.60254257,  0.60411369])"
      ]
     },
     "execution_count": 45,
     "metadata": {},
     "output_type": "execute_result"
    }
   ],
   "source": [
    "cross_val_score(rfc, X, y, cv=5)"
   ]
  },
  {
   "cell_type": "code",
   "execution_count": 46,
   "metadata": {},
   "outputs": [
    {
     "data": {
      "text/plain": [
       "array([[14777,  3010],\n",
       "       [ 9819,  5432]])"
      ]
     },
     "execution_count": 46,
     "metadata": {},
     "output_type": "execute_result"
    }
   ],
   "source": [
    "confusion_matrix(y_test, y_pred)"
   ]
  },
  {
   "cell_type": "code",
   "execution_count": 47,
   "metadata": {},
   "outputs": [
    {
     "name": "stdout",
     "output_type": "stream",
     "text": [
      "[ 0.39980472  0.60019528]\n"
     ]
    }
   ],
   "source": [
    "importances = rfc.feature_importances_\n",
    "print(importances)"
   ]
  },
  {
   "cell_type": "code",
   "execution_count": 55,
   "metadata": {},
   "outputs": [
    {
     "name": "stderr",
     "output_type": "stream",
     "text": [
      "/Users/kylehoward/Desktop/Thinkful/anaconda/lib/python3.6/site-packages/matplotlib/axes/_axes.py:545: UserWarning: No labelled objects found. Use label='...' kwarg on individual plots.\n",
      "  warnings.warn(\"No labelled objects found. \"\n"
     ]
    },
    {
     "data": {
      "image/png": "[encoded data removed]",
      "text/plain": [
       "<matplotlib.figure.Figure at 0x116cc0f98>"
      ]
     },
     "metadata": {},
     "output_type": "display_data"
    }
   ],
   "source": [
    "# Plotting ROC\n",
    "fpr, tpr, thresholds = sklearn.metrics.roc_curve(y_test, y_pred)\n",
    "plt.figure()\n",
    "lw = 2\n",
    "plt.plot(fpr, tpr, color='darkorange',\n",
    "         lw=lw)\n",
    "plt.plot([0, 1], [0, 1], color='purple', lw=lw, linestyle='--')\n",
    "plt.xlim([0.0, 1.0])\n",
    "plt.ylim([0.0, 1.05])\n",
    "plt.xlabel('False Positive Rate')\n",
    "plt.ylabel('True Positive Rate')\n",
    "plt.title('Random Forrest Classifier ROC')\n",
    "plt.legend(loc=\"lower right\")\n",
    "plt.show()"
   ]
  },
  {
   "cell_type": "code",
   "execution_count": 379,
   "metadata": {},
   "outputs": [
    {
     "name": "stdout",
     "output_type": "stream",
     "text": [
      "0.4551136411625098\n"
     ]
    }
   ],
   "source": [
    "# Comparing our model to season long FG%\n",
    "hit = df[\"FGM\"].sum()\n",
    "tot = len(df['FGM'])\n",
    "percent = hit / tot\n",
    "print(percent)"
   ]
  },
  {
   "cell_type": "code",
   "execution_count": 380,
   "metadata": {},
   "outputs": [
    {
     "name": "stdout",
     "output_type": "stream",
     "text": [
      "[[ 0.59769681  0.40230319]\n",
      " [ 0.65753433  0.34246567]\n",
      " [ 0.60941529  0.39058471]\n",
      " ..., \n",
      " [ 0.35340412  0.64659588]\n",
      " [ 0.60203366  0.39796634]\n",
      " [ 0.6025729   0.3974271 ]]\n"
     ]
    }
   ],
   "source": [
    "# Creating predictions per shot so we can evaluate shot quality as a side effect\n",
    "predictions = rfc.predict_proba(X)\n",
    "print(predictions)"
   ]
  },
  {
   "cell_type": "code",
   "execution_count": 381,
   "metadata": {},
   "outputs": [
    {
     "data": {
      "text/html": [
       "<div>\n",
       "<style>\n",
       "    .dataframe thead tr:only-child th {\n",
       "        text-align: right;\n",
       "    }\n",
       "\n",
       "    .dataframe thead th {\n",
       "        text-align: left;\n",
       "    }\n",
       "\n",
       "    .dataframe tbody tr th {\n",
       "        vertical-align: top;\n",
       "    }\n",
       "</style>\n",
       "<table border=\"1\" class=\"dataframe\">\n",
       "  <thead>\n",
       "    <tr style=\"text-align: right;\">\n",
       "      <th></th>\n",
       "      <th>FINAL_MARGIN</th>\n",
       "      <th>SHOT_NUMBER</th>\n",
       "      <th>PERIOD</th>\n",
       "      <th>GAME_CLOCK</th>\n",
       "      <th>SHOT_CLOCK</th>\n",
       "      <th>DRIBBLES</th>\n",
       "      <th>TOUCH_TIME</th>\n",
       "      <th>SHOT_DIST</th>\n",
       "      <th>PTS_TYPE</th>\n",
       "      <th>SHOT_RESULT</th>\n",
       "      <th>...</th>\n",
       "      <th>DRIBBLES_THIRD</th>\n",
       "      <th>DRIBBLES_LOG</th>\n",
       "      <th>DRIBBLES-TT</th>\n",
       "      <th>TT_SQ_DR</th>\n",
       "      <th>D_!</th>\n",
       "      <th>D_2</th>\n",
       "      <th>D_3</th>\n",
       "      <th>D_4</th>\n",
       "      <th>D_5</th>\n",
       "      <th>PREDICTION</th>\n",
       "    </tr>\n",
       "  </thead>\n",
       "  <tbody>\n",
       "    <tr>\n",
       "      <th>0</th>\n",
       "      <td>24</td>\n",
       "      <td>1</td>\n",
       "      <td>1</td>\n",
       "      <td>1:09</td>\n",
       "      <td>10.8</td>\n",
       "      <td>2</td>\n",
       "      <td>1.9</td>\n",
       "      <td>7.7</td>\n",
       "      <td>2</td>\n",
       "      <td>made</td>\n",
       "      <td>...</td>\n",
       "      <td>8</td>\n",
       "      <td>0.693147</td>\n",
       "      <td>7.22</td>\n",
       "      <td>3.610000e+00</td>\n",
       "      <td>0</td>\n",
       "      <td>0</td>\n",
       "      <td>0</td>\n",
       "      <td>0</td>\n",
       "      <td>0</td>\n",
       "      <td>0.402303</td>\n",
       "    </tr>\n",
       "    <tr>\n",
       "      <th>1</th>\n",
       "      <td>24</td>\n",
       "      <td>2</td>\n",
       "      <td>1</td>\n",
       "      <td>0:14</td>\n",
       "      <td>3.4</td>\n",
       "      <td>0</td>\n",
       "      <td>0.8</td>\n",
       "      <td>28.2</td>\n",
       "      <td>3</td>\n",
       "      <td>missed</td>\n",
       "      <td>...</td>\n",
       "      <td>0</td>\n",
       "      <td>-inf</td>\n",
       "      <td>0.00</td>\n",
       "      <td>1.000000e+00</td>\n",
       "      <td>0</td>\n",
       "      <td>0</td>\n",
       "      <td>0</td>\n",
       "      <td>0</td>\n",
       "      <td>0</td>\n",
       "      <td>0.342466</td>\n",
       "    </tr>\n",
       "    <tr>\n",
       "      <th>3</th>\n",
       "      <td>24</td>\n",
       "      <td>4</td>\n",
       "      <td>2</td>\n",
       "      <td>11:47</td>\n",
       "      <td>10.3</td>\n",
       "      <td>2</td>\n",
       "      <td>1.9</td>\n",
       "      <td>17.2</td>\n",
       "      <td>2</td>\n",
       "      <td>missed</td>\n",
       "      <td>...</td>\n",
       "      <td>8</td>\n",
       "      <td>0.693147</td>\n",
       "      <td>7.22</td>\n",
       "      <td>3.610000e+00</td>\n",
       "      <td>0</td>\n",
       "      <td>0</td>\n",
       "      <td>0</td>\n",
       "      <td>0</td>\n",
       "      <td>0</td>\n",
       "      <td>0.390585</td>\n",
       "    </tr>\n",
       "    <tr>\n",
       "      <th>4</th>\n",
       "      <td>24</td>\n",
       "      <td>5</td>\n",
       "      <td>2</td>\n",
       "      <td>10:34</td>\n",
       "      <td>10.9</td>\n",
       "      <td>2</td>\n",
       "      <td>2.7</td>\n",
       "      <td>3.7</td>\n",
       "      <td>2</td>\n",
       "      <td>missed</td>\n",
       "      <td>...</td>\n",
       "      <td>8</td>\n",
       "      <td>0.693147</td>\n",
       "      <td>14.58</td>\n",
       "      <td>7.290000e+00</td>\n",
       "      <td>0</td>\n",
       "      <td>0</td>\n",
       "      <td>0</td>\n",
       "      <td>0</td>\n",
       "      <td>0</td>\n",
       "      <td>0.598688</td>\n",
       "    </tr>\n",
       "    <tr>\n",
       "      <th>5</th>\n",
       "      <td>24</td>\n",
       "      <td>6</td>\n",
       "      <td>2</td>\n",
       "      <td>8:15</td>\n",
       "      <td>9.1</td>\n",
       "      <td>2</td>\n",
       "      <td>4.4</td>\n",
       "      <td>18.4</td>\n",
       "      <td>2</td>\n",
       "      <td>missed</td>\n",
       "      <td>...</td>\n",
       "      <td>8</td>\n",
       "      <td>0.693147</td>\n",
       "      <td>38.72</td>\n",
       "      <td>1.936000e+01</td>\n",
       "      <td>0</td>\n",
       "      <td>0</td>\n",
       "      <td>0</td>\n",
       "      <td>0</td>\n",
       "      <td>0</td>\n",
       "      <td>0.385852</td>\n",
       "    </tr>\n",
       "    <tr>\n",
       "      <th>6</th>\n",
       "      <td>24</td>\n",
       "      <td>7</td>\n",
       "      <td>4</td>\n",
       "      <td>10:15</td>\n",
       "      <td>14.5</td>\n",
       "      <td>11</td>\n",
       "      <td>9.0</td>\n",
       "      <td>20.7</td>\n",
       "      <td>2</td>\n",
       "      <td>missed</td>\n",
       "      <td>...</td>\n",
       "      <td>1331</td>\n",
       "      <td>2.397895</td>\n",
       "      <td>891.00</td>\n",
       "      <td>3.138106e+10</td>\n",
       "      <td>0</td>\n",
       "      <td>0</td>\n",
       "      <td>0</td>\n",
       "      <td>0</td>\n",
       "      <td>0</td>\n",
       "      <td>0.381681</td>\n",
       "    </tr>\n",
       "    <tr>\n",
       "      <th>7</th>\n",
       "      <td>24</td>\n",
       "      <td>8</td>\n",
       "      <td>4</td>\n",
       "      <td>8:00</td>\n",
       "      <td>3.4</td>\n",
       "      <td>3</td>\n",
       "      <td>2.5</td>\n",
       "      <td>3.5</td>\n",
       "      <td>2</td>\n",
       "      <td>made</td>\n",
       "      <td>...</td>\n",
       "      <td>27</td>\n",
       "      <td>1.098612</td>\n",
       "      <td>18.75</td>\n",
       "      <td>1.562500e+01</td>\n",
       "      <td>0</td>\n",
       "      <td>0</td>\n",
       "      <td>0</td>\n",
       "      <td>0</td>\n",
       "      <td>0</td>\n",
       "      <td>0.611235</td>\n",
       "    </tr>\n",
       "    <tr>\n",
       "      <th>8</th>\n",
       "      <td>24</td>\n",
       "      <td>9</td>\n",
       "      <td>4</td>\n",
       "      <td>5:14</td>\n",
       "      <td>12.4</td>\n",
       "      <td>0</td>\n",
       "      <td>0.8</td>\n",
       "      <td>24.6</td>\n",
       "      <td>3</td>\n",
       "      <td>missed</td>\n",
       "      <td>...</td>\n",
       "      <td>0</td>\n",
       "      <td>-inf</td>\n",
       "      <td>0.00</td>\n",
       "      <td>1.000000e+00</td>\n",
       "      <td>0</td>\n",
       "      <td>0</td>\n",
       "      <td>0</td>\n",
       "      <td>0</td>\n",
       "      <td>0</td>\n",
       "      <td>0.350055</td>\n",
       "    </tr>\n",
       "    <tr>\n",
       "      <th>10</th>\n",
       "      <td>1</td>\n",
       "      <td>2</td>\n",
       "      <td>2</td>\n",
       "      <td>6:30</td>\n",
       "      <td>16.0</td>\n",
       "      <td>8</td>\n",
       "      <td>7.5</td>\n",
       "      <td>24.5</td>\n",
       "      <td>3</td>\n",
       "      <td>missed</td>\n",
       "      <td>...</td>\n",
       "      <td>512</td>\n",
       "      <td>2.079442</td>\n",
       "      <td>450.00</td>\n",
       "      <td>1.001129e+07</td>\n",
       "      <td>1</td>\n",
       "      <td>0</td>\n",
       "      <td>0</td>\n",
       "      <td>0</td>\n",
       "      <td>0</td>\n",
       "      <td>0.352742</td>\n",
       "    </tr>\n",
       "    <tr>\n",
       "      <th>11</th>\n",
       "      <td>1</td>\n",
       "      <td>3</td>\n",
       "      <td>4</td>\n",
       "      <td>11:32</td>\n",
       "      <td>12.1</td>\n",
       "      <td>14</td>\n",
       "      <td>11.9</td>\n",
       "      <td>14.6</td>\n",
       "      <td>2</td>\n",
       "      <td>made</td>\n",
       "      <td>...</td>\n",
       "      <td>2744</td>\n",
       "      <td>2.639057</td>\n",
       "      <td>1982.54</td>\n",
       "      <td>1.141977e+15</td>\n",
       "      <td>1</td>\n",
       "      <td>0</td>\n",
       "      <td>0</td>\n",
       "      <td>0</td>\n",
       "      <td>0</td>\n",
       "      <td>0.413750</td>\n",
       "    </tr>\n",
       "    <tr>\n",
       "      <th>12</th>\n",
       "      <td>1</td>\n",
       "      <td>4</td>\n",
       "      <td>4</td>\n",
       "      <td>8:55</td>\n",
       "      <td>4.3</td>\n",
       "      <td>2</td>\n",
       "      <td>2.9</td>\n",
       "      <td>5.9</td>\n",
       "      <td>2</td>\n",
       "      <td>made</td>\n",
       "      <td>...</td>\n",
       "      <td>8</td>\n",
       "      <td>0.693147</td>\n",
       "      <td>16.82</td>\n",
       "      <td>8.410000e+00</td>\n",
       "      <td>1</td>\n",
       "      <td>0</td>\n",
       "      <td>0</td>\n",
       "      <td>0</td>\n",
       "      <td>0</td>\n",
       "      <td>0.461861</td>\n",
       "    </tr>\n",
       "    <tr>\n",
       "      <th>13</th>\n",
       "      <td>15</td>\n",
       "      <td>1</td>\n",
       "      <td>4</td>\n",
       "      <td>9:10</td>\n",
       "      <td>4.4</td>\n",
       "      <td>0</td>\n",
       "      <td>0.8</td>\n",
       "      <td>26.4</td>\n",
       "      <td>3</td>\n",
       "      <td>missed</td>\n",
       "      <td>...</td>\n",
       "      <td>0</td>\n",
       "      <td>-inf</td>\n",
       "      <td>0.00</td>\n",
       "      <td>1.000000e+00</td>\n",
       "      <td>0</td>\n",
       "      <td>0</td>\n",
       "      <td>0</td>\n",
       "      <td>0</td>\n",
       "      <td>0</td>\n",
       "      <td>0.343901</td>\n",
       "    </tr>\n",
       "    <tr>\n",
       "      <th>14</th>\n",
       "      <td>-8</td>\n",
       "      <td>1</td>\n",
       "      <td>1</td>\n",
       "      <td>0:48</td>\n",
       "      <td>6.8</td>\n",
       "      <td>0</td>\n",
       "      <td>0.5</td>\n",
       "      <td>22.8</td>\n",
       "      <td>3</td>\n",
       "      <td>missed</td>\n",
       "      <td>...</td>\n",
       "      <td>0</td>\n",
       "      <td>-inf</td>\n",
       "      <td>0.00</td>\n",
       "      <td>1.000000e+00</td>\n",
       "      <td>1</td>\n",
       "      <td>0</td>\n",
       "      <td>0</td>\n",
       "      <td>0</td>\n",
       "      <td>0</td>\n",
       "      <td>0.389164</td>\n",
       "    </tr>\n",
       "    <tr>\n",
       "      <th>15</th>\n",
       "      <td>-8</td>\n",
       "      <td>2</td>\n",
       "      <td>2</td>\n",
       "      <td>10:38</td>\n",
       "      <td>6.4</td>\n",
       "      <td>3</td>\n",
       "      <td>2.7</td>\n",
       "      <td>24.7</td>\n",
       "      <td>3</td>\n",
       "      <td>made</td>\n",
       "      <td>...</td>\n",
       "      <td>27</td>\n",
       "      <td>1.098612</td>\n",
       "      <td>21.87</td>\n",
       "      <td>1.968300e+01</td>\n",
       "      <td>1</td>\n",
       "      <td>0</td>\n",
       "      <td>0</td>\n",
       "      <td>0</td>\n",
       "      <td>0</td>\n",
       "      <td>0.363920</td>\n",
       "    </tr>\n",
       "    <tr>\n",
       "      <th>16</th>\n",
       "      <td>-8</td>\n",
       "      <td>3</td>\n",
       "      <td>2</td>\n",
       "      <td>8:27</td>\n",
       "      <td>17.6</td>\n",
       "      <td>6</td>\n",
       "      <td>5.1</td>\n",
       "      <td>25.0</td>\n",
       "      <td>3</td>\n",
       "      <td>missed</td>\n",
       "      <td>...</td>\n",
       "      <td>216</td>\n",
       "      <td>1.791759</td>\n",
       "      <td>156.06</td>\n",
       "      <td>1.759629e+04</td>\n",
       "      <td>1</td>\n",
       "      <td>0</td>\n",
       "      <td>0</td>\n",
       "      <td>0</td>\n",
       "      <td>0</td>\n",
       "      <td>0.363920</td>\n",
       "    </tr>\n",
       "    <tr>\n",
       "      <th>17</th>\n",
       "      <td>-8</td>\n",
       "      <td>4</td>\n",
       "      <td>4</td>\n",
       "      <td>10:55</td>\n",
       "      <td>8.7</td>\n",
       "      <td>1</td>\n",
       "      <td>0.9</td>\n",
       "      <td>25.6</td>\n",
       "      <td>3</td>\n",
       "      <td>missed</td>\n",
       "      <td>...</td>\n",
       "      <td>1</td>\n",
       "      <td>0.000000</td>\n",
       "      <td>0.81</td>\n",
       "      <td>9.000000e-01</td>\n",
       "      <td>1</td>\n",
       "      <td>0</td>\n",
       "      <td>0</td>\n",
       "      <td>0</td>\n",
       "      <td>0</td>\n",
       "      <td>0.363920</td>\n",
       "    </tr>\n",
       "    <tr>\n",
       "      <th>19</th>\n",
       "      <td>12</td>\n",
       "      <td>1</td>\n",
       "      <td>1</td>\n",
       "      <td>3:35</td>\n",
       "      <td>17.5</td>\n",
       "      <td>2</td>\n",
       "      <td>2.2</td>\n",
       "      <td>25.4</td>\n",
       "      <td>3</td>\n",
       "      <td>missed</td>\n",
       "      <td>...</td>\n",
       "      <td>8</td>\n",
       "      <td>0.693147</td>\n",
       "      <td>9.68</td>\n",
       "      <td>4.840000e+00</td>\n",
       "      <td>0</td>\n",
       "      <td>0</td>\n",
       "      <td>0</td>\n",
       "      <td>0</td>\n",
       "      <td>0</td>\n",
       "      <td>0.355287</td>\n",
       "    </tr>\n",
       "    <tr>\n",
       "      <th>20</th>\n",
       "      <td>12</td>\n",
       "      <td>2</td>\n",
       "      <td>1</td>\n",
       "      <td>0:33</td>\n",
       "      <td>19.5</td>\n",
       "      <td>5</td>\n",
       "      <td>4.4</td>\n",
       "      <td>19.1</td>\n",
       "      <td>2</td>\n",
       "      <td>made</td>\n",
       "      <td>...</td>\n",
       "      <td>125</td>\n",
       "      <td>1.609438</td>\n",
       "      <td>96.80</td>\n",
       "      <td>1.649162e+03</td>\n",
       "      <td>0</td>\n",
       "      <td>0</td>\n",
       "      <td>0</td>\n",
       "      <td>0</td>\n",
       "      <td>0</td>\n",
       "      <td>0.396393</td>\n",
       "    </tr>\n",
       "    <tr>\n",
       "      <th>21</th>\n",
       "      <td>12</td>\n",
       "      <td>3</td>\n",
       "      <td>2</td>\n",
       "      <td>8:50</td>\n",
       "      <td>6.0</td>\n",
       "      <td>6</td>\n",
       "      <td>7.4</td>\n",
       "      <td>14.8</td>\n",
       "      <td>2</td>\n",
       "      <td>made</td>\n",
       "      <td>...</td>\n",
       "      <td>216</td>\n",
       "      <td>1.791759</td>\n",
       "      <td>328.56</td>\n",
       "      <td>1.642065e+05</td>\n",
       "      <td>0</td>\n",
       "      <td>0</td>\n",
       "      <td>0</td>\n",
       "      <td>0</td>\n",
       "      <td>0</td>\n",
       "      <td>0.396670</td>\n",
       "    </tr>\n",
       "    <tr>\n",
       "      <th>22</th>\n",
       "      <td>12</td>\n",
       "      <td>4</td>\n",
       "      <td>2</td>\n",
       "      <td>8:24</td>\n",
       "      <td>15.7</td>\n",
       "      <td>0</td>\n",
       "      <td>0.7</td>\n",
       "      <td>25.2</td>\n",
       "      <td>3</td>\n",
       "      <td>missed</td>\n",
       "      <td>...</td>\n",
       "      <td>0</td>\n",
       "      <td>-inf</td>\n",
       "      <td>0.00</td>\n",
       "      <td>1.000000e+00</td>\n",
       "      <td>0</td>\n",
       "      <td>0</td>\n",
       "      <td>0</td>\n",
       "      <td>0</td>\n",
       "      <td>0</td>\n",
       "      <td>0.342399</td>\n",
       "    </tr>\n",
       "    <tr>\n",
       "      <th>23</th>\n",
       "      <td>12</td>\n",
       "      <td>5</td>\n",
       "      <td>2</td>\n",
       "      <td>5:32</td>\n",
       "      <td>11.2</td>\n",
       "      <td>16</td>\n",
       "      <td>13.4</td>\n",
       "      <td>22.8</td>\n",
       "      <td>3</td>\n",
       "      <td>made</td>\n",
       "      <td>...</td>\n",
       "      <td>4096</td>\n",
       "      <td>2.772589</td>\n",
       "      <td>2872.96</td>\n",
       "      <td>1.080629e+18</td>\n",
       "      <td>0</td>\n",
       "      <td>0</td>\n",
       "      <td>0</td>\n",
       "      <td>0</td>\n",
       "      <td>0</td>\n",
       "      <td>0.382910</td>\n",
       "    </tr>\n",
       "    <tr>\n",
       "      <th>25</th>\n",
       "      <td>12</td>\n",
       "      <td>7</td>\n",
       "      <td>4</td>\n",
       "      <td>10:13</td>\n",
       "      <td>17.1</td>\n",
       "      <td>7</td>\n",
       "      <td>7.2</td>\n",
       "      <td>24.6</td>\n",
       "      <td>3</td>\n",
       "      <td>made</td>\n",
       "      <td>...</td>\n",
       "      <td>343</td>\n",
       "      <td>1.945910</td>\n",
       "      <td>362.88</td>\n",
       "      <td>1.003061e+06</td>\n",
       "      <td>0</td>\n",
       "      <td>0</td>\n",
       "      <td>0</td>\n",
       "      <td>0</td>\n",
       "      <td>0</td>\n",
       "      <td>0.348400</td>\n",
       "    </tr>\n",
       "    <tr>\n",
       "      <th>26</th>\n",
       "      <td>12</td>\n",
       "      <td>8</td>\n",
       "      <td>4</td>\n",
       "      <td>5:34</td>\n",
       "      <td>15.4</td>\n",
       "      <td>1</td>\n",
       "      <td>1.6</td>\n",
       "      <td>10.6</td>\n",
       "      <td>2</td>\n",
       "      <td>made</td>\n",
       "      <td>...</td>\n",
       "      <td>1</td>\n",
       "      <td>0.000000</td>\n",
       "      <td>2.56</td>\n",
       "      <td>1.600000e+00</td>\n",
       "      <td>0</td>\n",
       "      <td>0</td>\n",
       "      <td>0</td>\n",
       "      <td>0</td>\n",
       "      <td>0</td>\n",
       "      <td>0.400293</td>\n",
       "    </tr>\n",
       "    <tr>\n",
       "      <th>27</th>\n",
       "      <td>-11</td>\n",
       "      <td>1</td>\n",
       "      <td>1</td>\n",
       "      <td>2:25</td>\n",
       "      <td>12.3</td>\n",
       "      <td>0</td>\n",
       "      <td>0.8</td>\n",
       "      <td>20.2</td>\n",
       "      <td>2</td>\n",
       "      <td>missed</td>\n",
       "      <td>...</td>\n",
       "      <td>0</td>\n",
       "      <td>-inf</td>\n",
       "      <td>0.00</td>\n",
       "      <td>1.000000e+00</td>\n",
       "      <td>1</td>\n",
       "      <td>0</td>\n",
       "      <td>0</td>\n",
       "      <td>0</td>\n",
       "      <td>0</td>\n",
       "      <td>0.394239</td>\n",
       "    </tr>\n",
       "    <tr>\n",
       "      <th>28</th>\n",
       "      <td>-11</td>\n",
       "      <td>2</td>\n",
       "      <td>2</td>\n",
       "      <td>9:08</td>\n",
       "      <td>18.2</td>\n",
       "      <td>7</td>\n",
       "      <td>5.2</td>\n",
       "      <td>24.9</td>\n",
       "      <td>3</td>\n",
       "      <td>missed</td>\n",
       "      <td>...</td>\n",
       "      <td>343</td>\n",
       "      <td>1.945910</td>\n",
       "      <td>189.28</td>\n",
       "      <td>1.028072e+05</td>\n",
       "      <td>1</td>\n",
       "      <td>0</td>\n",
       "      <td>0</td>\n",
       "      <td>0</td>\n",
       "      <td>0</td>\n",
       "      <td>0.344173</td>\n",
       "    </tr>\n",
       "    <tr>\n",
       "      <th>29</th>\n",
       "      <td>-11</td>\n",
       "      <td>3</td>\n",
       "      <td>2</td>\n",
       "      <td>8:53</td>\n",
       "      <td>11.9</td>\n",
       "      <td>1</td>\n",
       "      <td>2.1</td>\n",
       "      <td>8.3</td>\n",
       "      <td>2</td>\n",
       "      <td>missed</td>\n",
       "      <td>...</td>\n",
       "      <td>1</td>\n",
       "      <td>0.000000</td>\n",
       "      <td>4.41</td>\n",
       "      <td>2.100000e+00</td>\n",
       "      <td>1</td>\n",
       "      <td>0</td>\n",
       "      <td>0</td>\n",
       "      <td>0</td>\n",
       "      <td>0</td>\n",
       "      <td>0.400083</td>\n",
       "    </tr>\n",
       "    <tr>\n",
       "      <th>30</th>\n",
       "      <td>-11</td>\n",
       "      <td>4</td>\n",
       "      <td>4</td>\n",
       "      <td>11:37</td>\n",
       "      <td>11.6</td>\n",
       "      <td>2</td>\n",
       "      <td>1.8</td>\n",
       "      <td>10.0</td>\n",
       "      <td>2</td>\n",
       "      <td>missed</td>\n",
       "      <td>...</td>\n",
       "      <td>8</td>\n",
       "      <td>0.693147</td>\n",
       "      <td>6.48</td>\n",
       "      <td>3.240000e+00</td>\n",
       "      <td>1</td>\n",
       "      <td>0</td>\n",
       "      <td>0</td>\n",
       "      <td>0</td>\n",
       "      <td>0</td>\n",
       "      <td>0.402556</td>\n",
       "    </tr>\n",
       "    <tr>\n",
       "      <th>32</th>\n",
       "      <td>-7</td>\n",
       "      <td>2</td>\n",
       "      <td>2</td>\n",
       "      <td>9:34</td>\n",
       "      <td>6.0</td>\n",
       "      <td>1</td>\n",
       "      <td>0.8</td>\n",
       "      <td>24.2</td>\n",
       "      <td>3</td>\n",
       "      <td>missed</td>\n",
       "      <td>...</td>\n",
       "      <td>1</td>\n",
       "      <td>0.000000</td>\n",
       "      <td>0.64</td>\n",
       "      <td>8.000000e-01</td>\n",
       "      <td>1</td>\n",
       "      <td>0</td>\n",
       "      <td>0</td>\n",
       "      <td>0</td>\n",
       "      <td>0</td>\n",
       "      <td>0.375298</td>\n",
       "    </tr>\n",
       "    <tr>\n",
       "      <th>33</th>\n",
       "      <td>-7</td>\n",
       "      <td>3</td>\n",
       "      <td>4</td>\n",
       "      <td>11:34</td>\n",
       "      <td>9.9</td>\n",
       "      <td>1</td>\n",
       "      <td>2.2</td>\n",
       "      <td>7.6</td>\n",
       "      <td>2</td>\n",
       "      <td>made</td>\n",
       "      <td>...</td>\n",
       "      <td>1</td>\n",
       "      <td>0.000000</td>\n",
       "      <td>4.84</td>\n",
       "      <td>2.200000e+00</td>\n",
       "      <td>1</td>\n",
       "      <td>0</td>\n",
       "      <td>0</td>\n",
       "      <td>0</td>\n",
       "      <td>0</td>\n",
       "      <td>0.407969</td>\n",
       "    </tr>\n",
       "    <tr>\n",
       "      <th>34</th>\n",
       "      <td>-7</td>\n",
       "      <td>4</td>\n",
       "      <td>4</td>\n",
       "      <td>8:08</td>\n",
       "      <td>6.1</td>\n",
       "      <td>2</td>\n",
       "      <td>1.8</td>\n",
       "      <td>8.0</td>\n",
       "      <td>2</td>\n",
       "      <td>made</td>\n",
       "      <td>...</td>\n",
       "      <td>8</td>\n",
       "      <td>0.693147</td>\n",
       "      <td>6.48</td>\n",
       "      <td>3.240000e+00</td>\n",
       "      <td>1</td>\n",
       "      <td>0</td>\n",
       "      <td>0</td>\n",
       "      <td>0</td>\n",
       "      <td>0</td>\n",
       "      <td>0.404822</td>\n",
       "    </tr>\n",
       "    <tr>\n",
       "      <th>35</th>\n",
       "      <td>-28</td>\n",
       "      <td>1</td>\n",
       "      <td>1</td>\n",
       "      <td>8:46</td>\n",
       "      <td>16.0</td>\n",
       "      <td>10</td>\n",
       "      <td>7.5</td>\n",
       "      <td>6.9</td>\n",
       "      <td>2</td>\n",
       "      <td>made</td>\n",
       "      <td>...</td>\n",
       "      <td>1000</td>\n",
       "      <td>2.302585</td>\n",
       "      <td>562.50</td>\n",
       "      <td>5.631351e+08</td>\n",
       "      <td>1</td>\n",
       "      <td>0</td>\n",
       "      <td>0</td>\n",
       "      <td>0</td>\n",
       "      <td>0</td>\n",
       "      <td>0.418263</td>\n",
       "    </tr>\n",
       "    <tr>\n",
       "      <th>36</th>\n",
       "      <td>-28</td>\n",
       "      <td>2</td>\n",
       "      <td>3</td>\n",
       "      <td>7:19</td>\n",
       "      <td>11.7</td>\n",
       "      <td>0</td>\n",
       "      <td>0.9</td>\n",
       "      <td>24.1</td>\n",
       "      <td>3</td>\n",
       "      <td>missed</td>\n",
       "      <td>...</td>\n",
       "      <td>0</td>\n",
       "      <td>-inf</td>\n",
       "      <td>0.00</td>\n",
       "      <td>1.000000e+00</td>\n",
       "      <td>1</td>\n",
       "      <td>0</td>\n",
       "      <td>0</td>\n",
       "      <td>0</td>\n",
       "      <td>0</td>\n",
       "      <td>0.361144</td>\n",
       "    </tr>\n",
       "    <tr>\n",
       "      <th>37</th>\n",
       "      <td>-28</td>\n",
       "      <td>3</td>\n",
       "      <td>4</td>\n",
       "      <td>10:58</td>\n",
       "      <td>6.5</td>\n",
       "      <td>1</td>\n",
       "      <td>1.8</td>\n",
       "      <td>5.1</td>\n",
       "      <td>2</td>\n",
       "      <td>missed</td>\n",
       "      <td>...</td>\n",
       "      <td>1</td>\n",
       "      <td>0.000000</td>\n",
       "      <td>3.24</td>\n",
       "      <td>1.800000e+00</td>\n",
       "      <td>1</td>\n",
       "      <td>0</td>\n",
       "      <td>0</td>\n",
       "      <td>0</td>\n",
       "      <td>0</td>\n",
       "      <td>0.525375</td>\n",
       "    </tr>\n",
       "    <tr>\n",
       "      <th>38</th>\n",
       "      <td>-28</td>\n",
       "      <td>4</td>\n",
       "      <td>4</td>\n",
       "      <td>7:52</td>\n",
       "      <td>13.8</td>\n",
       "      <td>0</td>\n",
       "      <td>0.9</td>\n",
       "      <td>25.0</td>\n",
       "      <td>3</td>\n",
       "      <td>missed</td>\n",
       "      <td>...</td>\n",
       "      <td>0</td>\n",
       "      <td>-inf</td>\n",
       "      <td>0.00</td>\n",
       "      <td>1.000000e+00</td>\n",
       "      <td>1</td>\n",
       "      <td>0</td>\n",
       "      <td>0</td>\n",
       "      <td>0</td>\n",
       "      <td>0</td>\n",
       "      <td>0.348681</td>\n",
       "    </tr>\n",
       "    <tr>\n",
       "      <th>39</th>\n",
       "      <td>-28</td>\n",
       "      <td>5</td>\n",
       "      <td>4</td>\n",
       "      <td>1:33</td>\n",
       "      <td>12.1</td>\n",
       "      <td>0</td>\n",
       "      <td>0.9</td>\n",
       "      <td>24.0</td>\n",
       "      <td>3</td>\n",
       "      <td>missed</td>\n",
       "      <td>...</td>\n",
       "      <td>0</td>\n",
       "      <td>-inf</td>\n",
       "      <td>0.00</td>\n",
       "      <td>1.000000e+00</td>\n",
       "      <td>1</td>\n",
       "      <td>0</td>\n",
       "      <td>0</td>\n",
       "      <td>0</td>\n",
       "      <td>0</td>\n",
       "      <td>0.361144</td>\n",
       "    </tr>\n",
       "    <tr>\n",
       "      <th>40</th>\n",
       "      <td>-28</td>\n",
       "      <td>6</td>\n",
       "      <td>4</td>\n",
       "      <td>0:25</td>\n",
       "      <td>8.3</td>\n",
       "      <td>6</td>\n",
       "      <td>5.8</td>\n",
       "      <td>9.3</td>\n",
       "      <td>2</td>\n",
       "      <td>missed</td>\n",
       "      <td>...</td>\n",
       "      <td>216</td>\n",
       "      <td>1.791759</td>\n",
       "      <td>201.84</td>\n",
       "      <td>3.806869e+04</td>\n",
       "      <td>1</td>\n",
       "      <td>0</td>\n",
       "      <td>0</td>\n",
       "      <td>0</td>\n",
       "      <td>0</td>\n",
       "      <td>0.391588</td>\n",
       "    </tr>\n",
       "    <tr>\n",
       "      <th>42</th>\n",
       "      <td>-1</td>\n",
       "      <td>2</td>\n",
       "      <td>1</td>\n",
       "      <td>5:21</td>\n",
       "      <td>12.8</td>\n",
       "      <td>0</td>\n",
       "      <td>0.9</td>\n",
       "      <td>22.5</td>\n",
       "      <td>3</td>\n",
       "      <td>made</td>\n",
       "      <td>...</td>\n",
       "      <td>0</td>\n",
       "      <td>-inf</td>\n",
       "      <td>0.00</td>\n",
       "      <td>1.000000e+00</td>\n",
       "      <td>1</td>\n",
       "      <td>0</td>\n",
       "      <td>0</td>\n",
       "      <td>0</td>\n",
       "      <td>0</td>\n",
       "      <td>0.357362</td>\n",
       "    </tr>\n",
       "    <tr>\n",
       "      <th>43</th>\n",
       "      <td>-1</td>\n",
       "      <td>3</td>\n",
       "      <td>1</td>\n",
       "      <td>4:22</td>\n",
       "      <td>16.5</td>\n",
       "      <td>7</td>\n",
       "      <td>6.2</td>\n",
       "      <td>8.8</td>\n",
       "      <td>2</td>\n",
       "      <td>missed</td>\n",
       "      <td>...</td>\n",
       "      <td>343</td>\n",
       "      <td>1.945910</td>\n",
       "      <td>269.08</td>\n",
       "      <td>3.521615e+05</td>\n",
       "      <td>1</td>\n",
       "      <td>0</td>\n",
       "      <td>0</td>\n",
       "      <td>0</td>\n",
       "      <td>0</td>\n",
       "      <td>0.397857</td>\n",
       "    </tr>\n",
       "    <tr>\n",
       "      <th>44</th>\n",
       "      <td>-1</td>\n",
       "      <td>4</td>\n",
       "      <td>1</td>\n",
       "      <td>0:31</td>\n",
       "      <td>11.3</td>\n",
       "      <td>0</td>\n",
       "      <td>0.8</td>\n",
       "      <td>20.0</td>\n",
       "      <td>2</td>\n",
       "      <td>made</td>\n",
       "      <td>...</td>\n",
       "      <td>0</td>\n",
       "      <td>-inf</td>\n",
       "      <td>0.00</td>\n",
       "      <td>1.000000e+00</td>\n",
       "      <td>1</td>\n",
       "      <td>0</td>\n",
       "      <td>0</td>\n",
       "      <td>0</td>\n",
       "      <td>0</td>\n",
       "      <td>0.381389</td>\n",
       "    </tr>\n",
       "    <tr>\n",
       "      <th>45</th>\n",
       "      <td>-1</td>\n",
       "      <td>5</td>\n",
       "      <td>2</td>\n",
       "      <td>11:47</td>\n",
       "      <td>9.7</td>\n",
       "      <td>1</td>\n",
       "      <td>0.8</td>\n",
       "      <td>24.7</td>\n",
       "      <td>3</td>\n",
       "      <td>missed</td>\n",
       "      <td>...</td>\n",
       "      <td>1</td>\n",
       "      <td>0.000000</td>\n",
       "      <td>0.64</td>\n",
       "      <td>8.000000e-01</td>\n",
       "      <td>1</td>\n",
       "      <td>0</td>\n",
       "      <td>0</td>\n",
       "      <td>0</td>\n",
       "      <td>0</td>\n",
       "      <td>0.352742</td>\n",
       "    </tr>\n",
       "    <tr>\n",
       "      <th>46</th>\n",
       "      <td>-1</td>\n",
       "      <td>6</td>\n",
       "      <td>2</td>\n",
       "      <td>9:18</td>\n",
       "      <td>0.7</td>\n",
       "      <td>3</td>\n",
       "      <td>3.7</td>\n",
       "      <td>5.6</td>\n",
       "      <td>2</td>\n",
       "      <td>made</td>\n",
       "      <td>...</td>\n",
       "      <td>27</td>\n",
       "      <td>1.098612</td>\n",
       "      <td>41.07</td>\n",
       "      <td>5.065300e+01</td>\n",
       "      <td>1</td>\n",
       "      <td>0</td>\n",
       "      <td>0</td>\n",
       "      <td>0</td>\n",
       "      <td>0</td>\n",
       "      <td>0.467294</td>\n",
       "    </tr>\n",
       "    <tr>\n",
       "      <th>47</th>\n",
       "      <td>-1</td>\n",
       "      <td>7</td>\n",
       "      <td>3</td>\n",
       "      <td>5:19</td>\n",
       "      <td>9.4</td>\n",
       "      <td>0</td>\n",
       "      <td>0.9</td>\n",
       "      <td>23.1</td>\n",
       "      <td>3</td>\n",
       "      <td>made</td>\n",
       "      <td>...</td>\n",
       "      <td>0</td>\n",
       "      <td>-inf</td>\n",
       "      <td>0.00</td>\n",
       "      <td>1.000000e+00</td>\n",
       "      <td>1</td>\n",
       "      <td>0</td>\n",
       "      <td>0</td>\n",
       "      <td>0</td>\n",
       "      <td>0</td>\n",
       "      <td>0.357362</td>\n",
       "    </tr>\n",
       "    <tr>\n",
       "      <th>48</th>\n",
       "      <td>-1</td>\n",
       "      <td>8</td>\n",
       "      <td>3</td>\n",
       "      <td>5:05</td>\n",
       "      <td>19.4</td>\n",
       "      <td>0</td>\n",
       "      <td>1.0</td>\n",
       "      <td>5.2</td>\n",
       "      <td>2</td>\n",
       "      <td>made</td>\n",
       "      <td>...</td>\n",
       "      <td>0</td>\n",
       "      <td>-inf</td>\n",
       "      <td>0.00</td>\n",
       "      <td>1.000000e+00</td>\n",
       "      <td>1</td>\n",
       "      <td>0</td>\n",
       "      <td>0</td>\n",
       "      <td>0</td>\n",
       "      <td>0</td>\n",
       "      <td>0.474738</td>\n",
       "    </tr>\n",
       "    <tr>\n",
       "      <th>49</th>\n",
       "      <td>-1</td>\n",
       "      <td>9</td>\n",
       "      <td>3</td>\n",
       "      <td>2:31</td>\n",
       "      <td>15.8</td>\n",
       "      <td>9</td>\n",
       "      <td>7.3</td>\n",
       "      <td>20.0</td>\n",
       "      <td>2</td>\n",
       "      <td>missed</td>\n",
       "      <td>...</td>\n",
       "      <td>729</td>\n",
       "      <td>2.197225</td>\n",
       "      <td>479.61</td>\n",
       "      <td>5.887159e+07</td>\n",
       "      <td>1</td>\n",
       "      <td>0</td>\n",
       "      <td>0</td>\n",
       "      <td>0</td>\n",
       "      <td>0</td>\n",
       "      <td>0.381389</td>\n",
       "    </tr>\n",
       "    <tr>\n",
       "      <th>50</th>\n",
       "      <td>-1</td>\n",
       "      <td>10</td>\n",
       "      <td>3</td>\n",
       "      <td>1:01</td>\n",
       "      <td>4.8</td>\n",
       "      <td>2</td>\n",
       "      <td>2.8</td>\n",
       "      <td>16.1</td>\n",
       "      <td>2</td>\n",
       "      <td>missed</td>\n",
       "      <td>...</td>\n",
       "      <td>8</td>\n",
       "      <td>0.693147</td>\n",
       "      <td>15.68</td>\n",
       "      <td>7.840000e+00</td>\n",
       "      <td>1</td>\n",
       "      <td>0</td>\n",
       "      <td>0</td>\n",
       "      <td>0</td>\n",
       "      <td>0</td>\n",
       "      <td>0.440209</td>\n",
       "    </tr>\n",
       "    <tr>\n",
       "      <th>51</th>\n",
       "      <td>-1</td>\n",
       "      <td>11</td>\n",
       "      <td>3</td>\n",
       "      <td>0:32</td>\n",
       "      <td>16.2</td>\n",
       "      <td>9</td>\n",
       "      <td>7.8</td>\n",
       "      <td>6.7</td>\n",
       "      <td>2</td>\n",
       "      <td>made</td>\n",
       "      <td>...</td>\n",
       "      <td>729</td>\n",
       "      <td>2.197225</td>\n",
       "      <td>547.56</td>\n",
       "      <td>1.068689e+08</td>\n",
       "      <td>1</td>\n",
       "      <td>0</td>\n",
       "      <td>0</td>\n",
       "      <td>0</td>\n",
       "      <td>0</td>\n",
       "      <td>0.388314</td>\n",
       "    </tr>\n",
       "    <tr>\n",
       "      <th>52</th>\n",
       "      <td>-1</td>\n",
       "      <td>12</td>\n",
       "      <td>4</td>\n",
       "      <td>5:40</td>\n",
       "      <td>22.0</td>\n",
       "      <td>0</td>\n",
       "      <td>1.0</td>\n",
       "      <td>5.0</td>\n",
       "      <td>2</td>\n",
       "      <td>made</td>\n",
       "      <td>...</td>\n",
       "      <td>0</td>\n",
       "      <td>-inf</td>\n",
       "      <td>0.00</td>\n",
       "      <td>1.000000e+00</td>\n",
       "      <td>1</td>\n",
       "      <td>0</td>\n",
       "      <td>0</td>\n",
       "      <td>0</td>\n",
       "      <td>0</td>\n",
       "      <td>0.504824</td>\n",
       "    </tr>\n",
       "    <tr>\n",
       "      <th>53</th>\n",
       "      <td>-1</td>\n",
       "      <td>13</td>\n",
       "      <td>4</td>\n",
       "      <td>2:50</td>\n",
       "      <td>6.5</td>\n",
       "      <td>2</td>\n",
       "      <td>1.6</td>\n",
       "      <td>11.4</td>\n",
       "      <td>2</td>\n",
       "      <td>missed</td>\n",
       "      <td>...</td>\n",
       "      <td>8</td>\n",
       "      <td>0.693147</td>\n",
       "      <td>5.12</td>\n",
       "      <td>2.560000e+00</td>\n",
       "      <td>1</td>\n",
       "      <td>0</td>\n",
       "      <td>0</td>\n",
       "      <td>0</td>\n",
       "      <td>0</td>\n",
       "      <td>0.413750</td>\n",
       "    </tr>\n",
       "    <tr>\n",
       "      <th>55</th>\n",
       "      <td>-8</td>\n",
       "      <td>1</td>\n",
       "      <td>1</td>\n",
       "      <td>9:21</td>\n",
       "      <td>10.7</td>\n",
       "      <td>0</td>\n",
       "      <td>0.8</td>\n",
       "      <td>19.5</td>\n",
       "      <td>2</td>\n",
       "      <td>made</td>\n",
       "      <td>...</td>\n",
       "      <td>0</td>\n",
       "      <td>-inf</td>\n",
       "      <td>0.00</td>\n",
       "      <td>1.000000e+00</td>\n",
       "      <td>1</td>\n",
       "      <td>0</td>\n",
       "      <td>0</td>\n",
       "      <td>0</td>\n",
       "      <td>0</td>\n",
       "      <td>0.385415</td>\n",
       "    </tr>\n",
       "    <tr>\n",
       "      <th>56</th>\n",
       "      <td>-8</td>\n",
       "      <td>2</td>\n",
       "      <td>1</td>\n",
       "      <td>7:32</td>\n",
       "      <td>5.0</td>\n",
       "      <td>2</td>\n",
       "      <td>4.7</td>\n",
       "      <td>22.9</td>\n",
       "      <td>2</td>\n",
       "      <td>missed</td>\n",
       "      <td>...</td>\n",
       "      <td>8</td>\n",
       "      <td>0.693147</td>\n",
       "      <td>44.18</td>\n",
       "      <td>2.209000e+01</td>\n",
       "      <td>1</td>\n",
       "      <td>0</td>\n",
       "      <td>0</td>\n",
       "      <td>0</td>\n",
       "      <td>0</td>\n",
       "      <td>0.389164</td>\n",
       "    </tr>\n",
       "  </tbody>\n",
       "</table>\n",
       "<p>50 rows × 35 columns</p>\n",
       "</div>"
      ],
      "text/plain": [
       "    FINAL_MARGIN  SHOT_NUMBER  PERIOD GAME_CLOCK  SHOT_CLOCK  DRIBBLES  \\\n",
       "0             24            1       1       1:09        10.8         2   \n",
       "1             24            2       1       0:14         3.4         0   \n",
       "3             24            4       2      11:47        10.3         2   \n",
       "4             24            5       2      10:34        10.9         2   \n",
       "5             24            6       2       8:15         9.1         2   \n",
       "6             24            7       4      10:15        14.5        11   \n",
       "7             24            8       4       8:00         3.4         3   \n",
       "8             24            9       4       5:14        12.4         0   \n",
       "10             1            2       2       6:30        16.0         8   \n",
       "11             1            3       4      11:32        12.1        14   \n",
       "12             1            4       4       8:55         4.3         2   \n",
       "13            15            1       4       9:10         4.4         0   \n",
       "14            -8            1       1       0:48         6.8         0   \n",
       "15            -8            2       2      10:38         6.4         3   \n",
       "16            -8            3       2       8:27        17.6         6   \n",
       "17            -8            4       4      10:55         8.7         1   \n",
       "19            12            1       1       3:35        17.5         2   \n",
       "20            12            2       1       0:33        19.5         5   \n",
       "21            12            3       2       8:50         6.0         6   \n",
       "22            12            4       2       8:24        15.7         0   \n",
       "23            12            5       2       5:32        11.2        16   \n",
       "25            12            7       4      10:13        17.1         7   \n",
       "26            12            8       4       5:34        15.4         1   \n",
       "27           -11            1       1       2:25        12.3         0   \n",
       "28           -11            2       2       9:08        18.2         7   \n",
       "29           -11            3       2       8:53        11.9         1   \n",
       "30           -11            4       4      11:37        11.6         2   \n",
       "32            -7            2       2       9:34         6.0         1   \n",
       "33            -7            3       4      11:34         9.9         1   \n",
       "34            -7            4       4       8:08         6.1         2   \n",
       "35           -28            1       1       8:46        16.0        10   \n",
       "36           -28            2       3       7:19        11.7         0   \n",
       "37           -28            3       4      10:58         6.5         1   \n",
       "38           -28            4       4       7:52        13.8         0   \n",
       "39           -28            5       4       1:33        12.1         0   \n",
       "40           -28            6       4       0:25         8.3         6   \n",
       "42            -1            2       1       5:21        12.8         0   \n",
       "43            -1            3       1       4:22        16.5         7   \n",
       "44            -1            4       1       0:31        11.3         0   \n",
       "45            -1            5       2      11:47         9.7         1   \n",
       "46            -1            6       2       9:18         0.7         3   \n",
       "47            -1            7       3       5:19         9.4         0   \n",
       "48            -1            8       3       5:05        19.4         0   \n",
       "49            -1            9       3       2:31        15.8         9   \n",
       "50            -1           10       3       1:01         4.8         2   \n",
       "51            -1           11       3       0:32        16.2         9   \n",
       "52            -1           12       4       5:40        22.0         0   \n",
       "53            -1           13       4       2:50         6.5         2   \n",
       "55            -8            1       1       9:21        10.7         0   \n",
       "56            -8            2       1       7:32         5.0         2   \n",
       "\n",
       "    TOUCH_TIME  SHOT_DIST  PTS_TYPE SHOT_RESULT     ...      DRIBBLES_THIRD  \\\n",
       "0          1.9        7.7         2        made     ...                   8   \n",
       "1          0.8       28.2         3      missed     ...                   0   \n",
       "3          1.9       17.2         2      missed     ...                   8   \n",
       "4          2.7        3.7         2      missed     ...                   8   \n",
       "5          4.4       18.4         2      missed     ...                   8   \n",
       "6          9.0       20.7         2      missed     ...                1331   \n",
       "7          2.5        3.5         2        made     ...                  27   \n",
       "8          0.8       24.6         3      missed     ...                   0   \n",
       "10         7.5       24.5         3      missed     ...                 512   \n",
       "11        11.9       14.6         2        made     ...                2744   \n",
       "12         2.9        5.9         2        made     ...                   8   \n",
       "13         0.8       26.4         3      missed     ...                   0   \n",
       "14         0.5       22.8         3      missed     ...                   0   \n",
       "15         2.7       24.7         3        made     ...                  27   \n",
       "16         5.1       25.0         3      missed     ...                 216   \n",
       "17         0.9       25.6         3      missed     ...                   1   \n",
       "19         2.2       25.4         3      missed     ...                   8   \n",
       "20         4.4       19.1         2        made     ...                 125   \n",
       "21         7.4       14.8         2        made     ...                 216   \n",
       "22         0.7       25.2         3      missed     ...                   0   \n",
       "23        13.4       22.8         3        made     ...                4096   \n",
       "25         7.2       24.6         3        made     ...                 343   \n",
       "26         1.6       10.6         2        made     ...                   1   \n",
       "27         0.8       20.2         2      missed     ...                   0   \n",
       "28         5.2       24.9         3      missed     ...                 343   \n",
       "29         2.1        8.3         2      missed     ...                   1   \n",
       "30         1.8       10.0         2      missed     ...                   8   \n",
       "32         0.8       24.2         3      missed     ...                   1   \n",
       "33         2.2        7.6         2        made     ...                   1   \n",
       "34         1.8        8.0         2        made     ...                   8   \n",
       "35         7.5        6.9         2        made     ...                1000   \n",
       "36         0.9       24.1         3      missed     ...                   0   \n",
       "37         1.8        5.1         2      missed     ...                   1   \n",
       "38         0.9       25.0         3      missed     ...                   0   \n",
       "39         0.9       24.0         3      missed     ...                   0   \n",
       "40         5.8        9.3         2      missed     ...                 216   \n",
       "42         0.9       22.5         3        made     ...                   0   \n",
       "43         6.2        8.8         2      missed     ...                 343   \n",
       "44         0.8       20.0         2        made     ...                   0   \n",
       "45         0.8       24.7         3      missed     ...                   1   \n",
       "46         3.7        5.6         2        made     ...                  27   \n",
       "47         0.9       23.1         3        made     ...                   0   \n",
       "48         1.0        5.2         2        made     ...                   0   \n",
       "49         7.3       20.0         2      missed     ...                 729   \n",
       "50         2.8       16.1         2      missed     ...                   8   \n",
       "51         7.8        6.7         2        made     ...                 729   \n",
       "52         1.0        5.0         2        made     ...                   0   \n",
       "53         1.6       11.4         2      missed     ...                   8   \n",
       "55         0.8       19.5         2        made     ...                   0   \n",
       "56         4.7       22.9         2      missed     ...                   8   \n",
       "\n",
       "    DRIBBLES_LOG  DRIBBLES-TT      TT_SQ_DR  D_!  D_2  D_3  D_4  D_5  \\\n",
       "0       0.693147         7.22  3.610000e+00    0    0    0    0    0   \n",
       "1           -inf         0.00  1.000000e+00    0    0    0    0    0   \n",
       "3       0.693147         7.22  3.610000e+00    0    0    0    0    0   \n",
       "4       0.693147        14.58  7.290000e+00    0    0    0    0    0   \n",
       "5       0.693147        38.72  1.936000e+01    0    0    0    0    0   \n",
       "6       2.397895       891.00  3.138106e+10    0    0    0    0    0   \n",
       "7       1.098612        18.75  1.562500e+01    0    0    0    0    0   \n",
       "8           -inf         0.00  1.000000e+00    0    0    0    0    0   \n",
       "10      2.079442       450.00  1.001129e+07    1    0    0    0    0   \n",
       "11      2.639057      1982.54  1.141977e+15    1    0    0    0    0   \n",
       "12      0.693147        16.82  8.410000e+00    1    0    0    0    0   \n",
       "13          -inf         0.00  1.000000e+00    0    0    0    0    0   \n",
       "14          -inf         0.00  1.000000e+00    1    0    0    0    0   \n",
       "15      1.098612        21.87  1.968300e+01    1    0    0    0    0   \n",
       "16      1.791759       156.06  1.759629e+04    1    0    0    0    0   \n",
       "17      0.000000         0.81  9.000000e-01    1    0    0    0    0   \n",
       "19      0.693147         9.68  4.840000e+00    0    0    0    0    0   \n",
       "20      1.609438        96.80  1.649162e+03    0    0    0    0    0   \n",
       "21      1.791759       328.56  1.642065e+05    0    0    0    0    0   \n",
       "22          -inf         0.00  1.000000e+00    0    0    0    0    0   \n",
       "23      2.772589      2872.96  1.080629e+18    0    0    0    0    0   \n",
       "25      1.945910       362.88  1.003061e+06    0    0    0    0    0   \n",
       "26      0.000000         2.56  1.600000e+00    0    0    0    0    0   \n",
       "27          -inf         0.00  1.000000e+00    1    0    0    0    0   \n",
       "28      1.945910       189.28  1.028072e+05    1    0    0    0    0   \n",
       "29      0.000000         4.41  2.100000e+00    1    0    0    0    0   \n",
       "30      0.693147         6.48  3.240000e+00    1    0    0    0    0   \n",
       "32      0.000000         0.64  8.000000e-01    1    0    0    0    0   \n",
       "33      0.000000         4.84  2.200000e+00    1    0    0    0    0   \n",
       "34      0.693147         6.48  3.240000e+00    1    0    0    0    0   \n",
       "35      2.302585       562.50  5.631351e+08    1    0    0    0    0   \n",
       "36          -inf         0.00  1.000000e+00    1    0    0    0    0   \n",
       "37      0.000000         3.24  1.800000e+00    1    0    0    0    0   \n",
       "38          -inf         0.00  1.000000e+00    1    0    0    0    0   \n",
       "39          -inf         0.00  1.000000e+00    1    0    0    0    0   \n",
       "40      1.791759       201.84  3.806869e+04    1    0    0    0    0   \n",
       "42          -inf         0.00  1.000000e+00    1    0    0    0    0   \n",
       "43      1.945910       269.08  3.521615e+05    1    0    0    0    0   \n",
       "44          -inf         0.00  1.000000e+00    1    0    0    0    0   \n",
       "45      0.000000         0.64  8.000000e-01    1    0    0    0    0   \n",
       "46      1.098612        41.07  5.065300e+01    1    0    0    0    0   \n",
       "47          -inf         0.00  1.000000e+00    1    0    0    0    0   \n",
       "48          -inf         0.00  1.000000e+00    1    0    0    0    0   \n",
       "49      2.197225       479.61  5.887159e+07    1    0    0    0    0   \n",
       "50      0.693147        15.68  7.840000e+00    1    0    0    0    0   \n",
       "51      2.197225       547.56  1.068689e+08    1    0    0    0    0   \n",
       "52          -inf         0.00  1.000000e+00    1    0    0    0    0   \n",
       "53      0.693147         5.12  2.560000e+00    1    0    0    0    0   \n",
       "55          -inf         0.00  1.000000e+00    1    0    0    0    0   \n",
       "56      0.693147        44.18  2.209000e+01    1    0    0    0    0   \n",
       "\n",
       "    PREDICTION  \n",
       "0     0.402303  \n",
       "1     0.342466  \n",
       "3     0.390585  \n",
       "4     0.598688  \n",
       "5     0.385852  \n",
       "6     0.381681  \n",
       "7     0.611235  \n",
       "8     0.350055  \n",
       "10    0.352742  \n",
       "11    0.413750  \n",
       "12    0.461861  \n",
       "13    0.343901  \n",
       "14    0.389164  \n",
       "15    0.363920  \n",
       "16    0.363920  \n",
       "17    0.363920  \n",
       "19    0.355287  \n",
       "20    0.396393  \n",
       "21    0.396670  \n",
       "22    0.342399  \n",
       "23    0.382910  \n",
       "25    0.348400  \n",
       "26    0.400293  \n",
       "27    0.394239  \n",
       "28    0.344173  \n",
       "29    0.400083  \n",
       "30    0.402556  \n",
       "32    0.375298  \n",
       "33    0.407969  \n",
       "34    0.404822  \n",
       "35    0.418263  \n",
       "36    0.361144  \n",
       "37    0.525375  \n",
       "38    0.348681  \n",
       "39    0.361144  \n",
       "40    0.391588  \n",
       "42    0.357362  \n",
       "43    0.397857  \n",
       "44    0.381389  \n",
       "45    0.352742  \n",
       "46    0.467294  \n",
       "47    0.357362  \n",
       "48    0.474738  \n",
       "49    0.381389  \n",
       "50    0.440209  \n",
       "51    0.388314  \n",
       "52    0.504824  \n",
       "53    0.413750  \n",
       "55    0.385415  \n",
       "56    0.389164  \n",
       "\n",
       "[50 rows x 35 columns]"
      ]
     },
     "execution_count": 381,
     "metadata": {},
     "output_type": "execute_result"
    }
   ],
   "source": [
    "# Adding the prediction of shot made to the DF\n",
    "prediction = []\n",
    "for pred in predictions:\n",
    "    pred = pred[1]\n",
    "    prediction.append(pred)\n",
    "df['PREDICTION'] = prediction\n",
    "df.head(50)"
   ]
  },
  {
   "cell_type": "code",
   "execution_count": 26,
   "metadata": {},
   "outputs": [
    {
     "name": "stdout",
     "output_type": "stream",
     "text": [
      "\n",
      " FGM\n",
      "FGM        0     1\n",
      "row_0             \n",
      "0      10840  7097\n",
      "1       3912  5682\n",
      "\n",
      " Percentage accuracy\n",
      "0.600123497149\n"
     ]
    }
   ],
   "source": [
    "#-------------------------Sklearn Logistic regression------------------------------------\n",
    "lr = LogisticRegression(C=25)\n",
    "y = df['FGM']\n",
    "X = df[['CLOSE_DEF_DIST', 'SHOT_DIST', 'TOUCH_TIME_SQUARED', 'PERIOD', 'DIST_DIST']]\n",
    "X = pd.concat([X, players], axis=1, ignore_index=True)\n",
    "X_training = X[:82593]\n",
    "y_training = y[:82593]\n",
    "X_test = X[82593:]\n",
    "y_test = y[82593:]\n",
    "fit = lr.fit(X_training, y_training)\n",
    "pred_y_sklearn = lr.predict(X_test)\n",
    "print('\\n FGM')\n",
    "print(pd.crosstab(pred_y_sklearn, y_test))\n",
    "print('\\n Percentage accuracy')\n",
    "print(lr.score(X_test, y_test))\n"
   ]
  },
  {
   "cell_type": "code",
   "execution_count": 27,
   "metadata": {},
   "outputs": [
    {
     "name": "stderr",
     "output_type": "stream",
     "text": [
      "/Users/kylehoward/Desktop/Thinkful/anaconda/lib/python3.6/site-packages/matplotlib/axes/_axes.py:545: UserWarning: No labelled objects found. Use label='...' kwarg on individual plots.\n",
      "  warnings.warn(\"No labelled objects found. \"\n"
     ]
    },
    {
     "data": {
      "image/png": "[encoded data removed]",
      "text/plain": [
       "<matplotlib.figure.Figure at 0x1101d60f0>"
      ]
     },
     "metadata": {},
     "output_type": "display_data"
    },
    {
     "name": "stdout",
     "output_type": "stream",
     "text": [
      "0.589725674358\n"
     ]
    }
   ],
   "source": [
    "# Plotting ROC\n",
    "fpr_l, tpr_l, thresholds = sklearn.metrics.roc_curve(y_test, pred_y_sklearn)\n",
    "plt.figure()\n",
    "a = roc_auc_score(y_test, pred_y_sklearn)\n",
    "lw = 2\n",
    "plt.plot(fpr_l, tpr_l, color='darkorange',\n",
    "         lw=lw)\n",
    "plt.plot([0, 1], [0, 1], color='purple', lw=lw, linestyle='--')\n",
    "plt.xlim([0.0, 1.0])\n",
    "plt.ylim([0.0, 1.05])\n",
    "plt.xlabel('False Positive Rate')\n",
    "plt.ylabel('True Positive Rate')\n",
    "plt.title('Logistic Regression ROC')\n",
    "plt.legend(loc=\"lower right\")\n",
    "plt.show()\n",
    "print(a)"
   ]
  },
  {
   "cell_type": "code",
   "execution_count": 12,
   "metadata": {},
   "outputs": [
    {
     "data": {
      "text/plain": [
       "SVC(C=5, cache_size=200, class_weight=None, coef0=0.0,\n",
       "  decision_function_shape='ovr', degree=3, gamma='auto', kernel='rbf',\n",
       "  max_iter=-1, probability=False, random_state=None, shrinking=True,\n",
       "  tol=0.001, verbose=False)"
      ]
     },
     "execution_count": 12,
     "metadata": {},
     "output_type": "execute_result"
    }
   ],
   "source": [
    "#-------------------------------SVC--------------------------------\n",
    "svm = SVC(C=5)\n",
    "y = df['FGM']\n",
    "X = df[['CLOSE_DEF_DIST', 'SHOT_DIST', 'TOUCH_TIME_SQUARED', 'PERIOD', 'DIST_DIST']]\n",
    "#X = pd.concat([X, players], axis=1, ignore_index=True)\n",
    "X_training = X[:86620]\n",
    "y_training = y[:86620]\n",
    "X_test = X[86620:]\n",
    "y_test = y[86620:]\n",
    "svm.fit(X_training, y_training)\n"
   ]
  },
  {
   "cell_type": "code",
   "execution_count": 13,
   "metadata": {},
   "outputs": [
    {
     "name": "stdout",
     "output_type": "stream",
     "text": [
      "[0 0 0 ..., 1 0 1]\n"
     ]
    }
   ],
   "source": [
    "y_pred_test = svm.predict(X_test)\n",
    "print(y_pred_test)"
   ]
  },
  {
   "cell_type": "code",
   "execution_count": 14,
   "metadata": {},
   "outputs": [
    {
     "data": {
      "text/plain": [
       "0.5717917983364208"
      ]
     },
     "execution_count": 14,
     "metadata": {},
     "output_type": "execute_result"
    }
   ],
   "source": [
    "svm.score(X_test, y_test)"
   ]
  },
  {
   "cell_type": "code",
   "execution_count": 15,
   "metadata": {},
   "outputs": [
    {
     "name": "stderr",
     "output_type": "stream",
     "text": [
      "/Users/kylehoward/Desktop/Thinkful/anaconda/lib/python3.6/site-packages/matplotlib/axes/_axes.py:545: UserWarning: No labelled objects found. Use label='...' kwarg on individual plots.\n",
      "  warnings.warn(\"No labelled objects found. \"\n"
     ]
    },
    {
     "data": {
      "image/png": "[encoded data removed]",
      "text/plain": [
       "<matplotlib.figure.Figure at 0x10fc10e48>"
      ]
     },
     "metadata": {},
     "output_type": "display_data"
    },
    {
     "name": "stdout",
     "output_type": "stream",
     "text": [
      "0.565392240209\n"
     ]
    }
   ],
   "source": [
    "# Plotting ROC\n",
    "fpr_s, tpr_s, thresholds = sklearn.metrics.roc_curve(y_test, y_pred_test)\n",
    "a = roc_auc_score(y_test, y_pred_test)\n",
    "plt.figure()\n",
    "lw = 2\n",
    "plt.plot(fpr_s, tpr_s, color='darkorange',\n",
    "         lw=lw)\n",
    "plt.plot([0, 1], [0, 1], color='purple', lw=lw, linestyle='--')\n",
    "plt.xlim([0.0, 1.0])\n",
    "plt.ylim([0.0, 1.05])\n",
    "plt.xlabel('False Positive Rate')\n",
    "plt.ylabel('True Positive Rate')\n",
    "plt.title('SVM ROC')\n",
    "plt.legend(loc=\"lower right\")\n",
    "plt.show()\n",
    "print(a)"
   ]
  },
  {
   "cell_type": "code",
   "execution_count": null,
   "metadata": {
    "collapsed": true
   },
   "outputs": [],
   "source": []
  },
  {
   "cell_type": "code",
   "execution_count": 391,
   "metadata": {
    "collapsed": true
   },
   "outputs": [],
   "source": [
    "#----------------------Visuailzations----------------------------"
   ]
  },
  {
   "cell_type": "code",
   "execution_count": 128,
   "metadata": {},
   "outputs": [
    {
     "data": {
      "text/plain": [
       "DecisionTreeClassifier(class_weight=None, criterion='entropy', max_depth=4,\n",
       "            max_features=1, max_leaf_nodes=None, min_impurity_decrease=0.0,\n",
       "            min_impurity_split=None, min_samples_leaf=1,\n",
       "            min_samples_split=2, min_weight_fraction_leaf=0.0,\n",
       "            presort=False, random_state=None, splitter='best')"
      ]
     },
     "execution_count": 128,
     "metadata": {},
     "output_type": "execute_result"
    }
   ],
   "source": [
    "decision_tree = tree.DecisionTreeClassifier(\n",
    "    criterion='entropy',\n",
    "    max_features=1,\n",
    "    max_depth=4,\n",
    ")\n",
    "decision_tree.fit(X, y)"
   ]
  },
  {
   "cell_type": "code",
   "execution_count": 131,
   "metadata": {},
   "outputs": [
    {
     "ename": "AttributeError",
     "evalue": "'numpy.ndarray' object has no attribute 'columns'",
     "output_type": "error",
     "traceback": [
      "\u001b[0;31m---------------------------------------------------------------------------\u001b[0m",
      "\u001b[0;31mAttributeError\u001b[0m                            Traceback (most recent call last)",
      "\u001b[0;32m<ipython-input-131-abe8c6799c9e>\u001b[0m in \u001b[0;36m<module>\u001b[0;34m()\u001b[0m\n\u001b[1;32m      3\u001b[0m dot_data = tree.export_graphviz(\n\u001b[1;32m      4\u001b[0m     \u001b[0mdecision_tree\u001b[0m\u001b[0;34m,\u001b[0m \u001b[0mout_file\u001b[0m\u001b[0;34m=\u001b[0m\u001b[0;32mNone\u001b[0m\u001b[0;34m,\u001b[0m\u001b[0;34m\u001b[0m\u001b[0m\n\u001b[0;32m----> 5\u001b[0;31m     \u001b[0mfeature_names\u001b[0m\u001b[0;34m=\u001b[0m\u001b[0mX\u001b[0m\u001b[0;34m.\u001b[0m\u001b[0mcolumns\u001b[0m\u001b[0;34m,\u001b[0m\u001b[0;34m\u001b[0m\u001b[0m\n\u001b[0m\u001b[1;32m      6\u001b[0m     \u001b[0mclass_names\u001b[0m\u001b[0;34m=\u001b[0m\u001b[0;34m[\u001b[0m\u001b[0;34m'Missed'\u001b[0m\u001b[0;34m,\u001b[0m \u001b[0;34m'Made'\u001b[0m\u001b[0;34m]\u001b[0m\u001b[0;34m,\u001b[0m\u001b[0;34m\u001b[0m\u001b[0m\n\u001b[1;32m      7\u001b[0m     \u001b[0mfilled\u001b[0m\u001b[0;34m=\u001b[0m\u001b[0;32mTrue\u001b[0m\u001b[0;34m\u001b[0m\u001b[0m\n",
      "\u001b[0;31mAttributeError\u001b[0m: 'numpy.ndarray' object has no attribute 'columns'"
     ]
    }
   ],
   "source": [
    "# My concern with this is that it is half of the depth of the actual model but that tree \n",
    "# is too wide to fit on a slide\n",
    "dot_data = tree.export_graphviz(\n",
    "    decision_tree, out_file=None,\n",
    "    feature_names=X.columns,\n",
    "    class_names=['Missed', 'Made'],\n",
    "    filled=True\n",
    ")\n",
    "graph = pydotplus.graph_from_dot_data(dot_data)\n",
    "Image(graph.create_png())"
   ]
  },
  {
   "cell_type": "code",
   "execution_count": 36,
   "metadata": {},
   "outputs": [
    {
     "data": {
      "text/plain": [
       "<matplotlib.text.Text at 0x11674b940>"
      ]
     },
     "execution_count": 36,
     "metadata": {},
     "output_type": "execute_result"
    },
    {
     "data": {
      "image/png": "[encoded data removed]",
      "text/plain": [
       "<matplotlib.figure.Figure at 0x1166c7b70>"
      ]
     },
     "metadata": {},
     "output_type": "display_data"
    }
   ],
   "source": [
    "# Will make these more visually appealing if i end up using them\n",
    "z = df['SHOT_DIST']\n",
    "plt.xlabel('Shot Distance')\n",
    "sns.distplot(z)\n",
    "plt.title('Distribution of Shot Distances')\n",
    "plt.xlabel('Shot Distance')"
   ]
  },
  {
   "cell_type": "code",
   "execution_count": 37,
   "metadata": {},
   "outputs": [
    {
     "data": {
      "text/plain": [
       "<matplotlib.text.Text at 0x11690eef0>"
      ]
     },
     "execution_count": 37,
     "metadata": {},
     "output_type": "execute_result"
    },
    {
     "data": {
      "image/png": "[encoded data removed]",
      "text/plain": [
       "<matplotlib.figure.Figure at 0x1168ba2b0>"
      ]
     },
     "metadata": {},
     "output_type": "display_data"
    }
   ],
   "source": [
    "z = df['CLOSE_DEF_DIST']\n",
    "plt.xlabel('Distance of Defender')\n",
    "sns.distplot(z)\n",
    "plt.title('Distribution of Defender Distances')\n",
    "plt.xlabel('Distance of Defender')"
   ]
  },
  {
   "cell_type": "code",
   "execution_count": 424,
   "metadata": {},
   "outputs": [
    {
     "data": {
      "text/plain": [
       "<matplotlib.axes._subplots.AxesSubplot at 0x1924eeac8>"
      ]
     },
     "execution_count": 424,
     "metadata": {},
     "output_type": "execute_result"
    },
    {
     "data": {
      "image/png": "[encoded data removed]",
      "text/plain": [
       "<matplotlib.figure.Figure at 0x192511860>"
      ]
     },
     "metadata": {},
     "output_type": "display_data"
    }
   ],
   "source": [
    "z = df['DIST_DIST']\n",
    "sns.distplot(z)"
   ]
  },
  {
   "cell_type": "code",
   "execution_count": 425,
   "metadata": {},
   "outputs": [
    {
     "data": {
      "text/plain": [
       "<matplotlib.axes._subplots.AxesSubplot at 0x192638080>"
      ]
     },
     "execution_count": 425,
     "metadata": {},
     "output_type": "execute_result"
    },
    {
     "data": {
      "image/png": "[encoded data removed]",
      "text/plain": [
       "<matplotlib.figure.Figure at 0x191c01a90>"
      ]
     },
     "metadata": {},
     "output_type": "display_data"
    }
   ],
   "source": [
    "z = df['TOUCH_TIME']\n",
    "sns.distplot(z)"
   ]
  },
  {
   "cell_type": "code",
   "execution_count": 39,
   "metadata": {},
   "outputs": [
    {
     "data": {
      "text/plain": [
       "<matplotlib.text.Text at 0x116dba0f0>"
      ]
     },
     "execution_count": 39,
     "metadata": {},
     "output_type": "execute_result"
    },
    {
     "data": {
      "image/png": "[encoded data removed]",
      "text/plain": [
       "<matplotlib.figure.Figure at 0x1168ba390>"
      ]
     },
     "metadata": {},
     "output_type": "display_data"
    }
   ],
   "source": [
    "\n",
    "x = df['SHOT_DIST']\n",
    "y = df['FGM']\n",
    "z = df['DISTANCE_RECIP']\n",
    "df_ = pd.DataFrame()\n",
    "df_['SHOT_DIST'] = x\n",
    "df_['FGM'] = y\n",
    "df_['DISTANCE_RECIP'] = z\n",
    "x = pd.Series(x, name=\"Distance of Shot\")\n",
    "y = pd.Series(z, name=\"Weighted Defender Distance\")\n",
    "df_ = df_.groupby(['DISTANCE_RECIP','SHOT_DIST'], as_index=False).mean()\n",
    "df_ = df_.pivot(index='DISTANCE_RECIP', columns='SHOT_DIST', values='FGM')\n",
    "sns.heatmap(df_, cmap='BuPu')\n",
    "plt.title('Examining Relationship Between Defense and Shot Distance')\n",
    "plt.xlabel('Distance of Shot')\n",
    "plt.ylabel('Weighted Defender Distance')"
   ]
  },
  {
   "cell_type": "code",
   "execution_count": 40,
   "metadata": {},
   "outputs": [
    {
     "data": {
      "text/plain": [
       "<matplotlib.text.Text at 0x114a97d68>"
      ]
     },
     "execution_count": 40,
     "metadata": {},
     "output_type": "execute_result"
    },
    {
     "data": {
      "image/png": "[encoded data removed]",
      "text/plain": [
       "<matplotlib.figure.Figure at 0x11549ce48>"
      ]
     },
     "metadata": {},
     "output_type": "display_data"
    }
   ],
   "source": [
    "df_2 = pd.DataFrame()\n",
    "df_2['SHOT_DIST'] = df['SHOT_DIST']\n",
    "df_2['FGM'] = df['FGM']\n",
    "df_2['SHOT_DIST'] = df_2['SHOT_DIST'].astype(int)\n",
    "df_2.round()\n",
    "df_2 = df_2.groupby(['SHOT_DIST'], as_index=False).sum()\n",
    "df_2.head()\n",
    "dark = sns.dark_palette(\"purple\")\n",
    "sns.barplot(x='SHOT_DIST', y='FGM', data=df_2, palette=dark)\n",
    "plt.title('Made Field Goals by Shot Distance')\n",
    "plt.xlabel('Distance of Shot')\n",
    "plt.ylabel('Number of Made Field Goals')"
   ]
  },
  {
   "cell_type": "code",
   "execution_count": 19,
   "metadata": {},
   "outputs": [
    {
     "data": {
      "image/png": "[encoded data removed]",
      "text/plain": [
       "<matplotlib.figure.Figure at 0x11b6de390>"
      ]
     },
     "metadata": {},
     "output_type": "display_data"
    }
   ],
   "source": [
    "x = df['DISTANCE_RECIP']\n",
    "y = df['SHOT_DIST']\n",
    "sns.regplot(x=x, y=y, data=df)\n",
    "plt.show()"
   ]
  },
  {
   "cell_type": "code",
   "execution_count": 94,
   "metadata": {},
   "outputs": [
    {
     "data": {
      "text/plain": [
       "<matplotlib.axes._subplots.AxesSubplot at 0x121592390>"
      ]
     },
     "execution_count": 94,
     "metadata": {},
     "output_type": "execute_result"
    },
    {
     "data": {
      "image/png": "[encoded data removed]",
      "text/plain": [
       "<matplotlib.figure.Figure at 0x11bab2128>"
      ]
     },
     "metadata": {},
     "output_type": "display_data"
    }
   ],
   "source": [
    "# Not sure how to visualize these two features\n",
    "outcome = df['CLOSE_DEF_DIST'] ** .5\n",
    "feature = df['SHOT_DIST'] ** .5\n",
    "\n",
    "sns.swarmplot(outcome, feature)"
   ]
  },
  {
   "cell_type": "code",
   "execution_count": 51,
   "metadata": {},
   "outputs": [
    {
     "data": {
      "text/plain": [
       "<matplotlib.axes._subplots.AxesSubplot at 0x11e4e4cc0>"
      ]
     },
     "execution_count": 51,
     "metadata": {},
     "output_type": "execute_result"
    },
    {
     "data": {
      "image/png": "[encoded data removed]",
      "text/plain": [
       "<matplotlib.figure.Figure at 0x11e500438>"
      ]
     },
     "metadata": {},
     "output_type": "display_data"
    }
   ],
   "source": [
    "z = [0.16871077, 0.45964535, 0.11960062, 0.00448858, 0.24755467]\n",
    "z_1 = pd.DataFrame(z)\n",
    "sns.barplot(z_1)"
   ]
  },
  {
   "cell_type": "code",
   "execution_count": 141,
   "metadata": {},
   "outputs": [
    {
     "data": {
      "text/plain": [
       "<matplotlib.axes._subplots.AxesSubplot at 0x140019e10>"
      ]
     },
     "execution_count": 141,
     "metadata": {},
     "output_type": "execute_result"
    },
    {
     "data": {
      "image/png": "[encoded data removed]",
      "text/plain": [
       "<matplotlib.figure.Figure at 0x13ff6fcf8>"
      ]
     },
     "metadata": {},
     "output_type": "display_data"
    }
   ],
   "source": [
    "sns.stripplot(df['DIST_DIST'])"
   ]
  },
  {
   "cell_type": "code",
   "execution_count": 164,
   "metadata": {},
   "outputs": [
    {
     "data": {
      "text/plain": [
       "<seaborn.axisgrid.JointGrid at 0x13a7410b8>"
      ]
     },
     "execution_count": 164,
     "metadata": {},
     "output_type": "execute_result"
    },
    {
     "data": {
      "image/png": "[encoded data removed]",
      "text/plain": [
       "<matplotlib.figure.Figure at 0x13a741eb8>"
      ]
     },
     "metadata": {},
     "output_type": "display_data"
    }
   ],
   "source": [
    "z = df[['DIST_DIST', 'SHOT_DIST']]\n",
    "sns.jointplot(x=df['DIST_DIST'], y=df['SHOT_DIST'])"
   ]
  },
  {
   "cell_type": "code",
   "execution_count": 176,
   "metadata": {},
   "outputs": [
    {
     "data": {
      "text/plain": [
       "<seaborn.axisgrid.JointGrid at 0x13855da20>"
      ]
     },
     "execution_count": 176,
     "metadata": {},
     "output_type": "execute_result"
    },
    {
     "data": {
      "image/png": "[encoded data removed]",
      "text/plain": [
       "<matplotlib.figure.Figure at 0x13856a470>"
      ]
     },
     "metadata": {},
     "output_type": "display_data"
    }
   ],
   "source": [
    "z = df[['CLOSE_DEF_DIST', 'SHOT_DIST']]\n",
    "sns.jointplot(x=df['CLOSE_DEF_DIST'], y=df['SHOT_DIST'])"
   ]
  },
  {
   "cell_type": "code",
   "execution_count": 170,
   "metadata": {},
   "outputs": [
    {
     "data": {
      "image/png": "[encoded data removed]",
      "text/plain": [
       "<matplotlib.figure.Figure at 0x1397ad400>"
      ]
     },
     "metadata": {},
     "output_type": "display_data"
    }
   ],
   "source": [
    "a = df['DIST_DIST']\n",
    "b = df['SHOT_DIST']\n",
    "\n",
    "a = plt.loglog(a,b)"
   ]
  },
  {
   "cell_type": "code",
   "execution_count": 177,
   "metadata": {},
   "outputs": [
    {
     "data": {
      "text/plain": [
       "<Container object of 5 artists>"
      ]
     },
     "execution_count": 177,
     "metadata": {},
     "output_type": "execute_result"
    },
    {
     "data": {
      "image/png": "[encoded data removed]",
      "text/plain": [
       "<matplotlib.figure.Figure at 0x1133ab630>"
      ]
     },
     "metadata": {},
     "output_type": "display_data"
    }
   ],
   "source": [
    "import matplotlib.pyplot as plt\n",
    "labels = ['Defender Distance', 'Shot Distance', 'Touch Time', 'Period', 'DIST_DIST']\n",
    "plt.xticks(x, labels, rotation='vertical')\n",
    "#plt.xlabel(['Defender Distance', 'Shot Distance', 'TT^2', 'DIST_DIST', 'Period'])\n",
    "plt.ylabel('SKLearn Feature Importance')\n",
    "plt.title('Random Forrest Feature Importances')\n",
    "y = importances\n",
    "N = len(y)\n",
    "x = range(N)\n",
    "#plt.xticks('A', 'B', 'C', 'D', 'E')\n",
    "width = .5\n",
    "plt.bar(x, y, width, color=\"purple\")"
   ]
  },
  {
   "cell_type": "code",
   "execution_count": 33,
   "metadata": {},
   "outputs": [
    {
     "data": {
      "image/png": "[encoded data removed]",
      "text/plain": [
       "<matplotlib.figure.Figure at 0x1134d4358>"
      ]
     },
     "metadata": {},
     "output_type": "display_data"
    }
   ],
   "source": [
    "plt.plot(fpr_l, tpr_l, color='darkorange',\n",
    "         lw=lw, label='Logistic Regression')\n",
    "plt.plot(fpr_r, tpr_r, color='purple',\n",
    "         lw=lw, label='RFC')\n",
    "plt.plot(fpr_k, tpr_k, color='blue',\n",
    "         lw=lw, label='KNN')\n",
    "plt.plot(fpr_s, tpr_s, color='red',\n",
    "         lw=lw, label='SVC')\n",
    "plt.plot([0, 1], [0, 1], color='purple', lw=lw, linestyle='--')\n",
    "plt.xlim([0.0, 1.0])\n",
    "plt.ylim([0.0, 1.05])\n",
    "plt.xlabel('False Positive Rate')\n",
    "plt.ylabel('True Positive Rate')\n",
    "plt.title('All Model ROC')\n",
    "plt.legend(loc=\"lower right\")\n",
    "plt.show()\n"
   ]
  },
  {
   "cell_type": "code",
   "execution_count": null,
   "metadata": {
    "collapsed": true
   },
   "outputs": [],
   "source": []
  }
 ],
 "metadata": {
  "kernelspec": {
   "display_name": "Python 3",
   "language": "python",
   "name": "python3"
  },
  "language_info": {
   "codemirror_mode": {
    "name": "ipython",
    "version": 3
   },
   "file_extension": ".py",
   "mimetype": "text/x-python",
   "name": "python",
   "nbconvert_exporter": "python",
   "pygments_lexer": "ipython3",
   "version": "3.6.1"
  }
 },
 "nbformat": 4,
 "nbformat_minor": 2
}
