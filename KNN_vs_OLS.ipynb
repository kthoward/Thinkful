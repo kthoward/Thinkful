{
 "cells": [
  {
   "cell_type": "code",
   "execution_count": 14,
   "metadata": {},
   "outputs": [
    {
     "data": {
      "text/plain": [
       "'/Users/kylehoward/Desktop/Thinkful/Thinkful-2'"
      ]
     },
     "execution_count": 14,
     "metadata": {},
     "output_type": "execute_result"
    }
   ],
   "source": [
    "from sklearn.model_selection import cross_val_score\n",
    "from sklearn import neighbors\n",
    "import pandas as pd\n",
    "import numpy as np\n",
    "import scipy\n",
    "import matplotlib.pyplot as plt\n",
    "%matplotlib inline\n",
    "from scipy import stats\n",
    "import os\n",
    "from sklearn.metrics import confusion_matrix\n",
    "from sklearn.model_selection import StratifiedKFold\n",
    "from statsmodels.sandbox.regression.predstd import wls_prediction_std\n",
    "from sklearn import linear_model\n",
    "import seaborn as sns\n",
    "import statsmodels.formula.api as smf\n",
    "from IPython.display import display\n",
    "import sklearn\n",
    "import math\n",
    "os.getcwd()\n",
    "os.chdir('/Users/kylehoward/desktop/thinkful/thinkful-2') \n",
    "os.getcwd()\n"
   ]
  },
  {
   "cell_type": "code",
   "execution_count": 4,
   "metadata": {},
   "outputs": [
    {
     "name": "stdout",
     "output_type": "stream",
     "text": [
      "<class 'pandas.core.frame.DataFrame'>\n",
      "RangeIndex: 116 entries, 0 to 115\n",
      "Data columns (total 28 columns):\n",
      "data_set    116 non-null object\n",
      "date        116 non-null object\n",
      "player      116 non-null object\n",
      "pos         116 non-null object\n",
      "team        116 non-null object\n",
      "opp         116 non-null object\n",
      "venue       116 non-null object\n",
      "min         116 non-null float64\n",
      "fg          116 non-null int64\n",
      "fga         116 non-null int64\n",
      "3p          116 non-null int64\n",
      "3pa         116 non-null int64\n",
      "ft          116 non-null int64\n",
      "fta         116 non-null int64\n",
      "oreb        116 non-null int64\n",
      "dreb        116 non-null int64\n",
      "reb         116 non-null int64\n",
      "assist      116 non-null int64\n",
      "pf          116 non-null int64\n",
      "st          116 non-null int64\n",
      "to          116 non-null int64\n",
      "bl          116 non-null int64\n",
      "pts         116 non-null int64\n",
      "double      116 non-null int64\n",
      "triple      116 non-null int64\n",
      "dk          116 non-null float64\n",
      "fd          116 non-null float64\n",
      "yh          116 non-null float64\n",
      "dtypes: float64(4), int64(17), object(7)\n",
      "memory usage: 25.5+ KB\n"
     ]
    }
   ],
   "source": [
    "df = pd.DataFrame(pd.read_csv('NBA_Thinkful_unit_1.2.csv'))\n",
    "\n",
    "df.info()"
   ]
  },
  {
   "cell_type": "code",
   "execution_count": 6,
   "metadata": {},
   "outputs": [],
   "source": [
    "''' Figure out features for this'''\n",
    "knn = neighbors.KNeighborsRegressor(n_neighbors=10)\n",
    "df['dk'].astype(int)\n",
    "df['fd'].astype(int)\n",
    "df['yh'].astype(int)\n",
    "#fbi['gta'].astype(int)\n",
    "Y = df['dk'].values.reshape(-1, 1)\n",
    "X = df[['min', 'pts']]\n",
    "X_training = X[:100]\n",
    "Y_training = Y[:100]\n",
    "X_test = X[100:]\n",
    "Y_test = Y[100:]\n",
    "knn.fit(X_training, Y_training)\n",
    "y_pred_test = knn.predict(X_test)\n",
    "#fbi['prop_crime'].describe"
   ]
  },
  {
   "cell_type": "code",
   "execution_count": 9,
   "metadata": {},
   "outputs": [
    {
     "name": "stdout",
     "output_type": "stream",
     "text": [
      "0.880526609538\n",
      "[ 0.8176732   0.83873892  0.80296164  0.89670985  0.93860818]\n"
     ]
    }
   ],
   "source": [
    "score = cross_val_score(knn, X, Y, cv=5)\n",
    "print(knn.score(X_training, Y_training))\n",
    "print(score)"
   ]
  },
  {
   "cell_type": "code",
   "execution_count": null,
   "metadata": {
    "collapsed": true
   },
   "outputs": [],
   "source": [
    "from sklearn.model_selection import cross_val_score\n",
    "2\n",
    "score = cross_val_score(knn, X, Y, cv=5)\n",
    "3\n",
    "print(\"Unweighted Accuracy: %0.2f (+/- %0.2f)\" % (score.mean(), score.std() * 2))\n",
    "4\n",
    "score_w = cross_val_score(knn_w, X, Y, cv=5)\n",
    "5\n",
    "print(\"Weighted Accuracy: %0.2f (+/- %0.2f)\" % (score_w.mean(), score_w.std() * 2))"
   ]
  },
  {
   "cell_type": "code",
   "execution_count": 10,
   "metadata": {},
   "outputs": [],
   "source": [
    "''' Figure out features for this'''\n",
    "regr = linear_model.LinearRegression()\n",
    "df['dk'].astype(int)\n",
    "df['fd'].astype(int)\n",
    "df['yh'].astype(int)\n",
    "#fbi['gta'].astype(int)\n",
    "Y = df['dk'].values.reshape(-1, 1)\n",
    "X = df[['min', 'pts']]\n",
    "X_training = X[:100]\n",
    "Y_training = Y[:100]\n",
    "X_test = X[100:]\n",
    "Y_test = Y[100:]\n",
    "regr.fit(X_training, Y_training)\n",
    "y_pred_test = regr.predict(X_test)\n",
    "#fbi['prop_crime'].describe"
   ]
  },
  {
   "cell_type": "code",
   "execution_count": 11,
   "metadata": {},
   "outputs": [
    {
     "name": "stdout",
     "output_type": "stream",
     "text": [
      "\n",
      "Coefficients: \n",
      " [[ 0.40324489  1.15299655]]\n",
      "\n",
      "Intercept: \n",
      " [-0.00828271]\n",
      "\n",
      "R-squared:\n",
      "0.890711705857\n"
     ]
    }
   ],
   "source": [
    "print('\\nCoefficients: \\n', regr.coef_)\n",
    "print('\\nIntercept: \\n', regr.intercept_)\n",
    "print('\\nR-squared:')\n",
    "print(regr.score(X_training, Y_training))"
   ]
  },
  {
   "cell_type": "code",
   "execution_count": 12,
   "metadata": {},
   "outputs": [
    {
     "name": "stdout",
     "output_type": "stream",
     "text": [
      "\n",
      "Coefficients: \n",
      " [[ 0.40324489  1.15299655]]\n",
      "\n",
      "Intercept: \n",
      " [-0.00828271]\n",
      "\n",
      "R-squared:\n",
      "0.951185795344\n"
     ]
    }
   ],
   "source": [
    "print('\\nCoefficients: \\n', regr.coef_)\n",
    "print('\\nIntercept: \\n', regr.intercept_)\n",
    "print('\\nR-squared:')\n",
    "print(regr.score(X_test, Y_test))"
   ]
  },
  {
   "cell_type": "code",
   "execution_count": 16,
   "metadata": {},
   "outputs": [
    {
     "name": "stdout",
     "output_type": "stream",
     "text": [
      "Coefficients: \n",
      " [[ 0.40324489  1.15299655]]\n",
      "13.3028241713\n",
      "0.951185795344\n"
     ]
    }
   ],
   "source": [
    "print('Coefficients: \\n', regr.coef_)\n",
    "print(sklearn.metrics.mean_squared_error(Y_test, y_pred_test))\n",
    "print(sklearn.metrics.r2_score(Y_test, y_pred_test))"
   ]
  },
  {
   "cell_type": "code",
   "execution_count": 18,
   "metadata": {},
   "outputs": [],
   "source": [
    "linear_formula = 'dk ~ min+pts'\n",
    "lm = smf.ols(formula=linear_formula, data=df).fit()"
   ]
  },
  {
   "cell_type": "code",
   "execution_count": 19,
   "metadata": {},
   "outputs": [
    {
     "data": {
      "text/plain": [
       "Intercept    0.084470\n",
       "min          0.383639\n",
       "pts          1.173034\n",
       "dtype: float64"
      ]
     },
     "execution_count": 19,
     "metadata": {},
     "output_type": "execute_result"
    }
   ],
   "source": [
    "lm.params"
   ]
  },
  {
   "cell_type": "code",
   "execution_count": 20,
   "metadata": {},
   "outputs": [
    {
     "data": {
      "text/plain": [
       "Intercept    9.320513e-01\n",
       "min          2.589501e-09\n",
       "pts          2.197577e-31\n",
       "dtype: float64"
      ]
     },
     "execution_count": 20,
     "metadata": {},
     "output_type": "execute_result"
    }
   ],
   "source": [
    "lm.pvalues"
   ]
  },
  {
   "cell_type": "code",
   "execution_count": 21,
   "metadata": {},
   "outputs": [
    {
     "data": {
      "text/plain": [
       "0.90065021311246996"
      ]
     },
     "execution_count": 21,
     "metadata": {},
     "output_type": "execute_result"
    }
   ],
   "source": [
    "lm.rsquared"
   ]
  },
  {
   "cell_type": "code",
   "execution_count": 22,
   "metadata": {},
   "outputs": [
    {
     "data": {
      "text/html": [
       "<div>\n",
       "<style>\n",
       "    .dataframe thead tr:only-child th {\n",
       "        text-align: right;\n",
       "    }\n",
       "\n",
       "    .dataframe thead th {\n",
       "        text-align: left;\n",
       "    }\n",
       "\n",
       "    .dataframe tbody tr th {\n",
       "        vertical-align: top;\n",
       "    }\n",
       "</style>\n",
       "<table border=\"1\" class=\"dataframe\">\n",
       "  <thead>\n",
       "    <tr style=\"text-align: right;\">\n",
       "      <th></th>\n",
       "      <th>0</th>\n",
       "      <th>1</th>\n",
       "    </tr>\n",
       "  </thead>\n",
       "  <tbody>\n",
       "    <tr>\n",
       "      <th>Intercept</th>\n",
       "      <td>-1.873895</td>\n",
       "      <td>2.042836</td>\n",
       "    </tr>\n",
       "    <tr>\n",
       "      <th>min</th>\n",
       "      <td>0.266189</td>\n",
       "      <td>0.501088</td>\n",
       "    </tr>\n",
       "    <tr>\n",
       "      <th>pts</th>\n",
       "      <td>1.030184</td>\n",
       "      <td>1.315884</td>\n",
       "    </tr>\n",
       "  </tbody>\n",
       "</table>\n",
       "</div>"
      ],
      "text/plain": [
       "                  0         1\n",
       "Intercept -1.873895  2.042836\n",
       "min        0.266189  0.501088\n",
       "pts        1.030184  1.315884"
      ]
     },
     "execution_count": 22,
     "metadata": {},
     "output_type": "execute_result"
    }
   ],
   "source": [
    "lm.conf_int()"
   ]
  },
  {
   "cell_type": "code",
   "execution_count": null,
   "metadata": {
    "collapsed": true
   },
   "outputs": [],
   "source": []
  }
 ],
 "metadata": {
  "kernelspec": {
   "display_name": "Python 3",
   "language": "python",
   "name": "python3"
  },
  "language_info": {
   "codemirror_mode": {
    "name": "ipython",
    "version": 3
   },
   "file_extension": ".py",
   "mimetype": "text/x-python",
   "name": "python",
   "nbconvert_exporter": "python",
   "pygments_lexer": "ipython3",
   "version": "3.6.1"
  }
 },
 "nbformat": 4,
 "nbformat_minor": 2
}
